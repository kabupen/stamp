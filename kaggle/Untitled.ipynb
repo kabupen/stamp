{
 "cells": [
  {
   "cell_type": "markdown",
   "id": "ae8b7d44-36e3-441c-8c4b-5ca83865ee9f",
   "metadata": {},
   "source": [
    "# What is Feature Engineering"
   ]
  },
  {
   "cell_type": "code",
   "execution_count": null,
   "id": "41c07b01-4c93-422c-9125-a5c46c937664",
   "metadata": {},
   "outputs": [],
   "source": []
  }
 ],
 "metadata": {
  "kernelspec": {
   "display_name": "Python 3",
   "language": "python",
   "name": "python3"
  },
  "language_info": {
   "codemirror_mode": {
    "name": "ipython",
    "version": 3
   },
   "file_extension": ".py",
   "mimetype": "text/x-python",
   "name": "python",
   "nbconvert_exporter": "python",
   "pygments_lexer": "ipython3",
   "version": "3.7.3"
  }
 },
 "nbformat": 4,
 "nbformat_minor": 5
}
