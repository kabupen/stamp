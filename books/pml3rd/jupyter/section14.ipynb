{
 "cells": [
  {
   "cell_type": "markdown",
   "id": "shared-timber",
   "metadata": {
    "toc": true
   },
   "source": [
    "<h1>Table of Contents<span class=\"tocSkip\"></span></h1>\n",
    "<div class=\"toc\"><ul class=\"toc-item\"><li><ul class=\"toc-item\"><li><span><a href=\"#Tensorflow-2.x\" data-toc-modified-id=\"Tensorflow-2.x-0.1\">Tensorflow 2.x</a></span></li><li><span><a href=\"#Tensorflow-1.x-でデータをモデルに読み込む\" data-toc-modified-id=\"Tensorflow-1.x-でデータをモデルに読み込む-0.2\">Tensorflow 1.x でデータをモデルに読み込む</a></span></li><li><span><a href=\"#Tensorflow-2.x-でデータをモデルに読み込む\" data-toc-modified-id=\"Tensorflow-2.x-でデータをモデルに読み込む-0.3\">Tensorflow 2.x でデータをモデルに読み込む</a></span></li><li><span><a href=\"#関数デコレータ\" data-toc-modified-id=\"関数デコレータ-0.4\">関数デコレータ</a></span><ul class=\"toc-item\"><li><span><a href=\"#型の指定\" data-toc-modified-id=\"型の指定-0.4.1\">型の指定</a></span></li></ul></li></ul></li><li><span><a href=\"#TFのVariableオブジェクト\" data-toc-modified-id=\"TFのVariableオブジェクト-1\">TFのVariableオブジェクト</a></span></li><li><span><a href=\"#自動微分とGradientTapeによる勾配の計算\" data-toc-modified-id=\"自動微分とGradientTapeによる勾配の計算-2\">自動微分とGradientTapeによる勾配の計算</a></span><ul class=\"toc-item\"><li><span><a href=\"#自動微分\" data-toc-modified-id=\"自動微分-2.1\">自動微分</a></span></li><li><span><a href=\"#訓練可能な変数について損失項の勾配を計算する\" data-toc-modified-id=\"訓練可能な変数について損失項の勾配を計算する-2.2\">訓練可能な変数について損失項の勾配を計算する</a></span></li><li><span><a href=\"#訓練不可能な変数について勾配を計算する\" data-toc-modified-id=\"訓練不可能な変数について勾配を計算する-2.3\">訓練不可能な変数について勾配を計算する</a></span></li><li><span><a href=\"#複数の勾配計算のリソースを保持する\" data-toc-modified-id=\"複数の勾配計算のリソースを保持する-2.4\">複数の勾配計算のリソースを保持する</a></span></li></ul></li><li><span><a href=\"#Keras-APIを使って一般的なアーキテクチャの実装を単純化する\" data-toc-modified-id=\"Keras-APIを使って一般的なアーキテクチャの実装を単純化する-3\">Keras APIを使って一般的なアーキテクチャの実装を単純化する</a></span><ul class=\"toc-item\"><li><ul class=\"toc-item\"><li><span><a href=\"#全結合層\" data-toc-modified-id=\"全結合層-3.0.1\">全結合層</a></span></li></ul></li><li><span><a href=\"#XOR分類問題を解く\" data-toc-modified-id=\"XOR分類問題を解く-3.1\">XOR分類問題を解く</a></span><ul class=\"toc-item\"><li><span><a href=\"#線形決定境界\" data-toc-modified-id=\"線形決定境界-3.1.1\">線形決定境界</a></span></li><li><span><a href=\"#非線形決定境界\" data-toc-modified-id=\"非線形決定境界-3.1.2\">非線形決定境界</a></span></li></ul></li><li><span><a href=\"#Functional-API\" data-toc-modified-id=\"Functional-API-3.2\">Functional API</a></span></li></ul></li></ul></div>"
   ]
  },
  {
   "cell_type": "code",
   "execution_count": 1,
   "id": "7eea5e88-8679-43c6-a238-cc8b399d03db",
   "metadata": {},
   "outputs": [
    {
     "data": {
      "text/plain": [
       "'2.2.0'"
      ]
     },
     "execution_count": 1,
     "metadata": {},
     "output_type": "execute_result"
    }
   ],
   "source": [
    "import tensorflow as tf\n",
    "tf.__version__"
   ]
  },
  {
   "cell_type": "markdown",
   "id": "8d4691e9-f0f6-4dbb-91a5-9f9b8850af07",
   "metadata": {},
   "source": [
    "TF1.xではセッションは計算グラフの演算やテンソルを実行できる環境であるが、TF2.xでは削除されている（互換性のために`tf.compat.v1.Session`でアクセスできるが）。"
   ]
  },
  {
   "cell_type": "code",
   "execution_count": 2,
   "id": "f0d3a136-e805-46ba-b152-83b097d75e63",
   "metadata": {},
   "outputs": [
    {
     "name": "stdout",
     "output_type": "stream",
     "text": [
      "Result : z =  1\n"
     ]
    }
   ],
   "source": [
    "g = tf.Graph()\n",
    "\n",
    "with g.as_default():\n",
    "    a = tf.constant(1, name='a')\n",
    "    b = tf.constant(2, name='b')\n",
    "    c = tf.constant(3, name='c')\n",
    "    \n",
    "    z = 2 * (a-b) + c\n",
    "    \n",
    "with tf.compat.v1.Session(graph=g) as sees:\n",
    "    print('Result : z = ', sees.run(z))\n",
    "    "
   ]
  },
  {
   "cell_type": "markdown",
   "id": "efcc2126-9641-498f-a7c1-247943563e11",
   "metadata": {},
   "source": [
    "## Tensorflow 2.x"
   ]
  },
  {
   "cell_type": "code",
   "execution_count": 3,
   "id": "47cc224b-1fa6-4c84-8edf-b61c9aec033f",
   "metadata": {},
   "outputs": [
    {
     "name": "stdout",
     "output_type": "stream",
     "text": [
      "Result : z= 1\n"
     ]
    }
   ],
   "source": [
    "a = tf.constant(1, name='a')\n",
    "b = tf.constant(2, name='b')\n",
    "c = tf.constant(3, name='c')\n",
    "z = 2*(a-b)+c\n",
    "tf.print('Result : z=', z)"
   ]
  },
  {
   "cell_type": "markdown",
   "id": "75904381-40f9-4f46-8e59-c9e402d4fff7",
   "metadata": {},
   "source": [
    "## Tensorflow 1.x でデータをモデルに読み込む\n",
    "\n",
    "- TF1-->2の大きな改善点として、データをモデルに読み込む方法がある\n",
    "    - TF2ではpythonの変数 or numpy の配列の形式でデータを直接提供できる\n",
    "    - TF1では入力データをモデルに提供するためにプレースホルダーを作成する必要があった"
   ]
  },
  {
   "cell_type": "code",
   "execution_count": 4,
   "id": "cfcf8057-d223-48e0-b1c0-0437b88e2b67",
   "metadata": {},
   "outputs": [
    {
     "name": "stdout",
     "output_type": "stream",
     "text": [
      "Result: z =  1\n"
     ]
    }
   ],
   "source": [
    "g = tf.Graph()\n",
    "with g.as_default():\n",
    "    a = tf.compat.v1.placeholder(shape=None, dtype=tf.int32, name='tf_a')\n",
    "    b = tf.compat.v1.placeholder(shape=None, dtype=tf.int32, name='tf_b')\n",
    "    c = tf.compat.v1.placeholder(shape=None, dtype=tf.int32, name='tf_c')\n",
    "    z = 2*(a-b)+c\n",
    "\n",
    "with tf.compat.v1.Session(graph=g) as sess:\n",
    "    feed_dict = {a:1, b:2, c:3}\n",
    "    print('Result: z = ', sess.run(z, feed_dict=feed_dict))"
   ]
  },
  {
   "cell_type": "markdown",
   "id": "e2e2dc0d-69ca-49c8-b647-e9b5ee2e0dfb",
   "metadata": {},
   "source": [
    "## Tensorflow 2.x でデータをモデルに読み込む"
   ]
  },
  {
   "cell_type": "code",
   "execution_count": 5,
   "id": "821379cd-2cf6-411d-a1f9-b4c02c282f51",
   "metadata": {},
   "outputs": [
    {
     "name": "stdout",
     "output_type": "stream",
     "text": [
      "1\n",
      "[1]\n",
      "[[1]]\n"
     ]
    }
   ],
   "source": [
    "def compute_z(a, b, c):\n",
    "    r1 = tf.subtract(a, b)\n",
    "    r2 = tf.multiply(2, r1)\n",
    "    z = tf.add(r2, c)\n",
    "    \n",
    "    return z\n",
    "\n",
    "tf.print(compute_z(1,2,3))\n",
    "tf.print(compute_z([1],[2],[3]))\n",
    "tf.print(compute_z([[1]],[[2]],[[3]]))"
   ]
  },
  {
   "cell_type": "markdown",
   "id": "db5675e2-fcc2-4b7c-aa69-18b6046c2d96",
   "metadata": {},
   "source": [
    "## 関数デコレータ\n",
    "\n",
    "`@tf.function` デコレータを用いて計算グラフとしてコンパイルできる"
   ]
  },
  {
   "cell_type": "code",
   "execution_count": 6,
   "id": "bef4041d-d588-4a0b-b972-7c9b0c03fb30",
   "metadata": {},
   "outputs": [
    {
     "name": "stdout",
     "output_type": "stream",
     "text": [
      "<class 'tensorflow.python.framework.ops.EagerTensor'>\n"
     ]
    }
   ],
   "source": [
    "@tf.function\n",
    "def compute_z(a,b,c):\n",
    "    r1 = tf.subtract(a, b)\n",
    "    r2 = tf.multiply(2, r1)\n",
    "    z = tf.add(r2, c)\n",
    "    return z\n",
    "\n",
    "tf.print(type(compute_z(1,2,3)))"
   ]
  },
  {
   "cell_type": "markdown",
   "id": "operating-gardening",
   "metadata": {},
   "source": [
    "デコレータをつけた関数の返り型を見るとわかるように、TensorFlowの型になっている。\n",
    "\n",
    "また対応するキーを持つ計算グラフがすでに生成されているかどうかは、TensorFlowがチェックしてくれる。その計算グラフが存在しない場合は、新しい計算グラフを生成する。"
   ]
  },
  {
   "cell_type": "markdown",
   "id": "05d34e23-86eb-41a1-a705-066f67666251",
   "metadata": {},
   "source": [
    "\n",
    "### 型の指定\n",
    "\n",
    "階数1のテンソル以外を受け付けない関数をすることができる。"
   ]
  },
  {
   "cell_type": "code",
   "execution_count": 7,
   "id": "03f82cfc-41dd-4d3c-9065-1e5138a6299a",
   "metadata": {},
   "outputs": [
    {
     "name": "stdout",
     "output_type": "stream",
     "text": [
      "[1]\n",
      "[1 2]\n"
     ]
    }
   ],
   "source": [
    "@tf.function(input_signature=(\n",
    "    tf.TensorSpec(shape=[None], dtype=tf.int32), \n",
    "    tf.TensorSpec(shape=[None], dtype=tf.int32), \n",
    "    tf.TensorSpec(shape=[None], dtype=tf.int32),))\n",
    "\n",
    "def compute_z(a,b,c):\n",
    "    r1 = tf.subtract(a, b)\n",
    "    r2 = tf.multiply(2, r1)\n",
    "    z = tf.add(r2, c)\n",
    "    return z\n",
    "\n",
    "tf.print(compute_z([1],[2],[3]))\n",
    "tf.print(compute_z([1,2],[2,4],[3,6]))\n",
    "\n",
    "# tf.print(compute_z(1,2,3)) ## エラーになる"
   ]
  },
  {
   "cell_type": "markdown",
   "id": "9e1c654a-4f43-4eeb-9ff3-69a397a00d19",
   "metadata": {},
   "source": [
    "# TFのVariableオブジェクト\n",
    "\n",
    "TFのVariableは訓練中にモデルのパラメータを格納／更新できるようにする特別なtensorオブジェクトである。"
   ]
  },
  {
   "cell_type": "code",
   "execution_count": 8,
   "id": "1fc71634-7806-4ec6-9871-733f6a97174c",
   "metadata": {},
   "outputs": [
    {
     "name": "stdout",
     "output_type": "stream",
     "text": [
      "<tf.Variable 'var_a:0' shape=() dtype=float32, numpy=3.14>\n",
      "<tf.Variable 'var_b:0' shape=(3,) dtype=int32, numpy=array([1, 2, 3], dtype=int32)>\n",
      "<tf.Variable 'var_c:0' shape=(2,) dtype=bool, numpy=array([ True, False])>\n",
      "<tf.Variable 'var_d:0' shape=(1,) dtype=string, numpy=array([b'abc'], dtype=object)>\n"
     ]
    }
   ],
   "source": [
    "a = tf.Variable(initial_value=3.14, name='var_a')\n",
    "print(a)\n",
    "\n",
    "b = tf.Variable(initial_value=[1,2,3], name=\"var_b\")\n",
    "print(b)\n",
    "\n",
    "c = tf.Variable(initial_value=[True, False], name=\"var_c\", dtype=tf.bool)\n",
    "print(c)\n",
    "\n",
    "d = tf.Variable(initial_value=['abc'], name=\"var_d\", dtype=tf.string)\n",
    "print(d)"
   ]
  },
  {
   "cell_type": "markdown",
   "id": "6049aead-01c8-4a42-9a7e-91d743498b36",
   "metadata": {},
   "source": [
    "NNモデルではバックプロパゲーションのときに、重みをランダムな数字で初期化しておく必要がある。\n",
    "そのときにGlorot初期化、Xavier初期化という手法を使うことができる。"
   ]
  },
  {
   "cell_type": "code",
   "execution_count": 9,
   "id": "325e941f-9e16-4e14-9c2d-ea237f3257cb",
   "metadata": {},
   "outputs": [
    {
     "name": "stdout",
     "output_type": "stream",
     "text": [
      "[-0.722795904 1.01456821 0.251808226]\n"
     ]
    }
   ],
   "source": [
    "tf.random.set_seed(1)\n",
    "init = tf.keras.initializers.GlorotNormal()\n",
    "tf.print(init(shape=(3,)))"
   ]
  },
  {
   "cell_type": "markdown",
   "id": "0c515217-2a96-4498-9bc0-dc16d8dbbe45",
   "metadata": {},
   "source": [
    "# 自動微分とGradientTapeによる勾配の計算\n",
    "\n",
    "ニューラルネットワークを最適化するには、コスト関数の勾配を計算しなければならない。この計算には確率的勾配降下法などの最適化アルゴリズムが必要である。\n",
    "演算の勾配を計算する方法について議論する。\n",
    "\n",
    "\n",
    "## 自動微分\n",
    "\n",
    "任意の算術演算の微分係数または勾配を計算するための手法。このプロセスでは、連鎖率を繰り返し適用しながら勾配を蓄積する。入力が $x$、出力が $y$ の一連の計算について考えてみる $y=f(g(h(x)))$。"
   ]
  },
  {
   "cell_type": "markdown",
   "id": "70cfc7f0-a825-4ca9-ad44-98fe633738d3",
   "metadata": {},
   "source": [
    "## 訓練可能な変数について損失項の勾配を計算する\n",
    "\n",
    "Tensorflowは自動微分をサポートしている。微分したい関数は、`tf.GradientTape` （勾配テープ）を使って計算を「記録」しなければならない。\n",
    "まず以下の例では\n",
    "\n",
    "$$\n",
    "z = wx + b\n",
    "$$\n",
    "\n",
    "$$\n",
    "L = \\sum_i (y_i-z_i)^2\n",
    "$$\n",
    "\n",
    "- $w$, $b$ を変数として定義する\n",
    "- 入力 $x$, $y$ のテンソルとして定義する\n",
    "- $z$ の計算と損失校は勾配テープのコンテキスト内に配置する"
   ]
  },
  {
   "cell_type": "code",
   "execution_count": 14,
   "id": "aa046fc2-6738-4f63-a454-9ddf99a18fd4",
   "metadata": {},
   "outputs": [
    {
     "name": "stdout",
     "output_type": "stream",
     "text": [
      "True True\n",
      "df/dw: -0.559999764\n"
     ]
    }
   ],
   "source": [
    "w = tf.Variable(1.0)\n",
    "b = tf.Variable(0.5)\n",
    "\n",
    "print(w.trainable, b.trainable)\n",
    "\n",
    "x = tf.convert_to_tensor([1.4])\n",
    "y = tf.convert_to_tensor([2.1])\n",
    "\n",
    "# 勾配テープ\n",
    "with tf.GradientTape() as tape:\n",
    "    z = tf.add(tf.multiply(w, x), b)\n",
    "    loss = tf.reduce_sum(tf.square(y-z))\n",
    "\n",
    "dloss_dw = tape.gradient(loss, w)\n",
    "tf.print('df/dw:', dloss_dw)"
   ]
  },
  {
   "cell_type": "markdown",
   "id": "popular-client",
   "metadata": {},
   "source": [
    "以上の計算は、損失関数を $w$ で微分した結果であるので、実際に計算してみた場合と照らし合わせれば勾配テープで正しく計算できていることが分かる。"
   ]
  },
  {
   "cell_type": "code",
   "execution_count": 15,
   "id": "d95198ca-973f-4397-8fe1-0ea9323adabf",
   "metadata": {},
   "outputs": [
    {
     "name": "stdout",
     "output_type": "stream",
     "text": [
      "[-0.559999764]\n"
     ]
    }
   ],
   "source": [
    "tf.print(2*x*(w*x+b-y))"
   ]
  },
  {
   "cell_type": "markdown",
   "id": "cec696fc-40b8-4036-ae58-089784b5c184",
   "metadata": {},
   "source": [
    "## 訓練不可能な変数について勾配を計算する\n",
    "\n",
    "tf.GradientTape は訓練可能な辺水については勾配の計算を自動的にサポートするが、訓練可能でない変数やその他のTensorFlowオブジェクトるについては watch メソッドを使って監視する必要がある。"
   ]
  },
  {
   "cell_type": "code",
   "execution_count": 16,
   "id": "01c54881-0149-4bf0-946d-8299916058f8",
   "metadata": {},
   "outputs": [
    {
     "name": "stdout",
     "output_type": "stream",
     "text": [
      "[-0.399999857]\n"
     ]
    }
   ],
   "source": [
    "with tf.GradientTape() as tape:\n",
    "    tape.watch(x)\n",
    "    z = tf.add(tf.multiply(w,x), b)\n",
    "    loss = tf.reduce_sum(tf.square(y-z))\n",
    "\n",
    "dloss_dx = tape.gradient(loss, x)\n",
    "tf.print(dloss_dx)"
   ]
  },
  {
   "cell_type": "markdown",
   "id": "f77cc86f-fd2c-43dc-9b70-6a60c7edb3c3",
   "metadata": {},
   "source": [
    "## 複数の勾配計算のリソースを保持する\n",
    "\n",
    "勾配テープをデフォルトで一つの勾配計算しか保持できない。`tf.gradient()`を呼び出した後、それらのリソースは開放され勾配テープは空になる。\n",
    "したがって複数の勾配を計算したい場合は、勾配テープの永続化が必要となる。\n",
    "\n",
    "しかし、勾配のテープと記録と保存はメモリ効率が悪い。そのためデフォルトでは`persistent=False`に設定されている。"
   ]
  },
  {
   "cell_type": "code",
   "execution_count": 18,
   "id": "ef02b8c8-5888-4754-8d99-264bac8f2bdd",
   "metadata": {},
   "outputs": [
    {
     "name": "stdout",
     "output_type": "stream",
     "text": [
      "dL/dw -0.559999764\n",
      "dL/db -0.399999857\n"
     ]
    }
   ],
   "source": [
    "with tf.GradientTape(persistent=True) as tape:\n",
    "    z = tf.add(tf.multiply(w,x),b)\n",
    "    loss = tf.reduce_sum(tf.square(y-z))\n",
    "\n",
    "dloss_dw = tape.gradient(loss, w)\n",
    "tf.print(\"dL/dw\", dloss_dw)\n",
    "\n",
    "dloss_db = tape.gradient(loss, b)\n",
    "tf.print(\"dL/db\", dloss_db)"
   ]
  },
  {
   "cell_type": "code",
   "execution_count": 19,
   "id": "408efc60-faa1-4b39-b64e-7dd5867d75e8",
   "metadata": {},
   "outputs": [
    {
     "name": "stdout",
     "output_type": "stream",
     "text": [
      "1.0056 0.504\n"
     ]
    }
   ],
   "source": [
    "optimizer = tf.keras.optimizers.SGD()\n",
    "optimizer.apply_gradients(zip([dloss_dw, dloss_db], [w,b]))\n",
    "\n",
    "tf.print(w, b)"
   ]
  },
  {
   "cell_type": "markdown",
   "id": "89cf4dda-21db-4d50-b7f5-86b3a9279760",
   "metadata": {},
   "source": [
    "# Keras APIを使って一般的なアーキテクチャの実装を単純化する\n",
    "\n",
    "本書でFFNNやSequantialクラスを使って一連の層を定義する例を見てきた。ここではさらに単純化した実装を見てく。"
   ]
  },
  {
   "cell_type": "markdown",
   "id": "0063e5af-35a7-4a9c-af15-89de462ef79b",
   "metadata": {},
   "source": [
    "### 全結合層\n",
    "\n",
    "2層の全結合層（16, 32ユニット）からなるモデルを構築する。\n",
    "\n",
    "- build で入力の形状を指定する\n",
    "    - 1層目：16×4 (weight) + 16 (bias) = 80 パラメーター\n",
    "    - 2層目：16×32 (weight) +32 (bias) = 544 パラメーター\n",
    "    \n",
    "※ 重み行列はkernel（カーネル）と表現されている。\n",
    "\n",
    "`model.build()` を使って入力の形状を指定してモデルを定義したあと、変数を初期化している。\n",
    "\n",
    "ここで使用する `Sequential` はオブジェクト指向アプローチと呼ばれるもので、後で述べるFunctional APIの関数型のアプローチとは異なる（内容はもちろん同じ）。複雑なモデル構成に対応するには関数型のアプローチが良いとされる。"
   ]
  },
  {
   "cell_type": "code",
   "execution_count": 20,
   "id": "ee8425f9-76fe-48a8-9b28-a65f908ad839",
   "metadata": {},
   "outputs": [
    {
     "name": "stdout",
     "output_type": "stream",
     "text": [
      "Model: \"sequential\"\n",
      "_________________________________________________________________\n",
      "Layer (type)                 Output Shape              Param #   \n",
      "=================================================================\n",
      "dense (Dense)                multiple                  80        \n",
      "_________________________________________________________________\n",
      "dense_1 (Dense)              multiple                  544       \n",
      "=================================================================\n",
      "Total params: 624\n",
      "Trainable params: 624\n",
      "Non-trainable params: 0\n",
      "_________________________________________________________________\n"
     ]
    }
   ],
   "source": [
    "model = tf.keras.Sequential()\n",
    "model.add(tf.keras.layers.Dense(units=16, activation='relu'))\n",
    "model.add(tf.keras.layers.Dense(units=32, activation='relu'))\n",
    "\n",
    "## 遅延変数作成\n",
    "model.build(input_shape=(None, 4))\n",
    "model.summary()"
   ]
  },
  {
   "cell_type": "markdown",
   "id": "welcome-bulletin",
   "metadata": {},
   "source": [
    "変数が作成できたら、訓練可能な変数を訓練可能ではない変数に次のようにアクセスできる。kernelという重み行列とバイアスベクトルがあることが見て取れる。"
   ]
  },
  {
   "cell_type": "code",
   "execution_count": 23,
   "id": "6f268c16-8868-4d6c-a9c4-b979ae92c38b",
   "metadata": {},
   "outputs": [
    {
     "name": "stdout",
     "output_type": "stream",
     "text": [
      "dense/kernel:0       True (4, 16)\n",
      "dense/bias:0         True (16,)\n",
      "dense_1/kernel:0     True (16, 32)\n",
      "dense_1/bias:0       True (32,)\n"
     ]
    }
   ],
   "source": [
    "for v in model.variables:\n",
    "    print('{:20s}'.format(v.name), v.trainable, v.shape)"
   ]
  },
  {
   "cell_type": "markdown",
   "id": "requested-cheat",
   "metadata": {},
   "source": [
    "これらの層を設定するための手法が様々に定義されている。\n",
    "\n",
    "- 活性化関数（`tf.keras.activations`）\n",
    "- 変数イニシャライザ（`tf.keras.initializers`）\n",
    "- 正則化手法（`tf.keras.regularizers`）：正則化...過学習の抑制"
   ]
  },
  {
   "cell_type": "code",
   "execution_count": 25,
   "id": "b9185bcb-d61f-408c-afbe-9100866d263b",
   "metadata": {},
   "outputs": [],
   "source": [
    "model = tf.keras.Sequential()\n",
    "\n",
    "## １つ目の層\n",
    "model.add(tf.keras.layers.Dense(\n",
    "    units=16,\n",
    "    activation=tf.keras.activations.relu, # 活性化関数（ReLU）\n",
    "    kernel_initializer = tf.keras.initializers.glorot_uniform(), # カーネル変数の初期化（Glorot初期化）\n",
    "    bias_initializer = tf.keras.initializers.Constant(2.0) # バイアス変数を 2.0 で初期化\n",
    "))\n",
    "\n",
    "## ２つめの層\n",
    "model.add(tf.keras.layers.Dense(\n",
    "    units=32,\n",
    "    activation=tf.keras.activations.sigmoid, # 活性化関数（シグモイド）\n",
    "    kernel_regularizer=tf.keras.regularizers.l1 # L1正則化\n",
    "))"
   ]
  },
  {
   "cell_type": "markdown",
   "id": "swedish-front",
   "metadata": {},
   "source": [
    "以上で各層の設定するための概要である。それに加えて、モデルをコンパイル時に設定することもできる。\n",
    "\n",
    "- オプティマイザ（`tf.keras.optimizers`）\n",
    "- 損失関数（`tf.keras.losses`）\n",
    "- 訓練データセット、検証データセット、テストデータセットの性能指標（`tf.keras.metrics`）"
   ]
  },
  {
   "cell_type": "code",
   "execution_count": 27,
   "id": "968369ab-fdc6-4f94-8657-395b36bef6b5",
   "metadata": {},
   "outputs": [],
   "source": [
    "model.compile(\n",
    "    optimizer=tf.keras.optimizers.SGD(learning_rate=0.001), # 確率的勾配降下法\n",
    "    loss=tf.keras.losses.BinaryCrossentropy(), # 二値分類の交差エントロピー損失関数\n",
    "    metrics=[ ## 性能指標\n",
    "        tf.keras.metrics.Accuracy(), # 正解率\n",
    "        tf.keras.metrics.Precision(), # 適合率\n",
    "        tf.keras.metrics.Recall(),])    # 再現率"
   ]
  },
  {
   "cell_type": "markdown",
   "id": "linear-firmware",
   "metadata": {},
   "source": [
    "## XOR分類問題を解く\n",
    "\n",
    "\n",
    "XOR（排他論理和）は、いずれかが真のときに真となり、両方同時に真となる場合に偽となる。\n",
    "\n",
    "|x|y|class|\n",
    "|:--:|:--:|:--:|\n",
    "|0|0|0|\n",
    "|0|1|1|\n",
    "|1|0|1|\n",
    "|1|1|0|"
   ]
  },
  {
   "cell_type": "code",
   "execution_count": 44,
   "id": "quiet-small",
   "metadata": {},
   "outputs": [
    {
     "data": {
      "image/png": "[encoded data removed]",
      "text/plain": [
       "<Figure size 432x432 with 1 Axes>"
      ]
     },
     "metadata": {
      "needs_background": "light"
     },
     "output_type": "display_data"
    }
   ],
   "source": [
    "import tensorflow as tf\n",
    "import numpy as np\n",
    "import matplotlib.pyplot as plt\n",
    "\n",
    "tf.random.set_seed(1)\n",
    "np.random.seed(1)\n",
    "\n",
    "# 200×2 行列の [-1, 1] の乱数を振る\n",
    "# x という名前だが、実際は (X, Y) 座標を表している\n",
    "# X と Y の符号が同じか、異なるか、でクラス分けを行っている\n",
    "x = np.random.uniform(low=-1, high=1, size=(200,2))\n",
    "y = np.ones(len(x))\n",
    "\n",
    "y[x[:, 0] * x[:, 1]<0]  = 0\n",
    "\n",
    "x_train = x[:100, :]\n",
    "y_train = y[:100]\n",
    "\n",
    "x_valid = x[100:, :]\n",
    "y_valid = y[100:]\n",
    "\n",
    "fig = plt.figure(figsize=(6, 6))\n",
    "\n",
    "plt.plot(x[y==0, 0], x[y==0, 1], 'o', markersize=10)\n",
    "plt.plot(x[y==1, 0], x[y==1, 1], '<', markersize=10)\n",
    "\n",
    "plt.show()"
   ]
  },
  {
   "cell_type": "markdown",
   "id": "motivated-shooting",
   "metadata": {},
   "source": [
    "### 線形決定境界\n",
    "\n",
    "まず、単層のニューラルネットで識別する方法を考えてみる。以下では、これまでのチュートリアルで学んだTensorFlowを使用して分類問題を解く。"
   ]
  },
  {
   "cell_type": "code",
   "execution_count": 34,
   "id": "committed-smile",
   "metadata": {},
   "outputs": [
    {
     "name": "stdout",
     "output_type": "stream",
     "text": [
      "Model: \"sequential_6\"\n",
      "_________________________________________________________________\n",
      "Layer (type)                 Output Shape              Param #   \n",
      "=================================================================\n",
      "dense_7 (Dense)              (None, 1)                 3         \n",
      "=================================================================\n",
      "Total params: 3\n",
      "Trainable params: 3\n",
      "Non-trainable params: 0\n",
      "_________________________________________________________________\n"
     ]
    }
   ],
   "source": [
    "model = tf.keras.Sequential()\n",
    "model.add(tf.keras.layers.Dense(units=1, input_shape=(2,), activation='sigmoid'))\n",
    "model.summary()"
   ]
  },
  {
   "cell_type": "code",
   "execution_count": 35,
   "id": "fantastic-binding",
   "metadata": {},
   "outputs": [],
   "source": [
    "model.compile(\n",
    "    optimizer=tf.keras.optimizers.SGD(), \n",
    "    loss=tf.keras.losses.BinaryCrossentropy(),\n",
    "    metrics=[tf.keras.metrics.BinaryAccuracy()]\n",
    ")\n",
    "\n",
    "# 各エポックの履歴を返す\n",
    "hist = model.fit(x_train, y_train,\n",
    "                validation_data = (x_valid, y_valid),\n",
    "                epochs=200, batch_size=2, verbose=0)"
   ]
  },
  {
   "cell_type": "code",
   "execution_count": 36,
   "id": "focused-prerequisite",
   "metadata": {},
   "outputs": [
    {
     "data": {
      "text/plain": [
       "<tensorflow.python.keras.callbacks.History at 0x13806eac8>"
      ]
     },
     "execution_count": 36,
     "metadata": {},
     "output_type": "execute_result"
    }
   ],
   "source": [
    "hist"
   ]
  },
  {
   "cell_type": "code",
   "execution_count": 46,
   "id": "photographic-tamil",
   "metadata": {},
   "outputs": [
    {
     "data": {
      "image/png": "[encoded data removed]",
      "text/plain": [
       "<Figure size 1152x288 with 3 Axes>"
      ]
     },
     "metadata": {
      "needs_background": "light"
     },
     "output_type": "display_data"
    }
   ],
   "source": [
    "from mlxtend.plotting import plot_decision_regions\n",
    "history = hist.history\n",
    "\n",
    "fig = plt.figure(figsize=(16,4))\n",
    "\n",
    "# -------------------\n",
    "ax = fig.add_subplot(1,3,1)\n",
    "\n",
    "plt.plot(history['loss'], lw=4)\n",
    "plt.plot(history['val_loss'], lw=4)\n",
    "plt.legend(['Train loss', 'Validation loss'], fontsize=15)\n",
    "ax.set_xlabel('Epochs', size=15)\n",
    "\n",
    "# -------------------\n",
    "ax = fig.add_subplot(1, 3, 2)\n",
    "\n",
    "plt.plot(history['binary_accuracy'], lw=4)\n",
    "plt.plot(history['val_binary_accuracy'], lw=4)\n",
    "\n",
    "ax.set_xlabel('Epochs', size=15)\n",
    "\n",
    "# -------------------\n",
    "ax = fig.add_subplot(1, 3, 3)\n",
    "plot_decision_regions(X=x_valid, y=y_valid.astype(np.integer), clf=model)\n",
    "plt.show()"
   ]
  },
  {
   "cell_type": "markdown",
   "id": "starting-structure",
   "metadata": {},
   "source": [
    "### 非線形決定境界\n",
    "\n",
    "隠れ層を持たないモデルでは線形の決定境界しか設定できないため、XOR分類問題を解くのは不可能である。よって、非線形の決定境界を抽出するためには、非線形の活性化関数で結合された隠れ層を一つ以上追加することで解決する。"
   ]
  },
  {
   "cell_type": "code",
   "execution_count": 47,
   "id": "assured-dispatch",
   "metadata": {},
   "outputs": [
    {
     "name": "stdout",
     "output_type": "stream",
     "text": [
      "Model: \"sequential_7\"\n",
      "_________________________________________________________________\n",
      "Layer (type)                 Output Shape              Param #   \n",
      "=================================================================\n",
      "dense_8 (Dense)              (None, 4)                 12        \n",
      "_________________________________________________________________\n",
      "dense_9 (Dense)              (None, 4)                 20        \n",
      "_________________________________________________________________\n",
      "dense_10 (Dense)             (None, 4)                 20        \n",
      "_________________________________________________________________\n",
      "dense_11 (Dense)             (None, 1)                 5         \n",
      "=================================================================\n",
      "Total params: 57\n",
      "Trainable params: 57\n",
      "Non-trainable params: 0\n",
      "_________________________________________________________________\n"
     ]
    }
   ],
   "source": [
    "model = tf.keras.Sequential()\n",
    "model.add(tf.keras.layers.Dense(units=4, input_shape=(2,), activation='relu'))\n",
    "model.add(tf.keras.layers.Dense(units=4, activation='relu'))\n",
    "model.add(tf.keras.layers.Dense(units=4, activation='relu'))\n",
    "model.add(tf.keras.layers.Dense(units=1, activation='sigmoid'))\n",
    "model.summary()"
   ]
  },
  {
   "cell_type": "code",
   "execution_count": 48,
   "id": "continental-selection",
   "metadata": {},
   "outputs": [],
   "source": [
    "model.compile(\n",
    "    optimizer=tf.keras.optimizers.SGD(), \n",
    "    loss=tf.keras.losses.BinaryCrossentropy(),\n",
    "    metrics=[tf.keras.metrics.BinaryAccuracy()]\n",
    ")\n",
    "\n",
    "# 各エポックの履歴を返す\n",
    "hist = model.fit(x_train, y_train,\n",
    "                validation_data = (x_valid, y_valid),\n",
    "                epochs=200, batch_size=2, verbose=0)"
   ]
  },
  {
   "cell_type": "code",
   "execution_count": 49,
   "id": "tracked-discretion",
   "metadata": {},
   "outputs": [
    {
     "data": {
      "image/png": "[encoded data removed]",
      "text/plain": [
       "<Figure size 1152x288 with 3 Axes>"
      ]
     },
     "metadata": {
      "needs_background": "light"
     },
     "output_type": "display_data"
    }
   ],
   "source": [
    "from mlxtend.plotting import plot_decision_regions\n",
    "history = hist.history\n",
    "\n",
    "fig = plt.figure(figsize=(16,4))\n",
    "\n",
    "# -------------------\n",
    "ax = fig.add_subplot(1,3,1)\n",
    "\n",
    "plt.plot(history['loss'], lw=4)\n",
    "plt.plot(history['val_loss'], lw=4)\n",
    "plt.legend(['Train loss', 'Validation loss'], fontsize=15)\n",
    "ax.set_xlabel('Epochs', size=15)\n",
    "\n",
    "# -------------------\n",
    "ax = fig.add_subplot(1, 3, 2)\n",
    "\n",
    "plt.plot(history['binary_accuracy'], lw=4)\n",
    "plt.plot(history['val_binary_accuracy'], lw=4)\n",
    "\n",
    "ax.set_xlabel('Epochs', size=15)\n",
    "\n",
    "# -------------------\n",
    "ax = fig.add_subplot(1, 3, 3)\n",
    "plot_decision_regions(X=x_valid, y=y_valid.astype(np.integer), clf=model)\n",
    "plt.show()"
   ]
  },
  {
   "cell_type": "markdown",
   "id": "nervous-candle",
   "metadata": {},
   "source": [
    "## Functional API"
   ]
  },
  {
   "cell_type": "code",
   "execution_count": 51,
   "id": "saving-secretary",
   "metadata": {},
   "outputs": [
    {
     "name": "stdout",
     "output_type": "stream",
     "text": [
      "Model: \"model\"\n",
      "_________________________________________________________________\n",
      "Layer (type)                 Output Shape              Param #   \n",
      "=================================================================\n",
      "input_1 (InputLayer)         [(None, 2)]               0         \n",
      "_________________________________________________________________\n",
      "dense_12 (Dense)             (None, 4)                 12        \n",
      "_________________________________________________________________\n",
      "dense_13 (Dense)             (None, 4)                 20        \n",
      "_________________________________________________________________\n",
      "dense_14 (Dense)             (None, 4)                 20        \n",
      "_________________________________________________________________\n",
      "dense_15 (Dense)             (None, 1)                 5         \n",
      "=================================================================\n",
      "Total params: 57\n",
      "Trainable params: 57\n",
      "Non-trainable params: 0\n",
      "_________________________________________________________________\n"
     ]
    }
   ],
   "source": [
    "tf.random.set_seed(1)\n",
    "\n",
    "inputs = tf.keras.Input(shape=(2,))\n",
    "\n",
    "h1 = tf.keras.layers.Dense(units=4, activation='relu')(inputs)\n",
    "h2 = tf.keras.layers.Dense(units=4, activation='relu')(h1)\n",
    "h3 = tf.keras.layers.Dense(units=4, activation='relu')(h2)\n",
    "\n",
    "outputs = tf.keras.layers.Dense(units=1, activation='sigmoid')(h3)\n",
    "\n",
    "model = tf.keras.Model(inputs=inputs, outputs=outputs)\n",
    "model.summary()"
   ]
  },
  {
   "cell_type": "code",
   "execution_count": 54,
   "id": "incident-wonder",
   "metadata": {},
   "outputs": [],
   "source": [
    "model.compile(\n",
    "    optimizer=tf.keras.optimizers.SGD(),\n",
    "    loss=tf.keras.losses.BinaryCrossentropy(),\n",
    "    metrics=[tf.keras.metrics.BinaryAccuracy()])\n",
    "\n",
    "hist = model.fit(x_train, y_train, validation_data=(x_valid, y_valid), epochs=200, batch_size=2, verbose=0)"
   ]
  },
  {
   "cell_type": "code",
   "execution_count": null,
   "id": "durable-panama",
   "metadata": {},
   "outputs": [],
   "source": []
  }
 ],
 "metadata": {
  "kernelspec": {
   "display_name": "Python 3",
   "language": "python",
   "name": "python3"
  },
  "language_info": {
   "codemirror_mode": {
    "name": "ipython",
    "version": 3
   },
   "file_extension": ".py",
   "mimetype": "text/x-python",
   "name": "python",
   "nbconvert_exporter": "python",
   "pygments_lexer": "ipython3",
   "version": "3.7.3"
  },
  "toc": {
   "base_numbering": 1,
   "nav_menu": {},
   "number_sections": false,
   "sideBar": true,
   "skip_h1_title": false,
   "title_cell": "Table of Contents",
   "title_sidebar": "Contents",
   "toc_cell": true,
   "toc_position": {
    "height": "calc(100% - 180px)",
    "left": "10px",
    "top": "150px",
    "width": "266.646px"
   },
   "toc_section_display": true,
   "toc_window_display": true
  }
 },
 "nbformat": 4,
 "nbformat_minor": 5
}
