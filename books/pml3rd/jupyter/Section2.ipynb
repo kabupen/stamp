{
 "cells": [
  {
   "cell_type": "markdown",
   "id": "first-moral",
   "metadata": {},
   "source": [
    "# パーセプトロン"
   ]
  },
  {
   "cell_type": "code",
   "execution_count": 1,
   "id": "authorized-while",
   "metadata": {},
   "outputs": [],
   "source": [
    "import numpy as np\n",
    "\n",
    "class Parceptoron(object):\n",
    "    \n",
    "    def __init__(self, eta=0.01, n_iter=50, random_state=1):\n",
    "        self.eta = eta\n",
    "        self.n_iter = n_iter\n",
    "        self.random_state = random_state\n",
    "    \n",
    "    def fit(self, X, y):\n",
    "        \n",
    "        rgen = np.random.RandomState(self.random_state)\n",
    "        # 重みを乱数で初期化している\n",
    "        self.w_ = rgen.normal(loc=0.0, scale=0.01, size = 1 + X.shape[1])\n",
    "        self.errors_ = []\n",
    "        \n",
    "        for _ in range(self.n_iter):\n",
    "            errors = 0 \n",
    "            \n",
    "            for xi, target in zip(X, y):\n",
    "                \n",
    "                update = self.eta * (target - self.predict(xi))\n",
    "                \n",
    "                # 1~n 個のデータに対して重みを更新する\n",
    "                self.w_[1:] += update * xi\n",
    "                # 0番目は w0=θ, x0=1であったことを思い出そう\n",
    "                self.w_[0] += update\n",
    "                \n",
    "                errors += int(update != 0.0)\n",
    "            \n",
    "            self.errors_.append(errors)\n",
    "        \n",
    "        return self\n",
    "    \n",
    "    \n",
    "    def net_input(self, X):\n",
    "        \"\"\"\n",
    "        総入力 z を計算する\n",
    "        重みと入力の内積と、w0（バイアスユニット）を足し合わせたものが今想定している総入力である。\n",
    "        \"\"\"\n",
    "        return np.dot(X, self.w_[1:]) + self.w_[0]\n",
    "\n",
    "    \n",
    "    def predict(self, X):\n",
    "        \"\"\"\n",
    "        総入力が０を超えたら、閾値を超えたとみなし発火する。\n",
    "        その際に正解なら+1、誤分類なら-1のラベルを付けている\n",
    "        \"\"\"\n",
    "        return np.where(self.net_input(X) >= 0.0, 1, -1)"
   ]
  },
  {
   "cell_type": "code",
   "execution_count": 2,
   "id": "thirty-jacob",
   "metadata": {},
   "outputs": [
    {
     "data": {
      "text/html": [
       "<div>\n",
       "<style scoped>\n",
       "    .dataframe tbody tr th:only-of-type {\n",
       "        vertical-align: middle;\n",
       "    }\n",
       "\n",
       "    .dataframe tbody tr th {\n",
       "        vertical-align: top;\n",
       "    }\n",
       "\n",
       "    .dataframe thead th {\n",
       "        text-align: right;\n",
       "    }\n",
       "</style>\n",
       "<table border=\"1\" class=\"dataframe\">\n",
       "  <thead>\n",
       "    <tr style=\"text-align: right;\">\n",
       "      <th></th>\n",
       "      <th>0</th>\n",
       "      <th>1</th>\n",
       "      <th>2</th>\n",
       "      <th>3</th>\n",
       "      <th>4</th>\n",
       "    </tr>\n",
       "  </thead>\n",
       "  <tbody>\n",
       "    <tr>\n",
       "      <th>0</th>\n",
       "      <td>5.1</td>\n",
       "      <td>3.5</td>\n",
       "      <td>1.4</td>\n",
       "      <td>0.2</td>\n",
       "      <td>Iris-setosa</td>\n",
       "    </tr>\n",
       "    <tr>\n",
       "      <th>1</th>\n",
       "      <td>4.9</td>\n",
       "      <td>3.0</td>\n",
       "      <td>1.4</td>\n",
       "      <td>0.2</td>\n",
       "      <td>Iris-setosa</td>\n",
       "    </tr>\n",
       "    <tr>\n",
       "      <th>2</th>\n",
       "      <td>4.7</td>\n",
       "      <td>3.2</td>\n",
       "      <td>1.3</td>\n",
       "      <td>0.2</td>\n",
       "      <td>Iris-setosa</td>\n",
       "    </tr>\n",
       "    <tr>\n",
       "      <th>3</th>\n",
       "      <td>4.6</td>\n",
       "      <td>3.1</td>\n",
       "      <td>1.5</td>\n",
       "      <td>0.2</td>\n",
       "      <td>Iris-setosa</td>\n",
       "    </tr>\n",
       "    <tr>\n",
       "      <th>4</th>\n",
       "      <td>5.0</td>\n",
       "      <td>3.6</td>\n",
       "      <td>1.4</td>\n",
       "      <td>0.2</td>\n",
       "      <td>Iris-setosa</td>\n",
       "    </tr>\n",
       "    <tr>\n",
       "      <th>...</th>\n",
       "      <td>...</td>\n",
       "      <td>...</td>\n",
       "      <td>...</td>\n",
       "      <td>...</td>\n",
       "      <td>...</td>\n",
       "    </tr>\n",
       "    <tr>\n",
       "      <th>145</th>\n",
       "      <td>6.7</td>\n",
       "      <td>3.0</td>\n",
       "      <td>5.2</td>\n",
       "      <td>2.3</td>\n",
       "      <td>Iris-virginica</td>\n",
       "    </tr>\n",
       "    <tr>\n",
       "      <th>146</th>\n",
       "      <td>6.3</td>\n",
       "      <td>2.5</td>\n",
       "      <td>5.0</td>\n",
       "      <td>1.9</td>\n",
       "      <td>Iris-virginica</td>\n",
       "    </tr>\n",
       "    <tr>\n",
       "      <th>147</th>\n",
       "      <td>6.5</td>\n",
       "      <td>3.0</td>\n",
       "      <td>5.2</td>\n",
       "      <td>2.0</td>\n",
       "      <td>Iris-virginica</td>\n",
       "    </tr>\n",
       "    <tr>\n",
       "      <th>148</th>\n",
       "      <td>6.2</td>\n",
       "      <td>3.4</td>\n",
       "      <td>5.4</td>\n",
       "      <td>2.3</td>\n",
       "      <td>Iris-virginica</td>\n",
       "    </tr>\n",
       "    <tr>\n",
       "      <th>149</th>\n",
       "      <td>5.9</td>\n",
       "      <td>3.0</td>\n",
       "      <td>5.1</td>\n",
       "      <td>1.8</td>\n",
       "      <td>Iris-virginica</td>\n",
       "    </tr>\n",
       "  </tbody>\n",
       "</table>\n",
       "<p>150 rows × 5 columns</p>\n",
       "</div>"
      ],
      "text/plain": [
       "       0    1    2    3               4\n",
       "0    5.1  3.5  1.4  0.2     Iris-setosa\n",
       "1    4.9  3.0  1.4  0.2     Iris-setosa\n",
       "2    4.7  3.2  1.3  0.2     Iris-setosa\n",
       "3    4.6  3.1  1.5  0.2     Iris-setosa\n",
       "4    5.0  3.6  1.4  0.2     Iris-setosa\n",
       "..   ...  ...  ...  ...             ...\n",
       "145  6.7  3.0  5.2  2.3  Iris-virginica\n",
       "146  6.3  2.5  5.0  1.9  Iris-virginica\n",
       "147  6.5  3.0  5.2  2.0  Iris-virginica\n",
       "148  6.2  3.4  5.4  2.3  Iris-virginica\n",
       "149  5.9  3.0  5.1  1.8  Iris-virginica\n",
       "\n",
       "[150 rows x 5 columns]"
      ]
     },
     "execution_count": 2,
     "metadata": {},
     "output_type": "execute_result"
    }
   ],
   "source": [
    "import os\n",
    "import pandas as pd\n",
    "#s = os.path.join(\"https://archive.ics.uci.edu\", \"ml\", \"machine-learning-databases\", \"iris\", \"iris.data\")\n",
    "df = pd.read_csv('../data/iris.data', header=None, encoding=\"utf-8\")\n",
    "df"
   ]
  },
  {
   "cell_type": "markdown",
   "id": "skilled-priest",
   "metadata": {},
   "source": [
    "Iris-setosaとIris-versicolorのそれぞれ50枚の花に対する情報を扱う。まずデータフレームから条件に合うものだけを引っ張り出してくる。（1〜100行目までに並んでいることに留意）"
   ]
  },
  {
   "cell_type": "code",
   "execution_count": 3,
   "id": "miniature-huntington",
   "metadata": {},
   "outputs": [],
   "source": [
    "import matplotlib.pyplot as plt\n",
    "import numpy as np"
   ]
  },
  {
   "cell_type": "code",
   "execution_count": 4,
   "id": "joint-mixture",
   "metadata": {},
   "outputs": [
    {
     "data": {
      "text/plain": [
       "(100, 2)"
      ]
     },
     "execution_count": 4,
     "metadata": {},
     "output_type": "execute_result"
    }
   ],
   "source": [
    "y = df.iloc[0:100, 4].values # 1-100行目の4列目のDataFameの値だけを返す\n",
    "y = np.where( y== 'Iris-setosa', -1, 1) # 文字列を扱いやすいように数字に変換する\n",
    "\n",
    "X = df.iloc[0:100, [0,2]].values # 1-100行目、1列目と3列目のデータを返す\n",
    "\n",
    "X.shape"
   ]
  },
  {
   "cell_type": "code",
   "execution_count": 5,
   "id": "legendary-sport",
   "metadata": {},
   "outputs": [
    {
     "data": {
      "image/png": "[encoded data removed]",
      "text/plain": [
       "<Figure size 432x288 with 1 Axes>"
      ]
     },
     "metadata": {
      "needs_background": "light"
     },
     "output_type": "display_data"
    }
   ],
   "source": [
    "plt.scatter(X[:50, 0], X[:50, 1], color='red', marker='o', label='setosa')\n",
    "plt.scatter(X[50:100, 0], X[50:100, 1], color='blue', marker='x', label='versicolor')\n",
    "\n",
    "plt.xlabel(\"sepal length [cm]\") # 花びらのがく片\n",
    "plt.ylabel(\"petal length [cm]\") # 花びらの長さ\n",
    "\n",
    "plt.legend(loc=\"best\")\n",
    "plt.show()"
   ]
  },
  {
   "cell_type": "markdown",
   "id": "missing-universe",
   "metadata": {},
   "source": [
    "今回は花びらの長さ、がくの長さから総入力を計算して、setosa（ヒオウギアヤメ）とversicolor（ブルーフラッグ）の分類を試みる。\n",
    "100個のデータに対してその都度重みを更新していき（1エポック）、その時に何回更新が行われたかを示す。\n",
    "\n",
    "下図によると、5エポック終了後重みの更新が一回もされなかったため、パーセプトロンは収束したと考えることができる。"
   ]
  },
  {
   "cell_type": "code",
   "execution_count": 6,
   "id": "unsigned-penetration",
   "metadata": {},
   "outputs": [
    {
     "data": {
      "image/png": "[encoded data removed]",
      "text/plain": [
       "<Figure size 432x288 with 1 Axes>"
      ]
     },
     "metadata": {
      "needs_background": "light"
     },
     "output_type": "display_data"
    }
   ],
   "source": [
    "ppn = Parceptoron(eta=0.1, n_iter=10)\n",
    "ppn.fit(X, y)\n",
    "\n",
    "plt.plot(range(1, len(ppn.errors_)+1), ppn.errors_, marker='o')\n",
    "\n",
    "plt.xlabel(\"Epochs\")\n",
    "plt.ylabel(\"Number of update\")\n",
    "plt.show()"
   ]
  },
  {
   "cell_type": "code",
   "execution_count": 7,
   "id": "dramatic-pepper",
   "metadata": {},
   "outputs": [],
   "source": [
    "from matplotlib.colors import ListedColormap\n",
    "\n",
    "def plot_decision_regions(X, y, classifier, resolution=0.02):\n",
    "    markers = ('s', 'x', 'o', '^', 'v')\n",
    "    colors = ('red', 'blue', 'lightgreen', 'gray', 'cyan')\n",
    "    cmap = ListedColormap(colors[:len(np.unique(y))])\n",
    "    \n",
    "    x1_min, x1_max = X[:, 0].min()-1, X[:,0].max()+1\n",
    "    x2_min, x2_max = X[:, 1].min()-1, X[:,1].max()+1\n",
    "    \n",
    "    xx1, xx2 = np.meshgrid( \n",
    "        np.arange(x1_min, x1_max, resolution),\n",
    "        np.arange(x2_min, x2_max, resolution)\n",
    "    )\n",
    "    \n",
    "    Z = classifier.predict(np.array([xx1.ravel(), xx2.ravel()]).T)\n",
    "    Z = Z.reshape(xx1.shape)\n",
    "    \n",
    "    plt.contourf(xx1, xx2, Z, alpha=0.3, cmap=cmap)\n",
    "    \n",
    "    plt.xlim(xx1.min(), xx1.max())\n",
    "    plt.ylim(xx2.min(), xx2.max())\n",
    "    \n",
    "    for idx, cl in enumerate(np.unique(y)):\n",
    "        \n",
    "        plt.scatter(\n",
    "            x=X[y==cl, 0],\n",
    "            y=X[y==cl, 1],\n",
    "            alpha=0.8,\n",
    "            c=colors[idx],\n",
    "            marker=markers[idx],\n",
    "            label=cl,\n",
    "            edgecolor='black',\n",
    "        )"
   ]
  },
  {
   "cell_type": "code",
   "execution_count": 8,
   "id": "uniform-rachel",
   "metadata": {},
   "outputs": [
    {
     "data": {
      "image/png": "[encoded data removed]",
      "text/plain": [
       "<Figure size 432x288 with 1 Axes>"
      ]
     },
     "metadata": {
      "needs_background": "light"
     },
     "output_type": "display_data"
    }
   ],
   "source": [
    "plot_decision_regions(X, y, classifier=ppn)\n",
    "plt.show()"
   ]
  },
  {
   "cell_type": "markdown",
   "id": "public-toddler",
   "metadata": {},
   "source": [
    "# ADALINE"
   ]
  },
  {
   "cell_type": "code",
   "execution_count": 16,
   "id": "blocked-exchange",
   "metadata": {},
   "outputs": [],
   "source": [
    "class AdalineGD(object):\n",
    "    \n",
    "    def __init__(self, eta=0.01, n_iter=50, random_state=1):\n",
    "        self.eta = eta\n",
    "        self.n_iter = n_iter\n",
    "        self.random_state = random_state\n",
    "    \n",
    "    def fit(self, X, y):\n",
    "        \n",
    "        rgen = np.random.RandomState(self.random_state)\n",
    "        # 重みを乱数で初期化している\n",
    "        self.w_ = rgen.normal(loc=0.0, scale=0.01, size = 1 + X.shape[1])\n",
    "        self.cost_ = []\n",
    "        \n",
    "        for _ in range(self.n_iter):\n",
    "            \n",
    "            # 総入力（net input）の計算\n",
    "            net_input = self.net_input(X)\n",
    "            # 活性化関数の出力\n",
    "            output = self.activation(net_input)\n",
    "            # 真のラベルと比較、重みの更新\n",
    "            errors = (y - output)\n",
    "            self.w_[1:] += self.eta * X.T.dot(errors)\n",
    "            self.w_[0] += self.eta * errors.sum()\n",
    "            # コスト関数の計算\n",
    "            cost = (errors**2).sum()/2.0\n",
    "            self.cost_.append(cost)\n",
    "        \n",
    "        return self    \n",
    "    \n",
    "    \n",
    "    def net_input(self, X):\n",
    "        \"\"\"\n",
    "        総入力 z を計算する\n",
    "        重みと入力の内積と、w0（バイアスユニット）を足し合わせたものが今想定している総入力である。\n",
    "        \"\"\"\n",
    "        return np.dot(X, self.w_[1:]) + self.w_[0]\n",
    "    \n",
    "    \n",
    "    def activation(self, X):\n",
    "        return X\n",
    "    \n",
    "    \n",
    "    def predict(self, X):\n",
    "        \"\"\"\n",
    "        総入力が０を超えたら、閾値を超えたとみなし発火する。\n",
    "        その際に正解なら+1、誤分類なら-1のラベルを付けている\n",
    "        \"\"\"\n",
    "        return np.where(self.activation(self.net_input(X)) >= 0.0, 1, -1)"
   ]
  },
  {
   "cell_type": "markdown",
   "id": "common-rebate",
   "metadata": {},
   "source": [
    "２つの学習率の違いによるエポック毎のコストをプロットしてみる。エポックが進む（学習が進む）につれてコスト関数が小さくなっていくのが理想ではあるが、左（$\\eta=0.01$）ではコスト関数が収束していないことが見て取れる。また右（$\\eta=0.001$）ではコストが減少していることが分かるが、さらに学習を進めないと収束しない様子も分かる。"
   ]
  },
  {
   "cell_type": "code",
   "execution_count": 17,
   "id": "sealed-radiation",
   "metadata": {},
   "outputs": [
    {
     "data": {
      "image/png": "[encoded data removed]",
      "text/plain": [
       "<Figure size 720x288 with 2 Axes>"
      ]
     },
     "metadata": {
      "needs_background": "light"
     },
     "output_type": "display_data"
    }
   ],
   "source": [
    "fig, ax = plt.subplots(nrows=1, ncols=2, figsize=(10, 4))\n",
    "ada1 = AdalineGD(n_iter=10, eta=0.01).fit(X, y)\n",
    "ax[0].plot(range(1, len(ada1.cost_)+1), np.log10(ada1.cost_), marker='o')\n",
    "\n",
    "ax[0].set_xlabel('Epochs')\n",
    "ax[0].set_ylabel('log(Sum-squared-error)')\n",
    "\n",
    "ax[0].set_title('Adaline -Learning rage 0.01')\n",
    "\n",
    "ada2 = AdalineGD(n_iter=10, eta=0.0001).fit(X, y)\n",
    "ax[1].plot(range(1, len(ada1.cost_)+1), np.log10(ada2.cost_), marker='o')\n",
    "\n",
    "ax[1].set_xlabel('Epochs')\n",
    "ax[1].set_ylabel('log(Sum-squared-error)')\n",
    "\n",
    "ax[1].set_title('Adaline -Learning rage 0.01')\n",
    "\n",
    "plt.show()"
   ]
  },
  {
   "cell_type": "code",
   "execution_count": 22,
   "id": "fluid-dynamics",
   "metadata": {},
   "outputs": [
    {
     "data": {
      "image/png": "[encoded data removed]",
      "text/plain": [
       "<Figure size 432x288 with 1 Axes>"
      ]
     },
     "metadata": {
      "needs_background": "light"
     },
     "output_type": "display_data"
    },
    {
     "data": {
      "image/png": "[encoded data removed]",
      "text/plain": [
       "<Figure size 432x288 with 1 Axes>"
      ]
     },
     "metadata": {
      "needs_background": "light"
     },
     "output_type": "display_data"
    }
   ],
   "source": [
    "# ディープコピー\n",
    "X_std = np.copy(X) \n",
    "# 標準化（特徴量のスケーリング）\n",
    "X_std[:, 0] = (X[:,0] - X[:, 0].mean()) / X[:, 0].std()\n",
    "X_std[:, 1] = (X[:,1] - X[:, 1].mean()) / X[:, 1].std()\n",
    "\n",
    "ada_gd = AdalineGD(n_iter=15, eta=0.01)\n",
    "ada_gd.fit(X_std, y)\n",
    "plot_decision_regions(X_std, y, classifier=ada_gd)\n",
    "\n",
    "plt.tight_layout()\n",
    "plt.show()\n",
    "\n",
    "plt.plot(range(1, len(ada_gd.cost_)+1), ada_gd.cost_, marker='o')\n",
    "\n",
    "plt.tight_layout()\n",
    "plt.grid()\n",
    "plt.show()"
   ]
  },
  {
   "cell_type": "code",
   "execution_count": 2,
   "id": "appointed-architect",
   "metadata": {},
   "outputs": [],
   "source": [
    "from numpy.random import seed\n",
    "\n",
    "class AdalineSGD(object):\n",
    "    def __init__(self, eta=0.01, n_iter=10, shuffle=True, random_state=None):\n",
    "        self.eta = eta\n",
    "        self.n_iter = n_iter\n",
    "        self.w_initialized = False\n",
    "        self.shuffle = False\n",
    "        self.random_state = random_state \n",
    "        \n",
    "        \n",
    "    def fit(self, X, y):\n",
    "        \"\"\"訓練データに適合させる（フィット）\"\"\"\n",
    "        self._initialize_weights(X.shape[1])\n",
    "        self.cost_ = []\n",
    "        \n",
    "        for i in range(self.n_iter):\n",
    "            if self.shuffle:\n",
    "                X, y = self._shuffle(X, y)\n",
    "            cost = []\n",
    "            for xi, target in zip(X,y):\n",
    "                cost.append(self._update_weights(xi, target))\n",
    "            \n",
    "            avg_cost = sum(cost)/len(y)\n",
    "            self.cost_.append(avg_cost)\n",
    "        \n",
    "        return self\n",
    "    \n",
    "    \n",
    "    def partial_fit(self, X, y):\n",
    "        if not self.w_initialized:\n",
    "            self._initialize_weights(X.shape[1])\n",
    "        \n",
    "        if y.ravel().shape[0] > 1:\n",
    "            for xi, target in zip(X, y):\n",
    "                self._update_weights(xi, target)\n",
    "        \n",
    "        else:\n",
    "            self._update_weights(X,y)\n",
    "        \n",
    "        return self\n",
    "\n",
    "    \n",
    "    def _shuffle(self, X, y):\n",
    "        r = self.rgen.permuation(len(y))\n",
    "        return X[r], y[r]\n",
    "    \n",
    "    \n",
    "    def _initialize_weights(self, m):\n",
    "        self.rgen = np.random.RandomState(self.random_state)\n",
    "        self.w_ = self.rgen.normal(loc=0.0, scale=0.01, size=1+m)\n",
    "        self.w_initiralized = True\n",
    "        \n",
    "    \n",
    "    def _update_weights(self, xi, target):\n",
    "        \"\"\"ADALINEの学習規則を用いて重みを更新する\"\"\"\n",
    "        # 活性化関数の出力値\n",
    "        output = self.activation(self.net_input(xi))\n",
    "        # 真のラベルとの差\n",
    "        error = target - output\n",
    "        # 重みの更新\n",
    "        self.w_[1:] += self.eta * xi.dot(error)\n",
    "        self.w_[0:] += self.eta * error\n",
    "        # コスト関数の計算\n",
    "        cost = 0.5 * error**2\n",
    "        return cost\n",
    "    \n",
    "    \n",
    "    def net_input(self, X):\n",
    "        return np.dot(X, self.w_[1:]) + self.w_[0]\n",
    "    \n",
    "    \n",
    "    def activation(self, X):\n",
    "        return X\n",
    "    \n",
    "    \n",
    "    def predict(self, X):\n",
    "        \"\"\"\n",
    "        予測されるクラスラベルを返す\n",
    "        ADALINEでは活性化関数の出力値を、閾値関数を通して判定する\n",
    "        ここではwhereを使って階段関数を表現している\n",
    "        \"\"\"\n",
    "        return np.where(self.activation(self.net_input(X)) >= 0.0, 1, -1)\n",
    "        \n",
    "        "
   ]
  },
  {
   "cell_type": "code",
   "execution_count": 36,
   "id": "surface-democracy",
   "metadata": {},
   "outputs": [
    {
     "data": {
      "image/png": "[encoded data removed]",
      "text/plain": [
       "<Figure size 432x288 with 1 Axes>"
      ]
     },
     "metadata": {
      "needs_background": "light"
     },
     "output_type": "display_data"
    },
    {
     "data": {
      "image/png": "[encoded data removed]",
      "text/plain": [
       "<Figure size 432x288 with 1 Axes>"
      ]
     },
     "metadata": {
      "needs_background": "light"
     },
     "output_type": "display_data"
    }
   ],
   "source": [
    "ada_sgd = AdalineSGD(n_iter=15, eta=0.01, random_state=1)\n",
    "ada_sgd.fit(X_std, y)\n",
    "plot_decision_regions(X_std, y, classifier=ada_sgd)\n",
    "plt.tight_layout()\n",
    "plt.show()\n",
    "\n",
    "plt.plot(range(1, len(ada_sgd.cost_)+1), ada_sgd.cost_, marker='o')\n",
    "plt.tight_layout()\n",
    "plt.show()"
   ]
  }
 ],
 "metadata": {
  "kernelspec": {
   "display_name": "Python 3",
   "language": "python",
   "name": "python3"
  },
  "language_info": {
   "codemirror_mode": {
    "name": "ipython",
    "version": 3
   },
   "file_extension": ".py",
   "mimetype": "text/x-python",
   "name": "python",
   "nbconvert_exporter": "python",
   "pygments_lexer": "ipython3",
   "version": "3.7.3"
  }
 },
 "nbformat": 4,
 "nbformat_minor": 5
}
