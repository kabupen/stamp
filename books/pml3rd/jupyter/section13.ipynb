{
 "cells": [
  {
   "cell_type": "markdown",
   "id": "documented-baltimore",
   "metadata": {
    "toc": true
   },
   "source": [
    "<h1>Table of Contents<span class=\"tocSkip\"></span></h1>\n",
    "<div class=\"toc\"><ul class=\"toc-item\"><li><span><a href=\"#テンソルの作成\" data-toc-modified-id=\"テンソルの作成-1\">テンソルの作成</a></span><ul class=\"toc-item\"><li><ul class=\"toc-item\"><li><span><a href=\"#convert_to_tensor\" data-toc-modified-id=\"convert_to_tensor-1.0.1\">convert_to_tensor</a></span></li><li><span><a href=\"#ones\" data-toc-modified-id=\"ones-1.0.2\">ones</a></span></li></ul></li><li><span><a href=\"#テンソルを操作する\" data-toc-modified-id=\"テンソルを操作する-1.1\">テンソルを操作する</a></span><ul class=\"toc-item\"><li><span><a href=\"#キャスト\" data-toc-modified-id=\"キャスト-1.1.1\">キャスト</a></span></li><li><span><a href=\"#転置\" data-toc-modified-id=\"転置-1.1.2\">転置</a></span></li><li><span><a href=\"#形状変更-(reshape)\" data-toc-modified-id=\"形状変更-(reshape)-1.1.3\">形状変更 (reshape)</a></span></li><li><span><a href=\"#不要な次元の削除\" data-toc-modified-id=\"不要な次元の削除-1.1.4\">不要な次元の削除</a></span></li></ul></li><li><span><a href=\"#算術演算\" data-toc-modified-id=\"算術演算-1.2\">算術演算</a></span><ul class=\"toc-item\"><li><span><a href=\"#multiply\" data-toc-modified-id=\"multiply-1.2.1\">multiply</a></span></li><li><span><a href=\"#matmul\" data-toc-modified-id=\"matmul-1.2.2\">matmul</a></span></li><li><span><a href=\"#$L^p$ノルム\" data-toc-modified-id=\"$L^p$ノルム-1.2.3\">$L^p$ノルム</a></span></li></ul></li><li><span><a href=\"#分割・積み上げ・連結\" data-toc-modified-id=\"分割・積み上げ・連結-1.3\">分割・積み上げ・連結</a></span><ul class=\"toc-item\"><li><span><a href=\"#同じサイズでの分割\" data-toc-modified-id=\"同じサイズでの分割-1.3.1\">同じサイズでの分割</a></span></li><li><span><a href=\"#異なるサイズでの分割\" data-toc-modified-id=\"異なるサイズでの分割-1.3.2\">異なるサイズでの分割</a></span></li></ul></li></ul></li><li><span><a href=\"#入力パイプラインの構築\" data-toc-modified-id=\"入力パイプラインの構築-2\">入力パイプラインの構築</a></span><ul class=\"toc-item\"><li><span><a href=\"#Tensorflowのデータセットを既存のテンソルから作成する\" data-toc-modified-id=\"Tensorflowのデータセットを既存のテンソルから作成する-2.1\">Tensorflowのデータセットを既存のテンソルから作成する</a></span></li><li><span><a href=\"#テンソルを一つのデータセットに結合する\" data-toc-modified-id=\"テンソルを一つのデータセットに結合する-2.2\">テンソルを一つのデータセットに結合する</a></span></li><li><span><a href=\"#シャッフル、バッチ、リピート\" data-toc-modified-id=\"シャッフル、バッチ、リピート-2.3\">シャッフル、バッチ、リピート</a></span></li></ul></li><li><span><a href=\"#ニューラルネットワークモデルの構築\" data-toc-modified-id=\"ニューラルネットワークモデルの構築-3\">ニューラルネットワークモデルの構築</a></span><ul class=\"toc-item\"><li><span><a href=\"#線形回帰モデルの構築\" data-toc-modified-id=\"線形回帰モデルの構築-3.1\">線形回帰モデルの構築</a></span></li><li><span><a href=\"#compile-と-fit-を使う\" data-toc-modified-id=\"compile-と-fit-を使う-3.2\">compile と fit を使う</a></span></li></ul></li></ul></div>"
   ]
  },
  {
   "cell_type": "markdown",
   "id": "strange-bleeding",
   "metadata": {},
   "source": [
    "# テンソルの作成"
   ]
  },
  {
   "cell_type": "code",
   "execution_count": 1,
   "id": "demographic-reminder",
   "metadata": {},
   "outputs": [],
   "source": [
    "import tensorflow as tf\n",
    "import numpy as np"
   ]
  },
  {
   "cell_type": "markdown",
   "id": "guided-cutting",
   "metadata": {},
   "source": [
    "### convert_to_tensor\n",
    "\n",
    "numpy や python リストをTensorに変換する"
   ]
  },
  {
   "cell_type": "code",
   "execution_count": 2,
   "id": "chicken-preview",
   "metadata": {},
   "outputs": [
    {
     "name": "stdout",
     "output_type": "stream",
     "text": [
      "tf.Tensor([1 2 3], shape=(3,), dtype=int32)\n",
      "tf.Tensor([4 5 6], shape=(3,), dtype=int32)\n"
     ]
    }
   ],
   "source": [
    "np.set_printoptions(precision=3)\n",
    "a = np.array([1,2,3], dtype=np.int32)\n",
    "b = [4,5,6]\n",
    "t_a = tf.convert_to_tensor(a)\n",
    "t_b = tf.convert_to_tensor(b)\n",
    "\n",
    "print(t_a)\n",
    "print(t_b)"
   ]
  },
  {
   "cell_type": "markdown",
   "id": "brave-reward",
   "metadata": {},
   "source": [
    "### ones\n",
    "\n",
    "指定されたshapeの行列（全要素1）を作成する。二次元ベクトルから、テンソルまで作成できる。"
   ]
  },
  {
   "cell_type": "code",
   "execution_count": 41,
   "id": "driven-extraction",
   "metadata": {},
   "outputs": [
    {
     "name": "stdout",
     "output_type": "stream",
     "text": [
      "tf.Tensor(\n",
      "[[1. 1. 1.]\n",
      " [1. 1. 1.]], shape=(2, 3), dtype=float32)\n",
      "(2, 3)\n"
     ]
    }
   ],
   "source": [
    "t_ones = tf.ones((2,3))\n",
    "\n",
    "print(t_ones)\n",
    "print(t_ones.shape)"
   ]
  },
  {
   "cell_type": "code",
   "execution_count": 46,
   "id": "palestinian-judgment",
   "metadata": {},
   "outputs": [
    {
     "data": {
      "text/plain": [
       "<tf.Tensor: shape=(2, 3, 2), dtype=float32, numpy=\n",
       "array([[[1., 1.],\n",
       "        [1., 1.],\n",
       "        [1., 1.]],\n",
       "\n",
       "       [[1., 1.],\n",
       "        [1., 1.],\n",
       "        [1., 1.]]], dtype=float32)>"
      ]
     },
     "execution_count": 46,
     "metadata": {},
     "output_type": "execute_result"
    }
   ],
   "source": [
    "tf.ones((2,3,2))"
   ]
  },
  {
   "cell_type": "code",
   "execution_count": 4,
   "id": "psychological-montgomery",
   "metadata": {},
   "outputs": [
    {
     "data": {
      "text/plain": [
       "array([[1., 1., 1.],\n",
       "       [1., 1., 1.]], dtype=float32)"
      ]
     },
     "execution_count": 4,
     "metadata": {},
     "output_type": "execute_result"
    }
   ],
   "source": [
    "t_ones.numpy()"
   ]
  },
  {
   "cell_type": "code",
   "execution_count": 5,
   "id": "presidential-brief",
   "metadata": {},
   "outputs": [
    {
     "data": {
      "text/plain": [
       "<tf.Tensor: shape=(3,), dtype=float32, numpy=array([1.2  , 5.   , 3.142], dtype=float32)>"
      ]
     },
     "execution_count": 5,
     "metadata": {},
     "output_type": "execute_result"
    }
   ],
   "source": [
    "const_tensor = tf.constant([1.2, 5, np.pi], dtype=tf.float32)\n",
    "const_tensor"
   ]
  },
  {
   "cell_type": "markdown",
   "id": "fourth-tobago",
   "metadata": {},
   "source": [
    "## テンソルを操作する"
   ]
  },
  {
   "cell_type": "markdown",
   "id": "stylish-legislation",
   "metadata": {},
   "source": [
    "### キャスト\n",
    "\n",
    "目的のデータ型に変更できる"
   ]
  },
  {
   "cell_type": "code",
   "execution_count": 6,
   "id": "rough-queue",
   "metadata": {},
   "outputs": [
    {
     "data": {
      "text/plain": [
       "tf.int64"
      ]
     },
     "execution_count": 6,
     "metadata": {},
     "output_type": "execute_result"
    }
   ],
   "source": [
    "t_a_new = tf.cast(t_a, tf.int64)\n",
    "t_a_new.dtype"
   ]
  },
  {
   "cell_type": "markdown",
   "id": "expensive-being",
   "metadata": {},
   "source": [
    "### 転置"
   ]
  },
  {
   "cell_type": "code",
   "execution_count": 7,
   "id": "confirmed-registration",
   "metadata": {},
   "outputs": [
    {
     "name": "stdout",
     "output_type": "stream",
     "text": [
      "(3, 5) ----> (5, 3)\n"
     ]
    }
   ],
   "source": [
    "t = tf.random.uniform(shape=(3,5))\n",
    "t_tr = tf.transpose(t)\n",
    "print(t.shape, \"---->\", t_tr.shape)"
   ]
  },
  {
   "cell_type": "markdown",
   "id": "smooth-shakespeare",
   "metadata": {},
   "source": [
    "### 形状変更 (reshape)"
   ]
  },
  {
   "cell_type": "code",
   "execution_count": 39,
   "id": "adolescent-imaging",
   "metadata": {},
   "outputs": [
    {
     "name": "stdout",
     "output_type": "stream",
     "text": [
      "30×1のテンソル（1次元ベクトル）\n",
      "\n",
      "tf.Tensor(\n",
      "[0. 0. 0. 0. 0. 0. 0. 0. 0. 0. 0. 0. 0. 0. 0. 0. 0. 0. 0. 0. 0. 0. 0. 0.\n",
      " 0. 0. 0. 0. 0. 0.], shape=(30,), dtype=float32)\n",
      "\n",
      " 5×6に変更（2次元ベクトル） \n",
      "\n",
      "(5, 6)\n",
      "tf.Tensor(\n",
      "[[0. 0. 0. 0. 0. 0.]\n",
      " [0. 0. 0. 0. 0. 0.]\n",
      " [0. 0. 0. 0. 0. 0.]\n",
      " [0. 0. 0. 0. 0. 0.]\n",
      " [0. 0. 0. 0. 0. 0.]], shape=(5, 6), dtype=float32)\n"
     ]
    }
   ],
   "source": [
    "print(\"30×1のテンソル（1次元ベクトル）\\n\")\n",
    "t = tf.zeros((30,))\n",
    "print(t)\n",
    "\n",
    "print(\"\\n 5×6に変更（2次元ベクトル） \\n\")\n",
    "t_reshape = tf.reshape(t, shape=(5,6))\n",
    "print(t_reshape.shape)\n",
    "print(t_reshape)"
   ]
  },
  {
   "cell_type": "markdown",
   "id": "compatible-muslim",
   "metadata": {},
   "source": [
    "### 不要な次元の削除"
   ]
  },
  {
   "cell_type": "code",
   "execution_count": 40,
   "id": "forbidden-contemporary",
   "metadata": {},
   "outputs": [
    {
     "name": "stdout",
     "output_type": "stream",
     "text": [
      "tf.Tensor(\n",
      "[[[[[0.]\n",
      "    [0.]\n",
      "    [0.]\n",
      "    [0.]]]\n",
      "\n",
      "\n",
      "  [[[0.]\n",
      "    [0.]\n",
      "    [0.]\n",
      "    [0.]]]]], shape=(1, 2, 1, 4, 1), dtype=float32)\n",
      "(1, 2, 1, 4, 1) ---> (1, 2, 4)\n"
     ]
    }
   ],
   "source": [
    "t = tf.zeros((1,2,1,4,1))\n",
    "print(t)\n",
    "\n",
    "t_sqz = tf.squeeze(t, axis=(2,4))\n",
    "print(t.shape, \"--->\", t_sqz.shape)"
   ]
  },
  {
   "cell_type": "markdown",
   "id": "hidden-token",
   "metadata": {},
   "source": [
    "## 算術演算"
   ]
  },
  {
   "cell_type": "markdown",
   "id": "monthly-masters",
   "metadata": {},
   "source": [
    "### multiply\n",
    "\n",
    "アダマール積（要素ごとの積）を行うには `multiply` を使用する。"
   ]
  },
  {
   "cell_type": "code",
   "execution_count": 50,
   "id": "center-strategy",
   "metadata": {},
   "outputs": [
    {
     "name": "stdout",
     "output_type": "stream",
     "text": [
      "tf.Tensor(\n",
      "[[-0.67   0.803]\n",
      " [ 0.262 -0.131]\n",
      " [-0.416  0.285]\n",
      " [ 0.952 -0.13 ]\n",
      " [ 0.32   0.21 ]], shape=(5, 2), dtype=float32) \n",
      "\n",
      "tf.Tensor(\n",
      "[[ 0.403 -1.088]\n",
      " [-0.063  1.337]\n",
      " [ 0.712 -0.489]\n",
      " [-0.764 -1.037]\n",
      " [-1.252  0.021]], shape=(5, 2), dtype=float32) \n",
      "\n",
      "[[-0.27  -0.874]\n",
      " [-0.017 -0.175]\n",
      " [-0.296 -0.139]\n",
      " [-0.727  0.135]\n",
      " [-0.401  0.004]]\n"
     ]
    }
   ],
   "source": [
    "tf.random.set_seed(1)\n",
    "t1 = tf.random.uniform(shape=(5,2), minval=-1.0, maxval=1.0)\n",
    "t2 = tf.random.normal(shape=(5,2), mean=0.0, stddev=1.0)\n",
    "\n",
    "print(t1, \"\\n\")\n",
    "print(t2, \"\\n\")\n",
    "\n",
    "t3 = tf.multiply(t1, t2).numpy()\n",
    "print(t3)"
   ]
  },
  {
   "cell_type": "code",
   "execution_count": 11,
   "id": "appointed-procedure",
   "metadata": {},
   "outputs": [
    {
     "data": {
      "text/plain": [
       "<tf.Tensor: shape=(2,), dtype=float32, numpy=array([0.09 , 0.207], dtype=float32)>"
      ]
     },
     "execution_count": 11,
     "metadata": {},
     "output_type": "execute_result"
    }
   ],
   "source": [
    "t4 = tf.math.reduce_mean(t1, axis=0)\n",
    "t4"
   ]
  },
  {
   "cell_type": "markdown",
   "id": "satisfactory-death",
   "metadata": {},
   "source": [
    "### matmul\n",
    "\n",
    "行列としての積（$A\\times B$）を行うには `matmul` を使用する。$A$を転置するか、$B$を転置するかはオプションで渡す。"
   ]
  },
  {
   "cell_type": "code",
   "execution_count": 12,
   "id": "competitive-animal",
   "metadata": {},
   "outputs": [
    {
     "data": {
      "text/plain": [
       "<tf.Tensor: shape=(5, 5), dtype=float32, numpy=\n",
       "array([[-1.144,  1.115, -0.87 , -0.321,  0.856],\n",
       "       [ 0.248, -0.191,  0.25 , -0.064, -0.331],\n",
       "       [-0.478,  0.407, -0.436,  0.022,  0.527],\n",
       "       [ 0.525, -0.234,  0.741, -0.593, -1.194],\n",
       "       [-0.099,  0.26 ,  0.125, -0.462, -0.396]], dtype=float32)>"
      ]
     },
     "execution_count": 12,
     "metadata": {},
     "output_type": "execute_result"
    }
   ],
   "source": [
    "t5 = tf.linalg.matmul(t1, t2, transpose_b = True)\n",
    "t5"
   ]
  },
  {
   "cell_type": "code",
   "execution_count": 13,
   "id": "unauthorized-intelligence",
   "metadata": {},
   "outputs": [
    {
     "data": {
      "text/plain": [
       "<tf.Tensor: shape=(2, 2), dtype=float32, numpy=\n",
       "array([[-1.711,  0.302],\n",
       "       [ 0.371, -1.049]], dtype=float32)>"
      ]
     },
     "execution_count": 13,
     "metadata": {},
     "output_type": "execute_result"
    }
   ],
   "source": [
    "t6 = tf.linalg.matmul(t1, t2, transpose_a=True)\n",
    "t6"
   ]
  },
  {
   "cell_type": "markdown",
   "id": "dried-coordinate",
   "metadata": {},
   "source": [
    "### $L^p$ノルム\n",
    "\n",
    "一般的なノルムは次のように定義される。\n",
    "\n",
    "$$\n",
    "\\left( \\sum_{i=1}^n x_i^p \\right) ^{\\frac{1}{p}}\n",
    "$$\n",
    "\n",
    "$p=2$ のときのノルムはユークリッド距離を表す。"
   ]
  },
  {
   "cell_type": "code",
   "execution_count": 14,
   "id": "afraid-facing",
   "metadata": {},
   "outputs": [
    {
     "data": {
      "text/plain": [
       "array([1.046, 0.293, 0.504, 0.96 , 0.383], dtype=float32)"
      ]
     },
     "execution_count": 14,
     "metadata": {},
     "output_type": "execute_result"
    }
   ],
   "source": [
    "norm_t1 = tf.norm(t1, ord=2, axis=1).numpy()\n",
    "norm_t1"
   ]
  },
  {
   "cell_type": "markdown",
   "id": "characteristic-maine",
   "metadata": {},
   "source": [
    "## 分割・積み上げ・連結"
   ]
  },
  {
   "cell_type": "markdown",
   "id": "exempt-heavy",
   "metadata": {},
   "source": [
    "### 同じサイズでの分割"
   ]
  },
  {
   "cell_type": "code",
   "execution_count": 15,
   "id": "engaged-dressing",
   "metadata": {},
   "outputs": [
    {
     "name": "stdout",
     "output_type": "stream",
     "text": [
      "[0.165 0.901 0.631 0.435 0.292 0.643]\n"
     ]
    },
    {
     "data": {
      "text/plain": [
       "[array([0.165, 0.901], dtype=float32),\n",
       " array([0.631, 0.435], dtype=float32),\n",
       " array([0.292, 0.643], dtype=float32)]"
      ]
     },
     "execution_count": 15,
     "metadata": {},
     "output_type": "execute_result"
    }
   ],
   "source": [
    "tf.random.set_seed(1)\n",
    "t = tf.random.uniform((6,))\n",
    "print(t.numpy())\n",
    "\n",
    "t_splits = tf.split(t, num_or_size_splits=3)\n",
    "[item.numpy() for item in t_splits]"
   ]
  },
  {
   "cell_type": "markdown",
   "id": "reduced-declaration",
   "metadata": {},
   "source": [
    "### 異なるサイズでの分割"
   ]
  },
  {
   "cell_type": "code",
   "execution_count": 16,
   "id": "continent-thomas",
   "metadata": {},
   "outputs": [
    {
     "name": "stdout",
     "output_type": "stream",
     "text": [
      "[0.165 0.901 0.631 0.435 0.292]\n"
     ]
    },
    {
     "data": {
      "text/plain": [
       "[array([0.165, 0.901, 0.631], dtype=float32),\n",
       " array([0.435, 0.292], dtype=float32)]"
      ]
     },
     "execution_count": 16,
     "metadata": {},
     "output_type": "execute_result"
    }
   ],
   "source": [
    "tf.random.set_seed(1)\n",
    "t = tf.random.uniform((5,))\n",
    "print(t.numpy())\n",
    "\n",
    "t_splits = tf.split(t, num_or_size_splits=[3,2])\n",
    "[item.numpy() for item in t_splits]"
   ]
  },
  {
   "cell_type": "code",
   "execution_count": 17,
   "id": "separate-integer",
   "metadata": {},
   "outputs": [
    {
     "name": "stdout",
     "output_type": "stream",
     "text": [
      "[1. 1. 1. 0. 0.]\n"
     ]
    }
   ],
   "source": [
    "A = tf.ones((3,))\n",
    "B = tf.zeros((2,))\n",
    "C = tf.concat([A, B], axis=0)\n",
    "\n",
    "print(C.numpy())"
   ]
  },
  {
   "cell_type": "code",
   "execution_count": 18,
   "id": "immune-palace",
   "metadata": {},
   "outputs": [
    {
     "name": "stdout",
     "output_type": "stream",
     "text": [
      "[[1. 0.]\n",
      " [1. 0.]\n",
      " [1. 0.]]\n"
     ]
    }
   ],
   "source": [
    "A = tf.ones((3,))\n",
    "B = tf.zeros((3,))\n",
    "S = tf.stack([A,B], axis=1)\n",
    "\n",
    "print(S.numpy())"
   ]
  },
  {
   "cell_type": "markdown",
   "id": "competitive-resort",
   "metadata": {},
   "source": [
    "# 入力パイプラインの構築\n",
    "\n",
    "大規模なデータを扱う際には、データをミニバッチごと（Tensorflowの用語ではバッチ）に前処理を行ってトレーニングに掛ける。\n",
    "Tensorflowでは、そのときの前処理をパイプラインとして構築するためのクラスが実装されている。"
   ]
  },
  {
   "cell_type": "markdown",
   "id": "afraid-territory",
   "metadata": {},
   "source": [
    "## Tensorflowのデータセットを既存のテンソルから作成する\n",
    "\n",
    "データが既にテンソルオブジェクト、リスト、NumPy配列として存在している場合、`from_tensor_slices` からデータセットを簡単に作成できる。forループを回せば順番に要素を取り出して、何らかの処理をすることが可能である。"
   ]
  },
  {
   "cell_type": "code",
   "execution_count": 19,
   "id": "retired-springfield",
   "metadata": {},
   "outputs": [
    {
     "name": "stdout",
     "output_type": "stream",
     "text": [
      "<TensorSliceDataset shapes: (), types: tf.float32>\n"
     ]
    }
   ],
   "source": [
    "a = [1.2, 3.4, 7.5, 4.1, 5.0, 1.0]\n",
    "ds = tf.data.Dataset.from_tensor_slices(a)\n",
    "print(ds)"
   ]
  },
  {
   "cell_type": "code",
   "execution_count": 20,
   "id": "suffering-check",
   "metadata": {},
   "outputs": [
    {
     "name": "stdout",
     "output_type": "stream",
     "text": [
      "tf.Tensor(1.2, shape=(), dtype=float32)\n",
      "tf.Tensor(3.4, shape=(), dtype=float32)\n",
      "tf.Tensor(7.5, shape=(), dtype=float32)\n",
      "tf.Tensor(4.1, shape=(), dtype=float32)\n",
      "tf.Tensor(5.0, shape=(), dtype=float32)\n",
      "tf.Tensor(1.0, shape=(), dtype=float32)\n"
     ]
    }
   ],
   "source": [
    "for item in ds:\n",
    "    print(item)"
   ]
  },
  {
   "cell_type": "markdown",
   "id": "acoustic-collapse",
   "metadata": {},
   "source": [
    "また、データが大きすぎる場合などは、それらをミニバッチ単位（TensorFlowの用語的にはバッチ）で切り分けて処理を行う必要が出てくる。そのときには、batch メソッドを使用すればいよい。サイズが3のミニバッチを作成するには `batch` メソッドを使用すれば良い。for ループで回せば、作成したデータセットがバッチに分かれていることが分かる。\n",
    "\n",
    "`batch`メソッドには `drop_remainder`というオプションがあり、指定したサイズでデータセットが割り切れなかった時にどうするかを規定している。"
   ]
  },
  {
   "cell_type": "code",
   "execution_count": 21,
   "id": "indie-kruger",
   "metadata": {},
   "outputs": [
    {
     "name": "stdout",
     "output_type": "stream",
     "text": [
      "batch 0 : [1.2 3.4 7.5] \n",
      "batch 1 : [4.1 5.  1. ] \n"
     ]
    }
   ],
   "source": [
    "ds_batch = ds.batch(3)\n",
    "\n",
    "for i, elem in enumerate(ds_batch):\n",
    "    print('batch {} : {} '.format(i, elem.numpy()))"
   ]
  },
  {
   "cell_type": "markdown",
   "id": "sonic-opera",
   "metadata": {},
   "source": [
    "## テンソルを一つのデータセットに結合する\n",
    "\n",
    "データ t_x と、クラスラベル t_y が別のテンソルに分かれている場合に、それらを結合する方法を考える。1対1に対応している場合は、`zip`メソッドを使用することで結合できる。"
   ]
  },
  {
   "cell_type": "code",
   "execution_count": 52,
   "id": "african-matrix",
   "metadata": {},
   "outputs": [
    {
     "name": "stdout",
     "output_type": "stream",
     "text": [
      "tf.Tensor(\n",
      "[[0.165 0.901 0.631]\n",
      " [0.435 0.292 0.643]\n",
      " [0.976 0.435 0.66 ]\n",
      " [0.605 0.637 0.614]], shape=(4, 3), dtype=float32) \n",
      "\n",
      "tf.Tensor([0 1 2 3], shape=(4,), dtype=int32) \n",
      "\n",
      "x :  [0.165 0.901 0.631] y :  0\n",
      "x :  [0.435 0.292 0.643] y :  1\n",
      "x :  [0.976 0.435 0.66 ] y :  2\n",
      "x :  [0.605 0.637 0.614] y :  3\n"
     ]
    }
   ],
   "source": [
    "tf.random.set_seed(1)\n",
    "t_x = tf.random.uniform([4, 3], dtype=tf.float32)\n",
    "t_y = tf.range(4)\n",
    "\n",
    "print(t_x, \"\\n\")\n",
    "print(t_y, \"\\n\")\n",
    "\n",
    "ds_x = tf.data.Dataset.from_tensor_slices(t_x)\n",
    "ds_y = tf.data.Dataset.from_tensor_slices(t_y)\n",
    "\n",
    "ds_joint = tf.data.Dataset.zip((ds_x, ds_y))\n",
    "\n",
    "for example in ds_joint:\n",
    "    print(\"x : \", example[0].numpy(), \"y : \", example[1].numpy())"
   ]
  },
  {
   "cell_type": "markdown",
   "id": "decimal-preparation",
   "metadata": {},
   "source": [
    "もしくは、`from_tensor_slices`メソッドからも直接結合できる。"
   ]
  },
  {
   "cell_type": "code",
   "execution_count": 23,
   "id": "stretch-chamber",
   "metadata": {},
   "outputs": [
    {
     "name": "stdout",
     "output_type": "stream",
     "text": [
      "x :  [0.165 0.901 0.631] y :  0\n",
      "x :  [0.435 0.292 0.643] y :  1\n",
      "x :  [0.976 0.435 0.66 ] y :  2\n",
      "x :  [0.605 0.637 0.614] y :  3\n"
     ]
    }
   ],
   "source": [
    "ds_joint = tf.data.Dataset.from_tensor_slices((t_x, t_y))\n",
    "\n",
    "for example in ds_joint:\n",
    "    print(\"x : \", example[0].numpy(), \"y : \", example[1].numpy())"
   ]
  },
  {
   "cell_type": "markdown",
   "id": "alone-pantyhose",
   "metadata": {},
   "source": [
    "また結合した上で、標準化などのスケーリング処理を行うには lambda 関数を使えば簡単に実装できる。"
   ]
  },
  {
   "cell_type": "code",
   "execution_count": 24,
   "id": "chicken-kenya",
   "metadata": {},
   "outputs": [
    {
     "name": "stdout",
     "output_type": "stream",
     "text": [
      "x :  [-0.973 -0.187 -0.602] y :  0\n",
      "x :  [-0.811 -0.915 -0.587] y :  1\n",
      "x :  [-0.048 -0.811 -0.564] y :  2\n",
      "x :  [-0.634 -0.595 -0.622] y :  3\n"
     ]
    }
   ],
   "source": [
    "ds_trans = ds_joint.map(lambda x, y : (x**2-1.0, y))\n",
    "\n",
    "for example in ds_trans:\n",
    "    print(\"x : \", example[0].numpy(), \"y : \", example[1].numpy())"
   ]
  },
  {
   "cell_type": "markdown",
   "id": "boxed-silence",
   "metadata": {},
   "source": [
    "## シャッフル、バッチ、リピート\n",
    "\n",
    "確率的勾配降下法を使ってNNを訓練するときには、訓練データをランダムにシャッフルしたバッチとして適用することが重要となる。ここではバッチの作成に加えて、データセットのシャッフルとリピートの方法を確認する。\n",
    "\n",
    "`shuffle`でシャッフルできるが、`buffer_size`オプションが必要。このパラメータで、シャフルの前にサンプリングする要素の個数を決める。"
   ]
  },
  {
   "cell_type": "code",
   "execution_count": 59,
   "id": "right-catalog",
   "metadata": {},
   "outputs": [
    {
     "name": "stdout",
     "output_type": "stream",
     "text": [
      "4\n",
      "[0.435 0.292 0.643] 1\n",
      "[0.976 0.435 0.66 ] 2\n",
      "[0.605 0.637 0.614] 3\n",
      "[0.165 0.901 0.631] 0\n"
     ]
    }
   ],
   "source": [
    "tf.random.set_seed(1)\n",
    "\n",
    "t_x = tf.random.uniform([4, 3], dtype=tf.float32)\n",
    "t_y = tf.range(4)\n",
    "ds_joint = tf.data.Dataset.from_tensor_slices((t_x, t_y))\n",
    "\n",
    "ds = ds_joint.shuffle(buffer_size=len(t_x))\n",
    "print(len(t_x))\n",
    "\n",
    "for example in ds:\n",
    "    print(example[0].numpy(), example[1].numpy())"
   ]
  },
  {
   "cell_type": "code",
   "execution_count": 26,
   "id": "removable-banking",
   "metadata": {},
   "outputs": [
    {
     "name": "stdout",
     "output_type": "stream",
     "text": [
      "Batch-x:\n",
      " [[0.165 0.901 0.631]\n",
      " [0.435 0.292 0.643]\n",
      " [0.976 0.435 0.66 ]]\n"
     ]
    }
   ],
   "source": [
    "ds = ds_joint.batch(batch_size=3, drop_remainder=False)\n",
    "batch_x, batch_y = next(iter(ds))\n",
    "print(\"Batch-x:\\n\", batch_x.numpy())"
   ]
  },
  {
   "cell_type": "markdown",
   "id": "stopped-witness",
   "metadata": {},
   "source": [
    "複数のエポックでモデルを訓練するときは、目的のエポックの回数に基づいてデータセットのシャッフルとリピートを行う。\n",
    "バッチ分割したデータセットのリピートを２回行ってみる。"
   ]
  },
  {
   "cell_type": "code",
   "execution_count": 27,
   "id": "political-relay",
   "metadata": {},
   "outputs": [
    {
     "name": "stdout",
     "output_type": "stream",
     "text": [
      "0 (3, 3) [0 1 2]\n",
      "1 (1, 3) [3]\n",
      "2 (3, 3) [0 1 2]\n",
      "3 (1, 3) [3]\n"
     ]
    }
   ],
   "source": [
    "ds = ds_joint.batch(3).repeat(count=2)\n",
    "\n",
    "for i, (batch_x, batch_y) in enumerate(ds):\n",
    "    print(i, batch_x.shape, batch_y.numpy())"
   ]
  },
  {
   "cell_type": "code",
   "execution_count": 28,
   "id": "alpine-florida",
   "metadata": {},
   "outputs": [
    {
     "name": "stdout",
     "output_type": "stream",
     "text": [
      "0 (3, 3) [0 1 2]\n",
      "1 (3, 3) [3 0 1]\n",
      "2 (2, 3) [2 3]\n"
     ]
    }
   ],
   "source": [
    "ds = ds_joint.repeat(count=2).batch(3)\n",
    "\n",
    "for i, (batch_x, batch_y) in enumerate(ds):\n",
    "    print(i, batch_x.shape, batch_y.numpy())"
   ]
  },
  {
   "cell_type": "markdown",
   "id": "plain-richardson",
   "metadata": {},
   "source": [
    "シャッフル、バッチ、リピートは好きな順番で実装することができる。"
   ]
  },
  {
   "cell_type": "code",
   "execution_count": 29,
   "id": "median-classics",
   "metadata": {},
   "outputs": [
    {
     "name": "stdout",
     "output_type": "stream",
     "text": [
      "0 (2, 3) [2 1]\n",
      "1 (2, 3) [0 3]\n",
      "2 (2, 3) [0 3]\n",
      "3 (2, 3) [1 2]\n",
      "4 (2, 3) [3 0]\n",
      "5 (2, 3) [1 2]\n"
     ]
    }
   ],
   "source": [
    "# シャッフル --> バッチ --> リピート\n",
    "\n",
    "tf.random.set_seed(1)\n",
    "ds = ds_joint.shuffle(4).batch(2).repeat(3)\n",
    "\n",
    "for i, (batch_x, batch_y) in enumerate(ds):\n",
    "    print(i, batch_x.shape, batch_y.numpy())"
   ]
  },
  {
   "cell_type": "code",
   "execution_count": 30,
   "id": "critical-freedom",
   "metadata": {},
   "outputs": [
    {
     "name": "stdout",
     "output_type": "stream",
     "text": [
      "0 (2, 3) [0 1]\n",
      "1 (2, 3) [2 3]\n",
      "2 (2, 3) [0 1]\n",
      "3 (2, 3) [2 3]\n",
      "4 (2, 3) [2 3]\n",
      "5 (2, 3) [0 1]\n"
     ]
    }
   ],
   "source": [
    "# バッチ --> シャッフル -->　リピート\n",
    "\n",
    "tf.random.set_seed(1)\n",
    "ds = ds_joint.batch(2).shuffle(4).repeat(3)\n",
    "\n",
    "for i, (batch_x, batch_y) in enumerate(ds):\n",
    "    print(i, batch_x.shape, batch_y.numpy())"
   ]
  },
  {
   "cell_type": "markdown",
   "id": "general-desert",
   "metadata": {},
   "source": [
    "# ニューラルネットワークモデルの構築\n",
    "\n",
    "Kerasは高レベルなニューラルネットワークAPIで、当初はTensorflowやTheanoといったライブラリ上で動作するものとして開発された。TensorFlow2.0ではモデル実装の主要なアプローチとして `tf.keras` が推奨されている。"
   ]
  },
  {
   "cell_type": "markdown",
   "id": "fallen-canyon",
   "metadata": {},
   "source": [
    "## 線形回帰モデルの構築"
   ]
  },
  {
   "cell_type": "markdown",
   "id": "opening-forward",
   "metadata": {},
   "source": [
    "トレーニングデータを作る。"
   ]
  },
  {
   "cell_type": "code",
   "execution_count": 31,
   "id": "crude-headline",
   "metadata": {},
   "outputs": [
    {
     "data": {
      "image/png": "[encoded data removed]",
      "text/plain": [
       "<Figure size 432x288 with 1 Axes>"
      ]
     },
     "metadata": {
      "needs_background": "light"
     },
     "output_type": "display_data"
    }
   ],
   "source": [
    "import matplotlib.pyplot as plt\n",
    "\n",
    "X_train = np.arange(10).reshape((10,1))\n",
    "y_train = np.array([1.0, 1.3, 3.1, 2.0, 5.0, 6.3, 6.6, 7.4, 8.0, 9.0])\n",
    "\n",
    "plt.plot(X_train, y_train, 'o',  markersize=5)\n",
    "plt.show()"
   ]
  },
  {
   "cell_type": "markdown",
   "id": "critical-singer",
   "metadata": {},
   "source": [
    "Kerasには予め様々なモデルを作るためのAPIが準備されているが、ここではイチから作成するチュートリアルを行う。\n",
    "\n",
    "`tf.keras.Model` クラスを継承すると、モデルの調査、訓練、評価にKerasのツールを利用できるようになる。また `call` メソッドを定義することで、出力方法を設定することができる。ここでは $w x + b$ という線形モデルを作成した。"
   ]
  },
  {
   "cell_type": "code",
   "execution_count": 32,
   "id": "fitting-weather",
   "metadata": {},
   "outputs": [],
   "source": [
    "class MyModel(tf.keras.Model):\n",
    "    def __init__(self):\n",
    "        \n",
    "        super(MyModel, self).__init__()\n",
    "        \n",
    "        self.w = tf.Variable(0.0, name=\"weight\")\n",
    "        self.b = tf.Variable(0.0, name=\"bias\")\n",
    "        \n",
    "    \n",
    "    def call(self, x):\n",
    "        return self.w * x + self.b"
   ]
  },
  {
   "cell_type": "code",
   "execution_count": 33,
   "id": "stone-dinner",
   "metadata": {},
   "outputs": [
    {
     "name": "stdout",
     "output_type": "stream",
     "text": [
      "Model: \"my_model\"\n",
      "_________________________________________________________________\n",
      "Layer (type)                 Output Shape              Param #   \n",
      "=================================================================\n",
      "Total params: 2\n",
      "Trainable params: 2\n",
      "Non-trainable params: 0\n",
      "_________________________________________________________________\n"
     ]
    }
   ],
   "source": [
    "model = MyModel()\n",
    "model.build(input_shape=(None, 1))\n",
    "model.summary()"
   ]
  },
  {
   "cell_type": "markdown",
   "id": "unexpected-doctor",
   "metadata": {},
   "source": [
    "線形回帰を考えているので、ここでは損失関数として平均二乗誤差を使用する。\n",
    "\n",
    "$$\n",
    "E = \\frac{1}{2} \\sum_{i=1}^n (d_i - y_i )^2\n",
    "$$"
   ]
  },
  {
   "cell_type": "code",
   "execution_count": 60,
   "id": "medieval-faculty",
   "metadata": {},
   "outputs": [],
   "source": [
    "def loss_fn(y_true, y_pred):\n",
    "    return tf.reduce_mean(tf.square(y_true-y_pred))"
   ]
  },
  {
   "cell_type": "markdown",
   "id": "close-settlement",
   "metadata": {},
   "source": [
    "また、確率的勾配降下法を実装するには、勾配を計算する必要がある。ここでは勾配を手動で計算するのではなく、`tf.GradientTape` を利用する。"
   ]
  },
  {
   "cell_type": "code",
   "execution_count": 61,
   "id": "motivated-signature",
   "metadata": {},
   "outputs": [],
   "source": [
    "def train(model, inputs, outputs, learning_rate):\n",
    "    \n",
    "    with tf.GradientTape() as tape:\n",
    "        current_loss = loss_fn(model(inputs), outputs)\n",
    "    \n",
    "    dW, db = tape.gradient(current_loss, [model.w, model.b])\n",
    "    model.w.assign_sub(learning_rate * dW)\n",
    "    model.b.assign_sub(learning_rate * db)"
   ]
  },
  {
   "cell_type": "markdown",
   "id": "complicated-logic",
   "metadata": {},
   "source": [
    "以下で実際に線形回帰モデルのトレーニングを行う。\n",
    "\n",
    "- ハイパーパラメータの調整を行う（エポック数、ステップ数、学習率、バッチサイズ、エポック毎のステップ数）\n",
    "- データの標準化\n",
    "- 訓練データをミニバッチに分ける\n",
    "    - ここでは1個ずつ分けているので、単に１イベント毎に損失関数の評価を行う\n",
    "- `batch` からトレーニングデータと正解ラベルを取り出す\n",
    "- 損失関数を評価する\n",
    "- 勾配を計算する"
   ]
  },
  {
   "cell_type": "code",
   "execution_count": 62,
   "id": "crazy-interim",
   "metadata": {},
   "outputs": [
    {
     "name": "stdout",
     "output_type": "stream",
     "text": [
      "Epch 0 \t Step 0 \t Loss 0.04872165620326996\n",
      "Epch 10 \t Step 100 \t Loss 0.07512705773115158\n",
      "Epch 20 \t Step 200 \t Loss 0.04810599610209465\n",
      "Epch 30 \t Step 300 \t Loss 0.04339827597141266\n",
      "Epch 40 \t Step 400 \t Loss 0.2531695067882538\n",
      "Epch 50 \t Step 500 \t Loss 0.2528068721294403\n",
      "Epch 60 \t Step 600 \t Loss 0.07398805767297745\n",
      "Epch 70 \t Step 700 \t Loss 0.07389107346534729\n",
      "Epch 80 \t Step 800 \t Loss 0.7393124103546143\n",
      "Epch 90 \t Step 900 \t Loss 2.420325756072998\n",
      "Epch 100 \t Step 1000 \t Loss 0.2367057055234909\n",
      "Epch 110 \t Step 1100 \t Loss 0.1377296894788742\n",
      "Epch 120 \t Step 1200 \t Loss 0.005547989159822464\n",
      "Epch 130 \t Step 1300 \t Loss 0.07182279229164124\n",
      "Epch 140 \t Step 1400 \t Loss 0.04428887367248535\n",
      "Epch 150 \t Step 1500 \t Loss 0.07331953197717667\n",
      "Epch 160 \t Step 1600 \t Loss 0.25130346417427063\n",
      "Epch 170 \t Step 1700 \t Loss 2.4225659370422363\n",
      "Epch 180 \t Step 1800 \t Loss 0.07200385630130768\n",
      "Epch 190 \t Step 1900 \t Loss 0.2512064278125763\n"
     ]
    }
   ],
   "source": [
    "tf.random.set_seed(1)\n",
    "\n",
    "# -------------\n",
    "# 各種パラメーター\n",
    "# -------------\n",
    "num_epochs = 200\n",
    "log_steps = 100\n",
    "learning_rate = 0.001\n",
    "batch_size = 1\n",
    "steps_per_epoch = int(np.ceil(len(y_train)/batch_size))\n",
    "\n",
    "X_train_norm = (X_train - np.mean(X_train))/np.std(X_train)\n",
    "ds_train_orig = tf.data.Dataset.from_tensor_slices((tf.cast(X_train_norm, tf.float32), tf.cast(y_train, tf.float32)))\n",
    "\n",
    "ds_train = ds_train_orig.shuffle(buffer_size=len(y_train))\n",
    "ds_train = ds_train.repeat(count=None)\n",
    "ds_train = ds_train.batch(1)\n",
    "\n",
    "Ws, bs = [], []\n",
    "\n",
    "for i, batch in enumerate(ds_train):\n",
    "    \n",
    "    if i >= steps_per_epoch * num_epochs:\n",
    "        break\n",
    "    \n",
    "    Ws.append(model.w.numpy())\n",
    "    bs.append(model.b.numpy())\n",
    "    \n",
    "    bx, by = batch\n",
    "    loss_val = loss_fn(model(bx), by)\n",
    "    \n",
    "    train(model, bx, by, learning_rate=learning_rate)\n",
    "    \n",
    "    if i%log_steps == 0:\n",
    "        print(\"Epch {} \\t Step {} \\t Loss {}\".format(int(i/steps_per_epoch), i, loss_val))"
   ]
  },
  {
   "cell_type": "code",
   "execution_count": 36,
   "id": "focal-territory",
   "metadata": {},
   "outputs": [
    {
     "name": "stdout",
     "output_type": "stream",
     "text": [
      "Final Parameters :  2.6576622 4.8798566\n"
     ]
    },
    {
     "data": {
      "image/png": "[encoded data removed]",
      "text/plain": [
       "<Figure size 936x360 with 2 Axes>"
      ]
     },
     "metadata": {
      "needs_background": "light"
     },
     "output_type": "display_data"
    }
   ],
   "source": [
    "print(\"Final Parameters : \", model.w.numpy(), model.b.numpy())\n",
    "\n",
    "X_test = np.linspace(0, 9, num=100).reshape(-1,1)\n",
    "X_test_norm = (X_test - np.mean(X_train)) / np.std(X_train)\n",
    "y_pred = model(tf.cast(X_test_norm, dtype=tf.float32))\n",
    "\n",
    "fig = plt.figure(figsize=(13, 5))\n",
    "\n",
    "ax = fig.add_subplot(1,2,1)\n",
    "ax.plot(X_train_norm, y_train, marker='o', linestyle=\"\")\n",
    "ax.plot(X_test_norm, y_pred, linestyle=\"--\")\n",
    "\n",
    "ax = fig.add_subplot(1,2,2)\n",
    "ax.plot(Ws)\n",
    "ax.plot(bs)\n",
    "\n",
    "plt.show()"
   ]
  },
  {
   "cell_type": "markdown",
   "id": "protected-credits",
   "metadata": {},
   "source": [
    "## compile と fit を使う"
   ]
  },
  {
   "cell_type": "code",
   "execution_count": 37,
   "id": "blessed-database",
   "metadata": {},
   "outputs": [],
   "source": [
    "tf.random.set_seed(1)\n",
    "model = MyModel()\n",
    "model.compile(optimizer=\"sgd\", loss=loss_fn, metrics=[\"mae\", \"mse\"])"
   ]
  },
  {
   "cell_type": "code",
   "execution_count": 38,
   "id": "guided-position",
   "metadata": {},
   "outputs": [
    {
     "data": {
      "text/plain": [
       "<tensorflow.python.keras.callbacks.History at 0x14029db00>"
      ]
     },
     "execution_count": 38,
     "metadata": {},
     "output_type": "execute_result"
    }
   ],
   "source": [
    "model.fit(X_train_norm, y_train, epochs=num_epochs, batch_size=batch_size, verbose=0)"
   ]
  }
 ],
 "metadata": {
  "kernelspec": {
   "display_name": "Python 3",
   "language": "python",
   "name": "python3"
  },
  "language_info": {
   "codemirror_mode": {
    "name": "ipython",
    "version": 3
   },
   "file_extension": ".py",
   "mimetype": "text/x-python",
   "name": "python",
   "nbconvert_exporter": "python",
   "pygments_lexer": "ipython3",
   "version": "3.7.3"
  },
  "toc": {
   "base_numbering": 1,
   "nav_menu": {},
   "number_sections": false,
   "sideBar": true,
   "skip_h1_title": false,
   "title_cell": "Table of Contents",
   "title_sidebar": "Contents",
   "toc_cell": true,
   "toc_position": {},
   "toc_section_display": true,
   "toc_window_display": true
  }
 },
 "nbformat": 4,
 "nbformat_minor": 5
}
