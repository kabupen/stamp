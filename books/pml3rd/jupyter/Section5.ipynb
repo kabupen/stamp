{
 "cells": [
  {
   "cell_type": "markdown",
   "id": "missing-corps",
   "metadata": {},
   "source": [
    "# 主成分分析（PCA)"
   ]
  },
  {
   "cell_type": "code",
   "execution_count": 1,
   "id": "intelligent-rally",
   "metadata": {},
   "outputs": [],
   "source": [
    "import pandas as pd\n",
    "df_wine = pd.read_csv(\n",
    "    'https://archive.ics.uci.edu/ml/machine-learning-databases/wine/wine.data', header=None)"
   ]
  },
  {
   "cell_type": "code",
   "execution_count": 2,
   "id": "guided-south",
   "metadata": {},
   "outputs": [
    {
     "data": {
      "text/plain": [
       "(54, 13)"
      ]
     },
     "execution_count": 2,
     "metadata": {},
     "output_type": "execute_result"
    }
   ],
   "source": [
    "from sklearn.model_selection import train_test_split\n",
    "from sklearn.preprocessing import StandardScaler\n",
    "\n",
    "X, y = df_wine.iloc[:, 1:].values, df_wine.iloc[:,0].values\n",
    "\n",
    "X_train, X_test, y_train, y_test = train_test_split(X, y, test_size=0.3, stratify=y, random_state=0)\n",
    "\n",
    "sc = StandardScaler()\n",
    "X_train_std = sc.fit_transform(X_train)\n",
    "X_test_std = sc.transform(X_test)\n",
    "X_test_std.shape"
   ]
  },
  {
   "cell_type": "code",
   "execution_count": 3,
   "id": "sapphire-oliver",
   "metadata": {},
   "outputs": [
    {
     "name": "stdout",
     "output_type": "stream",
     "text": [
      "[[ 1.00813008  0.06709556  0.17405351 -0.35439069  0.26374703  0.29079481\n",
      "   0.21835807 -0.08111974  0.10436705  0.54282846  0.05893536 -0.01797029\n",
      "   0.6415292 ]\n",
      " [ 0.06709556  1.00813008  0.08326463  0.26356776 -0.11349172 -0.33735555\n",
      "  -0.41035281  0.33653916 -0.21602672  0.17504154 -0.551593   -0.40561695\n",
      "  -0.24089991]\n",
      " [ 0.17405351  0.08326463  1.00813008  0.46420355  0.29092834  0.18020384\n",
      "   0.15537535  0.15918823 -0.00703776  0.20549146  0.00665422  0.02039019\n",
      "   0.223495  ]\n",
      " [-0.35439069  0.26356776  0.46420355  1.00813008 -0.07406447 -0.28060672\n",
      "  -0.31391899  0.31581353 -0.24621059 -0.08872685 -0.22595587 -0.16799906\n",
      "  -0.46393412]\n",
      " [ 0.26374703 -0.11349172  0.29092834 -0.07406447  1.00813008  0.25667578\n",
      "   0.21025773 -0.26003426  0.19601657  0.20606456  0.13359768  0.06633258\n",
      "   0.41810999]\n",
      " [ 0.29079481 -0.33735555  0.18020384 -0.28060672  0.25667578  1.00813008\n",
      "   0.87123661 -0.44979792  0.62334099 -0.05689854  0.50664086  0.71978745\n",
      "   0.52986924]\n",
      " [ 0.21835807 -0.41035281  0.15537535 -0.31391899  0.21025773  0.87123661\n",
      "   1.00813008 -0.54824079  0.64800868 -0.15864896  0.60417124  0.79319622\n",
      "   0.52836141]\n",
      " [-0.08111974  0.33653916  0.15918823  0.31581353 -0.26003426 -0.44979792\n",
      "  -0.54824079  1.00813008 -0.39989328  0.19810581 -0.36629252 -0.57622953\n",
      "  -0.34099709]\n",
      " [ 0.10436705 -0.21602672 -0.00703776 -0.24621059  0.19601657  0.62334099\n",
      "   0.64800868 -0.39989328  1.00813008 -0.00330144  0.32019524  0.50615495\n",
      "   0.32976133]\n",
      " [ 0.54282846  0.17504154  0.20549146 -0.08872685  0.20606456 -0.05689854\n",
      "  -0.15864896  0.19810581 -0.00330144  1.00813008 -0.45834115 -0.4666752\n",
      "   0.32156154]\n",
      " [ 0.05893536 -0.551593    0.00665422 -0.22595587  0.13359768  0.50664086\n",
      "   0.60417124 -0.36629252  0.32019524 -0.45834115  1.00813008  0.6435365\n",
      "   0.35356248]\n",
      " [-0.01797029 -0.40561695  0.02039019 -0.16799906  0.06633258  0.71978745\n",
      "   0.79319622 -0.57622953  0.50615495 -0.4666752   0.6435365   1.00813008\n",
      "   0.26670793]\n",
      " [ 0.6415292  -0.24089991  0.223495   -0.46393412  0.41810999  0.52986924\n",
      "   0.52836141 -0.34099709  0.32976133  0.32156154  0.35356248  0.26670793\n",
      "   1.00813008]]\n"
     ]
    }
   ],
   "source": [
    "import numpy as np\n",
    "cov_mat = np.cov(X_train_std.T)\n",
    "print(cov_mat)"
   ]
  },
  {
   "cell_type": "code",
   "execution_count": 4,
   "id": "incorrect-delay",
   "metadata": {},
   "outputs": [
    {
     "name": "stdout",
     "output_type": "stream",
     "text": [
      "Eigenvalues\n",
      " [4.84274532 2.41602459 1.54845825 0.96120438 0.84166161 0.6620634\n",
      " 0.51828472 0.34650377 0.3131368  0.10754642 0.21357215 0.15362835\n",
      " 0.1808613 ]\n"
     ]
    }
   ],
   "source": [
    "# 行列の固有値・固有ベクトルを求める（=固有値分解 or 固有分解 or eigendecomposition）\n",
    "eigen_vals, eigen_vecs = np.linalg.eig(cov_mat)\n",
    "print('Eigenvalues\\n', eigen_vals)"
   ]
  },
  {
   "cell_type": "code",
   "execution_count": 5,
   "id": "laughing-buying",
   "metadata": {},
   "outputs": [
    {
     "name": "stdout",
     "output_type": "stream",
     "text": [
      "<class 'numpy.ndarray'>\n",
      "<class 'numpy.ndarray'>\n"
     ]
    }
   ],
   "source": [
    "print(type(eigen_vals))\n",
    "print(type(eigen_vecs))"
   ]
  },
  {
   "cell_type": "code",
   "execution_count": 6,
   "id": "legal-hierarchy",
   "metadata": {},
   "outputs": [
    {
     "data": {
      "text/plain": [
       "[4.842745315655898,\n",
       " 2.4160245870352255,\n",
       " 1.5484582488203513,\n",
       " 0.9612043774977367,\n",
       " 0.8416616104578422,\n",
       " 0.6620634040383039,\n",
       " 0.5182847213561953,\n",
       " 0.34650376641286657,\n",
       " 0.3131368004720887,\n",
       " 0.2135721466052733,\n",
       " 0.18086130479496634,\n",
       " 0.15362835006711043,\n",
       " 0.10754642369670996]"
      ]
     },
     "execution_count": 6,
     "metadata": {},
     "output_type": "execute_result"
    }
   ],
   "source": [
    "sorted(eigen_vals, reverse=True)"
   ]
  },
  {
   "cell_type": "code",
   "execution_count": 7,
   "id": "considerable-explosion",
   "metadata": {},
   "outputs": [
    {
     "data": {
      "image/png": "[encoded data removed]",
      "text/plain": [
       "<Figure size 432x288 with 1 Axes>"
      ]
     },
     "metadata": {
      "needs_background": "light"
     },
     "output_type": "display_data"
    }
   ],
   "source": [
    "tot = sum(eigen_vals)\n",
    "var_exp = [ (i/tot) for i in sorted(eigen_vals, reverse=True)]\n",
    "cum_var_exp = np.cumsum(var_exp)\n",
    "\n",
    "import matplotlib.pyplot as plt\n",
    "\n",
    "plt.bar(range(1,14), var_exp, alpha=0.5, align='center', label='Individual explained variance')\n",
    "plt.step(range(1,14), cum_var_exp, alpha=0.5, where='mid', label='Cumulative explained variance')\n",
    "\n",
    "plt.ylabel('Explained variance ratio')\n",
    "plt.xlabel('Principal component index')\n",
    "\n",
    "plt.legend(loc='best')\n",
    "plt.tight_layout()\n",
    "plt.grid()\n",
    "plt.show()"
   ]
  },
  {
   "cell_type": "code",
   "execution_count": 8,
   "id": "charitable-cigarette",
   "metadata": {},
   "outputs": [
    {
     "name": "stdout",
     "output_type": "stream",
     "text": [
      "[[-0.13724218  0.50303478]\n",
      " [ 0.24724326  0.16487119]\n",
      " [-0.02545159  0.24456476]\n",
      " [ 0.20694508 -0.11352904]\n",
      " [-0.15436582  0.28974518]\n",
      " [-0.39376952  0.05080104]\n",
      " [-0.41735106 -0.02287338]\n",
      " [ 0.30572896  0.09048885]\n",
      " [-0.30668347  0.00835233]\n",
      " [ 0.07554066  0.54977581]\n",
      " [-0.32613263 -0.20716433]\n",
      " [-0.36861022 -0.24902536]\n",
      " [-0.29669651  0.38022942]]\n"
     ]
    }
   ],
   "source": [
    "eigen_pairs = [(np.abs(eigen_vals[i]), eigen_vecs[:,i]) for i in range(len(eigen_vals))]\n",
    "eigen_pairs.sort(key=lambda k:k[0], reverse=True)\n",
    "\n",
    "w = np.hstack((eigen_pairs[0][1][:, np.newaxis], eigen_pairs[1][1][:, np.newaxis]))\n",
    "print(w)"
   ]
  },
  {
   "cell_type": "markdown",
   "id": "incredible-junction",
   "metadata": {},
   "source": [
    "以上までで、共分散行列を固有分解して、固有値の大きさ上位2つに相当する固有ベクトルを持ってこれたことになっている。$W$ 行列は13×2行列で、縦ベクトルが2つ繋がったものとして見る（1つ目が固有値が最大の固有ベクトル、2つ目が2番目に大きい固有値の固有ベクトル）。"
   ]
  },
  {
   "cell_type": "code",
   "execution_count": 9,
   "id": "historic-detector",
   "metadata": {},
   "outputs": [
    {
     "data": {
      "text/plain": [
       "(124, 2)"
      ]
     },
     "execution_count": 9,
     "metadata": {},
     "output_type": "execute_result"
    }
   ],
   "source": [
    "X_train_pca = X_train_std.dot(w)\n",
    "X_train_pca.shape"
   ]
  },
  {
   "cell_type": "code",
   "execution_count": 10,
   "id": "applicable-camel",
   "metadata": {},
   "outputs": [
    {
     "data": {
      "text/plain": [
       "array([3, 1, 1, 1, 3, 2, 2, 3, 2, 2, 2, 1, 2, 3, 1, 3, 2, 1, 3, 3, 2, 1,\n",
       "       2, 2, 2, 2, 3, 1, 2, 2, 1, 1, 3, 1, 2, 1, 1, 2, 3, 3, 1, 3, 3, 3,\n",
       "       1, 2, 3, 3, 2, 3, 2, 2, 2, 1, 2, 2, 3, 3, 2, 1, 1, 2, 3, 3, 2, 1,\n",
       "       2, 2, 2, 1, 1, 1, 1, 1, 3, 1, 2, 3, 2, 2, 3, 1, 2, 1, 2, 2, 3, 2,\n",
       "       1, 1, 1, 3, 2, 1, 1, 2, 2, 3, 3, 2, 1, 1, 2, 2, 3, 1, 3, 1, 2, 2,\n",
       "       2, 2, 1, 3, 1, 1, 1, 1, 2, 2, 3, 3, 2, 2])"
      ]
     },
     "execution_count": 10,
     "metadata": {},
     "output_type": "execute_result"
    }
   ],
   "source": [
    "np.unique(y_train)\n",
    "y_train"
   ]
  },
  {
   "cell_type": "code",
   "execution_count": 11,
   "id": "hazardous-greenhouse",
   "metadata": {},
   "outputs": [
    {
     "data": {
      "image/png": "[encoded data removed]",
      "text/plain": [
       "<Figure size 432x288 with 1 Axes>"
      ]
     },
     "metadata": {
      "needs_background": "light"
     },
     "output_type": "display_data"
    }
   ],
   "source": [
    "colors = ['r', 'b', 'g']\n",
    "markers = ['s', 'x', 'o']\n",
    "\n",
    "for l, c, m in zip(np.unique(y_train), colors, markers):\n",
    "    plt.scatter(X_train_pca[y_train==l, 0], X_train_pca[y_train==l, 1], c=c, label=l, marker=m)\n",
    "\n",
    "plt.xlabel('PC 1')\n",
    "plt.ylabel('PC 2')\n",
    "plt.legend(loc='best')\n",
    "plt.tight_layout()\n",
    "plt.show()"
   ]
  },
  {
   "cell_type": "markdown",
   "id": "stable-polyester",
   "metadata": {},
   "source": [
    "### scikit-learnを用いたPCA"
   ]
  },
  {
   "cell_type": "code",
   "execution_count": 13,
   "id": "minute-beauty",
   "metadata": {},
   "outputs": [
    {
     "data": {
      "image/png": "[encoded data removed]",
      "text/plain": [
       "<Figure size 432x288 with 1 Axes>"
      ]
     },
     "metadata": {
      "needs_background": "light"
     },
     "output_type": "display_data"
    }
   ],
   "source": [
    "from sklearn.linear_model import LogisticRegression\n",
    "from sklearn.decomposition import PCA\n",
    "from script.plot_decision_regions_script import plot_decision_regions\n",
    "\n",
    "pca = PCA(n_components=2)\n",
    "lr = LogisticRegression(multi_class='ovr', random_state=1, solver='lbfgs')\n",
    "\n",
    "X_train_pca = pca.fit_transform(X_train_std)\n",
    "X_test_pca = pca.transform(X_test_std)\n",
    "\n",
    "lr.fit(X_train_pca, y_train)\n",
    "\n",
    "plot_decision_regions(X_train_pca, y_train, classifier=lr)\n",
    "\n",
    "plt.xlabel('PC1')\n",
    "plt.ylabel('PC2')\n",
    "plt.legend(loc='best')\n",
    "plt.tight_layout()\n",
    "plt.show()"
   ]
  },
  {
   "cell_type": "code",
   "execution_count": 14,
   "id": "close-yesterday",
   "metadata": {},
   "outputs": [
    {
     "data": {
      "image/png": "[encoded data removed]",
      "text/plain": [
       "<Figure size 432x288 with 1 Axes>"
      ]
     },
     "metadata": {
      "needs_background": "light"
     },
     "output_type": "display_data"
    }
   ],
   "source": [
    "plot_decision_regions(X_test_pca, y_test, classifier=lr)\n",
    "plt.show()"
   ]
  },
  {
   "cell_type": "code",
   "execution_count": 21,
   "id": "original-christmas",
   "metadata": {},
   "outputs": [
    {
     "data": {
      "text/plain": [
       "array([0.36951469, 0.18434927, 0.11815159, 0.07334252, 0.06422108,\n",
       "       0.05051724, 0.03954654, 0.02643918, 0.02389319, 0.01629614,\n",
       "       0.01380021, 0.01172226, 0.00820609])"
      ]
     },
     "execution_count": 21,
     "metadata": {},
     "output_type": "execute_result"
    }
   ],
   "source": [
    "pca = PCA(n_components=None)\n",
    "X_train_pca = pca.fit_transform(X_train_std)\n",
    "pca.explained_variance_ratio_"
   ]
  },
  {
   "cell_type": "code",
   "execution_count": 22,
   "id": "ahead-warrior",
   "metadata": {},
   "outputs": [
    {
     "data": {
      "text/plain": [
       "[<matplotlib.lines.Line2D at 0x11bec43c8>]"
      ]
     },
     "execution_count": 22,
     "metadata": {},
     "output_type": "execute_result"
    },
    {
     "data": {
      "image/png": "[encoded data removed]",
      "text/plain": [
       "<Figure size 432x288 with 1 Axes>"
      ]
     },
     "metadata": {
      "needs_background": "light"
     },
     "output_type": "display_data"
    }
   ],
   "source": [
    "plt.bar(range(1,14), pca.explained_variance_ratio_, align='center')\n",
    "plt.step(range(1,14), np.cumsum(pca.explained_variance_ratio_), where='mid')"
   ]
  },
  {
   "cell_type": "markdown",
   "id": "burning-posting",
   "metadata": {},
   "source": [
    "## 線形判別分析"
   ]
  },
  {
   "cell_type": "code",
   "execution_count": 25,
   "id": "historical-partnership",
   "metadata": {},
   "outputs": [],
   "source": [
    "np.set_printoptions(precision=4)\n",
    "mean_vecs = []\n",
    "for label in range(1,4):\n",
    "    mean_vecs.append(np.mean(X_train_std[y_train==label], axis=0))"
   ]
  },
  {
   "cell_type": "code",
   "execution_count": 29,
   "id": "collaborative-settle",
   "metadata": {},
   "outputs": [
    {
     "name": "stdout",
     "output_type": "stream",
     "text": [
      "[ 0 41 50 32]\n"
     ]
    }
   ],
   "source": [
    "    \n",
    "d = 13\n",
    "S_W = np.zeros((d,d))\n",
    "for label, mv in zip(range(1,4), mean_vecs):\n",
    "    class_scatter = np.zeros((d,d))\n",
    "    for row in X_train_std[y_train==label]:\n",
    "        row, mv = row.reshape(d,1), mv.reshape(d,1)\n",
    "        class_scatter += (row-mv).dot((row-mv).T)\n",
    "        \n",
    "    S_W += class_scatter\n",
    "    \n",
    "print(np.bincount(y_train[1:]))"
   ]
  },
  {
   "cell_type": "code",
   "execution_count": null,
   "id": "valued-hundred",
   "metadata": {},
   "outputs": [],
   "source": []
  }
 ],
 "metadata": {
  "kernelspec": {
   "display_name": "Python 3",
   "language": "python",
   "name": "python3"
  },
  "language_info": {
   "codemirror_mode": {
    "name": "ipython",
    "version": 3
   },
   "file_extension": ".py",
   "mimetype": "text/x-python",
   "name": "python",
   "nbconvert_exporter": "python",
   "pygments_lexer": "ipython3",
   "version": "3.7.3"
  }
 },
 "nbformat": 4,
 "nbformat_minor": 5
}
