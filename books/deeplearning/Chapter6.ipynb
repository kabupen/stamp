{
 "cells": [
  {
   "cell_type": "code",
   "execution_count": 1,
   "id": "supreme-party",
   "metadata": {},
   "outputs": [],
   "source": [
    "import numpy as np"
   ]
  },
  {
   "cell_type": "code",
   "execution_count": 10,
   "id": "forced-selling",
   "metadata": {},
   "outputs": [],
   "source": [
    "cnn_data = np.array([\n",
    "    [77, 80, 82],\n",
    "    [83, 78, 80],\n",
    "    [87, 82, 81],\n",
    "])\n",
    "\n",
    "cnn_filter = np.array([\n",
    "    [0.01, 0.08, 0.01],\n",
    "    [0.08, 0.64, 0.08],\n",
    "    [0.01, 0.08, 0.01],\n",
    "])"
   ]
  },
  {
   "cell_type": "code",
   "execution_count": 11,
   "id": "brown-oriental",
   "metadata": {},
   "outputs": [
    {
     "data": {
      "text/plain": [
       "array([[ 0.77,  6.4 ,  0.82],\n",
       "       [ 6.64, 49.92,  6.4 ],\n",
       "       [ 0.87,  6.56,  0.81]])"
      ]
     },
     "execution_count": 11,
     "metadata": {},
     "output_type": "execute_result"
    }
   ],
   "source": [
    "cnn_data * cnn_filter"
   ]
  },
  {
   "cell_type": "code",
   "execution_count": 12,
   "id": "powerful-basin",
   "metadata": {},
   "outputs": [
    {
     "data": {
      "text/plain": [
       "79.19"
      ]
     },
     "execution_count": 12,
     "metadata": {},
     "output_type": "execute_result"
    }
   ],
   "source": [
    "(cnn_data * cnn_filter).sum()"
   ]
  },
  {
   "cell_type": "code",
   "execution_count": null,
   "id": "alternative-canal",
   "metadata": {},
   "outputs": [],
   "source": []
  }
 ],
 "metadata": {
  "kernelspec": {
   "display_name": "Python 3",
   "language": "python",
   "name": "python3"
  },
  "language_info": {
   "codemirror_mode": {
    "name": "ipython",
    "version": 3
   },
   "file_extension": ".py",
   "mimetype": "text/x-python",
   "name": "python",
   "nbconvert_exporter": "python",
   "pygments_lexer": "ipython3",
   "version": "3.7.3"
  },
  "toc": {
   "base_numbering": 1,
   "nav_menu": {},
   "number_sections": true,
   "sideBar": true,
   "skip_h1_title": false,
   "title_cell": "Table of Contents",
   "title_sidebar": "Contents",
   "toc_cell": false,
   "toc_position": {},
   "toc_section_display": true,
   "toc_window_display": false
  }
 },
 "nbformat": 4,
 "nbformat_minor": 5
}
