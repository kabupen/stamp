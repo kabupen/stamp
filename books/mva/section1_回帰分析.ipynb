{
 "cells": [
  {
   "cell_type": "markdown",
   "id": "seventh-appearance",
   "metadata": {},
   "source": [
    "# 回帰分析"
   ]
  },
  {
   "cell_type": "markdown",
   "id": "advanced-maria",
   "metadata": {},
   "source": [
    "## §1. 線形回帰（単回帰）\n",
    "変数$x$から目的の変数である$y$を説明する。\n",
    "\n",
    "$$\n",
    "y_i=a_0 + a_1 x_i + e_i\n",
    "$$\n",
    "\n",
    "ここで$e_i$は予測誤差であり、説明変数だけでは説明できない部分を表す。求めたい・知りたい情報は、$a_0$と$a_1$であり、最小二乗法を用いることで求めることができる。"
   ]
  },
  {
   "cell_type": "markdown",
   "id": "adapted-charm",
   "metadata": {},
   "source": [
    "### ex.1"
   ]
  },
  {
   "cell_type": "code",
   "execution_count": 1,
   "id": "joint-transition",
   "metadata": {},
   "outputs": [
    {
     "name": "stdout",
     "output_type": "stream",
     "text": [
      "pandas : version 1.0.3\n"
     ]
    },
    {
     "data": {
      "text/html": [
       "<div>\n",
       "<style scoped>\n",
       "    .dataframe tbody tr th:only-of-type {\n",
       "        vertical-align: middle;\n",
       "    }\n",
       "\n",
       "    .dataframe tbody tr th {\n",
       "        vertical-align: top;\n",
       "    }\n",
       "\n",
       "    .dataframe thead th {\n",
       "        text-align: right;\n",
       "    }\n",
       "</style>\n",
       "<table border=\"1\" class=\"dataframe\">\n",
       "  <thead>\n",
       "    <tr style=\"text-align: right;\">\n",
       "      <th></th>\n",
       "      <th>x</th>\n",
       "      <th>y</th>\n",
       "    </tr>\n",
       "  </thead>\n",
       "  <tbody>\n",
       "    <tr>\n",
       "      <th>0</th>\n",
       "      <td>73</td>\n",
       "      <td>37</td>\n",
       "    </tr>\n",
       "    <tr>\n",
       "      <th>1</th>\n",
       "      <td>63</td>\n",
       "      <td>27</td>\n",
       "    </tr>\n",
       "    <tr>\n",
       "      <th>2</th>\n",
       "      <td>31</td>\n",
       "      <td>18</td>\n",
       "    </tr>\n",
       "    <tr>\n",
       "      <th>3</th>\n",
       "      <td>24</td>\n",
       "      <td>11</td>\n",
       "    </tr>\n",
       "    <tr>\n",
       "      <th>4</th>\n",
       "      <td>79</td>\n",
       "      <td>39</td>\n",
       "    </tr>\n",
       "    <tr>\n",
       "      <th>5</th>\n",
       "      <td>84</td>\n",
       "      <td>40</td>\n",
       "    </tr>\n",
       "    <tr>\n",
       "      <th>6</th>\n",
       "      <td>32</td>\n",
       "      <td>14</td>\n",
       "    </tr>\n",
       "    <tr>\n",
       "      <th>7</th>\n",
       "      <td>33</td>\n",
       "      <td>18</td>\n",
       "    </tr>\n",
       "    <tr>\n",
       "      <th>8</th>\n",
       "      <td>66</td>\n",
       "      <td>28</td>\n",
       "    </tr>\n",
       "    <tr>\n",
       "      <th>9</th>\n",
       "      <td>36</td>\n",
       "      <td>17</td>\n",
       "    </tr>\n",
       "  </tbody>\n",
       "</table>\n",
       "</div>"
      ],
      "text/plain": [
       "    x   y\n",
       "0  73  37\n",
       "1  63  27\n",
       "2  31  18\n",
       "3  24  11\n",
       "4  79  39\n",
       "5  84  40\n",
       "6  32  14\n",
       "7  33  18\n",
       "8  66  28\n",
       "9  36  17"
      ]
     },
     "execution_count": 1,
     "metadata": {},
     "output_type": "execute_result"
    }
   ],
   "source": [
    "import pandas as pd\n",
    "print(\"pandas : version\", pd.__version__)\n",
    "\n",
    "import numpy as np\n",
    "import matplotlib.pyplot as plt\n",
    "\n",
    "# 教科書通りに、index に x, y を割り振ると、処理が面倒 （途中で transpose しなければならない）\n",
    "# そのため、columns に x, y を割り振っている\n",
    "df = pd.DataFrame({\n",
    "          \"x\" :  [73, 63, 31, 24, 79, 84, 32, 33, 66, 36], \n",
    "          \"y\" : [37, 27, 18, 11, 39, 40, 14, 18, 28, 17]},\n",
    ")\n",
    "df"
   ]
  },
  {
   "cell_type": "code",
   "execution_count": 2,
   "id": "square-shape",
   "metadata": {},
   "outputs": [
    {
     "data": {
      "text/plain": [
       "[<matplotlib.lines.Line2D at 0x117d16dd8>]"
      ]
     },
     "execution_count": 2,
     "metadata": {},
     "output_type": "execute_result"
    },
    {
     "data": {
      "image/png": "[encoded data removed]",
      "text/plain": [
       "<Figure size 432x288 with 1 Axes>"
      ]
     },
     "metadata": {
      "needs_background": "light"
     },
     "output_type": "display_data"
    }
   ],
   "source": [
    "# axis=0 : 列方向、axis=1 行方向\n",
    "x_bar, y_bar = df.mean()[0], df.mean()[1]\n",
    "\n",
    "# pandas 1.1 未満は cov は不偏分散を返す\n",
    "# そのため、N-1/N に相当する 0.9 を掛けて、通常の分散に直す必要がある\n",
    "s_xx, s_xy = df.cov().iloc[0,0]*0.9, df.cov().iloc[0, 1]*0.9\n",
    "\n",
    "a_hat_1 = s_xy/s_xx\n",
    "a_hat_0 = y_bar - a_hat_1 * x_bar\n",
    "\n",
    "x_lin = np.linspace(0,100, 100)\n",
    "\n",
    "df.plot.scatter(x=\"x\", y=\"y\")\n",
    "plt.plot(x_lin, a_hat_0 +  a_hat_1*x_lin)"
   ]
  },
  {
   "cell_type": "markdown",
   "id": "supreme-lafayette",
   "metadata": {},
   "source": [
    "###  scikit-learn. linear_model. LinearRegressionの使用\n",
    "\n",
    "scipy の最小二乗法の実装（scipy.linalg.lstsq）を使用している。"
   ]
  },
  {
   "cell_type": "code",
   "execution_count": 3,
   "id": "addressed-identifier",
   "metadata": {},
   "outputs": [
    {
     "name": "stdout",
     "output_type": "stream",
     "text": [
      "0.46163394979907 0.8488712154684492\n"
     ]
    },
    {
     "data": {
      "image/png": "[encoded data removed]",
      "text/plain": [
       "<Figure size 432x288 with 1 Axes>"
      ]
     },
     "metadata": {
      "needs_background": "light"
     },
     "output_type": "display_data"
    }
   ],
   "source": [
    "from sklearn.linear_model import LinearRegression\n",
    "slr = LinearRegression()\n",
    "\n",
    "# そのまま df[\"x\"] を引数に与えると、ValueError: Expected 2D array, got 1D array instead:　と怒られる\n",
    "# df[\"x\"].shape = (10,) の1次元配列であるが、2次元配列（n行1列のデータ, 縦ベクトル）として与えなければならない\n",
    "# x ... 2次元ベクトル（縦ベクトル）\n",
    "# y ... 1次元ベクトル\n",
    "slr.fit(df[[\"x\"]].values, df[\"y\"].values)\n",
    "\n",
    "x_test = np.linspace(0,100,100).reshape(-1,1)\n",
    "y_pred = slr.predict(x_test)\n",
    "\n",
    "plt.scatter(df[\"x\"], df[\"y\"])\n",
    "plt.plot(x_test, y_pred)\n",
    "\n",
    "print(slr.coef_[0], slr.intercept_)"
   ]
  },
  {
   "cell_type": "markdown",
   "id": "quiet-southwest",
   "metadata": {},
   "source": [
    "### scipy. least_squares\n",
    "\n",
    "scipy.least_squares では以下の式を最小化することを目的とする。\n",
    "$$\n",
    "\\frac{1}{2} \\sum_{i=1}^n \\left(\\rho (f_i (x)^2 \\right)\n",
    "$$\n",
    "ここで、$f(x)$は残差（residual)、$\\rho(\\cdot)$は損失関数 (loss function) を表す。損失関数を用いることで、残差の外れ値の影響を吸収している。`least_squares`では様々な損失関数に対応していて、デフォルトは linear（デフォルト設定）：$\\rho(z)=z$であり、一般的な最小二乗法を表す。"
   ]
  },
  {
   "cell_type": "code",
   "execution_count": 5,
   "id": "active-bedroom",
   "metadata": {},
   "outputs": [
    {
     "name": "stdout",
     "output_type": "stream",
     "text": [
      "0.8488712154684471 0.46163394979907013\n"
     ]
    }
   ],
   "source": [
    "from scipy.optimize import least_squares\n",
    "import numpy as np\n",
    "\n",
    "#  第一引数に対して最小化を行う\n",
    "def func(p, x, y):\n",
    "    return y-(p[1]*x+p[0])\n",
    "\n",
    "# func : 残差\n",
    "# [0, 0] : パラメーター（傾き、切片）の初期値を指定\n",
    "# args : 訓練用データ\n",
    "results = least_squares(func, [0,0], args=(df[\"x\"], df[\"y\"]))\n",
    "print(results.x[0], results.x[1])"
   ]
  },
  {
   "cell_type": "markdown",
   "id": "textile-opera",
   "metadata": {},
   "source": [
    "## §5. 線形重回帰"
   ]
  },
  {
   "cell_type": "markdown",
   "id": "excellent-praise",
   "metadata": {},
   "source": [
    "説明変数が複数ある場合、目的変数は：\n",
    "$$\n",
    "y_i = a_0 + a_1 x_1 + a_2 x_2 + ... a_p x_p\n",
    "$$\n",
    "として表すことができる。これを線形重回帰モデルと呼ぶ。重回帰の場合には、$(x_0,...,x_p), y$の$p+1$次元空間におけるデータを超平面で説明することとなる。\n",
    "\n",
    "重回帰分析も単回帰分析と同様、予測誤差の平方和が最小となるようにパラメータ（$a_0...a_p$）を推定する。ただし単回帰の場合と異なり、それぞれの係数で偏微分した$p$元連立方程式を解くこととなる。"
   ]
  },
  {
   "cell_type": "code",
   "execution_count": 6,
   "id": "hourly-ecuador",
   "metadata": {},
   "outputs": [
    {
     "data": {
      "text/html": [
       "<div>\n",
       "<style scoped>\n",
       "    .dataframe tbody tr th:only-of-type {\n",
       "        vertical-align: middle;\n",
       "    }\n",
       "\n",
       "    .dataframe tbody tr th {\n",
       "        vertical-align: top;\n",
       "    }\n",
       "\n",
       "    .dataframe thead th {\n",
       "        text-align: right;\n",
       "    }\n",
       "</style>\n",
       "<table border=\"1\" class=\"dataframe\">\n",
       "  <thead>\n",
       "    <tr style=\"text-align: right;\">\n",
       "      <th></th>\n",
       "      <th>y</th>\n",
       "      <th>x1</th>\n",
       "      <th>x2</th>\n",
       "      <th>x3</th>\n",
       "    </tr>\n",
       "  </thead>\n",
       "  <tbody>\n",
       "    <tr>\n",
       "      <th>0</th>\n",
       "      <td>22</td>\n",
       "      <td>28</td>\n",
       "      <td>146</td>\n",
       "      <td>34</td>\n",
       "    </tr>\n",
       "    <tr>\n",
       "      <th>1</th>\n",
       "      <td>36</td>\n",
       "      <td>46</td>\n",
       "      <td>169</td>\n",
       "      <td>57</td>\n",
       "    </tr>\n",
       "    <tr>\n",
       "      <th>2</th>\n",
       "      <td>24</td>\n",
       "      <td>39</td>\n",
       "      <td>160</td>\n",
       "      <td>48</td>\n",
       "    </tr>\n",
       "    <tr>\n",
       "      <th>3</th>\n",
       "      <td>22</td>\n",
       "      <td>25</td>\n",
       "      <td>156</td>\n",
       "      <td>38</td>\n",
       "    </tr>\n",
       "    <tr>\n",
       "      <th>4</th>\n",
       "      <td>27</td>\n",
       "      <td>34</td>\n",
       "      <td>161</td>\n",
       "      <td>47</td>\n",
       "    </tr>\n",
       "    <tr>\n",
       "      <th>5</th>\n",
       "      <td>29</td>\n",
       "      <td>29</td>\n",
       "      <td>168</td>\n",
       "      <td>50</td>\n",
       "    </tr>\n",
       "    <tr>\n",
       "      <th>6</th>\n",
       "      <td>26</td>\n",
       "      <td>38</td>\n",
       "      <td>154</td>\n",
       "      <td>54</td>\n",
       "    </tr>\n",
       "    <tr>\n",
       "      <th>7</th>\n",
       "      <td>23</td>\n",
       "      <td>23</td>\n",
       "      <td>153</td>\n",
       "      <td>40</td>\n",
       "    </tr>\n",
       "    <tr>\n",
       "      <th>8</th>\n",
       "      <td>31</td>\n",
       "      <td>42</td>\n",
       "      <td>160</td>\n",
       "      <td>62</td>\n",
       "    </tr>\n",
       "    <tr>\n",
       "      <th>9</th>\n",
       "      <td>24</td>\n",
       "      <td>27</td>\n",
       "      <td>152</td>\n",
       "      <td>39</td>\n",
       "    </tr>\n",
       "    <tr>\n",
       "      <th>10</th>\n",
       "      <td>23</td>\n",
       "      <td>35</td>\n",
       "      <td>155</td>\n",
       "      <td>46</td>\n",
       "    </tr>\n",
       "    <tr>\n",
       "      <th>11</th>\n",
       "      <td>27</td>\n",
       "      <td>39</td>\n",
       "      <td>154</td>\n",
       "      <td>54</td>\n",
       "    </tr>\n",
       "    <tr>\n",
       "      <th>12</th>\n",
       "      <td>31</td>\n",
       "      <td>38</td>\n",
       "      <td>157</td>\n",
       "      <td>57</td>\n",
       "    </tr>\n",
       "    <tr>\n",
       "      <th>13</th>\n",
       "      <td>25</td>\n",
       "      <td>32</td>\n",
       "      <td>162</td>\n",
       "      <td>53</td>\n",
       "    </tr>\n",
       "    <tr>\n",
       "      <th>14</th>\n",
       "      <td>23</td>\n",
       "      <td>25</td>\n",
       "      <td>142</td>\n",
       "      <td>32</td>\n",
       "    </tr>\n",
       "  </tbody>\n",
       "</table>\n",
       "</div>"
      ],
      "text/plain": [
       "     y  x1   x2  x3\n",
       "0   22  28  146  34\n",
       "1   36  46  169  57\n",
       "2   24  39  160  48\n",
       "3   22  25  156  38\n",
       "4   27  34  161  47\n",
       "5   29  29  168  50\n",
       "6   26  38  154  54\n",
       "7   23  23  153  40\n",
       "8   31  42  160  62\n",
       "9   24  27  152  39\n",
       "10  23  35  155  46\n",
       "11  27  39  154  54\n",
       "12  31  38  157  57\n",
       "13  25  32  162  53\n",
       "14  23  25  142  32"
      ]
     },
     "execution_count": 6,
     "metadata": {},
     "output_type": "execute_result"
    }
   ],
   "source": [
    "import pandas as pd\n",
    "import numpy as np\n",
    "\n",
    "df = pd.DataFrame( {\n",
    "    \"y\" : [22, 36, 24, 22, 27, 29, 26, 23, 31, 24, 23, 27, 31, 25, 23],\n",
    "    \"x1\" : [28, 46, 39, 25, 34, 29, 38, 23, 42, 27, 35, 39, 38, 32, 25],\n",
    "    \"x2\" : [146, 169, 160, 156, 161, 168, 154, 153, 160, 152, 155, 154, 157, 162, 142],\n",
    "    \"x3\" : [34, 57, 48, 38, 47, 50, 54, 40, 62, 39, 46, 54, 57, 53, 32],\n",
    "})\n",
    "df"
   ]
  },
  {
   "cell_type": "markdown",
   "id": "persistent-synthetic",
   "metadata": {},
   "source": [
    "`mlxtend`ライブラリを用いることで、データセットの特性を可視化することができる。これらはヒストグラムもしくは散布図であり、低レベルの情報を見ることができる。分析する前の重要な相関関係の把握を行うことができる（教科書のデータセットでは数が少ないのであまり有用ではないかもしれないが）。"
   ]
  },
  {
   "cell_type": "code",
   "execution_count": 21,
   "id": "dietary-thong",
   "metadata": {},
   "outputs": [
    {
     "data": {
      "image/png": "[encoded data removed]",
      "text/plain": [
       "<Figure size 720x576 with 16 Axes>"
      ]
     },
     "metadata": {
      "needs_background": "light"
     },
     "output_type": "display_data"
    }
   ],
   "source": [
    "from mlxtend.plotting import scatterplotmatrix\n",
    "scatterplotmatrix(df.values, figsize=(10, 8), alpha=0.5)\n",
    "plt.tight_layout()"
   ]
  },
  {
   "cell_type": "markdown",
   "id": "spoken-corrections",
   "metadata": {},
   "source": [
    "また重要な相関関係として、共分散行列が挙げられる。これは `pandas`から直接計算させることができる。"
   ]
  },
  {
   "cell_type": "code",
   "execution_count": 13,
   "id": "direct-domestic",
   "metadata": {},
   "outputs": [
    {
     "data": {
      "text/html": [
       "<div>\n",
       "<style scoped>\n",
       "    .dataframe tbody tr th:only-of-type {\n",
       "        vertical-align: middle;\n",
       "    }\n",
       "\n",
       "    .dataframe tbody tr th {\n",
       "        vertical-align: top;\n",
       "    }\n",
       "\n",
       "    .dataframe thead th {\n",
       "        text-align: right;\n",
       "    }\n",
       "</style>\n",
       "<table border=\"1\" class=\"dataframe\">\n",
       "  <thead>\n",
       "    <tr style=\"text-align: right;\">\n",
       "      <th></th>\n",
       "      <th>y</th>\n",
       "      <th>x1</th>\n",
       "      <th>x2</th>\n",
       "      <th>x3</th>\n",
       "    </tr>\n",
       "  </thead>\n",
       "  <tbody>\n",
       "    <tr>\n",
       "      <th>y</th>\n",
       "      <td>15.226667</td>\n",
       "      <td>19.666667</td>\n",
       "      <td>18.680000</td>\n",
       "      <td>26.986667</td>\n",
       "    </tr>\n",
       "    <tr>\n",
       "      <th>x1</th>\n",
       "      <td>19.666667</td>\n",
       "      <td>45.422222</td>\n",
       "      <td>24.933333</td>\n",
       "      <td>50.066667</td>\n",
       "    </tr>\n",
       "    <tr>\n",
       "      <th>x2</th>\n",
       "      <td>18.680000</td>\n",
       "      <td>24.933333</td>\n",
       "      <td>48.773333</td>\n",
       "      <td>42.560000</td>\n",
       "    </tr>\n",
       "    <tr>\n",
       "      <th>x3</th>\n",
       "      <td>26.986667</td>\n",
       "      <td>50.066667</td>\n",
       "      <td>42.560000</td>\n",
       "      <td>77.040000</td>\n",
       "    </tr>\n",
       "  </tbody>\n",
       "</table>\n",
       "</div>"
      ],
      "text/plain": [
       "            y         x1         x2         x3\n",
       "y   15.226667  19.666667  18.680000  26.986667\n",
       "x1  19.666667  45.422222  24.933333  50.066667\n",
       "x2  18.680000  24.933333  48.773333  42.560000\n",
       "x3  26.986667  50.066667  42.560000  77.040000"
      ]
     },
     "execution_count": 13,
     "metadata": {},
     "output_type": "execute_result"
    }
   ],
   "source": [
    "# 教科書で計算されているのは分散で、pandas が返すのは不偏分散\n",
    "# そのため教科書の数字に合わせるために、N-1/N を掛けている\n",
    "df.cov() * 14/15\n",
    "\n",
    "# numpy でも同様に共分散行列を計算することができる。\n",
    "# >>> np.cov(df.T, ddof=0)"
   ]
  },
  {
   "cell_type": "markdown",
   "id": "missing-belly",
   "metadata": {},
   "source": [
    "さらに、`mlxtend`ライブラリを用いると、共分散行列をヒートマップとして可視化することができる。"
   ]
  },
  {
   "cell_type": "code",
   "execution_count": 12,
   "id": "clinical-footage",
   "metadata": {},
   "outputs": [
    {
     "data": {
      "image/png": "[encoded data removed]",
      "text/plain": [
       "<Figure size 432x288 with 2 Axes>"
      ]
     },
     "metadata": {
      "needs_background": "light"
     },
     "output_type": "display_data"
    }
   ],
   "source": [
    "from mlxtend.plotting import heatmap\n",
    "hm = heatmap(df.cov().values.T, row_names = df.columns, column_names = df.columns )"
   ]
  },
  {
   "cell_type": "markdown",
   "id": "valuable-korean",
   "metadata": {},
   "source": [
    "重回帰式のパラメータも`sklearn`を用いることで簡単に求めることができる。"
   ]
  },
  {
   "cell_type": "code",
   "execution_count": 30,
   "id": "therapeutic-copper",
   "metadata": {},
   "outputs": [
    {
     "name": "stdout",
     "output_type": "stream",
     "text": [
      "[0.20137689 0.17102457 0.12494278]\n",
      "-13.217298316378507\n"
     ]
    }
   ],
   "source": [
    "from sklearn.linear_model import LinearRegression\n",
    "\n",
    "slr = LinearRegression()\n",
    "slr.fit(df[[\"x1\", \"x2\", \"x3\"]], df[\"y\"])\n",
    "\n",
    "print(slr.coef_)\n",
    "print(slr.intercept_)"
   ]
  },
  {
   "cell_type": "code",
   "execution_count": null,
   "id": "fixed-business",
   "metadata": {},
   "outputs": [],
   "source": []
  }
 ],
 "metadata": {
  "kernelspec": {
   "display_name": "Python 3",
   "language": "python",
   "name": "python3"
  },
  "language_info": {
   "codemirror_mode": {
    "name": "ipython",
    "version": 3
   },
   "file_extension": ".py",
   "mimetype": "text/x-python",
   "name": "python",
   "nbconvert_exporter": "python",
   "pygments_lexer": "ipython3",
   "version": "3.7.3"
  }
 },
 "nbformat": 4,
 "nbformat_minor": 5
}
