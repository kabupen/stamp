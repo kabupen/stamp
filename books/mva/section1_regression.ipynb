{
 "cells": [
  {
   "cell_type": "markdown",
   "id": "bulgarian-campaign",
   "metadata": {
    "toc": true
   },
   "source": [
    "<h1>Table of Contents<span class=\"tocSkip\"></span></h1>\n",
    "<div class=\"toc\"><ul class=\"toc-item\"><li><span><a href=\"#§1.-線形回帰（単回帰）\" data-toc-modified-id=\"§1.-線形回帰（単回帰）-1\">§1. 線形回帰（単回帰）</a></span><ul class=\"toc-item\"><li><span><a href=\"#ex.1\" data-toc-modified-id=\"ex.1-1.1\">ex.1</a></span><ul class=\"toc-item\"><li><span><a href=\"#scikit-learn.linear_model.LinearRegressionの使用\" data-toc-modified-id=\"scikit-learn.linear_model.LinearRegressionの使用-1.1.1\">scikit-learn.linear_model.LinearRegressionの使用</a></span></li><li><span><a href=\"#scipy.least_squares\" data-toc-modified-id=\"scipy.least_squares-1.1.2\">scipy.least_squares</a></span></li><li><span><a href=\"#numpy.polyfit\" data-toc-modified-id=\"numpy.polyfit-1.1.3\">numpy.polyfit</a></span></li></ul></li><li><span><a href=\"#多項式回帰\" data-toc-modified-id=\"多項式回帰-1.2\">多項式回帰</a></span></li></ul></li><li><span><a href=\"#§3.-相関係数\" data-toc-modified-id=\"§3.-相関係数-2\">§3. 相関係数</a></span><ul class=\"toc-item\"><li><span><a href=\"#相関係数の種類\" data-toc-modified-id=\"相関係数の種類-2.1\">相関係数の種類</a></span><ul class=\"toc-item\"><li><span><a href=\"#ピアソン（の積率相関係数）\" data-toc-modified-id=\"ピアソン（の積率相関係数）-2.1.1\">ピアソン（の積率相関係数）</a></span></li><li><span><a href=\"#スピアマン（の順位相関係数）\" data-toc-modified-id=\"スピアマン（の順位相関係数）-2.1.2\">スピアマン（の順位相関係数）</a></span></li><li><span><a href=\"#ケンドール（の順位相関係数)\" data-toc-modified-id=\"ケンドール（の順位相関係数)-2.1.3\">ケンドール（の順位相関係数)</a></span></li></ul></li><li><span><a href=\"#図示してみる\" data-toc-modified-id=\"図示してみる-2.2\">図示してみる</a></span></li></ul></li><li><span><a href=\"#§5.-線形重回帰\" data-toc-modified-id=\"§5.-線形重回帰-3\">§5. 線形重回帰</a></span><ul class=\"toc-item\"><li><span><a href=\"#sklearn.linear_model.LinearRegression\" data-toc-modified-id=\"sklearn.linear_model.LinearRegression-3.1\">sklearn.linear_model.LinearRegression</a></span></li></ul></li><li><span><a href=\"#§7.-重相関係数\" data-toc-modified-id=\"§7.-重相関係数-4\">§7. 重相関係数</a></span></li><li><span><a href=\"#§-9-回帰係数の推定と検定\" data-toc-modified-id=\"§-9-回帰係数の推定と検定-5\">§ 9 回帰係数の推定と検定</a></span><ul class=\"toc-item\"><li><span><a href=\"#推定について\" data-toc-modified-id=\"推定について-5.1\">推定について</a></span></li><li><span><a href=\"#検定について\" data-toc-modified-id=\"検定について-5.2\">検定について</a></span></li><li><span><a href=\"#スチューデント分布\" data-toc-modified-id=\"スチューデント分布-5.3\">スチューデント分布</a></span></li></ul></li><li><span><a href=\"#§10.-予測値の区間推定\" data-toc-modified-id=\"§10.-予測値の区間推定-6\">§10. 予測値の区間推定</a></span></li></ul></div>"
   ]
  },
  {
   "cell_type": "markdown",
   "id": "advanced-maria",
   "metadata": {},
   "source": [
    "# §1. 線形回帰（単回帰）\n",
    "変数$x$から目的の変数である$y$を説明する。\n",
    "\n",
    "$$\n",
    "y_i=a_0 + a_1 x_i + e_i\n",
    "$$\n",
    "\n",
    "ここで$e_i$は予測誤差であり、説明変数だけでは説明できない部分を表す。求めたい・知りたい情報は、$a_0$と$a_1$であり、最小二乗法を用いることで求めることができる。\n",
    "\n",
    "手計算での実装以外に、単回帰を行うためのライブラリとして以下がある。\n",
    "- scikit-learn.LinearRegression\n",
    "- scipy.optimise.least_squares\n",
    "- numpy.polyfit"
   ]
  },
  {
   "cell_type": "markdown",
   "id": "adapted-charm",
   "metadata": {},
   "source": [
    "## ex.1"
   ]
  },
  {
   "cell_type": "code",
   "execution_count": 1,
   "id": "joint-transition",
   "metadata": {},
   "outputs": [
    {
     "name": "stdout",
     "output_type": "stream",
     "text": [
      "pandas : version 1.0.3\n"
     ]
    },
    {
     "data": {
      "text/html": [
       "<div>\n",
       "<style scoped>\n",
       "    .dataframe tbody tr th:only-of-type {\n",
       "        vertical-align: middle;\n",
       "    }\n",
       "\n",
       "    .dataframe tbody tr th {\n",
       "        vertical-align: top;\n",
       "    }\n",
       "\n",
       "    .dataframe thead th {\n",
       "        text-align: right;\n",
       "    }\n",
       "</style>\n",
       "<table border=\"1\" class=\"dataframe\">\n",
       "  <thead>\n",
       "    <tr style=\"text-align: right;\">\n",
       "      <th></th>\n",
       "      <th>x</th>\n",
       "      <th>y</th>\n",
       "    </tr>\n",
       "  </thead>\n",
       "  <tbody>\n",
       "    <tr>\n",
       "      <th>0</th>\n",
       "      <td>73</td>\n",
       "      <td>37</td>\n",
       "    </tr>\n",
       "    <tr>\n",
       "      <th>1</th>\n",
       "      <td>63</td>\n",
       "      <td>27</td>\n",
       "    </tr>\n",
       "    <tr>\n",
       "      <th>2</th>\n",
       "      <td>31</td>\n",
       "      <td>18</td>\n",
       "    </tr>\n",
       "    <tr>\n",
       "      <th>3</th>\n",
       "      <td>24</td>\n",
       "      <td>11</td>\n",
       "    </tr>\n",
       "    <tr>\n",
       "      <th>4</th>\n",
       "      <td>79</td>\n",
       "      <td>39</td>\n",
       "    </tr>\n",
       "    <tr>\n",
       "      <th>5</th>\n",
       "      <td>84</td>\n",
       "      <td>40</td>\n",
       "    </tr>\n",
       "    <tr>\n",
       "      <th>6</th>\n",
       "      <td>32</td>\n",
       "      <td>14</td>\n",
       "    </tr>\n",
       "    <tr>\n",
       "      <th>7</th>\n",
       "      <td>33</td>\n",
       "      <td>18</td>\n",
       "    </tr>\n",
       "    <tr>\n",
       "      <th>8</th>\n",
       "      <td>66</td>\n",
       "      <td>28</td>\n",
       "    </tr>\n",
       "    <tr>\n",
       "      <th>9</th>\n",
       "      <td>36</td>\n",
       "      <td>17</td>\n",
       "    </tr>\n",
       "  </tbody>\n",
       "</table>\n",
       "</div>"
      ],
      "text/plain": [
       "    x   y\n",
       "0  73  37\n",
       "1  63  27\n",
       "2  31  18\n",
       "3  24  11\n",
       "4  79  39\n",
       "5  84  40\n",
       "6  32  14\n",
       "7  33  18\n",
       "8  66  28\n",
       "9  36  17"
      ]
     },
     "execution_count": 1,
     "metadata": {},
     "output_type": "execute_result"
    }
   ],
   "source": [
    "import pandas as pd\n",
    "print(\"pandas : version\", pd.__version__)\n",
    "\n",
    "import numpy as np\n",
    "import matplotlib.pyplot as plt\n",
    "\n",
    "# 教科書通りに、index に x, y を割り振ると、処理が面倒 （途中で transpose しなければならない）\n",
    "# そのため、columns に x, y を割り振っている\n",
    "df = pd.DataFrame({\n",
    "          \"x\" :  [73, 63, 31, 24, 79, 84, 32, 33, 66, 36], \n",
    "          \"y\" : [37, 27, 18, 11, 39, 40, 14, 18, 28, 17]},\n",
    ")\n",
    "df"
   ]
  },
  {
   "cell_type": "code",
   "execution_count": 2,
   "id": "square-shape",
   "metadata": {},
   "outputs": [
    {
     "data": {
      "text/plain": [
       "[<matplotlib.lines.Line2D at 0x11c9e29e8>]"
      ]
     },
     "execution_count": 2,
     "metadata": {},
     "output_type": "execute_result"
    },
    {
     "data": {
      "image/png": "[encoded data removed]",
      "text/plain": [
       "<Figure size 432x288 with 1 Axes>"
      ]
     },
     "metadata": {
      "needs_background": "light"
     },
     "output_type": "display_data"
    }
   ],
   "source": [
    "# axis=0 : 列方向、axis=1 行方向\n",
    "x_bar, y_bar = df.mean()[0], df.mean()[1]\n",
    "\n",
    "# pandas 1.1 未満は cov は不偏分散を返す\n",
    "# そのため、N-1/N に相当する 0.9 を掛けて、通常の分散に直す必要がある\n",
    "s_xx, s_xy = df.cov().iloc[0,0]*0.9, df.cov().iloc[0, 1]*0.9\n",
    "\n",
    "a_hat_1 = s_xy/s_xx\n",
    "a_hat_0 = y_bar - a_hat_1 * x_bar\n",
    "\n",
    "x_lin = np.linspace(0,100, 100)\n",
    "\n",
    "df.plot.scatter(x=\"x\", y=\"y\")\n",
    "plt.plot(x_lin, a_hat_0 +  a_hat_1*x_lin)"
   ]
  },
  {
   "cell_type": "markdown",
   "id": "supreme-lafayette",
   "metadata": {},
   "source": [
    "###  scikit-learn.linear_model.LinearRegressionの使用\n",
    "\n",
    "scipy の最小二乗法の実装（scipy.linalg.lstsq）を使用している。勾配降下法を用いていないので、変数は標準化せずそのまま入力すれば良い。"
   ]
  },
  {
   "cell_type": "code",
   "execution_count": 3,
   "id": "addressed-identifier",
   "metadata": {},
   "outputs": [
    {
     "name": "stdout",
     "output_type": "stream",
     "text": [
      "0.46163394979907 0.8488712154684492\n"
     ]
    },
    {
     "data": {
      "image/png": "[encoded data removed]",
      "text/plain": [
       "<Figure size 432x288 with 1 Axes>"
      ]
     },
     "metadata": {
      "needs_background": "light"
     },
     "output_type": "display_data"
    }
   ],
   "source": [
    "from sklearn.linear_model import LinearRegression\n",
    "slr = LinearRegression()\n",
    "\n",
    "# そのまま df[\"x\"] を引数に与えると、ValueError: Expected 2D array, got 1D array instead:　と怒られる\n",
    "# df[\"x\"].shape = (10,) の1次元配列であるが、2次元配列（n行1列のデータ, 縦ベクトル）として与えなければならない\n",
    "# x ... 2次元ベクトル（縦ベクトル）\n",
    "# y ... 1次元ベクトル\n",
    "slr.fit(df[[\"x\"]].values, df[\"y\"].values)\n",
    "\n",
    "x_test = np.linspace(0,100,100).reshape(-1,1)\n",
    "y_pred = slr.predict(x_test)\n",
    "\n",
    "plt.scatter(df[\"x\"], df[\"y\"])\n",
    "plt.plot(x_test, y_pred)\n",
    "\n",
    "print(slr.coef_[0], slr.intercept_)"
   ]
  },
  {
   "cell_type": "markdown",
   "id": "quiet-southwest",
   "metadata": {},
   "source": [
    "### scipy.least_squares\n",
    "\n",
    "scipy.least_squares では以下の式を最小化することを目的とする。\n",
    "\n",
    "$$\n",
    "\\frac{1}{2} \\sum_{i=1}^n \\left(\\rho (f_i (x)^2 \\right)\n",
    "$$\n",
    "\n",
    "ここで、$f(x)$は残差（residual)、$\\rho(\\cdot)$は損失関数 (loss function) を表す。損失関数を用いることで、残差の外れ値の影響を吸収している。`least_squares`では様々な損失関数に対応していて、デフォルトは linear（デフォルト設定）：$\\rho(z)=z$であり、一般的な最小二乗法を表す。"
   ]
  },
  {
   "cell_type": "code",
   "execution_count": 4,
   "id": "active-bedroom",
   "metadata": {},
   "outputs": [
    {
     "name": "stdout",
     "output_type": "stream",
     "text": [
      "0.8488712154684471 0.46163394979907013\n"
     ]
    }
   ],
   "source": [
    "from scipy.optimize import least_squares\n",
    "import numpy as np\n",
    "\n",
    "#  第一引数に対して最小化を行う\n",
    "def func(p, x, y):\n",
    "    return y-(p[1]*x+p[0])\n",
    "\n",
    "# func : 残差\n",
    "# [0, 0] : パラメーター（傾き、切片）の初期値を指定\n",
    "# args : 訓練用データ\n",
    "results = least_squares(func, [0,0], args=(df[\"x\"], df[\"y\"]))\n",
    "print(results.x[0], results.x[1])"
   ]
  },
  {
   "cell_type": "markdown",
   "id": "expanded-chest",
   "metadata": {},
   "source": [
    "### numpy.polyfit\n",
    "\n",
    "直線を求める基本的な最小二乗法による回帰分析は、numpyのpolyfitを用いることでより簡単に実装することができる（NumPy 1.14以上は別の`polynomial`メッソッドの使用が推奨されている）。このメソッドは\n",
    "\n",
    "$$\n",
    "E = \\sum |p(x_j)-y_j|^2\n",
    "$$\n",
    "\n",
    "を最小化することで、係数を求めている。この中身は\n",
    "\n",
    "$$\n",
    "x_i ^n  p_0+ ... + x_i p_{n-1} + p_{n} = y_i\n",
    "$$\n",
    "\n",
    "を想定した1次関数である。メソッドの`digit`引数は常識の$n$に対応しており、$n=1$であれば$ax+b$のよく見る１次関数でのフィッティングを行うことと同値。"
   ]
  },
  {
   "cell_type": "code",
   "execution_count": 5,
   "id": "interested-bracket",
   "metadata": {},
   "outputs": [
    {
     "data": {
      "text/plain": [
       "array([0.46163395, 0.84887122])"
      ]
     },
     "execution_count": 5,
     "metadata": {},
     "output_type": "execute_result"
    }
   ],
   "source": [
    "import numpy as np\n",
    "\n",
    "z = np.polyfit(df[\"x\"].to_numpy(), df[\"y\"].to_numpy(), 1)\n",
    "z"
   ]
  },
  {
   "cell_type": "markdown",
   "id": "authentic-bowling",
   "metadata": {},
   "source": [
    "## 多項式回帰\n",
    "\n",
    "ここまでは\n",
    "\n",
    "$$\n",
    "y=a_0 + a_1x\n",
    "$$\n",
    "\n",
    "の説明変数と目的変数の関係が線形である回帰式に従って分析を行っていた。ここでは1変数多項式回帰を行ってみる。\n",
    "\n",
    "$$\n",
    "y = a_0 + a_1x + a_2x^2 + ... + a_dx^d\n",
    "$$\n",
    "\n",
    "ここで$d$は次数を表す。説明変数は次数が上がっているが、パラメーターはどこまでも線形であることに留意。\n",
    "\n",
    "以下の例では$d=3$の多項式で回帰分析を行ってみる。"
   ]
  },
  {
   "cell_type": "code",
   "execution_count": 6,
   "id": "dirty-appointment",
   "metadata": {},
   "outputs": [
    {
     "data": {
      "image/png": "[encoded data removed]",
      "text/plain": [
       "<Figure size 432x288 with 1 Axes>"
      ]
     },
     "metadata": {
      "needs_background": "light"
     },
     "output_type": "display_data"
    }
   ],
   "source": [
    "from sklearn.linear_model import LinearRegression\n",
    "from sklearn.preprocessing import PolynomialFeatures\n",
    "\n",
    "# 線形フィット\n",
    "lr = LinearRegression()\n",
    "lr.fit(df[[\"x\"]], df[\"y\"])\n",
    "\n",
    "# 多項式フィット\n",
    "pr = LinearRegression()\n",
    "quadratic = PolynomialFeatures(degree=3)\n",
    "x_quad = quadratic.fit_transform(df[[\"x\"]])\n",
    "pr.fit(x_quad, df[\"y\"].values)\n",
    "\n",
    "# プロット\n",
    "fig, axes = plt.subplots()\n",
    "\n",
    "x_data = np.linspace(0,100,100)[:, np.newaxis]\n",
    "\n",
    "axes.plot(x_data, lr.predict(x_data), color=\"blue\", linestyle=\"--\", label=\"linear\")\n",
    "axes.plot(x_data, pr.predict(quadratic.fit_transform(x_data)), color=\"red\", label=\"polynomial\")\n",
    "df.plot(\"x\", \"y\", kind=\"scatter\", ax=axes, color=\"black\", label=\"data\")\n",
    "\n",
    "axes.legend()\n",
    "\n",
    "plt.tight_layout()\n",
    "plt.show()"
   ]
  },
  {
   "cell_type": "markdown",
   "id": "persistent-singapore",
   "metadata": {},
   "source": [
    "# §3. 相関係数\n",
    "\n",
    "２変数の相関を見る際に指標となる量を相関係数と呼ぶ。相関係数には着目しているデータ毎に有効な種類がある。\n",
    "- ピアソン\n",
    "    - パラメトリックな変数同士の関係性を見るための定義\n",
    "- スピアマン\n",
    "    - ノンパラメトリックな変数同士の関係性を見るための定義\n",
    "- ケンドール\n",
    "    - 組み合わせを順位付けて関係性を見る"
   ]
  },
  {
   "cell_type": "markdown",
   "id": "engaging-mention",
   "metadata": {},
   "source": [
    "## 相関係数の種類\n",
    "### ピアソン（の積率相関係数）"
   ]
  },
  {
   "cell_type": "code",
   "execution_count": 7,
   "id": "capital-roommate",
   "metadata": {},
   "outputs": [
    {
     "name": "stdout",
     "output_type": "stream",
     "text": [
      "pandas : version 1.0.3\n"
     ]
    }
   ],
   "source": [
    "import pandas as pd\n",
    "print(\"pandas : version\", pd.__version__)\n",
    "\n",
    "import numpy as np\n",
    "import matplotlib.pyplot as plt\n",
    "\n",
    "# 教科書通りに、index に x, y を割り振ると、処理が面倒 （途中で transpose しなければならない）\n",
    "# そのため、columns に x, y を割り振っている\n",
    "df = pd.DataFrame({\n",
    "          \"x\" :  [73, 63, 31, 24, 79, 84, 32, 33, 66, 36], \n",
    "          \"y\" : [37, 27, 18, 11, 39, 40, 14, 18, 28, 17]},\n",
    ")"
   ]
  },
  {
   "cell_type": "markdown",
   "id": "italic-republic",
   "metadata": {},
   "source": [
    "`pandas`で共分散行列を計算させるのは、`cov`メソッドを呼べば良い。"
   ]
  },
  {
   "cell_type": "code",
   "execution_count": 8,
   "id": "spanish-packet",
   "metadata": {},
   "outputs": [
    {
     "data": {
      "text/html": [
       "<div>\n",
       "<style scoped>\n",
       "    .dataframe tbody tr th:only-of-type {\n",
       "        vertical-align: middle;\n",
       "    }\n",
       "\n",
       "    .dataframe tbody tr th {\n",
       "        vertical-align: top;\n",
       "    }\n",
       "\n",
       "    .dataframe thead th {\n",
       "        text-align: right;\n",
       "    }\n",
       "</style>\n",
       "<table border=\"1\" class=\"dataframe\">\n",
       "  <thead>\n",
       "    <tr style=\"text-align: right;\">\n",
       "      <th></th>\n",
       "      <th>x</th>\n",
       "      <th>y</th>\n",
       "    </tr>\n",
       "  </thead>\n",
       "  <tbody>\n",
       "    <tr>\n",
       "      <th>x</th>\n",
       "      <td>528.100000</td>\n",
       "      <td>243.788889</td>\n",
       "    </tr>\n",
       "    <tr>\n",
       "      <th>y</th>\n",
       "      <td>243.788889</td>\n",
       "      <td>117.433333</td>\n",
       "    </tr>\n",
       "  </tbody>\n",
       "</table>\n",
       "</div>"
      ],
      "text/plain": [
       "            x           y\n",
       "x  528.100000  243.788889\n",
       "y  243.788889  117.433333"
      ]
     },
     "execution_count": 8,
     "metadata": {},
     "output_type": "execute_result"
    }
   ],
   "source": [
    "df.cov()"
   ]
  },
  {
   "cell_type": "markdown",
   "id": "divided-closing",
   "metadata": {},
   "source": [
    "共分散を $\\sqrt{\\sigma_{xx}\\sigma_{yy}}$ で割れば相関係数が求まる。"
   ]
  },
  {
   "cell_type": "code",
   "execution_count": 9,
   "id": "stuffed-alliance",
   "metadata": {},
   "outputs": [
    {
     "data": {
      "text/html": [
       "<div>\n",
       "<style scoped>\n",
       "    .dataframe tbody tr th:only-of-type {\n",
       "        vertical-align: middle;\n",
       "    }\n",
       "\n",
       "    .dataframe tbody tr th {\n",
       "        vertical-align: top;\n",
       "    }\n",
       "\n",
       "    .dataframe thead th {\n",
       "        text-align: right;\n",
       "    }\n",
       "</style>\n",
       "<table border=\"1\" class=\"dataframe\">\n",
       "  <thead>\n",
       "    <tr style=\"text-align: right;\">\n",
       "      <th></th>\n",
       "      <th>x</th>\n",
       "      <th>y</th>\n",
       "    </tr>\n",
       "  </thead>\n",
       "  <tbody>\n",
       "    <tr>\n",
       "      <th>x</th>\n",
       "      <td>2.120618</td>\n",
       "      <td>0.978949</td>\n",
       "    </tr>\n",
       "    <tr>\n",
       "      <th>y</th>\n",
       "      <td>0.978949</td>\n",
       "      <td>0.471561</td>\n",
       "    </tr>\n",
       "  </tbody>\n",
       "</table>\n",
       "</div>"
      ],
      "text/plain": [
       "          x         y\n",
       "x  2.120618  0.978949\n",
       "y  0.978949  0.471561"
      ]
     },
     "execution_count": 9,
     "metadata": {},
     "output_type": "execute_result"
    }
   ],
   "source": [
    "df.cov() / np.sqrt(df.cov().iloc[0,0] * df.cov().iloc[1,1])"
   ]
  },
  {
   "cell_type": "code",
   "execution_count": 10,
   "id": "announced-involvement",
   "metadata": {},
   "outputs": [
    {
     "data": {
      "text/html": [
       "<div>\n",
       "<style scoped>\n",
       "    .dataframe tbody tr th:only-of-type {\n",
       "        vertical-align: middle;\n",
       "    }\n",
       "\n",
       "    .dataframe tbody tr th {\n",
       "        vertical-align: top;\n",
       "    }\n",
       "\n",
       "    .dataframe thead th {\n",
       "        text-align: right;\n",
       "    }\n",
       "</style>\n",
       "<table border=\"1\" class=\"dataframe\">\n",
       "  <thead>\n",
       "    <tr style=\"text-align: right;\">\n",
       "      <th></th>\n",
       "      <th>x</th>\n",
       "      <th>y</th>\n",
       "    </tr>\n",
       "  </thead>\n",
       "  <tbody>\n",
       "    <tr>\n",
       "      <th>x</th>\n",
       "      <td>1.000000</td>\n",
       "      <td>0.978949</td>\n",
       "    </tr>\n",
       "    <tr>\n",
       "      <th>y</th>\n",
       "      <td>0.978949</td>\n",
       "      <td>1.000000</td>\n",
       "    </tr>\n",
       "  </tbody>\n",
       "</table>\n",
       "</div>"
      ],
      "text/plain": [
       "          x         y\n",
       "x  1.000000  0.978949\n",
       "y  0.978949  1.000000"
      ]
     },
     "execution_count": 10,
     "metadata": {},
     "output_type": "execute_result"
    }
   ],
   "source": [
    "df.corr(method=\"pearson\")"
   ]
  },
  {
   "cell_type": "markdown",
   "id": "hidden-shoulder",
   "metadata": {},
   "source": [
    "### スピアマン（の順位相関係数）\n",
    "\n",
    "各変量を順位にして（$x$の中で順位付け、$y$の中で順位付け）、ピアソンの相関係数を求めたもの。情報を順位に直した後は、ピアソンの相関係数と同じ計算の方法で相関係数を出すだけで良い。値の大きなものの数字が小さくなるので、外れ値に強くなる。\n",
    "\n",
    "外れ値について...\n",
    "artificialに外れ値を訓練データから省くこともしばしばある。ピアソンとスピアマンをいったりきたり見ながら、解析を進めるのが一つの定石であり、それ以外方法がない現実がある。"
   ]
  },
  {
   "cell_type": "code",
   "execution_count": 11,
   "id": "entire-bottom",
   "metadata": {},
   "outputs": [
    {
     "data": {
      "text/html": [
       "<div>\n",
       "<style scoped>\n",
       "    .dataframe tbody tr th:only-of-type {\n",
       "        vertical-align: middle;\n",
       "    }\n",
       "\n",
       "    .dataframe tbody tr th {\n",
       "        vertical-align: top;\n",
       "    }\n",
       "\n",
       "    .dataframe thead th {\n",
       "        text-align: right;\n",
       "    }\n",
       "</style>\n",
       "<table border=\"1\" class=\"dataframe\">\n",
       "  <thead>\n",
       "    <tr style=\"text-align: right;\">\n",
       "      <th></th>\n",
       "      <th>x</th>\n",
       "      <th>y</th>\n",
       "    </tr>\n",
       "  </thead>\n",
       "  <tbody>\n",
       "    <tr>\n",
       "      <th>0</th>\n",
       "      <td>8.0</td>\n",
       "      <td>8.0</td>\n",
       "    </tr>\n",
       "    <tr>\n",
       "      <th>1</th>\n",
       "      <td>6.0</td>\n",
       "      <td>6.0</td>\n",
       "    </tr>\n",
       "    <tr>\n",
       "      <th>2</th>\n",
       "      <td>2.0</td>\n",
       "      <td>4.5</td>\n",
       "    </tr>\n",
       "    <tr>\n",
       "      <th>3</th>\n",
       "      <td>1.0</td>\n",
       "      <td>1.0</td>\n",
       "    </tr>\n",
       "    <tr>\n",
       "      <th>4</th>\n",
       "      <td>9.0</td>\n",
       "      <td>9.0</td>\n",
       "    </tr>\n",
       "    <tr>\n",
       "      <th>5</th>\n",
       "      <td>10.0</td>\n",
       "      <td>10.0</td>\n",
       "    </tr>\n",
       "    <tr>\n",
       "      <th>6</th>\n",
       "      <td>3.0</td>\n",
       "      <td>2.0</td>\n",
       "    </tr>\n",
       "    <tr>\n",
       "      <th>7</th>\n",
       "      <td>4.0</td>\n",
       "      <td>4.5</td>\n",
       "    </tr>\n",
       "    <tr>\n",
       "      <th>8</th>\n",
       "      <td>7.0</td>\n",
       "      <td>7.0</td>\n",
       "    </tr>\n",
       "    <tr>\n",
       "      <th>9</th>\n",
       "      <td>5.0</td>\n",
       "      <td>3.0</td>\n",
       "    </tr>\n",
       "  </tbody>\n",
       "</table>\n",
       "</div>"
      ],
      "text/plain": [
       "      x     y\n",
       "0   8.0   8.0\n",
       "1   6.0   6.0\n",
       "2   2.0   4.5\n",
       "3   1.0   1.0\n",
       "4   9.0   9.0\n",
       "5  10.0  10.0\n",
       "6   3.0   2.0\n",
       "7   4.0   4.5\n",
       "8   7.0   7.0\n",
       "9   5.0   3.0"
      ]
     },
     "execution_count": 11,
     "metadata": {},
     "output_type": "execute_result"
    }
   ],
   "source": [
    "df_spearman = df.rank()\n",
    "df_spearman"
   ]
  },
  {
   "cell_type": "code",
   "execution_count": 12,
   "id": "original-siemens",
   "metadata": {},
   "outputs": [
    {
     "data": {
      "text/html": [
       "<div>\n",
       "<style scoped>\n",
       "    .dataframe tbody tr th:only-of-type {\n",
       "        vertical-align: middle;\n",
       "    }\n",
       "\n",
       "    .dataframe tbody tr th {\n",
       "        vertical-align: top;\n",
       "    }\n",
       "\n",
       "    .dataframe thead th {\n",
       "        text-align: right;\n",
       "    }\n",
       "</style>\n",
       "<table border=\"1\" class=\"dataframe\">\n",
       "  <thead>\n",
       "    <tr style=\"text-align: right;\">\n",
       "      <th></th>\n",
       "      <th>x</th>\n",
       "      <th>y</th>\n",
       "    </tr>\n",
       "  </thead>\n",
       "  <tbody>\n",
       "    <tr>\n",
       "      <th>x</th>\n",
       "      <td>1.000000</td>\n",
       "      <td>0.930095</td>\n",
       "    </tr>\n",
       "    <tr>\n",
       "      <th>y</th>\n",
       "      <td>0.930095</td>\n",
       "      <td>1.000000</td>\n",
       "    </tr>\n",
       "  </tbody>\n",
       "</table>\n",
       "</div>"
      ],
      "text/plain": [
       "          x         y\n",
       "x  1.000000  0.930095\n",
       "y  0.930095  1.000000"
      ]
     },
     "execution_count": 12,
     "metadata": {},
     "output_type": "execute_result"
    }
   ],
   "source": [
    "df_spearman.corr(method=\"pearson\")"
   ]
  },
  {
   "cell_type": "code",
   "execution_count": 13,
   "id": "eleven-recruitment",
   "metadata": {},
   "outputs": [
    {
     "data": {
      "text/html": [
       "<div>\n",
       "<style scoped>\n",
       "    .dataframe tbody tr th:only-of-type {\n",
       "        vertical-align: middle;\n",
       "    }\n",
       "\n",
       "    .dataframe tbody tr th {\n",
       "        vertical-align: top;\n",
       "    }\n",
       "\n",
       "    .dataframe thead th {\n",
       "        text-align: right;\n",
       "    }\n",
       "</style>\n",
       "<table border=\"1\" class=\"dataframe\">\n",
       "  <thead>\n",
       "    <tr style=\"text-align: right;\">\n",
       "      <th></th>\n",
       "      <th>x</th>\n",
       "      <th>y</th>\n",
       "    </tr>\n",
       "  </thead>\n",
       "  <tbody>\n",
       "    <tr>\n",
       "      <th>x</th>\n",
       "      <td>1.000000</td>\n",
       "      <td>0.930095</td>\n",
       "    </tr>\n",
       "    <tr>\n",
       "      <th>y</th>\n",
       "      <td>0.930095</td>\n",
       "      <td>1.000000</td>\n",
       "    </tr>\n",
       "  </tbody>\n",
       "</table>\n",
       "</div>"
      ],
      "text/plain": [
       "          x         y\n",
       "x  1.000000  0.930095\n",
       "y  0.930095  1.000000"
      ]
     },
     "execution_count": 13,
     "metadata": {},
     "output_type": "execute_result"
    }
   ],
   "source": [
    "df.corr(method=\"spearman\")"
   ]
  },
  {
   "cell_type": "markdown",
   "id": "valued-anthropology",
   "metadata": {},
   "source": [
    "上の２つの出力から、ランク付けしたDataFrameから計算した相関係数と、spearmanメソッドを使って計算した相関係数の値が同じになることが分かる。"
   ]
  },
  {
   "cell_type": "markdown",
   "id": "immediate-government",
   "metadata": {},
   "source": [
    "### ケンドール（の順位相関係数)\n",
    "\n",
    "データの大小関係に応じた数量である。$(x_i, y_i), i=1,...,n$の$n$ 個のデータの組み合わせを作り、任意の2組を取り出す。今、$(x_i, y_i)$と$(x_j, y_j)$の組を取り出したとする。その時に、\n",
    "\n",
    "- $x_i > x_j$ かつ $y_i > y_j$、もしくは $x_i < x_j$ かつ $y_i < y_j$であれば  G+=1 \n",
    "- $x_i > x_j$ かつ $y_i < y_j$、もしくは $x_i < x_j$ かつ $y_i > y_j$であれば  H+=1\n",
    "\n",
    "を取る変数 $G$と$H$を考える。これらは、$x$の増減方向と$y$の増減方向が同じ（相関を持っている）であれば +1、反対（反相関を持っている）であれば -1を取る値である。このとき、ケンドールの順位相関係数は次式で定義される。\n",
    "\n",
    "$$\n",
    "\\tau = \\frac{G-H}{_nC_2}\n",
    "$$"
   ]
  },
  {
   "cell_type": "code",
   "execution_count": 14,
   "id": "catholic-friendship",
   "metadata": {},
   "outputs": [
    {
     "data": {
      "text/html": [
       "<div>\n",
       "<style scoped>\n",
       "    .dataframe tbody tr th:only-of-type {\n",
       "        vertical-align: middle;\n",
       "    }\n",
       "\n",
       "    .dataframe tbody tr th {\n",
       "        vertical-align: top;\n",
       "    }\n",
       "\n",
       "    .dataframe thead th {\n",
       "        text-align: right;\n",
       "    }\n",
       "</style>\n",
       "<table border=\"1\" class=\"dataframe\">\n",
       "  <thead>\n",
       "    <tr style=\"text-align: right;\">\n",
       "      <th></th>\n",
       "      <th>x</th>\n",
       "      <th>y</th>\n",
       "    </tr>\n",
       "  </thead>\n",
       "  <tbody>\n",
       "    <tr>\n",
       "      <th>x</th>\n",
       "      <td>1.000000</td>\n",
       "      <td>0.853986</td>\n",
       "    </tr>\n",
       "    <tr>\n",
       "      <th>y</th>\n",
       "      <td>0.853986</td>\n",
       "      <td>1.000000</td>\n",
       "    </tr>\n",
       "  </tbody>\n",
       "</table>\n",
       "</div>"
      ],
      "text/plain": [
       "          x         y\n",
       "x  1.000000  0.853986\n",
       "y  0.853986  1.000000"
      ]
     },
     "execution_count": 14,
     "metadata": {},
     "output_type": "execute_result"
    }
   ],
   "source": [
    "df.corr(method=\"kendall\")"
   ]
  },
  {
   "cell_type": "markdown",
   "id": "separate-chamber",
   "metadata": {},
   "source": [
    "## 図示してみる\n",
    "\n",
    "参考書でよく見るような、相関係数の値と散布図の対応関係を簡単に図示してみる。相関係数が$\\pm$1に近いと（相関が強いと）直線上に乗っていることが分かる。こういった実験データであれば線形回帰が有効であることが分かる。それ以外の相関係数の場合には、どういった識別モデルを使用するかはまた解析に依存して考えないと行けない部分である。"
   ]
  },
  {
   "cell_type": "code",
   "execution_count": 15,
   "id": "adequate-democracy",
   "metadata": {},
   "outputs": [
    {
     "data": {
      "image/png": "[encoded data removed]",
      "text/plain": [
       "<Figure size 864x432 with 5 Axes>"
      ]
     },
     "metadata": {
      "needs_background": "light"
     },
     "output_type": "display_data"
    }
   ],
   "source": [
    "import numpy as np\n",
    "\n",
    "mean = np.array([0, 0])\n",
    "\n",
    "fig = plt.figure(figsize=(12, 6))\n",
    "\n",
    "for idx, cov in enumerate([-1, -0.5, 0, 0.5, 1]):\n",
    "    \n",
    "    cov_matrix = np.array( [[1, cov], [cov, 1]])\n",
    "    x, y = np.random.multivariate_normal(mean, cov_matrix, 3000).T\n",
    "    \n",
    "    axes = fig.add_subplot(2, 3, idx+1)\n",
    "    axes.scatter(x, y, label=\"cov = {}\".format(cov), alpha=0.3)\n",
    "    axes.legend(loc=\"upper left\")\n",
    "\n",
    "plt.tight_layout()\n",
    "plt.show()"
   ]
  },
  {
   "cell_type": "markdown",
   "id": "textile-opera",
   "metadata": {},
   "source": [
    "# §5. 線形重回帰"
   ]
  },
  {
   "cell_type": "markdown",
   "id": "excellent-praise",
   "metadata": {},
   "source": [
    "説明変数が複数ある場合、目的変数は：\n",
    "\n",
    "$$\n",
    "y_i = a_0 + a_1 x_1 + a_2 x_2 + ... a_p x_p\n",
    "$$\n",
    "\n",
    "として表すことができる。これを線形重回帰モデルと呼ぶ。重回帰の場合には、$(x_0,...,x_p), y$の$p+1$次元空間におけるデータを超平面で説明することとなる。重回帰分析も単回帰分析と同様、予測誤差の平方和が最小となるようにパラメータ（$a_0...a_p$）を推定する。ただし単回帰の場合と異なり、それぞれの係数で偏微分した$p$元連立方程式を解くこととなる。"
   ]
  },
  {
   "cell_type": "code",
   "execution_count": 16,
   "id": "hourly-ecuador",
   "metadata": {},
   "outputs": [
    {
     "data": {
      "text/html": [
       "<div>\n",
       "<style scoped>\n",
       "    .dataframe tbody tr th:only-of-type {\n",
       "        vertical-align: middle;\n",
       "    }\n",
       "\n",
       "    .dataframe tbody tr th {\n",
       "        vertical-align: top;\n",
       "    }\n",
       "\n",
       "    .dataframe thead th {\n",
       "        text-align: right;\n",
       "    }\n",
       "</style>\n",
       "<table border=\"1\" class=\"dataframe\">\n",
       "  <thead>\n",
       "    <tr style=\"text-align: right;\">\n",
       "      <th></th>\n",
       "      <th>y</th>\n",
       "      <th>x1</th>\n",
       "      <th>x2</th>\n",
       "      <th>x3</th>\n",
       "    </tr>\n",
       "  </thead>\n",
       "  <tbody>\n",
       "    <tr>\n",
       "      <th>0</th>\n",
       "      <td>22</td>\n",
       "      <td>28</td>\n",
       "      <td>146</td>\n",
       "      <td>34</td>\n",
       "    </tr>\n",
       "    <tr>\n",
       "      <th>1</th>\n",
       "      <td>36</td>\n",
       "      <td>46</td>\n",
       "      <td>169</td>\n",
       "      <td>57</td>\n",
       "    </tr>\n",
       "    <tr>\n",
       "      <th>2</th>\n",
       "      <td>24</td>\n",
       "      <td>39</td>\n",
       "      <td>160</td>\n",
       "      <td>48</td>\n",
       "    </tr>\n",
       "    <tr>\n",
       "      <th>3</th>\n",
       "      <td>22</td>\n",
       "      <td>25</td>\n",
       "      <td>156</td>\n",
       "      <td>38</td>\n",
       "    </tr>\n",
       "    <tr>\n",
       "      <th>4</th>\n",
       "      <td>27</td>\n",
       "      <td>34</td>\n",
       "      <td>161</td>\n",
       "      <td>47</td>\n",
       "    </tr>\n",
       "    <tr>\n",
       "      <th>5</th>\n",
       "      <td>29</td>\n",
       "      <td>29</td>\n",
       "      <td>168</td>\n",
       "      <td>50</td>\n",
       "    </tr>\n",
       "    <tr>\n",
       "      <th>6</th>\n",
       "      <td>26</td>\n",
       "      <td>38</td>\n",
       "      <td>154</td>\n",
       "      <td>54</td>\n",
       "    </tr>\n",
       "    <tr>\n",
       "      <th>7</th>\n",
       "      <td>23</td>\n",
       "      <td>23</td>\n",
       "      <td>153</td>\n",
       "      <td>40</td>\n",
       "    </tr>\n",
       "    <tr>\n",
       "      <th>8</th>\n",
       "      <td>31</td>\n",
       "      <td>42</td>\n",
       "      <td>160</td>\n",
       "      <td>62</td>\n",
       "    </tr>\n",
       "    <tr>\n",
       "      <th>9</th>\n",
       "      <td>24</td>\n",
       "      <td>27</td>\n",
       "      <td>152</td>\n",
       "      <td>39</td>\n",
       "    </tr>\n",
       "    <tr>\n",
       "      <th>10</th>\n",
       "      <td>23</td>\n",
       "      <td>35</td>\n",
       "      <td>155</td>\n",
       "      <td>46</td>\n",
       "    </tr>\n",
       "    <tr>\n",
       "      <th>11</th>\n",
       "      <td>27</td>\n",
       "      <td>39</td>\n",
       "      <td>154</td>\n",
       "      <td>54</td>\n",
       "    </tr>\n",
       "    <tr>\n",
       "      <th>12</th>\n",
       "      <td>31</td>\n",
       "      <td>38</td>\n",
       "      <td>157</td>\n",
       "      <td>57</td>\n",
       "    </tr>\n",
       "    <tr>\n",
       "      <th>13</th>\n",
       "      <td>25</td>\n",
       "      <td>32</td>\n",
       "      <td>162</td>\n",
       "      <td>53</td>\n",
       "    </tr>\n",
       "    <tr>\n",
       "      <th>14</th>\n",
       "      <td>23</td>\n",
       "      <td>25</td>\n",
       "      <td>142</td>\n",
       "      <td>32</td>\n",
       "    </tr>\n",
       "  </tbody>\n",
       "</table>\n",
       "</div>"
      ],
      "text/plain": [
       "     y  x1   x2  x3\n",
       "0   22  28  146  34\n",
       "1   36  46  169  57\n",
       "2   24  39  160  48\n",
       "3   22  25  156  38\n",
       "4   27  34  161  47\n",
       "5   29  29  168  50\n",
       "6   26  38  154  54\n",
       "7   23  23  153  40\n",
       "8   31  42  160  62\n",
       "9   24  27  152  39\n",
       "10  23  35  155  46\n",
       "11  27  39  154  54\n",
       "12  31  38  157  57\n",
       "13  25  32  162  53\n",
       "14  23  25  142  32"
      ]
     },
     "execution_count": 16,
     "metadata": {},
     "output_type": "execute_result"
    }
   ],
   "source": [
    "import pandas as pd\n",
    "import numpy as np\n",
    "\n",
    "df = pd.DataFrame( {\n",
    "    \"y\" : [22, 36, 24, 22, 27, 29, 26, 23, 31, 24, 23, 27, 31, 25, 23],\n",
    "    \"x1\" : [28, 46, 39, 25, 34, 29, 38, 23, 42, 27, 35, 39, 38, 32, 25],\n",
    "    \"x2\" : [146, 169, 160, 156, 161, 168, 154, 153, 160, 152, 155, 154, 157, 162, 142],\n",
    "    \"x3\" : [34, 57, 48, 38, 47, 50, 54, 40, 62, 39, 46, 54, 57, 53, 32],\n",
    "})\n",
    "df"
   ]
  },
  {
   "cell_type": "markdown",
   "id": "persistent-synthetic",
   "metadata": {},
   "source": [
    "`mlxtend`ライブラリを用いることで、データセットの特性を可視化することができる。これらはヒストグラムもしくは散布図であり、低レベルの情報を見ることができる。分析する前の重要な相関関係の把握を行うことができる（教科書のデータセットでは数が少ないのであまり有用ではないかもしれないが）。"
   ]
  },
  {
   "cell_type": "code",
   "execution_count": 17,
   "id": "dietary-thong",
   "metadata": {},
   "outputs": [
    {
     "data": {
      "image/png": "[encoded data removed]",
      "text/plain": [
       "<Figure size 720x576 with 16 Axes>"
      ]
     },
     "metadata": {
      "needs_background": "light"
     },
     "output_type": "display_data"
    }
   ],
   "source": [
    "from mlxtend.plotting import scatterplotmatrix\n",
    "scatterplotmatrix(df.values, figsize=(10, 8), alpha=0.5)\n",
    "plt.tight_layout()"
   ]
  },
  {
   "cell_type": "markdown",
   "id": "spoken-corrections",
   "metadata": {},
   "source": [
    "また重要な相関関係として、共分散行列が挙げられる。これは `pandas`から直接計算させることができる。"
   ]
  },
  {
   "cell_type": "code",
   "execution_count": 18,
   "id": "direct-domestic",
   "metadata": {},
   "outputs": [
    {
     "data": {
      "text/html": [
       "<div>\n",
       "<style scoped>\n",
       "    .dataframe tbody tr th:only-of-type {\n",
       "        vertical-align: middle;\n",
       "    }\n",
       "\n",
       "    .dataframe tbody tr th {\n",
       "        vertical-align: top;\n",
       "    }\n",
       "\n",
       "    .dataframe thead th {\n",
       "        text-align: right;\n",
       "    }\n",
       "</style>\n",
       "<table border=\"1\" class=\"dataframe\">\n",
       "  <thead>\n",
       "    <tr style=\"text-align: right;\">\n",
       "      <th></th>\n",
       "      <th>y</th>\n",
       "      <th>x1</th>\n",
       "      <th>x2</th>\n",
       "      <th>x3</th>\n",
       "    </tr>\n",
       "  </thead>\n",
       "  <tbody>\n",
       "    <tr>\n",
       "      <th>y</th>\n",
       "      <td>15.226667</td>\n",
       "      <td>19.666667</td>\n",
       "      <td>18.680000</td>\n",
       "      <td>26.986667</td>\n",
       "    </tr>\n",
       "    <tr>\n",
       "      <th>x1</th>\n",
       "      <td>19.666667</td>\n",
       "      <td>45.422222</td>\n",
       "      <td>24.933333</td>\n",
       "      <td>50.066667</td>\n",
       "    </tr>\n",
       "    <tr>\n",
       "      <th>x2</th>\n",
       "      <td>18.680000</td>\n",
       "      <td>24.933333</td>\n",
       "      <td>48.773333</td>\n",
       "      <td>42.560000</td>\n",
       "    </tr>\n",
       "    <tr>\n",
       "      <th>x3</th>\n",
       "      <td>26.986667</td>\n",
       "      <td>50.066667</td>\n",
       "      <td>42.560000</td>\n",
       "      <td>77.040000</td>\n",
       "    </tr>\n",
       "  </tbody>\n",
       "</table>\n",
       "</div>"
      ],
      "text/plain": [
       "            y         x1         x2         x3\n",
       "y   15.226667  19.666667  18.680000  26.986667\n",
       "x1  19.666667  45.422222  24.933333  50.066667\n",
       "x2  18.680000  24.933333  48.773333  42.560000\n",
       "x3  26.986667  50.066667  42.560000  77.040000"
      ]
     },
     "execution_count": 18,
     "metadata": {},
     "output_type": "execute_result"
    }
   ],
   "source": [
    "# 教科書で計算されているのは分散で、pandas が返すのは不偏分散\n",
    "# そのため教科書の数字に合わせるために、N-1/N を掛けている\n",
    "df.cov() * 14/15\n",
    "\n",
    "# numpy でも同様に共分散行列を計算することができる。\n",
    "# >>> np.cov(df.T, ddof=0)"
   ]
  },
  {
   "cell_type": "markdown",
   "id": "missing-belly",
   "metadata": {},
   "source": [
    "さらに、`mlxtend`ライブラリを用いると、共分散行列をヒートマップとして可視化することができる。"
   ]
  },
  {
   "cell_type": "code",
   "execution_count": 19,
   "id": "clinical-footage",
   "metadata": {},
   "outputs": [
    {
     "data": {
      "image/png": "[encoded data removed]",
      "text/plain": [
       "<Figure size 432x288 with 2 Axes>"
      ]
     },
     "metadata": {
      "needs_background": "light"
     },
     "output_type": "display_data"
    }
   ],
   "source": [
    "from mlxtend.plotting import heatmap\n",
    "hm = heatmap(df.cov().values.T, row_names = df.columns, column_names = df.columns )"
   ]
  },
  {
   "cell_type": "markdown",
   "id": "valuable-korean",
   "metadata": {},
   "source": [
    "## sklearn.linear_model.LinearRegression\n",
    "\n",
    "重回帰式のパラメータも`sklearn`を用いることで簡単に求めることができる。ここでは説明変数を3つで回帰分析する例を示す。まずは、説明変数と目的変数の関係が線形である以下の関係式に従った回帰分析を行ってみる。\n",
    "\n",
    "$$\n",
    "y = a_0 + a_1x_1 + a_2x_2 + a_3x_3 a_3\n",
    "$$"
   ]
  },
  {
   "cell_type": "code",
   "execution_count": 20,
   "id": "therapeutic-copper",
   "metadata": {},
   "outputs": [
    {
     "name": "stdout",
     "output_type": "stream",
     "text": [
      "[0.20137689 0.17102457 0.12494278]\n",
      "-13.217298316378507\n"
     ]
    }
   ],
   "source": [
    "from sklearn.linear_model import LinearRegression\n",
    "\n",
    "slr = LinearRegression()\n",
    "slr.fit(df[[\"x1\", \"x2\", \"x3\"]], df[\"y\"])\n",
    "\n",
    "print(slr.coef_)\n",
    "print(slr.intercept_)"
   ]
  },
  {
   "cell_type": "markdown",
   "id": "acting-hepatitis",
   "metadata": {},
   "source": [
    "# §7. 重相関係数"
   ]
  },
  {
   "cell_type": "markdown",
   "id": "informative-wilson",
   "metadata": {},
   "source": [
    "# § 9 回帰係数の推定と検定\n",
    "\n",
    "## 推定について\n",
    "\n",
    "推定とは、最小二乗法や最尤法に代表されるように、標本を用いて（=実験を行って）真の母平均・母分散 etc を推測することである。推定量 (estimator) はハット記号を付けて表されることが一般的。\n",
    "\n",
    "今回の例だと、回帰分析で求めた傾き・係数が推定量であり、それぞれ $\\hat{a_1}$、$\\hat{a_0}$と表している。\n",
    "\n",
    "## 検定について\n",
    "\n",
    "以上までが推定で、次に検定について説明する。検定とは、とある仮説が本当\"っぽい\"かどうかを判断するための統計的な枠組みである。「っぽい」というのは、真の母平均etcはあくまでも絶対に（絶対に）分からないものなので、得られた実験データから推測するしかない。その際に、妥当な見積もり手法を提供するのが検定と呼ばれる統計手法である。\n",
    "\n",
    "式(4) から\n",
    "\n",
    "$$\n",
    "\\hat{a_1} = ... = \\sum_{i=1}^{n} \\left(\\frac{x_i -\\bar{x}}{ns_{xx}} \\right) y_i\n",
    "$$\n",
    "\n",
    "\n",
    "と変形される。$x_i$は実験者が調整できる値なので、$\\hat{a_1}$は $y_i$ に依存している --> 正規分布に従う、と解釈できる。いま一連のデータ取得のための実験を1回だけしか行っていない場合は、$\\hat{a_1}$はただ一つの数字であるが、何度も実験を繰り返せばそのたびに異なる値を取る（偶然たまたま同じ数字にもなるだろうけど）。そのため、$\\hat{a_1}$は確率変数とみなしてもよいのである。\n",
    "\n",
    "ここで標準化を行うと、\n",
    "\n",
    "$$\n",
    "Z = \\frac{\\hat{a_1}-E[a_1]}{\\sqrt{V[\\hat{a_1}]}}\n",
    "$$\n",
    "\n",
    "であるが、式(35)より\n",
    "\n",
    "$$\n",
    "E[\\hat{a_1}] = ... = a_1\n",
    "$$\n",
    "\n",
    "であるので、次のように変形できる。\n",
    "\n",
    "$$\n",
    "Z = \\frac{\\hat{a_1}-a_1}{\\sqrt{V[\\hat{a_1}]}}\n",
    "$$\n",
    "\n",
    "ここまで変形してきて初めて、真の母平均（繰り返しになるが、全く分からない、がある固定された値）が式の中に含まれることになった。$Z$は$\\mathcal{N}(0,1)$のガウス分布に従うので、それらを上手いことすれば $a_1$について何らかの条件を出せそう。というのが検定の大きな流れ。\n",
    "\n",
    "しかし、ここで大問題が生じる。\n",
    "\n",
    "$$\n",
    "V[\\hat{a_1}] = ... = \\frac{\\sigma^2}{ns_{xx}}\n",
    "$$\n",
    "\n",
    "となり、分散もまた真の母分散に依存しているのである。これでは$Z$の式を $a_1 = ...$の形に変形しても何も言えなくなってしまう。そこで登場するのがスチューデント分布である。$\\sigma^2$を不偏分散に置き換えることで$Z$はガウス分布ではなく、スチューデント分布に従うようになるのである。"
   ]
  },
  {
   "cell_type": "markdown",
   "id": "olympic-attitude",
   "metadata": {},
   "source": [
    "## スチューデント分布\n",
    "検定にはスチューデントの$t$を用いるので、実際の問題を解く前に少し見ておく。規格化したスチューデント分布の形は以下のようで：\n",
    "\n",
    "$$\n",
    "f(x, \\nu) = \\frac{\\Gamma((\\nu+1)/2)}\n",
    "                {\\sqrt{\\pi \\nu} \\Gamma(\\nu/2)}\n",
    "            (1+x^2/\\nu)^{-(\\nu+1)/2}\n",
    "$$\n",
    "\n",
    "$\\nu$は自由度（degees of freedom)を表している（$\\nu>0$）。\n",
    "\n",
    "\n",
    "scipy.stats では全ての乱数（確率分布）に対して、rv_continuous クラス（離散変数であれば rv_discrete ）を継承するようにしている（rv : random variable）。なので、どんなメソッドを持っているか知りたければ、rc_constinuousクラスの実装を見るべし。"
   ]
  },
  {
   "cell_type": "code",
   "execution_count": 21,
   "id": "widespread-panel",
   "metadata": {},
   "outputs": [
    {
     "data": {
      "image/png": "[encoded data removed]",
      "text/plain": [
       "<Figure size 432x288 with 1 Axes>"
      ]
     },
     "metadata": {
      "needs_background": "light"
     },
     "output_type": "display_data"
    }
   ],
   "source": [
    "from scipy.stats import t as student\n",
    "\n",
    "fig, ax = plt.subplots()\n",
    "x = np.linspace(-4, 4, 100)\n",
    "\n",
    "for deg in (1, 5, 10, 15, 20):\n",
    "    ax.plot(x, student.pdf(x, deg),  label='df={}'.format(deg))\n",
    "    ax.legend()\n",
    "    plt.tight_layout()\n",
    "\n",
    "plt.show()"
   ]
  },
  {
   "cell_type": "markdown",
   "id": "played-bennett",
   "metadata": {},
   "source": [
    "回帰係数の推定値は自由度$n-2$のt分布に従うので（$n$はイベント数）、それを用いて以下で検討を行う。データは表5を再度使用する。"
   ]
  },
  {
   "cell_type": "code",
   "execution_count": 22,
   "id": "potential-ocean",
   "metadata": {},
   "outputs": [],
   "source": [
    "import pandas as pd\n",
    "import numpy as np\n",
    "\n",
    "df = pd.DataFrame( {\n",
    "    \"y\" : [22, 36, 24, 22, 27, 29, 26, 23, 31, 24, 23, 27, 31, 25, 23],\n",
    "    \"x1\" : [28, 46, 39, 25, 34, 29, 38, 23, 42, 27, 35, 39, 38, 32, 25],\n",
    "    \"x2\" : [146, 169, 160, 156, 161, 168, 154, 153, 160, 152, 155, 154, 157, 162, 142],\n",
    "    \"x3\" : [34, 57, 48, 38, 47, 50, 54, 40, 62, 39, 46, 54, 57, 53, 32],\n",
    "})"
   ]
  },
  {
   "cell_type": "code",
   "execution_count": 23,
   "id": "blank-shore",
   "metadata": {},
   "outputs": [
    {
     "name": "stdout",
     "output_type": "stream",
     "text": [
      "1.0.3\n",
      "1.18.2\n"
     ]
    }
   ],
   "source": [
    "print(pd.__version__)\n",
    "print(np.__version__)"
   ]
  },
  {
   "cell_type": "markdown",
   "id": "chinese-answer",
   "metadata": {},
   "source": [
    "スチューデント$t$を計算する。\n",
    "\n",
    "$$\n",
    "|t| = \\frac{\\hat{a_1} - a_1^{0}}{\\sqrt{V_e/(ns_{xx})}}\n",
    "$$\n",
    "\n",
    "ここで各量は次のようである：\n",
    "\n",
    "- $\\hat{a_1}$ : 回帰係数\n",
    "- $a_1^{0}$：仮説における真の値（いまは$a=0$を検定したい）\n",
    "- $V_e$：不偏分散\n",
    "$$\n",
    "V_e = n \\left(s_{yy} - \\frac{s_{xy}^2}{s_{xx}} \\right)\n",
    "$$\n",
    "- $s_{xx}$：分散\n",
    "\n",
    "pandas, numpyを用いて各量を計算すると次のようになる。"
   ]
  },
  {
   "cell_type": "markdown",
   "id": "requested-springfield",
   "metadata": {},
   "source": [
    "(1) 回帰係数"
   ]
  },
  {
   "cell_type": "code",
   "execution_count": 24,
   "id": "complicated-colony",
   "metadata": {},
   "outputs": [
    {
     "name": "stdout",
     "output_type": "stream",
     "text": [
      "切片 11.767514677103712\n",
      "傾き 0.4329745596868886\n"
     ]
    }
   ],
   "source": [
    "from sklearn.linear_model import LinearRegression\n",
    "\n",
    "slr = LinearRegression()\n",
    "slr.fit(df[[\"x1\"]], df[\"y\"])\n",
    "\n",
    "a_1 = slr.coef_[0]\n",
    "a_0 = slr.intercept_\n",
    "\n",
    "print(\"切片\", a_0)\n",
    "print(\"傾き\", a_1)"
   ]
  },
  {
   "cell_type": "markdown",
   "id": "brown-setup",
   "metadata": {},
   "source": [
    "(2) 不偏分散, 分散"
   ]
  },
  {
   "cell_type": "code",
   "execution_count": 25,
   "id": "interior-latvia",
   "metadata": {},
   "outputs": [
    {
     "name": "stdout",
     "output_type": "stream",
     "text": [
      "不偏分散 7.744038837874457\n",
      "分散 45.422222222222224\n"
     ]
    }
   ],
   "source": [
    "ncoef_x = (len(df[\"x1\"])-1)/len(df[\"x1\"])\n",
    "ncoef_y = (len(df[\"y\"])-1)/len(df[\"y\"])\n",
    "\n",
    "ve = len(df['x1']) * ( df[\"y\"].var() * ncoef_y - df[[\"x1\", \"y\"]].cov().iloc[0, 1] **2 /df[\"x1\"].var() * ncoef_x) / (len(df[\"x1\"])-2)\n",
    "sxx = df[\"x1\"].var() * ncoef_x\n",
    "\n",
    "print(\"不偏分散\", ve)\n",
    "print(\"分散\", sxx)"
   ]
  },
  {
   "cell_type": "markdown",
   "id": "boxed-parish",
   "metadata": {},
   "source": [
    "求めた数量から、検定を行う。ここでは両側検定を行っていて、$\\alpha=0.99$と設定した。そのため `ppf` (percent point function) の引数では 1-0.005を渡す必要がある。この`ppf`は片側$p$となるときの$t$の値を返してくれる。"
   ]
  },
  {
   "cell_type": "code",
   "execution_count": 26,
   "id": "rotary-blanket",
   "metadata": {},
   "outputs": [
    {
     "data": {
      "text/plain": [
       "True"
      ]
     },
     "execution_count": 26,
     "metadata": {},
     "output_type": "execute_result"
    }
   ],
   "source": [
    "t_data = a_1/np.sqrt(ve/len(df['x1'])/sxx)\n",
    "t_p995 = student.ppf(0.995, len(df[\"x1\"])-2) \n",
    "\n",
    "t_data > t_p995"
   ]
  },
  {
   "cell_type": "markdown",
   "id": "copyrighted-voluntary",
   "metadata": {},
   "source": [
    "t_data は$H_0 : a_1=a_1^0$のもとでの$t$の値であるが、これはほとんど起こり得ない事がわかる。ゆえに、そもそもの仮説$H_0$が間違っていた、と結論づけることができる。仮説$H_0$は危険率$\\alpha=0.01$で棄却される。"
   ]
  },
  {
   "cell_type": "markdown",
   "id": "incorporate-vampire",
   "metadata": {},
   "source": [
    "(ii) $a_{0,1}$の95%信頼区間を求める問題。\n",
    "\n",
    "いま、それぞれのパラメータを含んだ形で、自由度$n-2$の$t$分布に従う次式で表されている。\n",
    "\n",
    "$$\n",
    "t = \\frac{\\hat{a_1}-a_1}{\\sqrt{V_e/ns_{xx}}} \\\\ \n",
    "t = \\frac{\\hat{a_0}-a_0}{\\sqrt{V_e\\left( \\frac{1}{n} + \\frac{\\bar{x}^2}{ns_{xx}} \\right) }}\n",
    "$$\n",
    "\n",
    "以上を変形すると、それぞれの信頼区間は次式のように求まる（$t_\\alpha(n-2)$は信頼率$1-\\alpha$の自由度$n-2$の$t$分布）。\n",
    "\n",
    "$$\n",
    "\\hat{a_1} - t_\\alpha(n-2)\\sqrt{V_e/ns_{xx}} < a_1 < \\hat{a_1} + t_\\alpha(n-2)\\sqrt{V_e/ns_{xx}}\n",
    "$$\n",
    "\n",
    "$$\n",
    "\\hat{a_0} - t_\\alpha(n-2)\\sqrt{V_e\\left( \\frac{1}{n} + \\frac{\\bar{x}^2}{ns_{xx}} \\right) }\n",
    " < a_0\n",
    " <\\hat{a_0} + t_\\alpha(n-2)\\sqrt{V_e\\left( \\frac{1}{n} + \\frac{\\bar{x}^2}{ns_{xx}} \\right) }\n",
    "$$"
   ]
  },
  {
   "cell_type": "code",
   "execution_count": 27,
   "id": "oriented-crossing",
   "metadata": {},
   "outputs": [
    {
     "data": {
      "text/plain": [
       "0.23032008415028335"
      ]
     },
     "execution_count": 27,
     "metadata": {},
     "output_type": "execute_result"
    }
   ],
   "source": [
    "student.ppf(1-0.025, len(df[\"x1\"])-2) * np.sqrt(ve/(len(df[\"x1\"])*sxx))"
   ]
  },
  {
   "cell_type": "code",
   "execution_count": 28,
   "id": "dramatic-tribute",
   "metadata": {},
   "outputs": [
    {
     "data": {
      "text/plain": [
       "7.832689084835906"
      ]
     },
     "execution_count": 28,
     "metadata": {},
     "output_type": "execute_result"
    }
   ],
   "source": [
    "student.ppf(1-0.025, len(df[\"x1\"])-2) * np.sqrt(ve * (1/len(df[\"x1\"]) + df[\"x1\"].mean()**2/len(df[\"x1\"])/sxx ) )"
   ]
  },
  {
   "cell_type": "markdown",
   "id": "banner-start",
   "metadata": {},
   "source": [
    "以上から、$11.77 \\pm 7.83$と、$0.43\\pm0.23$がそれぞれ$a_0$と$a_1$の両側95%信頼区間である。"
   ]
  },
  {
   "cell_type": "markdown",
   "id": "blessed-gather",
   "metadata": {},
   "source": [
    "# §10. 予測値の区間推定"
   ]
  },
  {
   "cell_type": "code",
   "execution_count": 29,
   "id": "challenging-passing",
   "metadata": {},
   "outputs": [],
   "source": [
    "import pandas as pd\n",
    "import numpy as np\n",
    "\n",
    "df_5 = pd.DataFrame( {\n",
    "    \"y\" : [22, 36, 24, 22, 27, 29, 26, 23, 31, 24, 23, 27, 31, 25, 23],\n",
    "    \"x1\" : [28, 46, 39, 25, 34, 29, 38, 23, 42, 27, 35, 39, 38, 32, 25],\n",
    "    \"x2\" : [146, 169, 160, 156, 161, 168, 154, 153, 160, 152, 155, 154, 157, 162, 142],\n",
    "    \"x3\" : [34, 57, 48, 38, 47, 50, 54, 40, 62, 39, 46, 54, 57, 53, 32],\n",
    "})"
   ]
  },
  {
   "cell_type": "markdown",
   "id": "abandoned-disposal",
   "metadata": {},
   "source": [
    "(1) 握力が30kgであるような生徒のボール投げの期待値$E(y)$の95%信頼区間"
   ]
  },
  {
   "cell_type": "markdown",
   "id": "limiting-italy",
   "metadata": {},
   "source": [
    "まず単回帰分析の問題と同様、データを説明する直線 $y=a_0 + a_1 x$のパラメータの値を求める。"
   ]
  },
  {
   "cell_type": "code",
   "execution_count": 30,
   "id": "suburban-hollow",
   "metadata": {},
   "outputs": [],
   "source": [
    "from sklearn.linear_model import LinearRegression\n",
    "\n",
    "slr = LinearRegression()\n",
    "slr.fit(df[[\"x1\"]], df[\"y\"])\n",
    "\n",
    "a_hat_1 = slr.coef_[0]\n",
    "a_hat_0 = slr.intercept_"
   ]
  },
  {
   "cell_type": "code",
   "execution_count": 31,
   "id": "annoying-elder",
   "metadata": {},
   "outputs": [],
   "source": [
    "n = len(df[\"x1\"])\n",
    "syy = df[\"y\"].var()\n",
    "sxx = df[\"x1\"].var()\n",
    "sxy = df[[\"x1\", \"y\"]].cov().iloc[0,1]\n",
    "ve = n * ( syy - sxy**2/sxx) / (n-2)"
   ]
  },
  {
   "cell_type": "markdown",
   "id": "representative-investigation",
   "metadata": {},
   "source": [
    "$x_0=30$ のときの期待値の95%信頼区間は"
   ]
  },
  {
   "cell_type": "code",
   "execution_count": 32,
   "id": "derived-puzzle",
   "metadata": {},
   "outputs": [
    {
     "name": "stdout",
     "output_type": "stream",
     "text": [
      "(26.53749630393576, 22.976006631484978)\n"
     ]
    }
   ],
   "source": [
    "from scipy.stats import t as student\n",
    "\n",
    "def e_y_ci(x0):\n",
    "    low = a_hat_0 + a_hat_1 * x0 - student.ppf(0.025, n-2) * np.sqrt( ( 1/n + (x0 - df[\"x1\"].mean() )**2/n/sxx ) * ve ) \n",
    "    high = a_hat_0 + a_hat_1 * x0 + student.ppf(0.025, n-2) * np.sqrt( ( 1/n + (x0 - df[\"x1\"].mean() )**2/n/sxx ) * ve )\n",
    "    \n",
    "    return low, high\n",
    "\n",
    "print(e_y_ci(30))"
   ]
  },
  {
   "cell_type": "markdown",
   "id": "similar-smart",
   "metadata": {},
   "source": [
    "$x_0$ がある値のときの$y$の95%信頼区間は"
   ]
  },
  {
   "cell_type": "code",
   "execution_count": 33,
   "id": "valued-contribution",
   "metadata": {},
   "outputs": [],
   "source": [
    "def y_ci(x0):\n",
    "    low = a_hat_0 + a_hat_1 * x0 - student.ppf(0.025, n-2) * np.sqrt( ( 1 + 1/n + (x0 - df[\"x1\"].mean() )**2/n/sxx ) * ve ) \n",
    "    high = a_hat_0 + a_hat_1 * x0 + student.ppf(0.025, n-2) * np.sqrt( ( 1 + 1/n + (x0 - df[\"x1\"].mean() )**2/n/sxx ) * ve )\n",
    "    \n",
    "    return low, high"
   ]
  },
  {
   "cell_type": "code",
   "execution_count": 34,
   "id": "egyptian-office",
   "metadata": {},
   "outputs": [
    {
     "data": {
      "image/png": "[encoded data removed]",
      "text/plain": [
       "<Figure size 432x288 with 1 Axes>"
      ]
     },
     "metadata": {
      "needs_background": "light"
     },
     "output_type": "display_data"
    }
   ],
   "source": [
    "plt.rcParams['font.family'] = 'IPAexGothic'\n",
    "\n",
    "fig, axes = plt.subplots()\n",
    "df.plot(x=\"x1\", y=\"y\", kind=\"scatter\", ax=axes, marker='o', color=\"black\", s=25)\n",
    "\n",
    "x_data = np.linspace(15, 50, 100)\n",
    "axes.fill_between(x_data, e_y_ci(x_data)[0], e_y_ci(x_data)[1], alpha=0.2, color=\"blue\", label=\"E[y] 95%CI\")\n",
    "\n",
    "axes.fill_between(x_data, y_ci(x_data)[0], y_ci(x_data)[1], alpha=0.2, color=\"yellow\", label=\"y 95%CI\")\n",
    "\n",
    "axes.set_xlabel(\"x (握力) [kg]\", fontsize=15)\n",
    "axes.set_ylabel(\"y (ボール投げ) [m]\", fontsize=15)\n",
    "\n",
    "axes.set_xlim(15,50)\n",
    "axes.set_ylim(10,40)\n",
    "\n",
    "axes.grid(ls='--')\n",
    "\n",
    "axes.legend(loc=\"best\")\n",
    "\n",
    "fig.tight_layout()"
   ]
  }
 ],
 "metadata": {
  "kernelspec": {
   "display_name": "Python 3",
   "language": "python",
   "name": "python3"
  },
  "language_info": {
   "codemirror_mode": {
    "name": "ipython",
    "version": 3
   },
   "file_extension": ".py",
   "mimetype": "text/x-python",
   "name": "python",
   "nbconvert_exporter": "python",
   "pygments_lexer": "ipython3",
   "version": "3.7.3"
  },
  "toc": {
   "base_numbering": 1,
   "nav_menu": {},
   "number_sections": false,
   "sideBar": true,
   "skip_h1_title": false,
   "title_cell": "Table of Contents",
   "title_sidebar": "Contents",
   "toc_cell": true,
   "toc_position": {
    "height": "calc(100% - 180px)",
    "left": "10px",
    "top": "150px",
    "width": "165px"
   },
   "toc_section_display": true,
   "toc_window_display": true
  }
 },
 "nbformat": 4,
 "nbformat_minor": 5
}
