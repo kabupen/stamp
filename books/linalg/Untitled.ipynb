{
 "cells": [
  {
   "cell_type": "markdown",
   "id": "classical-shoulder",
   "metadata": {
    "toc": true
   },
   "source": [
    "<h1>Table of Contents<span class=\"tocSkip\"></span></h1>\n",
    "<div class=\"toc\"><ul class=\"toc-item\"><li><span><a href=\"#固有値、固有ベクトル\" data-toc-modified-id=\"固有値、固有ベクトル-1\">固有値、固有ベクトル</a></span></li></ul></div>"
   ]
  },
  {
   "cell_type": "markdown",
   "id": "blond-animal",
   "metadata": {},
   "source": [
    "# 固有値、固有ベクトル\n",
    "\n",
    "$n\\times n$ 行列 $A$ に対して、$\\lambda$ が\n",
    "\n",
    "$$\n",
    "Ax = \\lambda x\n",
    "$$\n",
    "\n",
    "を満たすとき、$A$ の固有値とよび、また$x$ を固有ベクトルと呼ぶ。$A$ を変換行列とみなすと、変換しても方向が変わらず、$\\lambda$ 倍の伸び縮だけする性質をもったものが固有ベクトルであり、その伸縮率が固有値である。"
   ]
  },
  {
   "cell_type": "code",
   "execution_count": null,
   "id": "offshore-loading",
   "metadata": {},
   "outputs": [],
   "source": []
  }
 ],
 "metadata": {
  "kernelspec": {
   "display_name": "Python 3",
   "language": "python",
   "name": "python3"
  },
  "language_info": {
   "codemirror_mode": {
    "name": "ipython",
    "version": 3
   },
   "file_extension": ".py",
   "mimetype": "text/x-python",
   "name": "python",
   "nbconvert_exporter": "python",
   "pygments_lexer": "ipython3",
   "version": "3.7.3"
  },
  "toc": {
   "base_numbering": 1,
   "nav_menu": {},
   "number_sections": false,
   "sideBar": true,
   "skip_h1_title": false,
   "title_cell": "Table of Contents",
   "title_sidebar": "Contents",
   "toc_cell": true,
   "toc_position": {},
   "toc_section_display": true,
   "toc_window_display": true
  }
 },
 "nbformat": 4,
 "nbformat_minor": 5
}
