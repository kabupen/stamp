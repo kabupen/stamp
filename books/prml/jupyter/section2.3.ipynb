{
 "cells": [
  {
   "cell_type": "markdown",
   "id": "legendary-norfolk",
   "metadata": {
    "toc": true
   },
   "source": [
    "<h1>Table of Contents<span class=\"tocSkip\"></span></h1>\n",
    "<div class=\"toc\"><ul class=\"toc-item\"><li><span><a href=\"#多変量ガウス分布\" data-toc-modified-id=\"多変量ガウス分布-1\">多変量ガウス分布</a></span></li><li><span><a href=\"#固有ベクトルについて\" data-toc-modified-id=\"固有ベクトルについて-2\">固有ベクトルについて</a></span></li></ul></div>"
   ]
  },
  {
   "cell_type": "markdown",
   "id": "distinct-librarian",
   "metadata": {},
   "source": [
    "# 多変量ガウス分布\n",
    "\n",
    "$D$ 次元ガウス分布は以下のように表式される：\n",
    "\n",
    "$$\n",
    "\\mathcal{N}(x|\\mu, \\Sigma) = \\frac{1}{(2\\pi)^{D/2}}\\frac{1}{|\\Sigma|^{1/2}} \\exp \\left[ -\\frac{1}{2}(x-\\mu)^T \\Sigma^{-1}(x-\\mu) \\right]\n",
    "$$\n",
    "\n",
    "ここで、$\\mu$ は $D$ 次元平均ベクトル、$\\Sigma$ は $D\\times D$の共分散行列である。\n",
    "\n",
    "指数部分に現れる二次形式はマハラノビス距離と呼ばれる量であり、\n",
    "\n",
    "$$\n",
    "\\Delta^2 = (x-\\mu)^T \\Sigma^{-1}(x-\\mu)\n",
    "$$\n",
    "\n",
    "と書くことにする。多変量ガウス分布は指数部分にのみ変数を持ち（一変数ガウス分布と同じ）、そのためマハラノビス距離が同じ範囲のガウス分布の密度が一定となる。\n",
    "\n",
    "ここで共分散行列に対する固有ベクトルの方程式を考えると：\n",
    "\n",
    "$$\n",
    "\\Sigma u_i = \\lambda_i u_i\n",
    "$$"
   ]
  },
  {
   "cell_type": "markdown",
   "id": "driven-parker",
   "metadata": {},
   "source": [
    "# 固有ベクトルについて"
   ]
  },
  {
   "cell_type": "code",
   "execution_count": null,
   "id": "decent-proceeding",
   "metadata": {},
   "outputs": [],
   "source": []
  }
 ],
 "metadata": {
  "kernelspec": {
   "display_name": "Python 3",
   "language": "python",
   "name": "python3"
  },
  "language_info": {
   "codemirror_mode": {
    "name": "ipython",
    "version": 3
   },
   "file_extension": ".py",
   "mimetype": "text/x-python",
   "name": "python",
   "nbconvert_exporter": "python",
   "pygments_lexer": "ipython3",
   "version": "3.7.3"
  },
  "toc": {
   "base_numbering": 1,
   "nav_menu": {},
   "number_sections": false,
   "sideBar": true,
   "skip_h1_title": false,
   "title_cell": "Table of Contents",
   "title_sidebar": "Contents",
   "toc_cell": true,
   "toc_position": {},
   "toc_section_display": true,
   "toc_window_display": true
  }
 },
 "nbformat": 4,
 "nbformat_minor": 5
}
