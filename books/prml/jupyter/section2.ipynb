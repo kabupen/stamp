{
 "cells": [
  {
   "cell_type": "markdown",
   "id": "packed-finger",
   "metadata": {
    "toc": true
   },
   "source": [
    "<h1>Table of Contents<span class=\"tocSkip\"></span></h1>\n",
    "<div class=\"toc\"><ul class=\"toc-item\"><li><span><a href=\"#確率分布\" data-toc-modified-id=\"確率分布-1\">確率分布</a></span><ul class=\"toc-item\"><li><span><a href=\"#二値変数\" data-toc-modified-id=\"二値変数-1.1\">二値変数</a></span></li><li><span><a href=\"#多値変数\" data-toc-modified-id=\"多値変数-1.2\">多値変数</a></span></li><li><span><a href=\"#ガウス分布\" data-toc-modified-id=\"ガウス分布-1.3\">ガウス分布</a></span><ul class=\"toc-item\"><li><span><a href=\"#条件つきガウス分布\" data-toc-modified-id=\"条件つきガウス分布-1.3.1\">条件つきガウス分布</a></span></li><li><span><a href=\"#逐次推定\" data-toc-modified-id=\"逐次推定-1.3.2\">逐次推定</a></span></li><li><span><a href=\"#ガウス分布に対するベイズ推論\" data-toc-modified-id=\"ガウス分布に対するベイズ推論-1.3.3\">ガウス分布に対するベイズ推論</a></span></li><li><span><a href=\"#スチューデント-t\" data-toc-modified-id=\"スチューデント-t-1.3.4\">スチューデント t</a></span></li><li><span><a href=\"#周期変数\" data-toc-modified-id=\"周期変数-1.3.5\">周期変数</a></span></li><li><span><a href=\"#混合ガウス分布\" data-toc-modified-id=\"混合ガウス分布-1.3.6\">混合ガウス分布</a></span></li></ul></li><li><span><a href=\"#指数型分布族\" data-toc-modified-id=\"指数型分布族-1.4\">指数型分布族</a></span></li><li><span><a href=\"#ノンパラメトリック法\" data-toc-modified-id=\"ノンパラメトリック法-1.5\">ノンパラメトリック法</a></span><ul class=\"toc-item\"><li><span><a href=\"#カーネル密度推定\" data-toc-modified-id=\"カーネル密度推定-1.5.1\">カーネル密度推定</a></span></li><li><span><a href=\"#最近傍法\" data-toc-modified-id=\"最近傍法-1.5.2\">最近傍法</a></span></li></ul></li></ul></li></ul></div>"
   ]
  },
  {
   "cell_type": "markdown",
   "id": "pharmaceutical-helping",
   "metadata": {},
   "source": [
    "# 確率分布\n",
    "## 二値変数\n",
    "\n",
    "## 多値変数\n",
    "\n",
    "## ガウス分布\n",
    "### 条件つきガウス分布\n",
    "### 逐次推定\n",
    "### ガウス分布に対するベイズ推論\n",
    "\n",
    "8.1.4で議論する線形が薄モデルの例。\n",
    "\n",
    "\n",
    "### ガウス分布の最尤推定\n",
    "\n",
    "\n",
    "\n",
    "### スチューデント t \n",
    "### 周期変数\n",
    "### 混合ガウス分布\n",
    "\n",
    "Gaussian Mixture Model (GMM) と呼ばれる。ガウス分布は極値がひとつしかないので、複雑な分布を表すことができない。\n",
    "そこでガウス分布を組み合わせることで（線形に結合することで）、多峰性をもたせることができる。\n",
    "クラスタリングなどに利用される。\n",
    "\n",
    "しかし混合ガウス分布の推定量を解析的に求めることはできない。そこでEMアルゴリズムという（9章）手法を用いてフィットを行うことができるらしい。\n",
    "\n",
    "\n",
    "## 指数型分布族\n",
    "\n",
    "## ノンパラメトリック法\n",
    "### カーネル密度推定\n",
    "### 最近傍法"
   ]
  },
  {
   "cell_type": "code",
   "execution_count": null,
   "id": "sudden-potato",
   "metadata": {},
   "outputs": [],
   "source": []
  }
 ],
 "metadata": {
  "kernelspec": {
   "display_name": "Python 3",
   "language": "python",
   "name": "python3"
  },
  "language_info": {
   "codemirror_mode": {
    "name": "ipython",
    "version": 3
   },
   "file_extension": ".py",
   "mimetype": "text/x-python",
   "name": "python",
   "nbconvert_exporter": "python",
   "pygments_lexer": "ipython3",
   "version": "3.7.3"
  },
  "toc": {
   "base_numbering": 1,
   "nav_menu": {},
   "number_sections": false,
   "sideBar": true,
   "skip_h1_title": false,
   "title_cell": "Table of Contents",
   "title_sidebar": "Contents",
   "toc_cell": true,
   "toc_position": {},
   "toc_section_display": true,
   "toc_window_display": true
  }
 },
 "nbformat": 4,
 "nbformat_minor": 5
}
