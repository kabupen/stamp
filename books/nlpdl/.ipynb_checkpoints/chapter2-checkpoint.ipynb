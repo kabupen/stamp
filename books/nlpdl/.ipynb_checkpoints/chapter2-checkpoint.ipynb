{
 "cells": [
  {
   "cell_type": "markdown",
   "id": "c5f546ea-c3bd-4197-bbeb-a272be9b8d4d",
   "metadata": {},
   "source": [
    "# § 2.1 教師あり学習"
   ]
  },
  {
   "cell_type": "markdown",
   "id": "2dcc22f2-8da4-477c-a2c8-415f93f16608",
   "metadata": {},
   "source": [
    "## 用語の定義\n",
    "\n",
    "### 損失関数\n",
    "\n",
    "ある $i$ 番目の訓練データに対して正解ラベルとの誤差を表す関数。問題設定によって、どんな形の損失関数を使用するかは異なってくる（適宜最適な関数を選択する）。\n",
    "\n",
    "- 交差エントロピー損失\n",
    "\n",
    "$$\n",
    "\\ell_{\\theta}\\left( \\boldsymbol{x}^{(i)}, y^{(i)} \\right) = - \\ln \\frac{\\exp \\left( f_\\theta \\left(\\boldsymbol{x}^{(i)}, y^{(i)} \\right) \\right)}{ \\sum_{y \\in \\mathcal{Y}} \\exp \\left( f_\\theta \\left( \\boldsymbol{x}^{(i)}, y^{(i)} \\right)\\right) }\n",
    "$$\n",
    "\n",
    "\n",
    "### 目的関数\n",
    "\n",
    "$D$個の訓練データ $(\\boldsymbol{x}^{(i)}, y^{(i)})~~(i=1,2,..,D)$  に対して、損失関数 $\\ell_\\theta$ をサンプル数で平均をとったもの\n",
    "\n",
    "$$\n",
    "L(\\theta) = \\frac{1}{D} \\sum_{i=1}^D \\ell_\\theta \\left( \\boldsymbol{x}^{(i)}, y^{(i)} \\right)\n",
    "$$\n",
    " \n"
   ]
  },
  {
   "cell_type": "markdown",
   "id": "4d8d2467-b32e-434e-bbb3-c5bb44964fbb",
   "metadata": {},
   "source": [
    "# §2.4 勾配法\n",
    "\n",
    "ネットワークの学習は目的関数の最小化を達成するパラメータ $\\theta$ を計算すること。\n",
    "関数を最小化するために最適化アルゴリズム (optimizer) を使用することができ、勾配法（gradient method）もその一つである。\n",
    "\n",
    "勾配法ではステップ $k$ におけるパラメータは以下の様に更新される：\n",
    "\n",
    "$$\n",
    "\\boldsymbol{\\theta}^{(k+1)} = \\boldsymbol{\\theta}^{(k)} - \\eta~\\partial L \\left(\\boldsymbol{\\theta}^{(k)} \\right)\n",
    "$$\n",
    "\n",
    "\n",
    "## バッチ法\n",
    "\n",
    "今$D$個の訓練データがあるとすると、一つのデータセット $(\\boldsymbol{x}^{(i)}, y^{(i)})$ に対して、一つの損失関数が計算できている状態になる。\n",
    "式(2.1)の定義に従って目的関数を定義して勾配法を用いると、1回のパラメータ更新に $D$ 個全てのデータを用いることとなる。\n",
    "これをバッチ法と呼ぶ。\n",
    "\n",
    "バッチ法で計算する目的関数の偏微分は\n",
    "$$\n",
    "\\frac{\\partial}{\\partial\\theta} L(\\theta) = \\frac{1}{D} \\sum_{i=1}^D \\frac{\\partial}{\\partial \\theta} \\ell_\\theta \\left( \\boldsymbol{x}^{(i)}, y^{(i)} \\right)\n",
    "$$\n",
    "\n",
    "であり、損失関数の偏微分の計算を各データに対して行い、それらの平均を用いてパラメータを更新する。\n",
    "バッチ法では全てのデータを処理し終わる（=損失関数から偏微分を計算する）まで、パラメータの更新は行わない。\n",
    "そのため大規模データを処理する場合は、一回のパラメータ更新に時間が掛かり過ぎるという問題がある。\n",
    "\n",
    "## オンライン学習 (確率的勾配法)\n",
    "\n",
    "一つのデータセットに対して勾配を計算し、重みを更新する。今の例だと $D$ 個のデータがあるので、$D$回の重みの更新が実行される。\n",
    "\n",
    "## ミニバッチ法 (確率的勾配法)\n",
    "\n",
    "全てのデータを入力して勾配を計算してから重みを更新するというバッチ法と、オンライン学習の折衷案としてミニバッチ法が提案された。\n",
    "$D$ 個のデータから無作為に $B$ 個のデータを取り出す。\n",
    "（割り切れるとして） $D/B$ 個のミニバッチを作ることになり、一つのミニバッチ内のデータを全て使用して勾配を計算し重みの更新を行う。\n",
    "それを残りのミニバッチ回分行い、全ての重みの更新が終わる単位を 1 エポックと呼ぶ。\n",
    "\n",
    "ミニバッチの選び方は毎エポックごとにランダムに選ぶ必要があり、そこを捉えて確率的勾配法と呼んでいる世の中のポエムは多い。"
   ]
  },
  {
   "cell_type": "markdown",
   "id": "9c4c62ae-a4d5-438f-b08a-830bdc7e6a0f",
   "metadata": {},
   "source": [
    "# § 2.5 誤差逆伝播法"
   ]
  },
  {
   "cell_type": "code",
   "execution_count": 3,
   "id": "5cc5feb1-3359-47f7-b94a-b62683f7e4c3",
   "metadata": {},
   "outputs": [],
   "source": [
    "import matplotlib.pyplot as plt\n",
    "import tensorflow as tf"
   ]
  },
  {
   "cell_type": "code",
   "execution_count": 23,
   "id": "8761592c-69b6-4d70-9bd4-09bf77697682",
   "metadata": {},
   "outputs": [
    {
     "data": {
      "image/png": "[encoded data removed]",
      "text/plain": [
       "<Figure size 720x288 with 2 Axes>"
      ]
     },
     "metadata": {
      "needs_background": "light"
     },
     "output_type": "display_data"
    }
   ],
   "source": [
    "def equation(x):\n",
    "    return x**3\n",
    "\n",
    "x = tf.Variable(tf.range(-4.0, 4.0, 0.001), trainable=True)\n",
    "\n",
    "# 計算式に対して勾配計算をするとマーキングする\n",
    "with tf.GradientTape() as tape:\n",
    "    # どんな関数を勾配計算させるかを宣言する\n",
    "    # 試しに作ったequationメソッドから方程式を生成\n",
    "    y = equation(x)\n",
    "    \n",
    "g = tape.gradient(y, x)\n",
    "\n",
    "fig = plt.figure(figsize=(10,4))\n",
    "\n",
    "ax = fig.add_subplot(1,2,1)\n",
    "ax.plot(x.numpy(), y.numpy())\n",
    "\n",
    "ax = fig.add_subplot(1,2,2)\n",
    "ax.plot(x.numpy(), g.numpy())\n",
    "\n",
    "plt.tight_layout()\n",
    "plt.show()"
   ]
  },
  {
   "cell_type": "markdown",
   "id": "238552ff-9abb-4717-abdb-e3d009f6cc3a",
   "metadata": {},
   "source": [
    "# § 2.6 再帰ニューラルネットワーク"
   ]
  },
  {
   "cell_type": "code",
   "execution_count": null,
   "id": "ae5e741f-9ca2-4d3e-8f73-ba7acf5413ee",
   "metadata": {},
   "outputs": [],
   "source": []
  }
 ],
 "metadata": {
  "kernelspec": {
   "display_name": "Python 3",
   "language": "python",
   "name": "python3"
  },
  "language_info": {
   "codemirror_mode": {
    "name": "ipython",
    "version": 3
   },
   "file_extension": ".py",
   "mimetype": "text/x-python",
   "name": "python",
   "nbconvert_exporter": "python",
   "pygments_lexer": "ipython3",
   "version": "3.7.3"
  }
 },
 "nbformat": 4,
 "nbformat_minor": 5
}
