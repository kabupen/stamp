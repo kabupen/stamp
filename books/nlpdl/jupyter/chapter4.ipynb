{
 "cells": [
  {
   "cell_type": "markdown",
   "id": "natural-magazine",
   "metadata": {
    "toc": true
   },
   "source": [
    "<h1>Table of Contents<span class=\"tocSkip\"></span></h1>\n",
    "<div class=\"toc\"><ul class=\"toc-item\"><li><span><a href=\"#注意機構\" data-toc-modified-id=\"注意機構-1\">注意機構</a></span><ul class=\"toc-item\"><li><span><a href=\"#ソフト注意機構-(soft-attention-mechanism)\" data-toc-modified-id=\"ソフト注意機構-(soft-attention-mechanism)-1.1\">ソフト注意機構 (soft attention mechanism)</a></span></li><li><span><a href=\"#階層的ソフトマックス\" data-toc-modified-id=\"階層的ソフトマックス-1.2\">階層的ソフトマックス</a></span><ul class=\"toc-item\"><li><span><a href=\"#ソフトマックス関数\" data-toc-modified-id=\"ソフトマックス関数-1.2.1\">ソフトマックス関数</a></span></li></ul></li></ul></li></ul></div>"
   ]
  },
  {
   "cell_type": "markdown",
   "id": "aerial-wednesday",
   "metadata": {},
   "source": [
    "# 注意機構"
   ]
  },
  {
   "cell_type": "markdown",
   "id": "comfortable-casting",
   "metadata": {},
   "source": [
    "## ソフト注意機構 (soft attention mechanism)\n",
    "\n",
    "Chapter3で学習した通常の系列変換モデルでは、最後の状態出力 $h_I^{(s)}$ だけを用いて復号化を行う。符号化の際には、以下のように再帰的に全ての情報を扱っている：\n",
    "\n",
    "$$\n",
    "h_i^{(s)} = \\Psi^{(s)}\\left( x_i, h_{i-1}^{(s)} \\right)\n",
    "$$\n",
    "\n",
    "なので $h_I^{(s)}$ さえ見ておけば、全ての入力情報を考慮していることになるだろう、という発想。しかし、直接的に各符号化層の隠れ状態ベクトルを参照する方法はないか？というのが注意機構。\n",
    "\n",
    "$$\n",
    "\\bar{h} = \\sum_{i=1}^I a_i h_i^{(s)}\n",
    "$$\n",
    "\n",
    "という情報を使って、\n",
    "\n",
    "$$\n",
    "\\hat{h} = \\tanh \\left( W^{(a)} [\\bar{h}, h_j^{(t)}] \\right)\n",
    "$$\n",
    "\n",
    "を計算する。\n",
    "\n",
    "復号化層の出力に、符号化層の各隠れ状態ベクトルの重み平均を使用することで、より直接的に入力の情報を扱えることができる。\n",
    "\n",
    "$N$ 個の参照したい情報 $Y=\\{y_1,...,y_N\\}$ に対して、それぞれの重要度（or いずれかが選択される確率）である $\\{a_1,...,a_N \\}$ を計算する。\n",
    "$a_i$ の計算には $c_i$ という情報を用いる。この $c_i$ は例えば符号化・復号化層の隠れ状態ベクトルを指す。\n",
    "\n",
    "$$\n",
    "a_i = \\frac{\\exp (\\Omega(c_i))}{\\sum\\exp(\\Omega(c_i))}\n",
    "$$\n",
    "\n",
    "これを用いることで参照したい情報の平均を\n",
    "\n",
    "$$\n",
    "\\hat{y} = \\sum a_i y_i\n",
    "$$\n",
    "\n",
    "と計算できる。\n",
    "\n",
    "\n",
    "\n",
    "## ハード注意機構\n",
    "\n",
    "\n",
    "\n"
   ]
  },
  {
   "cell_type": "markdown",
   "id": "important-shield",
   "metadata": {},
   "source": [
    "## 階層的ソフトマックス\n",
    "\n",
    "### ソフトマックス関数\n",
    "\n",
    "$$\n",
    "\\mathrm{softmax} = \\frac{\\exp(a_k)}{\\sum_j \\exp(a_j)}\n",
    "$$"
   ]
  },
  {
   "cell_type": "code",
   "execution_count": null,
   "id": "aggregate-ground",
   "metadata": {},
   "outputs": [],
   "source": []
  }
 ],
 "metadata": {
  "kernelspec": {
   "display_name": "Python 3",
   "language": "python",
   "name": "python3"
  },
  "language_info": {
   "codemirror_mode": {
    "name": "ipython",
    "version": 3
   },
   "file_extension": ".py",
   "mimetype": "text/x-python",
   "name": "python",
   "nbconvert_exporter": "python",
   "pygments_lexer": "ipython3",
   "version": "3.7.3"
  },
  "toc": {
   "base_numbering": 1,
   "nav_menu": {},
   "number_sections": false,
   "sideBar": true,
   "skip_h1_title": false,
   "title_cell": "Table of Contents",
   "title_sidebar": "Contents",
   "toc_cell": true,
   "toc_position": {},
   "toc_section_display": true,
   "toc_window_display": true
  }
 },
 "nbformat": 4,
 "nbformat_minor": 5
}
