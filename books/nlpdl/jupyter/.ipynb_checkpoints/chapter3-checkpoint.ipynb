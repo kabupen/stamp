{
 "cells": [
  {
   "cell_type": "markdown",
   "id": "nominated-utility",
   "metadata": {
    "toc": true
   },
   "source": [
    "<h1>Table of Contents<span class=\"tocSkip\"></span></h1>\n",
    "<div class=\"toc\"><ul class=\"toc-item\"><li><span><a href=\"#順部\" data-toc-modified-id=\"順部-1\">順部</a></span><ul class=\"toc-item\"><li><span><a href=\"#ソフトマックス関数\" data-toc-modified-id=\"ソフトマックス関数-1.1\">ソフトマックス関数</a></span></li><li><span><a href=\"#one-hot-ベクトル\" data-toc-modified-id=\"one-hot-ベクトル-1.2\">one-hot ベクトル</a></span></li></ul></li><li><span><a href=\"#§3.2-言語モデル\" data-toc-modified-id=\"§3.2-言語モデル-2\">§3.2 言語モデル</a></span></li><li><span><a href=\"#§3.3-分散表現\" data-toc-modified-id=\"§3.3-分散表現-3\">§3.3 分散表現</a></span><ul class=\"toc-item\"><li><span><a href=\"#分散表現\" data-toc-modified-id=\"分散表現-3.1\">分散表現</a></span></li><li><span><a href=\"#モデル構造\" data-toc-modified-id=\"モデル構造-3.2\">モデル構造</a></span><ul class=\"toc-item\"><li><span><a href=\"#符号化器埋め込み層\" data-toc-modified-id=\"符号化器埋め込み層-3.2.1\">符号化器埋め込み層</a></span></li><li><span><a href=\"#符号化器再帰層\" data-toc-modified-id=\"符号化器再帰層-3.2.2\">符号化器再帰層</a></span></li><li><span><a href=\"#復号化器埋め込み層\" data-toc-modified-id=\"復号化器埋め込み層-3.2.3\">復号化器埋め込み層</a></span></li><li><span><a href=\"#復号化器再帰層\" data-toc-modified-id=\"復号化器再帰層-3.2.4\">復号化器再帰層</a></span></li><li><span><a href=\"#復号化器出力層\" data-toc-modified-id=\"復号化器出力層-3.2.5\">復号化器出力層</a></span></li></ul></li></ul></li></ul></div>"
   ]
  },
  {
   "cell_type": "markdown",
   "id": "metropolitan-absorption",
   "metadata": {},
   "source": [
    "# 順部"
   ]
  },
  {
   "cell_type": "markdown",
   "id": "headed-finish",
   "metadata": {},
   "source": [
    "## ソフトマックス関数\n",
    "\n",
    "\n",
    "\n",
    "## one-hot ベクトル\n",
    "\n",
    "$x$ が D次元のベクトルで、$\\sum x_d = 1$ を満たすとき（ひとつの要素だけが1）、one-hot ベクトルという。"
   ]
  },
  {
   "cell_type": "markdown",
   "id": "small-impossible",
   "metadata": {},
   "source": []
  },
  {
   "cell_type": "markdown",
   "id": "logical-watson",
   "metadata": {},
   "source": [
    "# §3.2 言語モデル"
   ]
  },
  {
   "cell_type": "markdown",
   "id": "hawaiian-proposition",
   "metadata": {},
   "source": [
    "## 概要\n",
    "\n",
    "- BOS (Beginning of sentence)\n",
    "- EOS (End of sentence)\n",
    "\n"
   ]
  },
  {
   "cell_type": "markdown",
   "id": "macro-command",
   "metadata": {},
   "source": [
    "# §3.3 分散表現\n",
    "\n",
    "自然言語には物理的法則がない（人間が恣意的に決めたもの）ので、類似性や関連性を直接計算することが難しいという問題がある。\n",
    "\n",
    "## 分散表現\n",
    "\n",
    "任意の離散オブジェクト集合 $\\mathcal{V}$ に対して、各離散オブジェクト $v \\in \\mathcal{V}$ にそれぞれD次元ベクトルを割り当てて、離散オブジェクトをD次元ベクトルで表現したもの。"
   ]
  },
  {
   "cell_type": "markdown",
   "id": "blond-schema",
   "metadata": {},
   "source": [
    "## モデル構造\n",
    "\n",
    "### 符号化器埋め込み層\n",
    "\n",
    "入力分の各単語をベクトル表現に変換するための層。\n",
    "\n",
    "$$\n",
    "\\bar{x}_i = E^{s}x_i\n",
    "$$\n",
    "\n",
    "ここで $E$ は埋め込み行列。one-hot ベクトル $x_i$ から埋め込みベクトルを取得する方法である。\n",
    "\n",
    "### 符号化器再帰層\n",
    "\n",
    "$$\n",
    "h_i^{(s)} = \\Psi^{(s)} (\\bar{x}_i, h_{i-1}^{(s)})\n",
    "$$\n",
    "\n",
    "一つ前の層と現在の埋め込みベクトルを活性化関数で処理する。\n",
    "よく使用される関数は tanh 関数。\n",
    "\n",
    "\n",
    "\n",
    "### 復号化器埋め込み層\n",
    "\n",
    "### 復号化器再帰層\n",
    "\n",
    "### 復号化器出力層\n",
    "\n"
   ]
  },
  {
   "cell_type": "code",
   "execution_count": null,
   "id": "dynamic-spell",
   "metadata": {},
   "outputs": [],
   "source": []
  }
 ],
 "metadata": {
  "kernelspec": {
   "display_name": "Python 3",
   "language": "python",
   "name": "python3"
  },
  "language_info": {
   "codemirror_mode": {
    "name": "ipython",
    "version": 3
   },
   "file_extension": ".py",
   "mimetype": "text/x-python",
   "name": "python",
   "nbconvert_exporter": "python",
   "pygments_lexer": "ipython3",
   "version": "3.7.3"
  },
  "toc": {
   "base_numbering": 1,
   "nav_menu": {},
   "number_sections": false,
   "sideBar": true,
   "skip_h1_title": false,
   "title_cell": "Table of Contents",
   "title_sidebar": "Contents",
   "toc_cell": true,
   "toc_position": {},
   "toc_section_display": true,
   "toc_window_display": true
  }
 },
 "nbformat": 4,
 "nbformat_minor": 5
}
