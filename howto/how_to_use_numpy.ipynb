{
 "cells": [
  {
   "cell_type": "markdown",
   "id": "scenic-batch",
   "metadata": {},
   "source": [
    "# Numpy"
   ]
  },
  {
   "cell_type": "code",
   "execution_count": 2,
   "id": "ordinary-pregnancy",
   "metadata": {},
   "outputs": [],
   "source": [
    "import numpy as np"
   ]
  },
  {
   "cell_type": "markdown",
   "id": "referenced-sensitivity",
   "metadata": {},
   "source": [
    "## 簡単な計算"
   ]
  },
  {
   "cell_type": "code",
   "execution_count": 3,
   "id": "noble-inspector",
   "metadata": {},
   "outputs": [
    {
     "data": {
      "text/plain": [
       "array([[1, 2, 3],\n",
       "       [4, 5, 6]])"
      ]
     },
     "execution_count": 3,
     "metadata": {},
     "output_type": "execute_result"
    }
   ],
   "source": [
    "ary = np.array([\n",
    "    [1, 2, 3],\n",
    "    [4, 5, 6]])\n",
    "ary"
   ]
  },
  {
   "cell_type": "code",
   "execution_count": 4,
   "id": "crazy-peninsula",
   "metadata": {
    "scrolled": true
   },
   "outputs": [
    {
     "name": "stdout",
     "output_type": "stream",
     "text": [
      "次元数： 2\n",
      "要素数： 6\n",
      "行列： (2, 3)\n",
      "行： 2\n",
      "列： 3\n"
     ]
    }
   ],
   "source": [
    "print(\"次元数：\", ary.ndim)\n",
    "print(\"要素数：\", ary.size)\n",
    "print(\"行列：\"   , ary.shape)\n",
    "print(\"行：\"      , ary.shape[0])\n",
    "print(\"列：\"      , ary.shape[1])"
   ]
  },
  {
   "cell_type": "markdown",
   "id": "fifteen-piece",
   "metadata": {},
   "source": [
    "行列のドット積（単なる積）も定義することができる。"
   ]
  },
  {
   "cell_type": "code",
   "execution_count": 9,
   "id": "acoustic-nashville",
   "metadata": {},
   "outputs": [
    {
     "data": {
      "text/plain": [
       "array([[ 50,  68],\n",
       "       [122, 167]])"
      ]
     },
     "execution_count": 9,
     "metadata": {},
     "output_type": "execute_result"
    }
   ],
   "source": [
    "matrix1 = np.array([\n",
    "    [1, 2, 3],\n",
    "    [4, 5, 6]])\n",
    "\n",
    "matrix2 = np.array([\n",
    "    [7, 8, 9],\n",
    "    [10, 11, 12]])\n",
    "\n",
    "np.dot(matrix1, matrix2.T)\n",
    "\n",
    "# 2×3行列と2×3行列の積は、計算できない（行列の計算と同じ）\n",
    "# np.dot(matrix1, matrix2) "
   ]
  },
  {
   "cell_type": "markdown",
   "id": "institutional-coffee",
   "metadata": {},
   "source": [
    "もちろんベクトルのドット積も定義することができ、それは通常の通り要素の二乗和になる。"
   ]
  },
  {
   "cell_type": "code",
   "execution_count": 10,
   "id": "abstract-lotus",
   "metadata": {},
   "outputs": [
    {
     "data": {
      "text/plain": [
       "30"
      ]
     },
     "execution_count": 10,
     "metadata": {},
     "output_type": "execute_result"
    }
   ],
   "source": [
    "row_vector = np.array([1,2,3,4])\n",
    "np.dot(row_vector.T, row_vector)"
   ]
  },
  {
   "cell_type": "code",
   "execution_count": 11,
   "id": "passing-anxiety",
   "metadata": {},
   "outputs": [
    {
     "data": {
      "text/plain": [
       "array([[-1.0856306 ,  0.99734545],\n",
       "       [ 0.2829785 , -1.50629471],\n",
       "       [-0.57860025,  1.65143654],\n",
       "       [-2.42667924, -0.42891263],\n",
       "       [ 1.26593626, -0.8667404 ]])"
      ]
     },
     "execution_count": 11,
     "metadata": {},
     "output_type": "execute_result"
    }
   ],
   "source": [
    "np.random.seed(123)\n",
    "ary = np.array(np.random.randn(5,2))\n",
    "ary"
   ]
  },
  {
   "cell_type": "markdown",
   "id": "intermediate-playback",
   "metadata": {},
   "source": [
    "## Reshaping Arrays "
   ]
  },
  {
   "cell_type": "markdown",
   "id": "effective-chicago",
   "metadata": {},
   "source": [
    "1次元の配列を行列に変換する。また行or列のどちらかを指定すれば片方も決定するので、引数に与える数字も片方だけでよい。その場合は-1を与える。"
   ]
  },
  {
   "cell_type": "code",
   "execution_count": null,
   "id": "circular-fellow",
   "metadata": {},
   "outputs": [],
   "source": [
    "ary1d = np.array([1,2,3,4,5,6])\n",
    "ary1d.reshape(2,3)"
   ]
  },
  {
   "cell_type": "code",
   "execution_count": null,
   "id": "formal-respect",
   "metadata": {},
   "outputs": [],
   "source": [
    "ary1d.reshape(2,-1)"
   ]
  },
  {
   "cell_type": "code",
   "execution_count": null,
   "id": "surprised-order",
   "metadata": {},
   "outputs": [],
   "source": [
    "ary1d.reshape(-1,3)"
   ]
  },
  {
   "cell_type": "markdown",
   "id": "liquid-clarity",
   "metadata": {},
   "source": [
    "また2次元の行列をすべて1次元にすることも可能で、`ravel`（解きほぐす）関数を使う。"
   ]
  },
  {
   "cell_type": "code",
   "execution_count": null,
   "id": "native-scenario",
   "metadata": {},
   "outputs": [],
   "source": [
    "ary2d = np.array(\n",
    "    [[1,2,3],\n",
    "    [4,5,6],])\n",
    "ary2d.ravel()"
   ]
  },
  {
   "cell_type": "markdown",
   "id": "computational-prefix",
   "metadata": {},
   "source": [
    "# グリッド"
   ]
  },
  {
   "cell_type": "code",
   "execution_count": null,
   "id": "median-luxembourg",
   "metadata": {},
   "outputs": [],
   "source": [
    "x1 = np.array([1,2,3,4,5])\n",
    "x2 = np.array([6,7,8,9,10])\n",
    "\n",
    "x1_min, x1_max = x1.min(), x1.max()\n",
    "x2_min, x2_max = x2.min(), x2.max()\n",
    "\n",
    "xx1, xx2 = np.meshgrid(\n",
    "    np.arange(x1_min, x1_max, 0.02), # x1_minからx1_maxまで0.02刻みで配列を作る\n",
    "    np.arange(x2_min, x2_max, 0.02), # x2_minからx2_maxまで0.02刻みで配列を作る\n",
    "                      )"
   ]
  },
  {
   "cell_type": "code",
   "execution_count": null,
   "id": "capital-warrior",
   "metadata": {},
   "outputs": [],
   "source": [
    "np.arange(x1_min, x1_max, 0.02),"
   ]
  },
  {
   "cell_type": "markdown",
   "id": "lovely-motel",
   "metadata": {},
   "source": [
    "## その他\n",
    "### クリッピング `clip`"
   ]
  },
  {
   "cell_type": "code",
   "execution_count": null,
   "id": "helpful-romantic",
   "metadata": {},
   "outputs": [],
   "source": [
    "# 第二引数〜第三引数の範囲にまとめるメソッド（ヒストグラムのunderflow bin, overflow bin として捉えれば分かりやすいかな）\n",
    "ary_old = np.array([1,2,3,4,5,6,7])\n",
    "ary_new = np.clip(ary, 2,5)\n",
    "print(ary_old, \"--->\", ary_new)"
   ]
  },
  {
   "cell_type": "markdown",
   "id": "mineral-vatican",
   "metadata": {},
   "source": [
    "### 論理和 `logical_`"
   ]
  },
  {
   "cell_type": "code",
   "execution_count": null,
   "id": "designing-visitor",
   "metadata": {},
   "outputs": [],
   "source": [
    "X_xor = np.random.randn(5,2)\n",
    "print(X_xor)\n",
    "\n",
    "# 両方が正になる場合にTrue（AND）\n",
    "print(np.logical_and(X_xor[:,0]>0, X_xor[:, 1]>0))\n",
    "\n",
    "# 一方が正になる場合にTrue（OR）\n",
    "print(np.logical_or(X_xor[:,0]>0, X_xor[:, 1]>0))\n",
    "\n",
    "# 配列の一方だけが正になる場合をTrueとする（XOR　排他的論理和）\n",
    "print(np.logical_xor(X_xor[:,0]>0, X_xor[:, 1]>0))"
   ]
  },
  {
   "cell_type": "markdown",
   "id": "oriented-excuse",
   "metadata": {},
   "source": [
    "### 平坦化"
   ]
  },
  {
   "cell_type": "code",
   "execution_count": null,
   "id": "universal-surgeon",
   "metadata": {},
   "outputs": [],
   "source": [
    "x1 = np.arange(0, 10, 1)\n",
    "print(x1.reshape(-1,2))\n",
    "print(x1.reshape(-1,2).ravel())"
   ]
  },
  {
   "cell_type": "code",
   "execution_count": null,
   "id": "taken-emission",
   "metadata": {},
   "outputs": [],
   "source": [
    "print(np.array([x1.ravel(), x1.ravel()]))\n",
    "print(np.array([x1.ravel(), x1.ravel()]).shape)"
   ]
  },
  {
   "cell_type": "code",
   "execution_count": null,
   "id": "internal-gravity",
   "metadata": {},
   "outputs": [],
   "source": [
    "print(np.array([x1, x1]))\n",
    "print(np.array([x1, x1]).shape)"
   ]
  },
  {
   "cell_type": "code",
   "execution_count": null,
   "id": "specialized-practice",
   "metadata": {},
   "outputs": [],
   "source": [
    "print(np.array([x1, x1, x1]))\n",
    "print(np.array([x1, x1, x1]).shape)"
   ]
  },
  {
   "cell_type": "code",
   "execution_count": null,
   "id": "robust-accounting",
   "metadata": {},
   "outputs": [],
   "source": [
    "print(np.array([x1, x1, x1]).T)\n",
    "print(np.array([x1, x1, x1]).T.shape)"
   ]
  },
  {
   "cell_type": "code",
   "execution_count": null,
   "id": "dental-telescope",
   "metadata": {},
   "outputs": [],
   "source": []
  }
 ],
 "metadata": {
  "kernelspec": {
   "display_name": "Python 3",
   "language": "python",
   "name": "python3"
  },
  "language_info": {
   "codemirror_mode": {
    "name": "ipython",
    "version": 3
   },
   "file_extension": ".py",
   "mimetype": "text/x-python",
   "name": "python",
   "nbconvert_exporter": "python",
   "pygments_lexer": "ipython3",
   "version": "3.7.3"
  }
 },
 "nbformat": 4,
 "nbformat_minor": 5
}
