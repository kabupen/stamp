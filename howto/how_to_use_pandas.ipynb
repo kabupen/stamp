{
 "cells": [
  {
   "cell_type": "markdown",
   "id": "peripheral-level",
   "metadata": {},
   "source": [
    "# Pandas\n",
    "\n",
    "Python Data Analysis Libraryであり、データを扱うために使用されるライブラリ。\n",
    "以下のチュートリアルは\n",
    "\n",
    "https://pandas.pydata.org/pandas-docs/stable/user_guide/10min.html\n",
    "\n",
    "から参照してきたもの。"
   ]
  },
  {
   "cell_type": "code",
   "execution_count": 1,
   "id": "peripheral-destination",
   "metadata": {},
   "outputs": [],
   "source": [
    "import numpy as np\n",
    "import pandas as pd"
   ]
  },
  {
   "cell_type": "markdown",
   "id": "breeding-toner",
   "metadata": {},
   "source": [
    "# データ構造"
   ]
  },
  {
   "cell_type": "markdown",
   "id": "celtic-purpose",
   "metadata": {},
   "source": [
    "## Series\n",
    "\n",
    "1次元のデータを格納することのできるクラス。\n",
    "\n",
    "```python\n",
    "s = pd.Series(data, index=index)\n",
    "```\n",
    "\n",
    "- data：一般的なオブジェクトを取れる（dict型、ndarray, 数値）\n",
    "- index：データのインデックスを指定する"
   ]
  },
  {
   "cell_type": "code",
   "execution_count": 2,
   "id": "suspected-costa",
   "metadata": {},
   "outputs": [
    {
     "data": {
      "text/plain": [
       "0   -1.657444\n",
       "1   -1.329960\n",
       "2    0.212609\n",
       "3   -0.963795\n",
       "4   -0.097932\n",
       "dtype: float64"
      ]
     },
     "execution_count": 2,
     "metadata": {},
     "output_type": "execute_result"
    }
   ],
   "source": [
    "s = pd.Series(np.random.randn(5))\n",
    "s"
   ]
  },
  {
   "cell_type": "markdown",
   "id": "weighted-legislature",
   "metadata": {},
   "source": [
    "`index`引数に任意のリストを渡すと、引数を指定することもできる。"
   ]
  },
  {
   "cell_type": "code",
   "execution_count": 3,
   "id": "automated-correspondence",
   "metadata": {},
   "outputs": [
    {
     "name": "stdout",
     "output_type": "stream",
     "text": [
      "a    0.380889\n",
      "b   -1.078738\n",
      "c   -0.258870\n",
      "d    0.972179\n",
      "e   -0.826147\n",
      "dtype: float64 \n",
      "\n",
      "Index(['a', 'b', 'c', 'd', 'e'], dtype='object')\n",
      "a\n",
      "5\n"
     ]
    }
   ],
   "source": [
    "s = pd.Series(np.random.randn(5), index=[\"a\", \"b\", \"c\", \"d\", \"e\"])\n",
    "\n",
    "print(s, \"\\n\")\n",
    "print(s.index)        # index の表示\n",
    "print(s.index[0])    # indexの0要素目にアクセス\n",
    "print(len(s.index)) # index配列の長さ"
   ]
  },
  {
   "cell_type": "markdown",
   "id": "composed-tribe",
   "metadata": {},
   "source": [
    "pandasではインデックスを一意でない付け方も可能であることに留意。重複したインデックスにアクセスすると、`Series`として取ってこれる。"
   ]
  },
  {
   "cell_type": "code",
   "execution_count": 4,
   "id": "official-poison",
   "metadata": {},
   "outputs": [
    {
     "data": {
      "text/plain": [
       "A   -0.921376\n",
       "A   -0.656189\n",
       "B   -0.641878\n",
       "B   -0.272310\n",
       "C   -1.965432\n",
       "C   -0.604312\n",
       "dtype: float64"
      ]
     },
     "execution_count": 4,
     "metadata": {},
     "output_type": "execute_result"
    }
   ],
   "source": [
    "s = pd.Series(np.random.randn(6), index=list(\"AABBCC\"))\n",
    "s"
   ]
  },
  {
   "cell_type": "code",
   "execution_count": 5,
   "id": "activated-writer",
   "metadata": {},
   "outputs": [
    {
     "name": "stdout",
     "output_type": "stream",
     "text": [
      "<class 'pandas.core.series.Series'>\n",
      "A   -0.921376\n",
      "A   -0.656189\n",
      "dtype: float64\n"
     ]
    }
   ],
   "source": [
    "print(type(s[\"A\"]))\n",
    "print(s[\"A\"])"
   ]
  },
  {
   "cell_type": "markdown",
   "id": "fewer-judges",
   "metadata": {},
   "source": [
    "dict型から`Serires`を作ることもできる。"
   ]
  },
  {
   "cell_type": "code",
   "execution_count": 6,
   "id": "developing-colleague",
   "metadata": {},
   "outputs": [
    {
     "data": {
      "text/plain": [
       "b    1\n",
       "a    0\n",
       "c    2\n",
       "dtype: int64"
      ]
     },
     "execution_count": 6,
     "metadata": {},
     "output_type": "execute_result"
    }
   ],
   "source": [
    "pd.Series({\"b\":1, \"a\": 0, \"c\":2})"
   ]
  },
  {
   "cell_type": "markdown",
   "id": "interim-parts",
   "metadata": {},
   "source": [
    "### データへのアクセス"
   ]
  },
  {
   "cell_type": "code",
   "execution_count": 7,
   "id": "included-economics",
   "metadata": {},
   "outputs": [
    {
     "data": {
      "text/plain": [
       "A   -0.659864\n",
       "B   -0.200995\n",
       "C    0.656348\n",
       "D   -1.318367\n",
       "E    0.473565\n",
       "dtype: float64"
      ]
     },
     "execution_count": 7,
     "metadata": {},
     "output_type": "execute_result"
    }
   ],
   "source": [
    "s = pd.Series(np.random.randn(5), index=list(\"ABCDE\"))\n",
    "s"
   ]
  },
  {
   "cell_type": "code",
   "execution_count": 8,
   "id": "marked-determination",
   "metadata": {},
   "outputs": [
    {
     "name": "stdout",
     "output_type": "stream",
     "text": [
      "<class 'numpy.float64'>\n",
      "<class 'numpy.float64'>\n",
      "<class 'pandas.core.series.Series'>\n",
      "<class 'pandas.core.series.Series'>\n"
     ]
    }
   ],
   "source": [
    "print(type(s[0]))\n",
    "print(type(s[\"A\"]))\n",
    "print(type(s[0:2]))\n",
    "print(type(s[[1,2,3]]))"
   ]
  },
  {
   "cell_type": "markdown",
   "id": "built-newton",
   "metadata": {},
   "source": [
    "インデックスに無い要素にアクセスすると `KeyError` が出るが、 `get` メソッドを使うことで回避できる。存在しないキーにアクセスしたときに返す値を定義することができる。"
   ]
  },
  {
   "cell_type": "code",
   "execution_count": 9,
   "id": "ecological-priority",
   "metadata": {},
   "outputs": [
    {
     "data": {
      "text/plain": [
       "nan"
      ]
     },
     "execution_count": 9,
     "metadata": {},
     "output_type": "execute_result"
    }
   ],
   "source": [
    "s.get(6, np.nan)"
   ]
  },
  {
   "cell_type": "markdown",
   "id": "northern-representative",
   "metadata": {},
   "source": [
    "インデックス無しで要素にアクセスしたいとき（何か計算したりするとき）、Seriesから単なる配列を取り出すことができる。"
   ]
  },
  {
   "cell_type": "code",
   "execution_count": 10,
   "id": "minute-christianity",
   "metadata": {},
   "outputs": [
    {
     "data": {
      "text/plain": [
       "<PandasArray>\n",
       "[0.054076170642948146,  0.10968930080831805,  -1.4152280787127414,\n",
       "   2.4362151748389973,  0.13605841384496603]\n",
       "Length: 5, dtype: float64"
      ]
     },
     "execution_count": 10,
     "metadata": {},
     "output_type": "execute_result"
    }
   ],
   "source": [
    "s = pd.Series(np.random.randn(5))\n",
    "s.array"
   ]
  },
  {
   "cell_type": "markdown",
   "id": "banner-vessel",
   "metadata": {},
   "source": [
    "また、Numpyにも変換することができる。"
   ]
  },
  {
   "cell_type": "code",
   "execution_count": 11,
   "id": "postal-tender",
   "metadata": {},
   "outputs": [
    {
     "data": {
      "text/plain": [
       "array([ 0.05407617,  0.1096893 , -1.41522808,  2.43621517,  0.13605841])"
      ]
     },
     "execution_count": 11,
     "metadata": {},
     "output_type": "execute_result"
    }
   ],
   "source": [
    "s.to_numpy()"
   ]
  },
  {
   "cell_type": "code",
   "execution_count": 12,
   "id": "judicial-alcohol",
   "metadata": {},
   "outputs": [
    {
     "data": {
      "text/plain": [
       "0    0.054076\n",
       "1    0.109689\n",
       "2   -1.415228\n",
       "3    2.436215\n",
       "4    0.136058\n",
       "dtype: float64"
      ]
     },
     "execution_count": 12,
     "metadata": {},
     "output_type": "execute_result"
    }
   ],
   "source": [
    "s"
   ]
  },
  {
   "cell_type": "code",
   "execution_count": 13,
   "id": "usual-model",
   "metadata": {},
   "outputs": [
    {
     "data": {
      "text/plain": [
       "0    False\n",
       "1    False\n",
       "2    False\n",
       "3     True\n",
       "4     True\n",
       "dtype: bool"
      ]
     },
     "execution_count": 13,
     "metadata": {},
     "output_type": "execute_result"
    }
   ],
   "source": [
    "s > s.median()"
   ]
  },
  {
   "cell_type": "markdown",
   "id": "scientific-kidney",
   "metadata": {},
   "source": [
    "## DataFrame\n",
    "2次元のデータ（=表）を格納することのできるクラス。"
   ]
  },
  {
   "cell_type": "code",
   "execution_count": 14,
   "id": "indian-demographic",
   "metadata": {},
   "outputs": [
    {
     "data": {
      "text/html": [
       "<div>\n",
       "<style scoped>\n",
       "    .dataframe tbody tr th:only-of-type {\n",
       "        vertical-align: middle;\n",
       "    }\n",
       "\n",
       "    .dataframe tbody tr th {\n",
       "        vertical-align: top;\n",
       "    }\n",
       "\n",
       "    .dataframe thead th {\n",
       "        text-align: right;\n",
       "    }\n",
       "</style>\n",
       "<table border=\"1\" class=\"dataframe\">\n",
       "  <thead>\n",
       "    <tr style=\"text-align: right;\">\n",
       "      <th></th>\n",
       "      <th>0</th>\n",
       "      <th>1</th>\n",
       "      <th>2</th>\n",
       "      <th>3</th>\n",
       "    </tr>\n",
       "  </thead>\n",
       "  <tbody>\n",
       "    <tr>\n",
       "      <th>0</th>\n",
       "      <td>-1.312690</td>\n",
       "      <td>-1.803589</td>\n",
       "      <td>0.734788</td>\n",
       "      <td>1.341888</td>\n",
       "    </tr>\n",
       "    <tr>\n",
       "      <th>1</th>\n",
       "      <td>2.263158</td>\n",
       "      <td>1.871356</td>\n",
       "      <td>-0.755057</td>\n",
       "      <td>-0.886423</td>\n",
       "    </tr>\n",
       "    <tr>\n",
       "      <th>2</th>\n",
       "      <td>1.138738</td>\n",
       "      <td>-1.230875</td>\n",
       "      <td>0.970569</td>\n",
       "      <td>-1.350689</td>\n",
       "    </tr>\n",
       "    <tr>\n",
       "      <th>3</th>\n",
       "      <td>-0.887267</td>\n",
       "      <td>1.636623</td>\n",
       "      <td>0.661809</td>\n",
       "      <td>0.170353</td>\n",
       "    </tr>\n",
       "    <tr>\n",
       "      <th>4</th>\n",
       "      <td>0.716107</td>\n",
       "      <td>-1.547244</td>\n",
       "      <td>1.221519</td>\n",
       "      <td>0.271887</td>\n",
       "    </tr>\n",
       "    <tr>\n",
       "      <th>5</th>\n",
       "      <td>1.034166</td>\n",
       "      <td>0.390571</td>\n",
       "      <td>0.001844</td>\n",
       "      <td>0.089753</td>\n",
       "    </tr>\n",
       "  </tbody>\n",
       "</table>\n",
       "</div>"
      ],
      "text/plain": [
       "          0         1         2         3\n",
       "0 -1.312690 -1.803589  0.734788  1.341888\n",
       "1  2.263158  1.871356 -0.755057 -0.886423\n",
       "2  1.138738 -1.230875  0.970569 -1.350689\n",
       "3 -0.887267  1.636623  0.661809  0.170353\n",
       "4  0.716107 -1.547244  1.221519  0.271887\n",
       "5  1.034166  0.390571  0.001844  0.089753"
      ]
     },
     "execution_count": 14,
     "metadata": {},
     "output_type": "execute_result"
    }
   ],
   "source": [
    "df = pd.DataFrame(np.random.randn(6,4))\n",
    "df"
   ]
  },
  {
   "cell_type": "markdown",
   "id": "vulnerable-commissioner",
   "metadata": {},
   "source": [
    "デフォルトで列名が数字になっているが、任意の文字列に置き換えることができる。"
   ]
  },
  {
   "cell_type": "code",
   "execution_count": 15,
   "id": "going-burner",
   "metadata": {},
   "outputs": [
    {
     "data": {
      "text/html": [
       "<div>\n",
       "<style scoped>\n",
       "    .dataframe tbody tr th:only-of-type {\n",
       "        vertical-align: middle;\n",
       "    }\n",
       "\n",
       "    .dataframe tbody tr th {\n",
       "        vertical-align: top;\n",
       "    }\n",
       "\n",
       "    .dataframe thead th {\n",
       "        text-align: right;\n",
       "    }\n",
       "</style>\n",
       "<table border=\"1\" class=\"dataframe\">\n",
       "  <thead>\n",
       "    <tr style=\"text-align: right;\">\n",
       "      <th></th>\n",
       "      <th>A</th>\n",
       "      <th>B</th>\n",
       "      <th>C</th>\n",
       "      <th>D</th>\n",
       "    </tr>\n",
       "  </thead>\n",
       "  <tbody>\n",
       "    <tr>\n",
       "      <th>0</th>\n",
       "      <td>-1.312690</td>\n",
       "      <td>-1.803589</td>\n",
       "      <td>0.734788</td>\n",
       "      <td>1.341888</td>\n",
       "    </tr>\n",
       "    <tr>\n",
       "      <th>1</th>\n",
       "      <td>2.263158</td>\n",
       "      <td>1.871356</td>\n",
       "      <td>-0.755057</td>\n",
       "      <td>-0.886423</td>\n",
       "    </tr>\n",
       "    <tr>\n",
       "      <th>2</th>\n",
       "      <td>1.138738</td>\n",
       "      <td>-1.230875</td>\n",
       "      <td>0.970569</td>\n",
       "      <td>-1.350689</td>\n",
       "    </tr>\n",
       "    <tr>\n",
       "      <th>3</th>\n",
       "      <td>-0.887267</td>\n",
       "      <td>1.636623</td>\n",
       "      <td>0.661809</td>\n",
       "      <td>0.170353</td>\n",
       "    </tr>\n",
       "    <tr>\n",
       "      <th>4</th>\n",
       "      <td>0.716107</td>\n",
       "      <td>-1.547244</td>\n",
       "      <td>1.221519</td>\n",
       "      <td>0.271887</td>\n",
       "    </tr>\n",
       "  </tbody>\n",
       "</table>\n",
       "</div>"
      ],
      "text/plain": [
       "          A         B         C         D\n",
       "0 -1.312690 -1.803589  0.734788  1.341888\n",
       "1  2.263158  1.871356 -0.755057 -0.886423\n",
       "2  1.138738 -1.230875  0.970569 -1.350689\n",
       "3 -0.887267  1.636623  0.661809  0.170353\n",
       "4  0.716107 -1.547244  1.221519  0.271887"
      ]
     },
     "execution_count": 15,
     "metadata": {},
     "output_type": "execute_result"
    }
   ],
   "source": [
    "df.columns = ['A', 'B', 'C', 'D']\n",
    "df.head()"
   ]
  },
  {
   "cell_type": "code",
   "execution_count": 16,
   "id": "norwegian-adventure",
   "metadata": {},
   "outputs": [
    {
     "data": {
      "text/plain": [
       "DatetimeIndex(['2021-04-03', '2021-04-04', '2021-04-05', '2021-04-06',\n",
       "               '2021-04-07', '2021-04-08'],\n",
       "              dtype='datetime64[ns]', freq='D')"
      ]
     },
     "execution_count": 16,
     "metadata": {},
     "output_type": "execute_result"
    }
   ],
   "source": [
    "dates = pd.date_range(\"20210403\", periods=6)\n",
    "dates"
   ]
  },
  {
   "cell_type": "markdown",
   "id": "transparent-happening",
   "metadata": {},
   "source": [
    "インスタンス化の際に、`index`で行名の指定、`columns`で列の指定を行うことができる。\n",
    "これを用いることで（事前に決まっているのであれば）、上述のような事をわざわざする必要はなくなる。"
   ]
  },
  {
   "cell_type": "code",
   "execution_count": 17,
   "id": "norwegian-wellington",
   "metadata": {},
   "outputs": [
    {
     "data": {
      "text/html": [
       "<div>\n",
       "<style scoped>\n",
       "    .dataframe tbody tr th:only-of-type {\n",
       "        vertical-align: middle;\n",
       "    }\n",
       "\n",
       "    .dataframe tbody tr th {\n",
       "        vertical-align: top;\n",
       "    }\n",
       "\n",
       "    .dataframe thead th {\n",
       "        text-align: right;\n",
       "    }\n",
       "</style>\n",
       "<table border=\"1\" class=\"dataframe\">\n",
       "  <thead>\n",
       "    <tr style=\"text-align: right;\">\n",
       "      <th></th>\n",
       "      <th>A</th>\n",
       "      <th>B</th>\n",
       "      <th>C</th>\n",
       "      <th>D</th>\n",
       "    </tr>\n",
       "  </thead>\n",
       "  <tbody>\n",
       "    <tr>\n",
       "      <th>2021-04-03</th>\n",
       "      <td>0.201045</td>\n",
       "      <td>-2.401098</td>\n",
       "      <td>1.085349</td>\n",
       "      <td>-0.069432</td>\n",
       "    </tr>\n",
       "    <tr>\n",
       "      <th>2021-04-04</th>\n",
       "      <td>-0.134227</td>\n",
       "      <td>-0.796102</td>\n",
       "      <td>-0.751007</td>\n",
       "      <td>1.732266</td>\n",
       "    </tr>\n",
       "    <tr>\n",
       "      <th>2021-04-05</th>\n",
       "      <td>-0.698915</td>\n",
       "      <td>-0.056523</td>\n",
       "      <td>0.848130</td>\n",
       "      <td>0.922469</td>\n",
       "    </tr>\n",
       "    <tr>\n",
       "      <th>2021-04-06</th>\n",
       "      <td>1.492907</td>\n",
       "      <td>0.296633</td>\n",
       "      <td>0.822085</td>\n",
       "      <td>1.407273</td>\n",
       "    </tr>\n",
       "    <tr>\n",
       "      <th>2021-04-07</th>\n",
       "      <td>1.091065</td>\n",
       "      <td>0.046103</td>\n",
       "      <td>0.073009</td>\n",
       "      <td>0.250625</td>\n",
       "    </tr>\n",
       "    <tr>\n",
       "      <th>2021-04-08</th>\n",
       "      <td>-0.550998</td>\n",
       "      <td>2.984263</td>\n",
       "      <td>-0.826747</td>\n",
       "      <td>-0.226006</td>\n",
       "    </tr>\n",
       "  </tbody>\n",
       "</table>\n",
       "</div>"
      ],
      "text/plain": [
       "                   A         B         C         D\n",
       "2021-04-03  0.201045 -2.401098  1.085349 -0.069432\n",
       "2021-04-04 -0.134227 -0.796102 -0.751007  1.732266\n",
       "2021-04-05 -0.698915 -0.056523  0.848130  0.922469\n",
       "2021-04-06  1.492907  0.296633  0.822085  1.407273\n",
       "2021-04-07  1.091065  0.046103  0.073009  0.250625\n",
       "2021-04-08 -0.550998  2.984263 -0.826747 -0.226006"
      ]
     },
     "execution_count": 17,
     "metadata": {},
     "output_type": "execute_result"
    }
   ],
   "source": [
    "df = pd.DataFrame(np.random.randn(6,4), index=dates, columns=list(\"ABCD\"))\n",
    "df"
   ]
  },
  {
   "cell_type": "code",
   "execution_count": 18,
   "id": "confident-lesbian",
   "metadata": {},
   "outputs": [
    {
     "data": {
      "text/html": [
       "<div>\n",
       "<style scoped>\n",
       "    .dataframe tbody tr th:only-of-type {\n",
       "        vertical-align: middle;\n",
       "    }\n",
       "\n",
       "    .dataframe tbody tr th {\n",
       "        vertical-align: top;\n",
       "    }\n",
       "\n",
       "    .dataframe thead th {\n",
       "        text-align: right;\n",
       "    }\n",
       "</style>\n",
       "<table border=\"1\" class=\"dataframe\">\n",
       "  <thead>\n",
       "    <tr style=\"text-align: right;\">\n",
       "      <th></th>\n",
       "      <th>A</th>\n",
       "      <th>B</th>\n",
       "      <th>C</th>\n",
       "      <th>D</th>\n",
       "    </tr>\n",
       "  </thead>\n",
       "  <tbody>\n",
       "    <tr>\n",
       "      <th>2021-04-03</th>\n",
       "      <td>0.201045</td>\n",
       "      <td>-2.401098</td>\n",
       "      <td>1.085349</td>\n",
       "      <td>-0.069432</td>\n",
       "    </tr>\n",
       "    <tr>\n",
       "      <th>2021-04-04</th>\n",
       "      <td>-0.134227</td>\n",
       "      <td>-0.796102</td>\n",
       "      <td>-0.751007</td>\n",
       "      <td>1.732266</td>\n",
       "    </tr>\n",
       "  </tbody>\n",
       "</table>\n",
       "</div>"
      ],
      "text/plain": [
       "                   A         B         C         D\n",
       "2021-04-03  0.201045 -2.401098  1.085349 -0.069432\n",
       "2021-04-04 -0.134227 -0.796102 -0.751007  1.732266"
      ]
     },
     "execution_count": 18,
     "metadata": {},
     "output_type": "execute_result"
    }
   ],
   "source": [
    "df.head(2) # 適当な数字、もしくは何も指定しない場合は5行表示される"
   ]
  },
  {
   "cell_type": "code",
   "execution_count": 19,
   "id": "capable-alpha",
   "metadata": {},
   "outputs": [
    {
     "data": {
      "text/html": [
       "<div>\n",
       "<style scoped>\n",
       "    .dataframe tbody tr th:only-of-type {\n",
       "        vertical-align: middle;\n",
       "    }\n",
       "\n",
       "    .dataframe tbody tr th {\n",
       "        vertical-align: top;\n",
       "    }\n",
       "\n",
       "    .dataframe thead th {\n",
       "        text-align: right;\n",
       "    }\n",
       "</style>\n",
       "<table border=\"1\" class=\"dataframe\">\n",
       "  <thead>\n",
       "    <tr style=\"text-align: right;\">\n",
       "      <th></th>\n",
       "      <th>A</th>\n",
       "      <th>B</th>\n",
       "      <th>C</th>\n",
       "      <th>D</th>\n",
       "    </tr>\n",
       "  </thead>\n",
       "  <tbody>\n",
       "    <tr>\n",
       "      <th>2021-04-06</th>\n",
       "      <td>1.492907</td>\n",
       "      <td>0.296633</td>\n",
       "      <td>0.822085</td>\n",
       "      <td>1.407273</td>\n",
       "    </tr>\n",
       "    <tr>\n",
       "      <th>2021-04-07</th>\n",
       "      <td>1.091065</td>\n",
       "      <td>0.046103</td>\n",
       "      <td>0.073009</td>\n",
       "      <td>0.250625</td>\n",
       "    </tr>\n",
       "    <tr>\n",
       "      <th>2021-04-08</th>\n",
       "      <td>-0.550998</td>\n",
       "      <td>2.984263</td>\n",
       "      <td>-0.826747</td>\n",
       "      <td>-0.226006</td>\n",
       "    </tr>\n",
       "  </tbody>\n",
       "</table>\n",
       "</div>"
      ],
      "text/plain": [
       "                   A         B         C         D\n",
       "2021-04-06  1.492907  0.296633  0.822085  1.407273\n",
       "2021-04-07  1.091065  0.046103  0.073009  0.250625\n",
       "2021-04-08 -0.550998  2.984263 -0.826747 -0.226006"
      ]
     },
     "execution_count": 19,
     "metadata": {},
     "output_type": "execute_result"
    }
   ],
   "source": [
    "df.tail(3) # 適当な数字、もしくは何も指定しない場合は5行表示される"
   ]
  },
  {
   "cell_type": "code",
   "execution_count": 20,
   "id": "intimate-sherman",
   "metadata": {},
   "outputs": [
    {
     "data": {
      "text/plain": [
       "DatetimeIndex(['2021-04-03', '2021-04-04', '2021-04-05', '2021-04-06',\n",
       "               '2021-04-07', '2021-04-08'],\n",
       "              dtype='datetime64[ns]', freq='D')"
      ]
     },
     "execution_count": 20,
     "metadata": {},
     "output_type": "execute_result"
    }
   ],
   "source": [
    "df.index"
   ]
  },
  {
   "cell_type": "code",
   "execution_count": 21,
   "id": "artificial-mobile",
   "metadata": {},
   "outputs": [
    {
     "data": {
      "text/plain": [
       "Index(['A', 'B', 'C', 'D'], dtype='object')"
      ]
     },
     "execution_count": 21,
     "metadata": {},
     "output_type": "execute_result"
    }
   ],
   "source": [
    "df.columns"
   ]
  },
  {
   "cell_type": "markdown",
   "id": "oriented-basic",
   "metadata": {},
   "source": [
    "Seriesと同様、DataFrameもNumPy arrayに変換することができる。変換した場合、インデックスや行ラベルは失われる。"
   ]
  },
  {
   "cell_type": "code",
   "execution_count": 22,
   "id": "hundred-department",
   "metadata": {},
   "outputs": [
    {
     "data": {
      "text/plain": [
       "array([[ 0.2010448 , -2.40109811,  1.08534889, -0.06943244],\n",
       "       [-0.13422661, -0.79610172, -0.75100745,  1.73226639],\n",
       "       [-0.69891506, -0.05652318,  0.84812984,  0.92246895],\n",
       "       [ 1.49290733,  0.29663259,  0.82208521,  1.40727323],\n",
       "       [ 1.09106484,  0.04610319,  0.07300852,  0.25062468],\n",
       "       [-0.55099777,  2.98426334, -0.82674706, -0.22600622]])"
      ]
     },
     "execution_count": 22,
     "metadata": {},
     "output_type": "execute_result"
    }
   ],
   "source": [
    "df.to_numpy()"
   ]
  },
  {
   "cell_type": "code",
   "execution_count": 23,
   "id": "seasonal-evanescence",
   "metadata": {},
   "outputs": [
    {
     "data": {
      "text/plain": [
       "array([[ 0.2010448 , -2.40109811,  1.08534889, -0.06943244],\n",
       "       [-0.13422661, -0.79610172, -0.75100745,  1.73226639],\n",
       "       [-0.69891506, -0.05652318,  0.84812984,  0.92246895],\n",
       "       [ 1.49290733,  0.29663259,  0.82208521,  1.40727323],\n",
       "       [ 1.09106484,  0.04610319,  0.07300852,  0.25062468],\n",
       "       [-0.55099777,  2.98426334, -0.82674706, -0.22600622]])"
      ]
     },
     "execution_count": 23,
     "metadata": {},
     "output_type": "execute_result"
    }
   ],
   "source": [
    "df.values"
   ]
  },
  {
   "cell_type": "markdown",
   "id": "numerous-corporation",
   "metadata": {},
   "source": [
    "DataFrameは非常に便利であるが、`scikit-learn`を使用する際にはぜひNumpyへの変換をおすすめする。現バージョンでは DataFame の入力にも対応しているが、そもそもはNumPyしか対応していなかったことを考えると、NumPyで機械学習を進めていくのが自然である。"
   ]
  },
  {
   "cell_type": "markdown",
   "id": "according-joyce",
   "metadata": {},
   "source": [
    "### データへのアクセスの仕方"
   ]
  },
  {
   "cell_type": "code",
   "execution_count": 24,
   "id": "sought-soccer",
   "metadata": {},
   "outputs": [
    {
     "data": {
      "text/html": [
       "<div>\n",
       "<style scoped>\n",
       "    .dataframe tbody tr th:only-of-type {\n",
       "        vertical-align: middle;\n",
       "    }\n",
       "\n",
       "    .dataframe tbody tr th {\n",
       "        vertical-align: top;\n",
       "    }\n",
       "\n",
       "    .dataframe thead th {\n",
       "        text-align: right;\n",
       "    }\n",
       "</style>\n",
       "<table border=\"1\" class=\"dataframe\">\n",
       "  <thead>\n",
       "    <tr style=\"text-align: right;\">\n",
       "      <th></th>\n",
       "      <th>A</th>\n",
       "      <th>B</th>\n",
       "      <th>C</th>\n",
       "      <th>D</th>\n",
       "    </tr>\n",
       "  </thead>\n",
       "  <tbody>\n",
       "    <tr>\n",
       "      <th>2021-04-03</th>\n",
       "      <td>0.201045</td>\n",
       "      <td>-2.401098</td>\n",
       "      <td>1.085349</td>\n",
       "      <td>-0.069432</td>\n",
       "    </tr>\n",
       "    <tr>\n",
       "      <th>2021-04-04</th>\n",
       "      <td>-0.134227</td>\n",
       "      <td>-0.796102</td>\n",
       "      <td>-0.751007</td>\n",
       "      <td>1.732266</td>\n",
       "    </tr>\n",
       "    <tr>\n",
       "      <th>2021-04-05</th>\n",
       "      <td>-0.698915</td>\n",
       "      <td>-0.056523</td>\n",
       "      <td>0.848130</td>\n",
       "      <td>0.922469</td>\n",
       "    </tr>\n",
       "    <tr>\n",
       "      <th>2021-04-06</th>\n",
       "      <td>1.492907</td>\n",
       "      <td>0.296633</td>\n",
       "      <td>0.822085</td>\n",
       "      <td>1.407273</td>\n",
       "    </tr>\n",
       "    <tr>\n",
       "      <th>2021-04-07</th>\n",
       "      <td>1.091065</td>\n",
       "      <td>0.046103</td>\n",
       "      <td>0.073009</td>\n",
       "      <td>0.250625</td>\n",
       "    </tr>\n",
       "    <tr>\n",
       "      <th>2021-04-08</th>\n",
       "      <td>-0.550998</td>\n",
       "      <td>2.984263</td>\n",
       "      <td>-0.826747</td>\n",
       "      <td>-0.226006</td>\n",
       "    </tr>\n",
       "  </tbody>\n",
       "</table>\n",
       "</div>"
      ],
      "text/plain": [
       "                   A         B         C         D\n",
       "2021-04-03  0.201045 -2.401098  1.085349 -0.069432\n",
       "2021-04-04 -0.134227 -0.796102 -0.751007  1.732266\n",
       "2021-04-05 -0.698915 -0.056523  0.848130  0.922469\n",
       "2021-04-06  1.492907  0.296633  0.822085  1.407273\n",
       "2021-04-07  1.091065  0.046103  0.073009  0.250625\n",
       "2021-04-08 -0.550998  2.984263 -0.826747 -0.226006"
      ]
     },
     "execution_count": 24,
     "metadata": {},
     "output_type": "execute_result"
    }
   ],
   "source": [
    "df"
   ]
  },
  {
   "cell_type": "code",
   "execution_count": 25,
   "id": "funny-prevention",
   "metadata": {},
   "outputs": [
    {
     "data": {
      "text/plain": [
       "2021-04-03    0.201045\n",
       "2021-04-04   -0.134227\n",
       "2021-04-05   -0.698915\n",
       "2021-04-06    1.492907\n",
       "2021-04-07    1.091065\n",
       "2021-04-08   -0.550998\n",
       "Freq: D, Name: A, dtype: float64"
      ]
     },
     "execution_count": 25,
     "metadata": {},
     "output_type": "execute_result"
    }
   ],
   "source": [
    "df[\"A\"]"
   ]
  },
  {
   "cell_type": "code",
   "execution_count": 26,
   "id": "saved-suggestion",
   "metadata": {},
   "outputs": [
    {
     "data": {
      "text/html": [
       "<div>\n",
       "<style scoped>\n",
       "    .dataframe tbody tr th:only-of-type {\n",
       "        vertical-align: middle;\n",
       "    }\n",
       "\n",
       "    .dataframe tbody tr th {\n",
       "        vertical-align: top;\n",
       "    }\n",
       "\n",
       "    .dataframe thead th {\n",
       "        text-align: right;\n",
       "    }\n",
       "</style>\n",
       "<table border=\"1\" class=\"dataframe\">\n",
       "  <thead>\n",
       "    <tr style=\"text-align: right;\">\n",
       "      <th></th>\n",
       "      <th>A</th>\n",
       "      <th>B</th>\n",
       "      <th>C</th>\n",
       "      <th>D</th>\n",
       "    </tr>\n",
       "  </thead>\n",
       "  <tbody>\n",
       "    <tr>\n",
       "      <th>2021-04-03</th>\n",
       "      <td>0.201045</td>\n",
       "      <td>-2.401098</td>\n",
       "      <td>1.085349</td>\n",
       "      <td>-0.069432</td>\n",
       "    </tr>\n",
       "    <tr>\n",
       "      <th>2021-04-04</th>\n",
       "      <td>-0.134227</td>\n",
       "      <td>-0.796102</td>\n",
       "      <td>-0.751007</td>\n",
       "      <td>1.732266</td>\n",
       "    </tr>\n",
       "    <tr>\n",
       "      <th>2021-04-05</th>\n",
       "      <td>-0.698915</td>\n",
       "      <td>-0.056523</td>\n",
       "      <td>0.848130</td>\n",
       "      <td>0.922469</td>\n",
       "    </tr>\n",
       "  </tbody>\n",
       "</table>\n",
       "</div>"
      ],
      "text/plain": [
       "                   A         B         C         D\n",
       "2021-04-03  0.201045 -2.401098  1.085349 -0.069432\n",
       "2021-04-04 -0.134227 -0.796102 -0.751007  1.732266\n",
       "2021-04-05 -0.698915 -0.056523  0.848130  0.922469"
      ]
     },
     "execution_count": 26,
     "metadata": {},
     "output_type": "execute_result"
    }
   ],
   "source": [
    "df[0:3] # 1~3行目を表示する"
   ]
  },
  {
   "cell_type": "code",
   "execution_count": 27,
   "id": "spiritual-silicon",
   "metadata": {},
   "outputs": [
    {
     "data": {
      "text/html": [
       "<div>\n",
       "<style scoped>\n",
       "    .dataframe tbody tr th:only-of-type {\n",
       "        vertical-align: middle;\n",
       "    }\n",
       "\n",
       "    .dataframe tbody tr th {\n",
       "        vertical-align: top;\n",
       "    }\n",
       "\n",
       "    .dataframe thead th {\n",
       "        text-align: right;\n",
       "    }\n",
       "</style>\n",
       "<table border=\"1\" class=\"dataframe\">\n",
       "  <thead>\n",
       "    <tr style=\"text-align: right;\">\n",
       "      <th></th>\n",
       "      <th>A</th>\n",
       "      <th>B</th>\n",
       "      <th>C</th>\n",
       "      <th>D</th>\n",
       "    </tr>\n",
       "  </thead>\n",
       "  <tbody>\n",
       "    <tr>\n",
       "      <th>2021-04-03</th>\n",
       "      <td>0.201045</td>\n",
       "      <td>-2.401098</td>\n",
       "      <td>1.085349</td>\n",
       "      <td>-0.069432</td>\n",
       "    </tr>\n",
       "    <tr>\n",
       "      <th>2021-04-04</th>\n",
       "      <td>-0.134227</td>\n",
       "      <td>-0.796102</td>\n",
       "      <td>-0.751007</td>\n",
       "      <td>1.732266</td>\n",
       "    </tr>\n",
       "    <tr>\n",
       "      <th>2021-04-05</th>\n",
       "      <td>-0.698915</td>\n",
       "      <td>-0.056523</td>\n",
       "      <td>0.848130</td>\n",
       "      <td>0.922469</td>\n",
       "    </tr>\n",
       "  </tbody>\n",
       "</table>\n",
       "</div>"
      ],
      "text/plain": [
       "                   A         B         C         D\n",
       "2021-04-03  0.201045 -2.401098  1.085349 -0.069432\n",
       "2021-04-04 -0.134227 -0.796102 -0.751007  1.732266\n",
       "2021-04-05 -0.698915 -0.056523  0.848130  0.922469"
      ]
     },
     "execution_count": 27,
     "metadata": {},
     "output_type": "execute_result"
    }
   ],
   "source": [
    "df[\"20210403\":\"20210405\"]"
   ]
  },
  {
   "cell_type": "markdown",
   "id": "potential-function",
   "metadata": {},
   "source": [
    "### データ選別\n",
    "データフレームの中から、条件に合致する要素だけを取り出すことも可能。その際に使用する関数は\n",
    "- loc（ラベル名で選別する）\n",
    "- iloc（行番号もしくは列番号、もしくはその両方を使って選別する）\n",
    "\n",
    "である"
   ]
  },
  {
   "cell_type": "code",
   "execution_count": 28,
   "id": "variable-bones",
   "metadata": {},
   "outputs": [
    {
     "data": {
      "text/plain": [
       "A    0.201045\n",
       "B   -2.401098\n",
       "C    1.085349\n",
       "D   -0.069432\n",
       "Name: 2021-04-03 00:00:00, dtype: float64"
      ]
     },
     "execution_count": 28,
     "metadata": {},
     "output_type": "execute_result"
    }
   ],
   "source": [
    "df.loc[\"20210403\"]"
   ]
  },
  {
   "cell_type": "code",
   "execution_count": 29,
   "id": "damaged-remark",
   "metadata": {},
   "outputs": [
    {
     "data": {
      "text/html": [
       "<div>\n",
       "<style scoped>\n",
       "    .dataframe tbody tr th:only-of-type {\n",
       "        vertical-align: middle;\n",
       "    }\n",
       "\n",
       "    .dataframe tbody tr th {\n",
       "        vertical-align: top;\n",
       "    }\n",
       "\n",
       "    .dataframe thead th {\n",
       "        text-align: right;\n",
       "    }\n",
       "</style>\n",
       "<table border=\"1\" class=\"dataframe\">\n",
       "  <thead>\n",
       "    <tr style=\"text-align: right;\">\n",
       "      <th></th>\n",
       "      <th>A</th>\n",
       "      <th>B</th>\n",
       "    </tr>\n",
       "  </thead>\n",
       "  <tbody>\n",
       "    <tr>\n",
       "      <th>2021-04-03</th>\n",
       "      <td>0.201045</td>\n",
       "      <td>-2.401098</td>\n",
       "    </tr>\n",
       "    <tr>\n",
       "      <th>2021-04-04</th>\n",
       "      <td>-0.134227</td>\n",
       "      <td>-0.796102</td>\n",
       "    </tr>\n",
       "    <tr>\n",
       "      <th>2021-04-05</th>\n",
       "      <td>-0.698915</td>\n",
       "      <td>-0.056523</td>\n",
       "    </tr>\n",
       "    <tr>\n",
       "      <th>2021-04-06</th>\n",
       "      <td>1.492907</td>\n",
       "      <td>0.296633</td>\n",
       "    </tr>\n",
       "    <tr>\n",
       "      <th>2021-04-07</th>\n",
       "      <td>1.091065</td>\n",
       "      <td>0.046103</td>\n",
       "    </tr>\n",
       "    <tr>\n",
       "      <th>2021-04-08</th>\n",
       "      <td>-0.550998</td>\n",
       "      <td>2.984263</td>\n",
       "    </tr>\n",
       "  </tbody>\n",
       "</table>\n",
       "</div>"
      ],
      "text/plain": [
       "                   A         B\n",
       "2021-04-03  0.201045 -2.401098\n",
       "2021-04-04 -0.134227 -0.796102\n",
       "2021-04-05 -0.698915 -0.056523\n",
       "2021-04-06  1.492907  0.296633\n",
       "2021-04-07  1.091065  0.046103\n",
       "2021-04-08 -0.550998  2.984263"
      ]
     },
     "execution_count": 29,
     "metadata": {},
     "output_type": "execute_result"
    }
   ],
   "source": [
    "df.loc[:, [\"A\", \"B\"] ]"
   ]
  },
  {
   "cell_type": "code",
   "execution_count": 30,
   "id": "tender-commission",
   "metadata": {},
   "outputs": [
    {
     "data": {
      "text/plain": [
       "A    0.201045\n",
       "B   -2.401098\n",
       "Name: 2021-04-03 00:00:00, dtype: float64"
      ]
     },
     "execution_count": 30,
     "metadata": {},
     "output_type": "execute_result"
    }
   ],
   "source": [
    "df.loc[\"20210403\", [\"A\", \"B\"] ]"
   ]
  },
  {
   "cell_type": "code",
   "execution_count": 31,
   "id": "signed-processor",
   "metadata": {},
   "outputs": [
    {
     "data": {
      "text/plain": [
       "A    1.492907\n",
       "B    0.296633\n",
       "C    0.822085\n",
       "D    1.407273\n",
       "Name: 2021-04-06 00:00:00, dtype: float64"
      ]
     },
     "execution_count": 31,
     "metadata": {},
     "output_type": "execute_result"
    }
   ],
   "source": [
    "df.iloc[3] # 4行目のデータ"
   ]
  },
  {
   "cell_type": "code",
   "execution_count": 32,
   "id": "respected-threshold",
   "metadata": {},
   "outputs": [
    {
     "data": {
      "text/html": [
       "<div>\n",
       "<style scoped>\n",
       "    .dataframe tbody tr th:only-of-type {\n",
       "        vertical-align: middle;\n",
       "    }\n",
       "\n",
       "    .dataframe tbody tr th {\n",
       "        vertical-align: top;\n",
       "    }\n",
       "\n",
       "    .dataframe thead th {\n",
       "        text-align: right;\n",
       "    }\n",
       "</style>\n",
       "<table border=\"1\" class=\"dataframe\">\n",
       "  <thead>\n",
       "    <tr style=\"text-align: right;\">\n",
       "      <th></th>\n",
       "      <th>A</th>\n",
       "      <th>B</th>\n",
       "    </tr>\n",
       "  </thead>\n",
       "  <tbody>\n",
       "    <tr>\n",
       "      <th>2021-04-06</th>\n",
       "      <td>1.492907</td>\n",
       "      <td>0.296633</td>\n",
       "    </tr>\n",
       "    <tr>\n",
       "      <th>2021-04-07</th>\n",
       "      <td>1.091065</td>\n",
       "      <td>0.046103</td>\n",
       "    </tr>\n",
       "  </tbody>\n",
       "</table>\n",
       "</div>"
      ],
      "text/plain": [
       "                   A         B\n",
       "2021-04-06  1.492907  0.296633\n",
       "2021-04-07  1.091065  0.046103"
      ]
     },
     "execution_count": 32,
     "metadata": {},
     "output_type": "execute_result"
    }
   ],
   "source": [
    "df.iloc[3:5, 0:2] # 4-5行目かつ、1-2列目のデータ"
   ]
  },
  {
   "cell_type": "markdown",
   "id": "prescription-rabbit",
   "metadata": {},
   "source": [
    "ラベル名やポジションに加えて、条件を加味した選別も可能。"
   ]
  },
  {
   "cell_type": "code",
   "execution_count": 33,
   "id": "swedish-agreement",
   "metadata": {},
   "outputs": [
    {
     "data": {
      "text/html": [
       "<div>\n",
       "<style scoped>\n",
       "    .dataframe tbody tr th:only-of-type {\n",
       "        vertical-align: middle;\n",
       "    }\n",
       "\n",
       "    .dataframe tbody tr th {\n",
       "        vertical-align: top;\n",
       "    }\n",
       "\n",
       "    .dataframe thead th {\n",
       "        text-align: right;\n",
       "    }\n",
       "</style>\n",
       "<table border=\"1\" class=\"dataframe\">\n",
       "  <thead>\n",
       "    <tr style=\"text-align: right;\">\n",
       "      <th></th>\n",
       "      <th>A</th>\n",
       "      <th>B</th>\n",
       "      <th>C</th>\n",
       "      <th>D</th>\n",
       "    </tr>\n",
       "  </thead>\n",
       "  <tbody>\n",
       "    <tr>\n",
       "      <th>2021-04-03</th>\n",
       "      <td>0.201045</td>\n",
       "      <td>-2.401098</td>\n",
       "      <td>1.085349</td>\n",
       "      <td>-0.069432</td>\n",
       "    </tr>\n",
       "    <tr>\n",
       "      <th>2021-04-06</th>\n",
       "      <td>1.492907</td>\n",
       "      <td>0.296633</td>\n",
       "      <td>0.822085</td>\n",
       "      <td>1.407273</td>\n",
       "    </tr>\n",
       "    <tr>\n",
       "      <th>2021-04-07</th>\n",
       "      <td>1.091065</td>\n",
       "      <td>0.046103</td>\n",
       "      <td>0.073009</td>\n",
       "      <td>0.250625</td>\n",
       "    </tr>\n",
       "  </tbody>\n",
       "</table>\n",
       "</div>"
      ],
      "text/plain": [
       "                   A         B         C         D\n",
       "2021-04-03  0.201045 -2.401098  1.085349 -0.069432\n",
       "2021-04-06  1.492907  0.296633  0.822085  1.407273\n",
       "2021-04-07  1.091065  0.046103  0.073009  0.250625"
      ]
     },
     "execution_count": 33,
     "metadata": {},
     "output_type": "execute_result"
    }
   ],
   "source": [
    "df[df[\"A\"]>0] # A列で要素が正のものだけを抽出"
   ]
  },
  {
   "cell_type": "code",
   "execution_count": 34,
   "id": "adjacent-riverside",
   "metadata": {},
   "outputs": [
    {
     "data": {
      "text/html": [
       "<div>\n",
       "<style scoped>\n",
       "    .dataframe tbody tr th:only-of-type {\n",
       "        vertical-align: middle;\n",
       "    }\n",
       "\n",
       "    .dataframe tbody tr th {\n",
       "        vertical-align: top;\n",
       "    }\n",
       "\n",
       "    .dataframe thead th {\n",
       "        text-align: right;\n",
       "    }\n",
       "</style>\n",
       "<table border=\"1\" class=\"dataframe\">\n",
       "  <thead>\n",
       "    <tr style=\"text-align: right;\">\n",
       "      <th></th>\n",
       "      <th>A</th>\n",
       "      <th>B</th>\n",
       "      <th>C</th>\n",
       "      <th>D</th>\n",
       "    </tr>\n",
       "  </thead>\n",
       "  <tbody>\n",
       "    <tr>\n",
       "      <th>2021-04-04</th>\n",
       "      <td>-0.134227</td>\n",
       "      <td>-0.796102</td>\n",
       "      <td>-0.751007</td>\n",
       "      <td>1.732266</td>\n",
       "    </tr>\n",
       "    <tr>\n",
       "      <th>2021-04-05</th>\n",
       "      <td>-0.698915</td>\n",
       "      <td>-0.056523</td>\n",
       "      <td>0.848130</td>\n",
       "      <td>0.922469</td>\n",
       "    </tr>\n",
       "    <tr>\n",
       "      <th>2021-04-08</th>\n",
       "      <td>-0.550998</td>\n",
       "      <td>2.984263</td>\n",
       "      <td>-0.826747</td>\n",
       "      <td>-0.226006</td>\n",
       "    </tr>\n",
       "  </tbody>\n",
       "</table>\n",
       "</div>"
      ],
      "text/plain": [
       "                   A         B         C         D\n",
       "2021-04-04 -0.134227 -0.796102 -0.751007  1.732266\n",
       "2021-04-05 -0.698915 -0.056523  0.848130  0.922469\n",
       "2021-04-08 -0.550998  2.984263 -0.826747 -0.226006"
      ]
     },
     "execution_count": 34,
     "metadata": {},
     "output_type": "execute_result"
    }
   ],
   "source": [
    "df[df[\"A\"]<0] # A列で要素が負のものだけを抽出"
   ]
  },
  {
   "cell_type": "code",
   "execution_count": 35,
   "id": "fiscal-adobe",
   "metadata": {},
   "outputs": [
    {
     "data": {
      "text/html": [
       "<div>\n",
       "<style scoped>\n",
       "    .dataframe tbody tr th:only-of-type {\n",
       "        vertical-align: middle;\n",
       "    }\n",
       "\n",
       "    .dataframe tbody tr th {\n",
       "        vertical-align: top;\n",
       "    }\n",
       "\n",
       "    .dataframe thead th {\n",
       "        text-align: right;\n",
       "    }\n",
       "</style>\n",
       "<table border=\"1\" class=\"dataframe\">\n",
       "  <thead>\n",
       "    <tr style=\"text-align: right;\">\n",
       "      <th></th>\n",
       "      <th>A</th>\n",
       "      <th>B</th>\n",
       "      <th>C</th>\n",
       "      <th>D</th>\n",
       "      <th>E</th>\n",
       "    </tr>\n",
       "  </thead>\n",
       "  <tbody>\n",
       "    <tr>\n",
       "      <th>2021-04-03</th>\n",
       "      <td>0.201045</td>\n",
       "      <td>-2.401098</td>\n",
       "      <td>1.085349</td>\n",
       "      <td>-0.069432</td>\n",
       "      <td>one</td>\n",
       "    </tr>\n",
       "    <tr>\n",
       "      <th>2021-04-04</th>\n",
       "      <td>-0.134227</td>\n",
       "      <td>-0.796102</td>\n",
       "      <td>-0.751007</td>\n",
       "      <td>1.732266</td>\n",
       "      <td>one</td>\n",
       "    </tr>\n",
       "    <tr>\n",
       "      <th>2021-04-05</th>\n",
       "      <td>-0.698915</td>\n",
       "      <td>-0.056523</td>\n",
       "      <td>0.848130</td>\n",
       "      <td>0.922469</td>\n",
       "      <td>two</td>\n",
       "    </tr>\n",
       "    <tr>\n",
       "      <th>2021-04-06</th>\n",
       "      <td>1.492907</td>\n",
       "      <td>0.296633</td>\n",
       "      <td>0.822085</td>\n",
       "      <td>1.407273</td>\n",
       "      <td>three</td>\n",
       "    </tr>\n",
       "    <tr>\n",
       "      <th>2021-04-07</th>\n",
       "      <td>1.091065</td>\n",
       "      <td>0.046103</td>\n",
       "      <td>0.073009</td>\n",
       "      <td>0.250625</td>\n",
       "      <td>four</td>\n",
       "    </tr>\n",
       "    <tr>\n",
       "      <th>2021-04-08</th>\n",
       "      <td>-0.550998</td>\n",
       "      <td>2.984263</td>\n",
       "      <td>-0.826747</td>\n",
       "      <td>-0.226006</td>\n",
       "      <td>three</td>\n",
       "    </tr>\n",
       "  </tbody>\n",
       "</table>\n",
       "</div>"
      ],
      "text/plain": [
       "                   A         B         C         D      E\n",
       "2021-04-03  0.201045 -2.401098  1.085349 -0.069432    one\n",
       "2021-04-04 -0.134227 -0.796102 -0.751007  1.732266    one\n",
       "2021-04-05 -0.698915 -0.056523  0.848130  0.922469    two\n",
       "2021-04-06  1.492907  0.296633  0.822085  1.407273  three\n",
       "2021-04-07  1.091065  0.046103  0.073009  0.250625   four\n",
       "2021-04-08 -0.550998  2.984263 -0.826747 -0.226006  three"
      ]
     },
     "execution_count": 35,
     "metadata": {},
     "output_type": "execute_result"
    }
   ],
   "source": [
    "df2 = df.copy()\n",
    "df2[\"E\"] = [\"one\", \"one\", \"two\", \"three\", \"four\", \"three\"]\n",
    "df2"
   ]
  },
  {
   "cell_type": "markdown",
   "id": "future-dominican",
   "metadata": {},
   "source": [
    "ここで見たように、新しい列を追加することも簡単にできる。ここでは元のデータフレームを壊したくなかったので、`copy`して新しいデータフレームを作成した。元々はA~Dの列しかなかったが、そこに新たにE列を追加することで、簡単に拡張できる。"
   ]
  },
  {
   "cell_type": "code",
   "execution_count": 36,
   "id": "parallel-silicon",
   "metadata": {},
   "outputs": [
    {
     "data": {
      "text/html": [
       "<div>\n",
       "<style scoped>\n",
       "    .dataframe tbody tr th:only-of-type {\n",
       "        vertical-align: middle;\n",
       "    }\n",
       "\n",
       "    .dataframe tbody tr th {\n",
       "        vertical-align: top;\n",
       "    }\n",
       "\n",
       "    .dataframe thead th {\n",
       "        text-align: right;\n",
       "    }\n",
       "</style>\n",
       "<table border=\"1\" class=\"dataframe\">\n",
       "  <thead>\n",
       "    <tr style=\"text-align: right;\">\n",
       "      <th></th>\n",
       "      <th>A</th>\n",
       "      <th>B</th>\n",
       "      <th>C</th>\n",
       "      <th>D</th>\n",
       "      <th>E</th>\n",
       "    </tr>\n",
       "  </thead>\n",
       "  <tbody>\n",
       "    <tr>\n",
       "      <th>2021-04-03</th>\n",
       "      <td>0.201045</td>\n",
       "      <td>-2.401098</td>\n",
       "      <td>1.085349</td>\n",
       "      <td>-0.069432</td>\n",
       "      <td>one</td>\n",
       "    </tr>\n",
       "    <tr>\n",
       "      <th>2021-04-04</th>\n",
       "      <td>-0.134227</td>\n",
       "      <td>-0.796102</td>\n",
       "      <td>-0.751007</td>\n",
       "      <td>1.732266</td>\n",
       "      <td>one</td>\n",
       "    </tr>\n",
       "  </tbody>\n",
       "</table>\n",
       "</div>"
      ],
      "text/plain": [
       "                   A         B         C         D    E\n",
       "2021-04-03  0.201045 -2.401098  1.085349 -0.069432  one\n",
       "2021-04-04 -0.134227 -0.796102 -0.751007  1.732266  one"
      ]
     },
     "execution_count": 36,
     "metadata": {},
     "output_type": "execute_result"
    }
   ],
   "source": [
    "df2[df2[\"E\"]==\"one\"]"
   ]
  },
  {
   "cell_type": "code",
   "execution_count": 37,
   "id": "local-attention",
   "metadata": {},
   "outputs": [
    {
     "data": {
      "text/html": [
       "<div>\n",
       "<style scoped>\n",
       "    .dataframe tbody tr th:only-of-type {\n",
       "        vertical-align: middle;\n",
       "    }\n",
       "\n",
       "    .dataframe tbody tr th {\n",
       "        vertical-align: top;\n",
       "    }\n",
       "\n",
       "    .dataframe thead th {\n",
       "        text-align: right;\n",
       "    }\n",
       "</style>\n",
       "<table border=\"1\" class=\"dataframe\">\n",
       "  <thead>\n",
       "    <tr style=\"text-align: right;\">\n",
       "      <th></th>\n",
       "      <th>A</th>\n",
       "      <th>B</th>\n",
       "      <th>C</th>\n",
       "      <th>D</th>\n",
       "      <th>E</th>\n",
       "    </tr>\n",
       "  </thead>\n",
       "  <tbody>\n",
       "    <tr>\n",
       "      <th>2021-04-05</th>\n",
       "      <td>-0.698915</td>\n",
       "      <td>-0.056523</td>\n",
       "      <td>0.848130</td>\n",
       "      <td>0.922469</td>\n",
       "      <td>two</td>\n",
       "    </tr>\n",
       "    <tr>\n",
       "      <th>2021-04-07</th>\n",
       "      <td>1.091065</td>\n",
       "      <td>0.046103</td>\n",
       "      <td>0.073009</td>\n",
       "      <td>0.250625</td>\n",
       "      <td>four</td>\n",
       "    </tr>\n",
       "  </tbody>\n",
       "</table>\n",
       "</div>"
      ],
      "text/plain": [
       "                   A         B         C         D     E\n",
       "2021-04-05 -0.698915 -0.056523  0.848130  0.922469   two\n",
       "2021-04-07  1.091065  0.046103  0.073009  0.250625  four"
      ]
     },
     "execution_count": 37,
     "metadata": {},
     "output_type": "execute_result"
    }
   ],
   "source": [
    "df2[df2[\"E\"].isin([\"two\", \"four\"])]"
   ]
  },
  {
   "cell_type": "markdown",
   "id": "small-porter",
   "metadata": {},
   "source": [
    "### 図示"
   ]
  },
  {
   "cell_type": "code",
   "execution_count": 38,
   "id": "objective-prince",
   "metadata": {},
   "outputs": [],
   "source": [
    "import matplotlib.pyplot as plt\n",
    "plt.close(\"all\")"
   ]
  },
  {
   "cell_type": "code",
   "execution_count": 39,
   "id": "cutting-teaching",
   "metadata": {},
   "outputs": [
    {
     "data": {
      "text/plain": [
       "2000-01-01    2.323534\n",
       "2000-01-02    0.651773\n",
       "2000-01-03    0.425855\n",
       "2000-01-04   -0.128587\n",
       "2000-01-05   -0.363842\n",
       "                ...   \n",
       "2002-09-22    1.019142\n",
       "2002-09-23    0.378727\n",
       "2002-09-24   -0.194627\n",
       "2002-09-25   -0.289399\n",
       "2002-09-26    0.112483\n",
       "Freq: D, Length: 1000, dtype: float64"
      ]
     },
     "execution_count": 39,
     "metadata": {},
     "output_type": "execute_result"
    }
   ],
   "source": [
    "ts = pd.Series(np.random.randn(1000), index=pd.date_range(\"1/1/2000\", periods=1000))\n",
    "ts"
   ]
  },
  {
   "cell_type": "code",
   "execution_count": 40,
   "id": "upper-brunei",
   "metadata": {},
   "outputs": [
    {
     "data": {
      "text/plain": [
       "2000-01-01     2.323534\n",
       "2000-01-02     2.975307\n",
       "2000-01-03     3.401162\n",
       "2000-01-04     3.272576\n",
       "2000-01-05     2.908733\n",
       "                ...    \n",
       "2002-09-22    32.425007\n",
       "2002-09-23    32.803734\n",
       "2002-09-24    32.609107\n",
       "2002-09-25    32.319709\n",
       "2002-09-26    32.432192\n",
       "Freq: D, Length: 1000, dtype: float64"
      ]
     },
     "execution_count": 40,
     "metadata": {},
     "output_type": "execute_result"
    }
   ],
   "source": [
    "ts.cumsum() # cumulative sum = 累積和"
   ]
  },
  {
   "cell_type": "code",
   "execution_count": 41,
   "id": "liquid-developer",
   "metadata": {},
   "outputs": [
    {
     "data": {
      "text/plain": [
       "<matplotlib.axes._subplots.AxesSubplot at 0x111cc70b8>"
      ]
     },
     "execution_count": 41,
     "metadata": {},
     "output_type": "execute_result"
    },
    {
     "data": {
      "image/png": "[encoded data removed]",
      "text/plain": [
       "<Figure size 432x288 with 1 Axes>"
      ]
     },
     "metadata": {
      "needs_background": "light"
     },
     "output_type": "display_data"
    }
   ],
   "source": [
    "ts.plot()"
   ]
  },
  {
   "cell_type": "code",
   "execution_count": 42,
   "id": "brown-concrete",
   "metadata": {},
   "outputs": [
    {
     "data": {
      "text/plain": [
       "<matplotlib.axes._subplots.AxesSubplot at 0x113e6dc50>"
      ]
     },
     "execution_count": 42,
     "metadata": {},
     "output_type": "execute_result"
    },
    {
     "data": {
      "image/png": "[encoded data removed]",
      "text/plain": [
       "<Figure size 432x288 with 1 Axes>"
      ]
     },
     "metadata": {
      "needs_background": "light"
     },
     "output_type": "display_data"
    }
   ],
   "source": [
    "ts = ts.cumsum()\n",
    "ts.plot()"
   ]
  },
  {
   "cell_type": "code",
   "execution_count": 43,
   "id": "integrated-generator",
   "metadata": {},
   "outputs": [
    {
     "data": {
      "text/html": [
       "<div>\n",
       "<style scoped>\n",
       "    .dataframe tbody tr th:only-of-type {\n",
       "        vertical-align: middle;\n",
       "    }\n",
       "\n",
       "    .dataframe tbody tr th {\n",
       "        vertical-align: top;\n",
       "    }\n",
       "\n",
       "    .dataframe thead th {\n",
       "        text-align: right;\n",
       "    }\n",
       "</style>\n",
       "<table border=\"1\" class=\"dataframe\">\n",
       "  <thead>\n",
       "    <tr style=\"text-align: right;\">\n",
       "      <th></th>\n",
       "      <th>A</th>\n",
       "      <th>B</th>\n",
       "      <th>C</th>\n",
       "      <th>D</th>\n",
       "    </tr>\n",
       "  </thead>\n",
       "  <tbody>\n",
       "    <tr>\n",
       "      <th>2000-01-01</th>\n",
       "      <td>1.578825</td>\n",
       "      <td>-1.476349</td>\n",
       "      <td>-0.781849</td>\n",
       "      <td>0.997237</td>\n",
       "    </tr>\n",
       "    <tr>\n",
       "      <th>2000-01-02</th>\n",
       "      <td>-2.189388</td>\n",
       "      <td>-1.853108</td>\n",
       "      <td>0.949636</td>\n",
       "      <td>0.538523</td>\n",
       "    </tr>\n",
       "    <tr>\n",
       "      <th>2000-01-03</th>\n",
       "      <td>-0.774238</td>\n",
       "      <td>-0.005394</td>\n",
       "      <td>-1.520021</td>\n",
       "      <td>-0.701292</td>\n",
       "    </tr>\n",
       "    <tr>\n",
       "      <th>2000-01-04</th>\n",
       "      <td>-0.865241</td>\n",
       "      <td>-0.583121</td>\n",
       "      <td>0.836844</td>\n",
       "      <td>-0.995746</td>\n",
       "    </tr>\n",
       "    <tr>\n",
       "      <th>2000-01-05</th>\n",
       "      <td>-0.992581</td>\n",
       "      <td>0.571174</td>\n",
       "      <td>-0.317781</td>\n",
       "      <td>0.939269</td>\n",
       "    </tr>\n",
       "    <tr>\n",
       "      <th>...</th>\n",
       "      <td>...</td>\n",
       "      <td>...</td>\n",
       "      <td>...</td>\n",
       "      <td>...</td>\n",
       "    </tr>\n",
       "    <tr>\n",
       "      <th>2002-09-22</th>\n",
       "      <td>-0.639631</td>\n",
       "      <td>-0.248732</td>\n",
       "      <td>2.698039</td>\n",
       "      <td>0.588861</td>\n",
       "    </tr>\n",
       "    <tr>\n",
       "      <th>2002-09-23</th>\n",
       "      <td>0.004637</td>\n",
       "      <td>0.575070</td>\n",
       "      <td>-1.389613</td>\n",
       "      <td>-0.410811</td>\n",
       "    </tr>\n",
       "    <tr>\n",
       "      <th>2002-09-24</th>\n",
       "      <td>0.202760</td>\n",
       "      <td>-1.205558</td>\n",
       "      <td>0.388676</td>\n",
       "      <td>0.939240</td>\n",
       "    </tr>\n",
       "    <tr>\n",
       "      <th>2002-09-25</th>\n",
       "      <td>-0.094618</td>\n",
       "      <td>0.307413</td>\n",
       "      <td>-1.345923</td>\n",
       "      <td>0.484385</td>\n",
       "    </tr>\n",
       "    <tr>\n",
       "      <th>2002-09-26</th>\n",
       "      <td>-2.610096</td>\n",
       "      <td>1.379429</td>\n",
       "      <td>-0.247106</td>\n",
       "      <td>-0.229249</td>\n",
       "    </tr>\n",
       "  </tbody>\n",
       "</table>\n",
       "<p>1000 rows × 4 columns</p>\n",
       "</div>"
      ],
      "text/plain": [
       "                   A         B         C         D\n",
       "2000-01-01  1.578825 -1.476349 -0.781849  0.997237\n",
       "2000-01-02 -2.189388 -1.853108  0.949636  0.538523\n",
       "2000-01-03 -0.774238 -0.005394 -1.520021 -0.701292\n",
       "2000-01-04 -0.865241 -0.583121  0.836844 -0.995746\n",
       "2000-01-05 -0.992581  0.571174 -0.317781  0.939269\n",
       "...              ...       ...       ...       ...\n",
       "2002-09-22 -0.639631 -0.248732  2.698039  0.588861\n",
       "2002-09-23  0.004637  0.575070 -1.389613 -0.410811\n",
       "2002-09-24  0.202760 -1.205558  0.388676  0.939240\n",
       "2002-09-25 -0.094618  0.307413 -1.345923  0.484385\n",
       "2002-09-26 -2.610096  1.379429 -0.247106 -0.229249\n",
       "\n",
       "[1000 rows x 4 columns]"
      ]
     },
     "execution_count": 43,
     "metadata": {},
     "output_type": "execute_result"
    }
   ],
   "source": [
    "df = pd.DataFrame(\n",
    "    np.random.randn(1000, 4), \n",
    "    index=ts.index, \n",
    "    columns=[\"A\", \"B\", \"C\", \"D\"])\n",
    "df"
   ]
  },
  {
   "cell_type": "code",
   "execution_count": 44,
   "id": "elder-playback",
   "metadata": {},
   "outputs": [
    {
     "data": {
      "text/plain": [
       "<matplotlib.legend.Legend at 0x11400fe80>"
      ]
     },
     "execution_count": 44,
     "metadata": {},
     "output_type": "execute_result"
    },
    {
     "data": {
      "text/plain": [
       "<Figure size 432x288 with 0 Axes>"
      ]
     },
     "metadata": {},
     "output_type": "display_data"
    },
    {
     "data": {
      "image/png": "[encoded data removed]",
      "text/plain": [
       "<Figure size 432x288 with 1 Axes>"
      ]
     },
     "metadata": {
      "needs_background": "light"
     },
     "output_type": "display_data"
    }
   ],
   "source": [
    "df = df.cumsum()\n",
    "plt.figure()\n",
    "df.plot()\n",
    "plt.legend(loc=\"best\")"
   ]
  },
  {
   "cell_type": "markdown",
   "id": "looking-fifth",
   "metadata": {},
   "source": [
    "## 比較\n",
    "- 2つの表を比較して、"
   ]
  },
  {
   "cell_type": "code",
   "execution_count": 125,
   "id": "continuous-january",
   "metadata": {},
   "outputs": [],
   "source": [
    "np.random.seed(123); df1 = pd.DataFrame(np.random.randn(5,5), columns=list(\"ABCDE\"))\n",
    "np.random.seed(123); df2_1 = pd.DataFrame(np.random.randn(2,3))\n",
    "np.random.seed(456); df2_2 = pd.DataFrame(np.random.randn(3,3))\n",
    "np.random.seed(789); df2_3 = pd.DataFrame(np.random.randn(5,2))\n",
    "\n",
    "df2 = pd.concat([df2_1.append(df2_2).reset_index(drop=True), df2_3], axis=1)\n",
    "df2.columns = list(\"ABCDE\")"
   ]
  },
  {
   "cell_type": "code",
   "execution_count": 126,
   "id": "exciting-colombia",
   "metadata": {},
   "outputs": [
    {
     "data": {
      "text/html": [
       "<div>\n",
       "<style scoped>\n",
       "    .dataframe tbody tr th:only-of-type {\n",
       "        vertical-align: middle;\n",
       "    }\n",
       "\n",
       "    .dataframe tbody tr th {\n",
       "        vertical-align: top;\n",
       "    }\n",
       "\n",
       "    .dataframe thead th {\n",
       "        text-align: right;\n",
       "    }\n",
       "</style>\n",
       "<table border=\"1\" class=\"dataframe\">\n",
       "  <thead>\n",
       "    <tr style=\"text-align: right;\">\n",
       "      <th></th>\n",
       "      <th>A</th>\n",
       "      <th>B</th>\n",
       "      <th>C</th>\n",
       "      <th>D</th>\n",
       "      <th>E</th>\n",
       "    </tr>\n",
       "  </thead>\n",
       "  <tbody>\n",
       "    <tr>\n",
       "      <th>0</th>\n",
       "      <td>-1.085631</td>\n",
       "      <td>0.997345</td>\n",
       "      <td>0.282978</td>\n",
       "      <td>-1.506295</td>\n",
       "      <td>-0.578600</td>\n",
       "    </tr>\n",
       "    <tr>\n",
       "      <th>1</th>\n",
       "      <td>1.651437</td>\n",
       "      <td>-2.426679</td>\n",
       "      <td>-0.428913</td>\n",
       "      <td>1.265936</td>\n",
       "      <td>-0.866740</td>\n",
       "    </tr>\n",
       "    <tr>\n",
       "      <th>2</th>\n",
       "      <td>-0.678886</td>\n",
       "      <td>-0.094709</td>\n",
       "      <td>1.491390</td>\n",
       "      <td>-0.638902</td>\n",
       "      <td>-0.443982</td>\n",
       "    </tr>\n",
       "    <tr>\n",
       "      <th>3</th>\n",
       "      <td>-0.434351</td>\n",
       "      <td>2.205930</td>\n",
       "      <td>2.186786</td>\n",
       "      <td>1.004054</td>\n",
       "      <td>0.386186</td>\n",
       "    </tr>\n",
       "    <tr>\n",
       "      <th>4</th>\n",
       "      <td>0.737369</td>\n",
       "      <td>1.490732</td>\n",
       "      <td>-0.935834</td>\n",
       "      <td>1.175829</td>\n",
       "      <td>-1.253881</td>\n",
       "    </tr>\n",
       "  </tbody>\n",
       "</table>\n",
       "</div>"
      ],
      "text/plain": [
       "          A         B         C         D         E\n",
       "0 -1.085631  0.997345  0.282978 -1.506295 -0.578600\n",
       "1  1.651437 -2.426679 -0.428913  1.265936 -0.866740\n",
       "2 -0.678886 -0.094709  1.491390 -0.638902 -0.443982\n",
       "3 -0.434351  2.205930  2.186786  1.004054  0.386186\n",
       "4  0.737369  1.490732 -0.935834  1.175829 -1.253881"
      ]
     },
     "execution_count": 126,
     "metadata": {},
     "output_type": "execute_result"
    }
   ],
   "source": [
    "df1"
   ]
  },
  {
   "cell_type": "code",
   "execution_count": 127,
   "id": "sporting-oxide",
   "metadata": {},
   "outputs": [
    {
     "data": {
      "text/html": [
       "<div>\n",
       "<style scoped>\n",
       "    .dataframe tbody tr th:only-of-type {\n",
       "        vertical-align: middle;\n",
       "    }\n",
       "\n",
       "    .dataframe tbody tr th {\n",
       "        vertical-align: top;\n",
       "    }\n",
       "\n",
       "    .dataframe thead th {\n",
       "        text-align: right;\n",
       "    }\n",
       "</style>\n",
       "<table border=\"1\" class=\"dataframe\">\n",
       "  <thead>\n",
       "    <tr style=\"text-align: right;\">\n",
       "      <th></th>\n",
       "      <th>A</th>\n",
       "      <th>B</th>\n",
       "      <th>C</th>\n",
       "      <th>D</th>\n",
       "      <th>E</th>\n",
       "    </tr>\n",
       "  </thead>\n",
       "  <tbody>\n",
       "    <tr>\n",
       "      <th>0</th>\n",
       "      <td>-1.085631</td>\n",
       "      <td>0.997345</td>\n",
       "      <td>0.282978</td>\n",
       "      <td>-1.108111</td>\n",
       "      <td>-0.725719</td>\n",
       "    </tr>\n",
       "    <tr>\n",
       "      <th>1</th>\n",
       "      <td>-1.506295</td>\n",
       "      <td>-0.578600</td>\n",
       "      <td>1.651437</td>\n",
       "      <td>0.522804</td>\n",
       "      <td>1.234442</td>\n",
       "    </tr>\n",
       "    <tr>\n",
       "      <th>2</th>\n",
       "      <td>-0.668129</td>\n",
       "      <td>-0.498210</td>\n",
       "      <td>0.618576</td>\n",
       "      <td>0.096896</td>\n",
       "      <td>-0.987922</td>\n",
       "    </tr>\n",
       "    <tr>\n",
       "      <th>3</th>\n",
       "      <td>0.568692</td>\n",
       "      <td>1.350509</td>\n",
       "      <td>1.629589</td>\n",
       "      <td>0.067233</td>\n",
       "      <td>-0.592592</td>\n",
       "    </tr>\n",
       "    <tr>\n",
       "      <th>4</th>\n",
       "      <td>0.301966</td>\n",
       "      <td>0.449483</td>\n",
       "      <td>-0.345811</td>\n",
       "      <td>-0.931771</td>\n",
       "      <td>1.055363</td>\n",
       "    </tr>\n",
       "  </tbody>\n",
       "</table>\n",
       "</div>"
      ],
      "text/plain": [
       "          A         B         C         D         E\n",
       "0 -1.085631  0.997345  0.282978 -1.108111 -0.725719\n",
       "1 -1.506295 -0.578600  1.651437  0.522804  1.234442\n",
       "2 -0.668129 -0.498210  0.618576  0.096896 -0.987922\n",
       "3  0.568692  1.350509  1.629589  0.067233 -0.592592\n",
       "4  0.301966  0.449483 -0.345811 -0.931771  1.055363"
      ]
     },
     "execution_count": 127,
     "metadata": {},
     "output_type": "execute_result"
    }
   ],
   "source": [
    "df2"
   ]
  },
  {
   "cell_type": "code",
   "execution_count": 110,
   "id": "italic-procedure",
   "metadata": {},
   "outputs": [
    {
     "data": {
      "text/html": [
       "<div>\n",
       "<style scoped>\n",
       "    .dataframe tbody tr th:only-of-type {\n",
       "        vertical-align: middle;\n",
       "    }\n",
       "\n",
       "    .dataframe tbody tr th {\n",
       "        vertical-align: top;\n",
       "    }\n",
       "\n",
       "    .dataframe thead th {\n",
       "        text-align: right;\n",
       "    }\n",
       "</style>\n",
       "<table border=\"1\" class=\"dataframe\">\n",
       "  <thead>\n",
       "    <tr style=\"text-align: right;\">\n",
       "      <th></th>\n",
       "      <th>0</th>\n",
       "      <th>1</th>\n",
       "      <th>2</th>\n",
       "      <th>3</th>\n",
       "      <th>4</th>\n",
       "    </tr>\n",
       "  </thead>\n",
       "  <tbody>\n",
       "    <tr>\n",
       "      <th>0</th>\n",
       "      <td>True</td>\n",
       "      <td>True</td>\n",
       "      <td>True</td>\n",
       "      <td>False</td>\n",
       "      <td>False</td>\n",
       "    </tr>\n",
       "    <tr>\n",
       "      <th>1</th>\n",
       "      <td>False</td>\n",
       "      <td>False</td>\n",
       "      <td>False</td>\n",
       "      <td>False</td>\n",
       "      <td>False</td>\n",
       "    </tr>\n",
       "    <tr>\n",
       "      <th>2</th>\n",
       "      <td>False</td>\n",
       "      <td>False</td>\n",
       "      <td>False</td>\n",
       "      <td>False</td>\n",
       "      <td>False</td>\n",
       "    </tr>\n",
       "    <tr>\n",
       "      <th>3</th>\n",
       "      <td>False</td>\n",
       "      <td>False</td>\n",
       "      <td>False</td>\n",
       "      <td>False</td>\n",
       "      <td>False</td>\n",
       "    </tr>\n",
       "    <tr>\n",
       "      <th>4</th>\n",
       "      <td>False</td>\n",
       "      <td>False</td>\n",
       "      <td>False</td>\n",
       "      <td>False</td>\n",
       "      <td>False</td>\n",
       "    </tr>\n",
       "  </tbody>\n",
       "</table>\n",
       "</div>"
      ],
      "text/plain": [
       "       0      1      2      3      4\n",
       "0   True   True   True  False  False\n",
       "1  False  False  False  False  False\n",
       "2  False  False  False  False  False\n",
       "3  False  False  False  False  False\n",
       "4  False  False  False  False  False"
      ]
     },
     "execution_count": 110,
     "metadata": {},
     "output_type": "execute_result"
    }
   ],
   "source": [
    "df1 == df2"
   ]
  },
  {
   "cell_type": "code",
   "execution_count": 111,
   "id": "enclosed-earth",
   "metadata": {},
   "outputs": [
    {
     "data": {
      "text/html": [
       "<div>\n",
       "<style scoped>\n",
       "    .dataframe tbody tr th:only-of-type {\n",
       "        vertical-align: middle;\n",
       "    }\n",
       "\n",
       "    .dataframe tbody tr th {\n",
       "        vertical-align: top;\n",
       "    }\n",
       "\n",
       "    .dataframe thead th {\n",
       "        text-align: right;\n",
       "    }\n",
       "</style>\n",
       "<table border=\"1\" class=\"dataframe\">\n",
       "  <thead>\n",
       "    <tr style=\"text-align: right;\">\n",
       "      <th></th>\n",
       "      <th>0</th>\n",
       "      <th>1</th>\n",
       "      <th>2</th>\n",
       "      <th>3</th>\n",
       "      <th>4</th>\n",
       "    </tr>\n",
       "  </thead>\n",
       "  <tbody>\n",
       "    <tr>\n",
       "      <th>0</th>\n",
       "      <td>True</td>\n",
       "      <td>True</td>\n",
       "      <td>True</td>\n",
       "      <td>False</td>\n",
       "      <td>False</td>\n",
       "    </tr>\n",
       "    <tr>\n",
       "      <th>1</th>\n",
       "      <td>False</td>\n",
       "      <td>False</td>\n",
       "      <td>False</td>\n",
       "      <td>False</td>\n",
       "      <td>False</td>\n",
       "    </tr>\n",
       "    <tr>\n",
       "      <th>2</th>\n",
       "      <td>False</td>\n",
       "      <td>False</td>\n",
       "      <td>False</td>\n",
       "      <td>False</td>\n",
       "      <td>False</td>\n",
       "    </tr>\n",
       "    <tr>\n",
       "      <th>3</th>\n",
       "      <td>False</td>\n",
       "      <td>False</td>\n",
       "      <td>False</td>\n",
       "      <td>False</td>\n",
       "      <td>False</td>\n",
       "    </tr>\n",
       "    <tr>\n",
       "      <th>4</th>\n",
       "      <td>False</td>\n",
       "      <td>False</td>\n",
       "      <td>False</td>\n",
       "      <td>False</td>\n",
       "      <td>False</td>\n",
       "    </tr>\n",
       "  </tbody>\n",
       "</table>\n",
       "</div>"
      ],
      "text/plain": [
       "       0      1      2      3      4\n",
       "0   True   True   True  False  False\n",
       "1  False  False  False  False  False\n",
       "2  False  False  False  False  False\n",
       "3  False  False  False  False  False\n",
       "4  False  False  False  False  False"
      ]
     },
     "execution_count": 111,
     "metadata": {},
     "output_type": "execute_result"
    }
   ],
   "source": [
    "df_mask = df1==df2\n",
    "df_mask"
   ]
  },
  {
   "cell_type": "code",
   "execution_count": 141,
   "id": "accessory-smith",
   "metadata": {},
   "outputs": [
    {
     "data": {
      "text/html": [
       "<div>\n",
       "<style scoped>\n",
       "    .dataframe tbody tr th:only-of-type {\n",
       "        vertical-align: middle;\n",
       "    }\n",
       "\n",
       "    .dataframe tbody tr th {\n",
       "        vertical-align: top;\n",
       "    }\n",
       "\n",
       "    .dataframe thead th {\n",
       "        text-align: right;\n",
       "    }\n",
       "</style>\n",
       "<table border=\"1\" class=\"dataframe\">\n",
       "  <thead>\n",
       "    <tr style=\"text-align: right;\">\n",
       "      <th></th>\n",
       "      <th>0</th>\n",
       "      <th>1</th>\n",
       "      <th>2</th>\n",
       "      <th>3</th>\n",
       "      <th>4</th>\n",
       "    </tr>\n",
       "  </thead>\n",
       "  <tbody>\n",
       "    <tr>\n",
       "      <th>0</th>\n",
       "      <td>True</td>\n",
       "      <td>True</td>\n",
       "      <td>True</td>\n",
       "      <td>1</td>\n",
       "      <td>1</td>\n",
       "    </tr>\n",
       "    <tr>\n",
       "      <th>1</th>\n",
       "      <td>1</td>\n",
       "      <td>1</td>\n",
       "      <td>1</td>\n",
       "      <td>1</td>\n",
       "      <td>1</td>\n",
       "    </tr>\n",
       "    <tr>\n",
       "      <th>2</th>\n",
       "      <td>1</td>\n",
       "      <td>1</td>\n",
       "      <td>1</td>\n",
       "      <td>1</td>\n",
       "      <td>1</td>\n",
       "    </tr>\n",
       "    <tr>\n",
       "      <th>3</th>\n",
       "      <td>1</td>\n",
       "      <td>1</td>\n",
       "      <td>1</td>\n",
       "      <td>1</td>\n",
       "      <td>1</td>\n",
       "    </tr>\n",
       "    <tr>\n",
       "      <th>4</th>\n",
       "      <td>1</td>\n",
       "      <td>1</td>\n",
       "      <td>1</td>\n",
       "      <td>1</td>\n",
       "      <td>1</td>\n",
       "    </tr>\n",
       "  </tbody>\n",
       "</table>\n",
       "</div>"
      ],
      "text/plain": [
       "      0     1     2  3  4\n",
       "0  True  True  True  1  1\n",
       "1     1     1     1  1  1\n",
       "2     1     1     1  1  1\n",
       "3     1     1     1  1  1\n",
       "4     1     1     1  1  1"
      ]
     },
     "execution_count": 141,
     "metadata": {},
     "output_type": "execute_result"
    }
   ],
   "source": [
    "df_mask.where(df_mask==True, 1)"
   ]
  },
  {
   "cell_type": "code",
   "execution_count": 143,
   "id": "personal-greek",
   "metadata": {},
   "outputs": [
    {
     "data": {
      "text/plain": [
       "array([[1, 1, 1, 0, 0],\n",
       "       [0, 0, 0, 0, 0],\n",
       "       [0, 0, 0, 0, 0],\n",
       "       [0, 0, 0, 0, 0],\n",
       "       [0, 0, 0, 0, 0]])"
      ]
     },
     "execution_count": 143,
     "metadata": {},
     "output_type": "execute_result"
    }
   ],
   "source": [
    "import numpy as np\n",
    "dfnpnp.where(df_mask==True, 1, 0)"
   ]
  },
  {
   "cell_type": "code",
   "execution_count": 119,
   "id": "studied-found",
   "metadata": {},
   "outputs": [
    {
     "ename": "AttributeError",
     "evalue": "'DataFrame' object has no attribute 'comapre'",
     "output_type": "error",
     "traceback": [
      "\u001b[0;31m---------------------------------------------------------------------------\u001b[0m",
      "\u001b[0;31mAttributeError\u001b[0m                            Traceback (most recent call last)",
      "\u001b[0;32m<ipython-input-119-bd07227d36d9>\u001b[0m in \u001b[0;36m<module>\u001b[0;34m\u001b[0m\n\u001b[0;32m----> 1\u001b[0;31m \u001b[0mdf1\u001b[0m\u001b[0;34m.\u001b[0m\u001b[0mcomapre\u001b[0m\u001b[0;34m(\u001b[0m\u001b[0mdf2\u001b[0m\u001b[0;34m)\u001b[0m\u001b[0;34m\u001b[0m\u001b[0;34m\u001b[0m\u001b[0m\n\u001b[0m",
      "\u001b[0;32m~/.pyenv/versions/3.7.3/lib/python3.7/site-packages/pandas/core/generic.py\u001b[0m in \u001b[0;36m__getattr__\u001b[0;34m(self, name)\u001b[0m\n\u001b[1;32m   5272\u001b[0m             \u001b[0;32mif\u001b[0m \u001b[0mself\u001b[0m\u001b[0;34m.\u001b[0m\u001b[0m_info_axis\u001b[0m\u001b[0;34m.\u001b[0m\u001b[0m_can_hold_identifiers_and_holds_name\u001b[0m\u001b[0;34m(\u001b[0m\u001b[0mname\u001b[0m\u001b[0;34m)\u001b[0m\u001b[0;34m:\u001b[0m\u001b[0;34m\u001b[0m\u001b[0;34m\u001b[0m\u001b[0m\n\u001b[1;32m   5273\u001b[0m                 \u001b[0;32mreturn\u001b[0m \u001b[0mself\u001b[0m\u001b[0;34m[\u001b[0m\u001b[0mname\u001b[0m\u001b[0;34m]\u001b[0m\u001b[0;34m\u001b[0m\u001b[0;34m\u001b[0m\u001b[0m\n\u001b[0;32m-> 5274\u001b[0;31m             \u001b[0;32mreturn\u001b[0m \u001b[0mobject\u001b[0m\u001b[0;34m.\u001b[0m\u001b[0m__getattribute__\u001b[0m\u001b[0;34m(\u001b[0m\u001b[0mself\u001b[0m\u001b[0;34m,\u001b[0m \u001b[0mname\u001b[0m\u001b[0;34m)\u001b[0m\u001b[0;34m\u001b[0m\u001b[0;34m\u001b[0m\u001b[0m\n\u001b[0m\u001b[1;32m   5275\u001b[0m \u001b[0;34m\u001b[0m\u001b[0m\n\u001b[1;32m   5276\u001b[0m     \u001b[0;32mdef\u001b[0m \u001b[0m__setattr__\u001b[0m\u001b[0;34m(\u001b[0m\u001b[0mself\u001b[0m\u001b[0;34m,\u001b[0m \u001b[0mname\u001b[0m\u001b[0;34m:\u001b[0m \u001b[0mstr\u001b[0m\u001b[0;34m,\u001b[0m \u001b[0mvalue\u001b[0m\u001b[0;34m)\u001b[0m \u001b[0;34m->\u001b[0m \u001b[0;32mNone\u001b[0m\u001b[0;34m:\u001b[0m\u001b[0;34m\u001b[0m\u001b[0;34m\u001b[0m\u001b[0m\n",
      "\u001b[0;31mAttributeError\u001b[0m: 'DataFrame' object has no attribute 'comapre'"
     ]
    }
   ],
   "source": [
    "df1.comapre(df2)"
   ]
  },
  {
   "cell_type": "code",
   "execution_count": 136,
   "id": "parallel-davis",
   "metadata": {},
   "outputs": [
    {
     "name": "stdout",
     "output_type": "stream",
     "text": [
      "Pandas(Index=0, A=-1.0856306033005612, B=0.9973454465835858, C=0.28297849805199204, D=-1.506294713918092, E=-0.5786002519685364)\n",
      "Pandas(Index=1, A=1.651436537097151, B=-2.426679243393074, C=-0.42891262885617726, D=1.265936258705534, E=-0.8667404022651017)\n",
      "Pandas(Index=2, A=-0.6788861516220543, B=-0.09470896893689112, C=1.4913896261242878, D=-0.638901996684651, E=-0.44398195964606546)\n",
      "Pandas(Index=3, A=-0.43435127561851733, B=2.2059300827254558, C=2.1867860889737867, D=1.004053897878877, E=0.386186399174856)\n",
      "Pandas(Index=4, A=0.7373685758962422, B=1.490732028150799, C=-0.9358338684023914, D=1.1758290447821034, E=-1.2538806677490124)\n"
     ]
    }
   ],
   "source": [
    "for row in df1.itertuples():\n",
    "    print(row)"
   ]
  },
  {
   "cell_type": "markdown",
   "id": "convinced-placement",
   "metadata": {},
   "source": [
    "# API\n",
    "- concat\n",
    "- reset_index\n",
    "- df.columns = [x,x,x,...]"
   ]
  },
  {
   "cell_type": "markdown",
   "id": "valued-reliance",
   "metadata": {},
   "source": [
    "### where"
   ]
  },
  {
   "cell_type": "code",
   "execution_count": null,
   "id": "european-wisdom",
   "metadata": {},
   "outputs": [],
   "source": []
  }
 ],
 "metadata": {
  "kernelspec": {
   "display_name": "Python 3",
   "language": "python",
   "name": "python3"
  },
  "language_info": {
   "codemirror_mode": {
    "name": "ipython",
    "version": 3
   },
   "file_extension": ".py",
   "mimetype": "text/x-python",
   "name": "python",
   "nbconvert_exporter": "python",
   "pygments_lexer": "ipython3",
   "version": "3.7.3"
  }
 },
 "nbformat": 4,
 "nbformat_minor": 5
}
