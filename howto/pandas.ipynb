{
 "cells": [
  {
   "cell_type": "markdown",
   "id": "maritime-rally",
   "metadata": {
    "toc": true
   },
   "source": [
    "<h1>Table of Contents<span class=\"tocSkip\"></span></h1>\n",
    "<div class=\"toc\"><ul class=\"toc-item\"><li><span><a href=\"#Pandas\" data-toc-modified-id=\"Pandas-1\">Pandas</a></span></li><li><span><a href=\"#Series\" data-toc-modified-id=\"Series-2\">Series</a></span><ul class=\"toc-item\"><li><ul class=\"toc-item\"><li><span><a href=\"#データへのアクセス\" data-toc-modified-id=\"データへのアクセス-2.0.1\">データへのアクセス</a></span></li></ul></li></ul></li><li><span><a href=\"#DataFrame\" data-toc-modified-id=\"DataFrame-3\">DataFrame</a></span><ul class=\"toc-item\"><li><span><a href=\"#初期化\" data-toc-modified-id=\"初期化-3.1\">初期化</a></span></li><li><span><a href=\"#データへのアクセスの仕方\" data-toc-modified-id=\"データへのアクセスの仕方-3.2\">データへのアクセスの仕方</a></span><ul class=\"toc-item\"><li><span><a href=\"#列にアクセス\" data-toc-modified-id=\"列にアクセス-3.2.1\">列にアクセス</a></span></li><li><span><a href=\"#行にアクセス\" data-toc-modified-id=\"行にアクセス-3.2.2\">行にアクセス</a></span></li></ul></li><li><span><a href=\"#データ選別\" data-toc-modified-id=\"データ選別-3.3\">データ選別</a></span><ul class=\"toc-item\"><li><span><a href=\"#2つのDataFrameを比較する\" data-toc-modified-id=\"2つのDataFrameを比較する-3.3.1\">2つのDataFrameを比較する</a></span></li></ul></li><li><span><a href=\"#共通の部分を探す\" data-toc-modified-id=\"共通の部分を探す-3.4\">共通の部分を探す</a></span></li><li><span><a href=\"#図示\" data-toc-modified-id=\"図示-3.5\">図示</a></span></li><li><span><a href=\"#比較\" data-toc-modified-id=\"比較-3.6\">比較</a></span></li></ul></li><li><span><a href=\"#API\" data-toc-modified-id=\"API-4\">API</a></span><ul class=\"toc-item\"><li><ul class=\"toc-item\"><li><span><a href=\"#where\" data-toc-modified-id=\"where-4.0.1\">where</a></span></li></ul></li></ul></li><li><span><a href=\"#MultiIndex\" data-toc-modified-id=\"MultiIndex-5\">MultiIndex</a></span></li><li><span><a href=\"#実行速度について\" data-toc-modified-id=\"実行速度について-6\">実行速度について</a></span><ul class=\"toc-item\"><li><span><a href=\"#データの準備\" data-toc-modified-id=\"データの準備-6.1\">データの準備</a></span></li></ul></li><li><span><a href=\"#MultiIndex\" data-toc-modified-id=\"MultiIndex-7\">MultiIndex</a></span><ul class=\"toc-item\"><li><span><a href=\"#列を取得\" data-toc-modified-id=\"列を取得-7.1\">列を取得</a></span><ul class=\"toc-item\"><li><span><a href=\"#1970年のデータを取得\" data-toc-modified-id=\"1970年のデータを取得-7.1.1\">1970年のデータを取得</a></span></li><li><span><a href=\"#1970年の総数を取得\" data-toc-modified-id=\"1970年の総数を取得-7.1.2\">1970年の総数を取得</a></span></li><li><span><a href=\"#アンチパターン\" data-toc-modified-id=\"アンチパターン-7.1.3\">アンチパターン</a></span></li><li><span><a href=\"#xs-メソッド\" data-toc-modified-id=\"xs-メソッド-7.1.4\">xs メソッド</a></span></li><li><span><a href=\"#1970年の複数のカラムを指定\" data-toc-modified-id=\"1970年の複数のカラムを指定-7.1.5\">1970年の複数のカラムを指定</a></span></li></ul></li></ul></li></ul></div>"
   ]
  },
  {
   "cell_type": "markdown",
   "id": "peripheral-level",
   "metadata": {},
   "source": [
    "# Pandas\n",
    "\n",
    "Python Data Analysis Library （Pandas）、データを扱うために使用されるライブラリである。1次元のデータ構造を表現する `Series` と、2次元のテーブルを表す `DataFrame` に分けられる。"
   ]
  },
  {
   "cell_type": "code",
   "execution_count": 1,
   "id": "peripheral-destination",
   "metadata": {},
   "outputs": [],
   "source": [
    "import numpy as np\n",
    "import pandas as pd"
   ]
  },
  {
   "cell_type": "markdown",
   "id": "celtic-purpose",
   "metadata": {},
   "source": [
    "# Series\n",
    "\n",
    "1次元のデータを格納することのできるクラス。\n",
    "\n",
    "```python\n",
    "s = pd.Series(data, index=index)\n",
    "```\n",
    "\n",
    "- data：一般的なオブジェクトを取れる（dict型、ndarray, 数値）\n",
    "- index：データのインデックスを指定する"
   ]
  },
  {
   "cell_type": "code",
   "execution_count": 2,
   "id": "suspected-costa",
   "metadata": {},
   "outputs": [
    {
     "data": {
      "text/plain": [
       "0   -0.185884\n",
       "1    0.252301\n",
       "2   -0.289638\n",
       "3    0.902231\n",
       "4   -1.217606\n",
       "dtype: float64"
      ]
     },
     "execution_count": 2,
     "metadata": {},
     "output_type": "execute_result"
    }
   ],
   "source": [
    "s = pd.Series(np.random.randn(5))\n",
    "s"
   ]
  },
  {
   "cell_type": "markdown",
   "id": "weighted-legislature",
   "metadata": {},
   "source": [
    "`index`引数に任意のリストを渡すと、任意の文字列をインデックスに指定することもできる。"
   ]
  },
  {
   "cell_type": "code",
   "execution_count": 3,
   "id": "automated-correspondence",
   "metadata": {},
   "outputs": [
    {
     "name": "stdout",
     "output_type": "stream",
     "text": [
      "a   -2.146277\n",
      "b   -0.229142\n",
      "c   -0.262630\n",
      "d   -0.153387\n",
      "e    1.031823\n",
      "dtype: float64 \n",
      "\n",
      "Index(['a', 'b', 'c', 'd', 'e'], dtype='object')\n",
      "a\n",
      "5\n"
     ]
    }
   ],
   "source": [
    "s = pd.Series(np.random.randn(5), index=[\"a\", \"b\", \"c\", \"d\", \"e\"])\n",
    "\n",
    "print(s, \"\\n\")\n",
    "print(s.index)        # index の表示\n",
    "print(s.index[0])    # indexの0要素目にアクセス\n",
    "print(len(s.index)) # index配列の長さ"
   ]
  },
  {
   "cell_type": "markdown",
   "id": "composed-tribe",
   "metadata": {},
   "source": [
    "pandasではインデックスを一意でない付け方も可能であることに留意。重複したインデックスにアクセスすると、`Series`として取ってこれる。"
   ]
  },
  {
   "cell_type": "code",
   "execution_count": 4,
   "id": "official-poison",
   "metadata": {},
   "outputs": [
    {
     "data": {
      "text/plain": [
       "A   -0.868996\n",
       "A   -0.742960\n",
       "B   -0.173595\n",
       "B    0.925025\n",
       "C    0.353791\n",
       "C    1.488251\n",
       "dtype: float64"
      ]
     },
     "execution_count": 4,
     "metadata": {},
     "output_type": "execute_result"
    }
   ],
   "source": [
    "s = pd.Series(np.random.randn(6), index=list(\"AABBCC\"))\n",
    "s"
   ]
  },
  {
   "cell_type": "code",
   "execution_count": 5,
   "id": "activated-writer",
   "metadata": {},
   "outputs": [
    {
     "name": "stdout",
     "output_type": "stream",
     "text": [
      "<class 'pandas.core.series.Series'>\n",
      "A   -0.868996\n",
      "A   -0.742960\n",
      "dtype: float64\n"
     ]
    }
   ],
   "source": [
    "print(type(s[\"A\"]))\n",
    "print(s[\"A\"])"
   ]
  },
  {
   "cell_type": "markdown",
   "id": "fewer-judges",
   "metadata": {},
   "source": [
    "dict型から`Serires`を作ることもできる。"
   ]
  },
  {
   "cell_type": "code",
   "execution_count": 6,
   "id": "developing-colleague",
   "metadata": {},
   "outputs": [
    {
     "data": {
      "text/plain": [
       "b    1\n",
       "a    0\n",
       "c    2\n",
       "dtype: int64"
      ]
     },
     "execution_count": 6,
     "metadata": {},
     "output_type": "execute_result"
    }
   ],
   "source": [
    "pd.Series({\"b\":1, \"a\": 0, \"c\":2})"
   ]
  },
  {
   "cell_type": "markdown",
   "id": "interim-parts",
   "metadata": {},
   "source": [
    "### データへのアクセス"
   ]
  },
  {
   "cell_type": "code",
   "execution_count": 7,
   "id": "included-economics",
   "metadata": {},
   "outputs": [
    {
     "data": {
      "text/plain": [
       "A    0.227446\n",
       "B   -0.325589\n",
       "C    0.241404\n",
       "D   -0.973644\n",
       "E    0.949251\n",
       "dtype: float64"
      ]
     },
     "execution_count": 7,
     "metadata": {},
     "output_type": "execute_result"
    }
   ],
   "source": [
    "s = pd.Series(np.random.randn(5), index=list(\"ABCDE\"))\n",
    "s"
   ]
  },
  {
   "cell_type": "code",
   "execution_count": 8,
   "id": "marked-determination",
   "metadata": {},
   "outputs": [
    {
     "name": "stdout",
     "output_type": "stream",
     "text": [
      "<class 'numpy.float64'>\n",
      "<class 'numpy.float64'>\n",
      "<class 'pandas.core.series.Series'>\n",
      "<class 'pandas.core.series.Series'>\n"
     ]
    }
   ],
   "source": [
    "print(type(s[0]))\n",
    "print(type(s[\"A\"]))\n",
    "print(type(s[0:2]))\n",
    "print(type(s[[1,2,3]]))"
   ]
  },
  {
   "cell_type": "markdown",
   "id": "built-newton",
   "metadata": {},
   "source": [
    "インデックスに無い要素にアクセスすると `KeyError` が出るが、 `get` メソッドを使うことで回避できる。存在しないキーにアクセスしたときに返す値を定義することができる。"
   ]
  },
  {
   "cell_type": "code",
   "execution_count": 9,
   "id": "ecological-priority",
   "metadata": {},
   "outputs": [
    {
     "data": {
      "text/plain": [
       "nan"
      ]
     },
     "execution_count": 9,
     "metadata": {},
     "output_type": "execute_result"
    }
   ],
   "source": [
    "s.get(6, np.nan)"
   ]
  },
  {
   "cell_type": "markdown",
   "id": "northern-representative",
   "metadata": {},
   "source": [
    "インデックス無しで要素にアクセスしたいとき（何か計算したりするとき）、Seriesから単なる配列を取り出すことができる。"
   ]
  },
  {
   "cell_type": "code",
   "execution_count": 10,
   "id": "minute-christianity",
   "metadata": {},
   "outputs": [
    {
     "data": {
      "text/plain": [
       "<PandasArray>\n",
       "[  1.672136393767913,  1.5597954766041164, 0.19153461672425642,\n",
       "  0.7632269386787063,  0.2739078158753302]\n",
       "Length: 5, dtype: float64"
      ]
     },
     "execution_count": 10,
     "metadata": {},
     "output_type": "execute_result"
    }
   ],
   "source": [
    "s = pd.Series(np.random.randn(5))\n",
    "s.array"
   ]
  },
  {
   "cell_type": "markdown",
   "id": "banner-vessel",
   "metadata": {},
   "source": [
    "また、Numpyにも変換することができる。"
   ]
  },
  {
   "cell_type": "code",
   "execution_count": 11,
   "id": "postal-tender",
   "metadata": {},
   "outputs": [
    {
     "data": {
      "text/plain": [
       "array([1.67213639, 1.55979548, 0.19153462, 0.76322694, 0.27390782])"
      ]
     },
     "execution_count": 11,
     "metadata": {},
     "output_type": "execute_result"
    }
   ],
   "source": [
    "s.to_numpy()"
   ]
  },
  {
   "cell_type": "code",
   "execution_count": 12,
   "id": "judicial-alcohol",
   "metadata": {},
   "outputs": [
    {
     "data": {
      "text/plain": [
       "0    1.672136\n",
       "1    1.559795\n",
       "2    0.191535\n",
       "3    0.763227\n",
       "4    0.273908\n",
       "dtype: float64"
      ]
     },
     "execution_count": 12,
     "metadata": {},
     "output_type": "execute_result"
    }
   ],
   "source": [
    "s"
   ]
  },
  {
   "cell_type": "code",
   "execution_count": 13,
   "id": "usual-model",
   "metadata": {},
   "outputs": [
    {
     "data": {
      "text/plain": [
       "0     True\n",
       "1     True\n",
       "2    False\n",
       "3    False\n",
       "4    False\n",
       "dtype: bool"
      ]
     },
     "execution_count": 13,
     "metadata": {},
     "output_type": "execute_result"
    }
   ],
   "source": [
    "s > s.median()"
   ]
  },
  {
   "cell_type": "markdown",
   "id": "scientific-kidney",
   "metadata": {},
   "source": [
    "# DataFrame\n",
    "\n",
    "2次元のデータ（=表）を格納することのできるクラス。\n",
    "\n",
    "- index：行番号\n",
    "- columns：列番号"
   ]
  },
  {
   "cell_type": "markdown",
   "id": "crazy-buddy",
   "metadata": {},
   "source": [
    "## 初期化"
   ]
  },
  {
   "cell_type": "code",
   "execution_count": 14,
   "id": "indian-demographic",
   "metadata": {},
   "outputs": [
    {
     "data": {
      "text/html": [
       "<div>\n",
       "<style scoped>\n",
       "    .dataframe tbody tr th:only-of-type {\n",
       "        vertical-align: middle;\n",
       "    }\n",
       "\n",
       "    .dataframe tbody tr th {\n",
       "        vertical-align: top;\n",
       "    }\n",
       "\n",
       "    .dataframe thead th {\n",
       "        text-align: right;\n",
       "    }\n",
       "</style>\n",
       "<table border=\"1\" class=\"dataframe\">\n",
       "  <thead>\n",
       "    <tr style=\"text-align: right;\">\n",
       "      <th></th>\n",
       "      <th>0</th>\n",
       "      <th>1</th>\n",
       "      <th>2</th>\n",
       "      <th>3</th>\n",
       "    </tr>\n",
       "  </thead>\n",
       "  <tbody>\n",
       "    <tr>\n",
       "      <th>0</th>\n",
       "      <td>1.495560</td>\n",
       "      <td>0.325305</td>\n",
       "      <td>-1.455863</td>\n",
       "      <td>0.007684</td>\n",
       "    </tr>\n",
       "    <tr>\n",
       "      <th>1</th>\n",
       "      <td>0.778610</td>\n",
       "      <td>-0.124519</td>\n",
       "      <td>2.384683</td>\n",
       "      <td>-1.090291</td>\n",
       "    </tr>\n",
       "    <tr>\n",
       "      <th>2</th>\n",
       "      <td>0.347929</td>\n",
       "      <td>-0.926109</td>\n",
       "      <td>-1.000018</td>\n",
       "      <td>0.887643</td>\n",
       "    </tr>\n",
       "    <tr>\n",
       "      <th>3</th>\n",
       "      <td>1.424622</td>\n",
       "      <td>1.444148</td>\n",
       "      <td>-1.669367</td>\n",
       "      <td>1.035799</td>\n",
       "    </tr>\n",
       "    <tr>\n",
       "      <th>4</th>\n",
       "      <td>1.083294</td>\n",
       "      <td>0.185178</td>\n",
       "      <td>0.441496</td>\n",
       "      <td>-0.313790</td>\n",
       "    </tr>\n",
       "    <tr>\n",
       "      <th>5</th>\n",
       "      <td>0.050881</td>\n",
       "      <td>-0.987254</td>\n",
       "      <td>0.079192</td>\n",
       "      <td>0.501346</td>\n",
       "    </tr>\n",
       "  </tbody>\n",
       "</table>\n",
       "</div>"
      ],
      "text/plain": [
       "          0         1         2         3\n",
       "0  1.495560  0.325305 -1.455863  0.007684\n",
       "1  0.778610 -0.124519  2.384683 -1.090291\n",
       "2  0.347929 -0.926109 -1.000018  0.887643\n",
       "3  1.424622  1.444148 -1.669367  1.035799\n",
       "4  1.083294  0.185178  0.441496 -0.313790\n",
       "5  0.050881 -0.987254  0.079192  0.501346"
      ]
     },
     "execution_count": 14,
     "metadata": {},
     "output_type": "execute_result"
    }
   ],
   "source": [
    "df = pd.DataFrame(np.random.randn(6,4))\n",
    "df"
   ]
  },
  {
   "cell_type": "markdown",
   "id": "vulnerable-commissioner",
   "metadata": {},
   "source": [
    "デフォルトで列名が数字になっているが、任意の文字列に置き換えることができる （コンストラクタの中でも指定できる）。"
   ]
  },
  {
   "cell_type": "code",
   "execution_count": 15,
   "id": "going-burner",
   "metadata": {},
   "outputs": [
    {
     "data": {
      "text/html": [
       "<div>\n",
       "<style scoped>\n",
       "    .dataframe tbody tr th:only-of-type {\n",
       "        vertical-align: middle;\n",
       "    }\n",
       "\n",
       "    .dataframe tbody tr th {\n",
       "        vertical-align: top;\n",
       "    }\n",
       "\n",
       "    .dataframe thead th {\n",
       "        text-align: right;\n",
       "    }\n",
       "</style>\n",
       "<table border=\"1\" class=\"dataframe\">\n",
       "  <thead>\n",
       "    <tr style=\"text-align: right;\">\n",
       "      <th></th>\n",
       "      <th>A</th>\n",
       "      <th>B</th>\n",
       "      <th>C</th>\n",
       "      <th>D</th>\n",
       "    </tr>\n",
       "  </thead>\n",
       "  <tbody>\n",
       "    <tr>\n",
       "      <th>0</th>\n",
       "      <td>1.495560</td>\n",
       "      <td>0.325305</td>\n",
       "      <td>-1.455863</td>\n",
       "      <td>0.007684</td>\n",
       "    </tr>\n",
       "    <tr>\n",
       "      <th>1</th>\n",
       "      <td>0.778610</td>\n",
       "      <td>-0.124519</td>\n",
       "      <td>2.384683</td>\n",
       "      <td>-1.090291</td>\n",
       "    </tr>\n",
       "    <tr>\n",
       "      <th>2</th>\n",
       "      <td>0.347929</td>\n",
       "      <td>-0.926109</td>\n",
       "      <td>-1.000018</td>\n",
       "      <td>0.887643</td>\n",
       "    </tr>\n",
       "    <tr>\n",
       "      <th>3</th>\n",
       "      <td>1.424622</td>\n",
       "      <td>1.444148</td>\n",
       "      <td>-1.669367</td>\n",
       "      <td>1.035799</td>\n",
       "    </tr>\n",
       "    <tr>\n",
       "      <th>4</th>\n",
       "      <td>1.083294</td>\n",
       "      <td>0.185178</td>\n",
       "      <td>0.441496</td>\n",
       "      <td>-0.313790</td>\n",
       "    </tr>\n",
       "    <tr>\n",
       "      <th>5</th>\n",
       "      <td>0.050881</td>\n",
       "      <td>-0.987254</td>\n",
       "      <td>0.079192</td>\n",
       "      <td>0.501346</td>\n",
       "    </tr>\n",
       "  </tbody>\n",
       "</table>\n",
       "</div>"
      ],
      "text/plain": [
       "          A         B         C         D\n",
       "0  1.495560  0.325305 -1.455863  0.007684\n",
       "1  0.778610 -0.124519  2.384683 -1.090291\n",
       "2  0.347929 -0.926109 -1.000018  0.887643\n",
       "3  1.424622  1.444148 -1.669367  1.035799\n",
       "4  1.083294  0.185178  0.441496 -0.313790\n",
       "5  0.050881 -0.987254  0.079192  0.501346"
      ]
     },
     "execution_count": 15,
     "metadata": {},
     "output_type": "execute_result"
    }
   ],
   "source": [
    "df.columns = ['A', 'B', 'C', 'D']\n",
    "df"
   ]
  },
  {
   "cell_type": "code",
   "execution_count": 16,
   "id": "norwegian-adventure",
   "metadata": {},
   "outputs": [
    {
     "data": {
      "text/plain": [
       "DatetimeIndex(['2021-04-03', '2021-04-04', '2021-04-05', '2021-04-06',\n",
       "               '2021-04-07', '2021-04-08'],\n",
       "              dtype='datetime64[ns]', freq='D')"
      ]
     },
     "execution_count": 16,
     "metadata": {},
     "output_type": "execute_result"
    }
   ],
   "source": [
    "dates = pd.date_range(\"20210403\", periods=6)\n",
    "dates"
   ]
  },
  {
   "cell_type": "markdown",
   "id": "transparent-happening",
   "metadata": {},
   "source": [
    "インスタンス化の際に、`index`で行名の指定、`columns`で列の指定を行うことができる。\n",
    "これを用いることで（事前に決まっているのであれば）、上述のような事をわざわざする必要はなくなる。"
   ]
  },
  {
   "cell_type": "code",
   "execution_count": 17,
   "id": "norwegian-wellington",
   "metadata": {},
   "outputs": [
    {
     "data": {
      "text/html": [
       "<div>\n",
       "<style scoped>\n",
       "    .dataframe tbody tr th:only-of-type {\n",
       "        vertical-align: middle;\n",
       "    }\n",
       "\n",
       "    .dataframe tbody tr th {\n",
       "        vertical-align: top;\n",
       "    }\n",
       "\n",
       "    .dataframe thead th {\n",
       "        text-align: right;\n",
       "    }\n",
       "</style>\n",
       "<table border=\"1\" class=\"dataframe\">\n",
       "  <thead>\n",
       "    <tr style=\"text-align: right;\">\n",
       "      <th></th>\n",
       "      <th>A</th>\n",
       "      <th>B</th>\n",
       "      <th>C</th>\n",
       "      <th>D</th>\n",
       "    </tr>\n",
       "  </thead>\n",
       "  <tbody>\n",
       "    <tr>\n",
       "      <th>2021-04-03</th>\n",
       "      <td>0.345398</td>\n",
       "      <td>0.218117</td>\n",
       "      <td>-1.620915</td>\n",
       "      <td>-0.079860</td>\n",
       "    </tr>\n",
       "    <tr>\n",
       "      <th>2021-04-04</th>\n",
       "      <td>0.227571</td>\n",
       "      <td>-0.503545</td>\n",
       "      <td>1.424764</td>\n",
       "      <td>-0.110695</td>\n",
       "    </tr>\n",
       "    <tr>\n",
       "      <th>2021-04-05</th>\n",
       "      <td>0.120612</td>\n",
       "      <td>0.037614</td>\n",
       "      <td>2.241939</td>\n",
       "      <td>0.642396</td>\n",
       "    </tr>\n",
       "    <tr>\n",
       "      <th>2021-04-06</th>\n",
       "      <td>-0.588466</td>\n",
       "      <td>0.307086</td>\n",
       "      <td>0.283708</td>\n",
       "      <td>0.587016</td>\n",
       "    </tr>\n",
       "    <tr>\n",
       "      <th>2021-04-07</th>\n",
       "      <td>-2.166563</td>\n",
       "      <td>-1.405613</td>\n",
       "      <td>-1.263236</td>\n",
       "      <td>-1.990693</td>\n",
       "    </tr>\n",
       "    <tr>\n",
       "      <th>2021-04-08</th>\n",
       "      <td>-0.500389</td>\n",
       "      <td>1.428037</td>\n",
       "      <td>-0.373322</td>\n",
       "      <td>2.393793</td>\n",
       "    </tr>\n",
       "  </tbody>\n",
       "</table>\n",
       "</div>"
      ],
      "text/plain": [
       "                   A         B         C         D\n",
       "2021-04-03  0.345398  0.218117 -1.620915 -0.079860\n",
       "2021-04-04  0.227571 -0.503545  1.424764 -0.110695\n",
       "2021-04-05  0.120612  0.037614  2.241939  0.642396\n",
       "2021-04-06 -0.588466  0.307086  0.283708  0.587016\n",
       "2021-04-07 -2.166563 -1.405613 -1.263236 -1.990693\n",
       "2021-04-08 -0.500389  1.428037 -0.373322  2.393793"
      ]
     },
     "execution_count": 17,
     "metadata": {},
     "output_type": "execute_result"
    }
   ],
   "source": [
    "df = pd.DataFrame(np.random.randn(6,4), index=dates, columns=list(\"ABCD\"))\n",
    "df"
   ]
  },
  {
   "cell_type": "code",
   "execution_count": 18,
   "id": "confident-lesbian",
   "metadata": {},
   "outputs": [
    {
     "data": {
      "text/html": [
       "<div>\n",
       "<style scoped>\n",
       "    .dataframe tbody tr th:only-of-type {\n",
       "        vertical-align: middle;\n",
       "    }\n",
       "\n",
       "    .dataframe tbody tr th {\n",
       "        vertical-align: top;\n",
       "    }\n",
       "\n",
       "    .dataframe thead th {\n",
       "        text-align: right;\n",
       "    }\n",
       "</style>\n",
       "<table border=\"1\" class=\"dataframe\">\n",
       "  <thead>\n",
       "    <tr style=\"text-align: right;\">\n",
       "      <th></th>\n",
       "      <th>A</th>\n",
       "      <th>B</th>\n",
       "      <th>C</th>\n",
       "      <th>D</th>\n",
       "    </tr>\n",
       "  </thead>\n",
       "  <tbody>\n",
       "    <tr>\n",
       "      <th>2021-04-03</th>\n",
       "      <td>0.345398</td>\n",
       "      <td>0.218117</td>\n",
       "      <td>-1.620915</td>\n",
       "      <td>-0.079860</td>\n",
       "    </tr>\n",
       "    <tr>\n",
       "      <th>2021-04-04</th>\n",
       "      <td>0.227571</td>\n",
       "      <td>-0.503545</td>\n",
       "      <td>1.424764</td>\n",
       "      <td>-0.110695</td>\n",
       "    </tr>\n",
       "  </tbody>\n",
       "</table>\n",
       "</div>"
      ],
      "text/plain": [
       "                   A         B         C         D\n",
       "2021-04-03  0.345398  0.218117 -1.620915 -0.079860\n",
       "2021-04-04  0.227571 -0.503545  1.424764 -0.110695"
      ]
     },
     "execution_count": 18,
     "metadata": {},
     "output_type": "execute_result"
    }
   ],
   "source": [
    "df.head(2) # 適当な数字、もしくは何も指定しない場合は5行表示される"
   ]
  },
  {
   "cell_type": "code",
   "execution_count": 19,
   "id": "capable-alpha",
   "metadata": {},
   "outputs": [
    {
     "data": {
      "text/html": [
       "<div>\n",
       "<style scoped>\n",
       "    .dataframe tbody tr th:only-of-type {\n",
       "        vertical-align: middle;\n",
       "    }\n",
       "\n",
       "    .dataframe tbody tr th {\n",
       "        vertical-align: top;\n",
       "    }\n",
       "\n",
       "    .dataframe thead th {\n",
       "        text-align: right;\n",
       "    }\n",
       "</style>\n",
       "<table border=\"1\" class=\"dataframe\">\n",
       "  <thead>\n",
       "    <tr style=\"text-align: right;\">\n",
       "      <th></th>\n",
       "      <th>A</th>\n",
       "      <th>B</th>\n",
       "      <th>C</th>\n",
       "      <th>D</th>\n",
       "    </tr>\n",
       "  </thead>\n",
       "  <tbody>\n",
       "    <tr>\n",
       "      <th>2021-04-06</th>\n",
       "      <td>-0.588466</td>\n",
       "      <td>0.307086</td>\n",
       "      <td>0.283708</td>\n",
       "      <td>0.587016</td>\n",
       "    </tr>\n",
       "    <tr>\n",
       "      <th>2021-04-07</th>\n",
       "      <td>-2.166563</td>\n",
       "      <td>-1.405613</td>\n",
       "      <td>-1.263236</td>\n",
       "      <td>-1.990693</td>\n",
       "    </tr>\n",
       "    <tr>\n",
       "      <th>2021-04-08</th>\n",
       "      <td>-0.500389</td>\n",
       "      <td>1.428037</td>\n",
       "      <td>-0.373322</td>\n",
       "      <td>2.393793</td>\n",
       "    </tr>\n",
       "  </tbody>\n",
       "</table>\n",
       "</div>"
      ],
      "text/plain": [
       "                   A         B         C         D\n",
       "2021-04-06 -0.588466  0.307086  0.283708  0.587016\n",
       "2021-04-07 -2.166563 -1.405613 -1.263236 -1.990693\n",
       "2021-04-08 -0.500389  1.428037 -0.373322  2.393793"
      ]
     },
     "execution_count": 19,
     "metadata": {},
     "output_type": "execute_result"
    }
   ],
   "source": [
    "df.tail(3) # 適当な数字、もしくは何も指定しない場合は5行表示される"
   ]
  },
  {
   "cell_type": "code",
   "execution_count": 20,
   "id": "intimate-sherman",
   "metadata": {},
   "outputs": [
    {
     "data": {
      "text/plain": [
       "DatetimeIndex(['2021-04-03', '2021-04-04', '2021-04-05', '2021-04-06',\n",
       "               '2021-04-07', '2021-04-08'],\n",
       "              dtype='datetime64[ns]', freq='D')"
      ]
     },
     "execution_count": 20,
     "metadata": {},
     "output_type": "execute_result"
    }
   ],
   "source": [
    "df.index"
   ]
  },
  {
   "cell_type": "code",
   "execution_count": 21,
   "id": "artificial-mobile",
   "metadata": {},
   "outputs": [
    {
     "data": {
      "text/plain": [
       "Index(['A', 'B', 'C', 'D'], dtype='object')"
      ]
     },
     "execution_count": 21,
     "metadata": {},
     "output_type": "execute_result"
    }
   ],
   "source": [
    "df.columns"
   ]
  },
  {
   "cell_type": "markdown",
   "id": "oriented-basic",
   "metadata": {},
   "source": [
    "Seriesと同様、DataFrameもNumPy arrayに変換することができる。変換した場合、インデックスや行ラベルは失われる。"
   ]
  },
  {
   "cell_type": "code",
   "execution_count": 22,
   "id": "hundred-department",
   "metadata": {},
   "outputs": [
    {
     "data": {
      "text/plain": [
       "array([[ 0.34539808,  0.21811676, -1.62091518, -0.0798603 ],\n",
       "       [ 0.22757073, -0.50354455,  1.42476432, -0.11069488],\n",
       "       [ 0.12061201,  0.03761388,  2.24193913,  0.64239593],\n",
       "       [-0.58846577,  0.30708637,  0.28370792,  0.58701564],\n",
       "       [-2.16656349, -1.40561291, -1.2632364 , -1.99069264],\n",
       "       [-0.50038861,  1.42803661, -0.37332196,  2.39379287]])"
      ]
     },
     "execution_count": 22,
     "metadata": {},
     "output_type": "execute_result"
    }
   ],
   "source": [
    "df.to_numpy()"
   ]
  },
  {
   "cell_type": "code",
   "execution_count": 23,
   "id": "seasonal-evanescence",
   "metadata": {},
   "outputs": [
    {
     "data": {
      "text/plain": [
       "array([[ 0.34539808,  0.21811676, -1.62091518, -0.0798603 ],\n",
       "       [ 0.22757073, -0.50354455,  1.42476432, -0.11069488],\n",
       "       [ 0.12061201,  0.03761388,  2.24193913,  0.64239593],\n",
       "       [-0.58846577,  0.30708637,  0.28370792,  0.58701564],\n",
       "       [-2.16656349, -1.40561291, -1.2632364 , -1.99069264],\n",
       "       [-0.50038861,  1.42803661, -0.37332196,  2.39379287]])"
      ]
     },
     "execution_count": 23,
     "metadata": {},
     "output_type": "execute_result"
    }
   ],
   "source": [
    "df.values"
   ]
  },
  {
   "cell_type": "markdown",
   "id": "numerous-corporation",
   "metadata": {},
   "source": [
    "DataFrameは非常に便利であるが、`scikit-learn`を使用する際にはぜひNumpyへの変換をおすすめする。現バージョンでは DataFame の入力にも対応しているが、そもそもはNumPyしか対応していなかったことを考えると、NumPyで機械学習を進めていくのが自然である。"
   ]
  },
  {
   "cell_type": "markdown",
   "id": "according-joyce",
   "metadata": {},
   "source": [
    "## データへのアクセスの仕方"
   ]
  },
  {
   "cell_type": "code",
   "execution_count": 24,
   "id": "sought-soccer",
   "metadata": {},
   "outputs": [
    {
     "data": {
      "text/html": [
       "<div>\n",
       "<style scoped>\n",
       "    .dataframe tbody tr th:only-of-type {\n",
       "        vertical-align: middle;\n",
       "    }\n",
       "\n",
       "    .dataframe tbody tr th {\n",
       "        vertical-align: top;\n",
       "    }\n",
       "\n",
       "    .dataframe thead th {\n",
       "        text-align: right;\n",
       "    }\n",
       "</style>\n",
       "<table border=\"1\" class=\"dataframe\">\n",
       "  <thead>\n",
       "    <tr style=\"text-align: right;\">\n",
       "      <th></th>\n",
       "      <th>A</th>\n",
       "      <th>B</th>\n",
       "      <th>C</th>\n",
       "      <th>D</th>\n",
       "    </tr>\n",
       "  </thead>\n",
       "  <tbody>\n",
       "    <tr>\n",
       "      <th>a</th>\n",
       "      <td>0.794004</td>\n",
       "      <td>0.225009</td>\n",
       "      <td>-0.466251</td>\n",
       "      <td>0.377774</td>\n",
       "    </tr>\n",
       "    <tr>\n",
       "      <th>b</th>\n",
       "      <td>-1.071034</td>\n",
       "      <td>-1.522109</td>\n",
       "      <td>-0.877430</td>\n",
       "      <td>-0.006481</td>\n",
       "    </tr>\n",
       "    <tr>\n",
       "      <th>c</th>\n",
       "      <td>-0.439508</td>\n",
       "      <td>-0.318679</td>\n",
       "      <td>0.773417</td>\n",
       "      <td>1.873394</td>\n",
       "    </tr>\n",
       "    <tr>\n",
       "      <th>d</th>\n",
       "      <td>-1.108276</td>\n",
       "      <td>-0.768056</td>\n",
       "      <td>-0.198588</td>\n",
       "      <td>0.155640</td>\n",
       "    </tr>\n",
       "    <tr>\n",
       "      <th>e</th>\n",
       "      <td>0.076027</td>\n",
       "      <td>1.363055</td>\n",
       "      <td>0.918238</td>\n",
       "      <td>0.842491</td>\n",
       "    </tr>\n",
       "    <tr>\n",
       "      <th>f</th>\n",
       "      <td>0.230627</td>\n",
       "      <td>1.542312</td>\n",
       "      <td>-0.605275</td>\n",
       "      <td>-1.760460</td>\n",
       "    </tr>\n",
       "  </tbody>\n",
       "</table>\n",
       "</div>"
      ],
      "text/plain": [
       "          A         B         C         D\n",
       "a  0.794004  0.225009 -0.466251  0.377774\n",
       "b -1.071034 -1.522109 -0.877430 -0.006481\n",
       "c -0.439508 -0.318679  0.773417  1.873394\n",
       "d -1.108276 -0.768056 -0.198588  0.155640\n",
       "e  0.076027  1.363055  0.918238  0.842491\n",
       "f  0.230627  1.542312 -0.605275 -1.760460"
      ]
     },
     "execution_count": 24,
     "metadata": {},
     "output_type": "execute_result"
    }
   ],
   "source": [
    "df = pd.DataFrame(np.random.randn(6,4), index=[\"a\", \"b\", \"c\", \"d\", \"e\", \"f\"], columns=[\"A\", \"B\", \"C\", \"D\"])\n",
    "df"
   ]
  },
  {
   "cell_type": "markdown",
   "id": "adopted-ocean",
   "metadata": {},
   "source": [
    "### 列にアクセス\n",
    "\n",
    "単に配列のようにアクセスすると、DataFrameの列を取得することができる。"
   ]
  },
  {
   "cell_type": "code",
   "execution_count": 25,
   "id": "committed-hello",
   "metadata": {},
   "outputs": [
    {
     "data": {
      "text/plain": [
       "a    0.794004\n",
       "b   -1.071034\n",
       "c   -0.439508\n",
       "d   -1.108276\n",
       "e    0.076027\n",
       "f    0.230627\n",
       "Name: A, dtype: float64"
      ]
     },
     "execution_count": 25,
     "metadata": {},
     "output_type": "execute_result"
    }
   ],
   "source": [
    "df[\"A\"]"
   ]
  },
  {
   "cell_type": "markdown",
   "id": "russian-isaac",
   "metadata": {},
   "source": [
    "### 行にアクセス"
   ]
  },
  {
   "cell_type": "code",
   "execution_count": 26,
   "id": "micro-sampling",
   "metadata": {},
   "outputs": [
    {
     "data": {
      "text/plain": [
       "A    0.794004\n",
       "B    0.225009\n",
       "C   -0.466251\n",
       "D    0.377774\n",
       "Name: a, dtype: float64"
      ]
     },
     "execution_count": 26,
     "metadata": {},
     "output_type": "execute_result"
    }
   ],
   "source": [
    "df.loc[\"a\"]"
   ]
  },
  {
   "cell_type": "code",
   "execution_count": 27,
   "id": "saved-suggestion",
   "metadata": {},
   "outputs": [
    {
     "data": {
      "text/html": [
       "<div>\n",
       "<style scoped>\n",
       "    .dataframe tbody tr th:only-of-type {\n",
       "        vertical-align: middle;\n",
       "    }\n",
       "\n",
       "    .dataframe tbody tr th {\n",
       "        vertical-align: top;\n",
       "    }\n",
       "\n",
       "    .dataframe thead th {\n",
       "        text-align: right;\n",
       "    }\n",
       "</style>\n",
       "<table border=\"1\" class=\"dataframe\">\n",
       "  <thead>\n",
       "    <tr style=\"text-align: right;\">\n",
       "      <th></th>\n",
       "      <th>A</th>\n",
       "      <th>B</th>\n",
       "      <th>C</th>\n",
       "      <th>D</th>\n",
       "    </tr>\n",
       "  </thead>\n",
       "  <tbody>\n",
       "    <tr>\n",
       "      <th>a</th>\n",
       "      <td>0.794004</td>\n",
       "      <td>0.225009</td>\n",
       "      <td>-0.466251</td>\n",
       "      <td>0.377774</td>\n",
       "    </tr>\n",
       "    <tr>\n",
       "      <th>b</th>\n",
       "      <td>-1.071034</td>\n",
       "      <td>-1.522109</td>\n",
       "      <td>-0.877430</td>\n",
       "      <td>-0.006481</td>\n",
       "    </tr>\n",
       "    <tr>\n",
       "      <th>c</th>\n",
       "      <td>-0.439508</td>\n",
       "      <td>-0.318679</td>\n",
       "      <td>0.773417</td>\n",
       "      <td>1.873394</td>\n",
       "    </tr>\n",
       "  </tbody>\n",
       "</table>\n",
       "</div>"
      ],
      "text/plain": [
       "          A         B         C         D\n",
       "a  0.794004  0.225009 -0.466251  0.377774\n",
       "b -1.071034 -1.522109 -0.877430 -0.006481\n",
       "c -0.439508 -0.318679  0.773417  1.873394"
      ]
     },
     "execution_count": 27,
     "metadata": {},
     "output_type": "execute_result"
    }
   ],
   "source": [
    "df[0:3] # 1~3行目を表示する"
   ]
  },
  {
   "cell_type": "code",
   "execution_count": 28,
   "id": "spiritual-silicon",
   "metadata": {},
   "outputs": [
    {
     "data": {
      "text/html": [
       "<div>\n",
       "<style scoped>\n",
       "    .dataframe tbody tr th:only-of-type {\n",
       "        vertical-align: middle;\n",
       "    }\n",
       "\n",
       "    .dataframe tbody tr th {\n",
       "        vertical-align: top;\n",
       "    }\n",
       "\n",
       "    .dataframe thead th {\n",
       "        text-align: right;\n",
       "    }\n",
       "</style>\n",
       "<table border=\"1\" class=\"dataframe\">\n",
       "  <thead>\n",
       "    <tr style=\"text-align: right;\">\n",
       "      <th></th>\n",
       "      <th>A</th>\n",
       "      <th>B</th>\n",
       "      <th>C</th>\n",
       "      <th>D</th>\n",
       "    </tr>\n",
       "  </thead>\n",
       "  <tbody>\n",
       "    <tr>\n",
       "      <th>a</th>\n",
       "      <td>0.794004</td>\n",
       "      <td>0.225009</td>\n",
       "      <td>-0.466251</td>\n",
       "      <td>0.377774</td>\n",
       "    </tr>\n",
       "    <tr>\n",
       "      <th>b</th>\n",
       "      <td>-1.071034</td>\n",
       "      <td>-1.522109</td>\n",
       "      <td>-0.877430</td>\n",
       "      <td>-0.006481</td>\n",
       "    </tr>\n",
       "    <tr>\n",
       "      <th>c</th>\n",
       "      <td>-0.439508</td>\n",
       "      <td>-0.318679</td>\n",
       "      <td>0.773417</td>\n",
       "      <td>1.873394</td>\n",
       "    </tr>\n",
       "  </tbody>\n",
       "</table>\n",
       "</div>"
      ],
      "text/plain": [
       "          A         B         C         D\n",
       "a  0.794004  0.225009 -0.466251  0.377774\n",
       "b -1.071034 -1.522109 -0.877430 -0.006481\n",
       "c -0.439508 -0.318679  0.773417  1.873394"
      ]
     },
     "execution_count": 28,
     "metadata": {},
     "output_type": "execute_result"
    }
   ],
   "source": [
    "df[\"a\":\"c\"]"
   ]
  },
  {
   "cell_type": "code",
   "execution_count": 29,
   "id": "damaged-remark",
   "metadata": {},
   "outputs": [
    {
     "data": {
      "text/html": [
       "<div>\n",
       "<style scoped>\n",
       "    .dataframe tbody tr th:only-of-type {\n",
       "        vertical-align: middle;\n",
       "    }\n",
       "\n",
       "    .dataframe tbody tr th {\n",
       "        vertical-align: top;\n",
       "    }\n",
       "\n",
       "    .dataframe thead th {\n",
       "        text-align: right;\n",
       "    }\n",
       "</style>\n",
       "<table border=\"1\" class=\"dataframe\">\n",
       "  <thead>\n",
       "    <tr style=\"text-align: right;\">\n",
       "      <th></th>\n",
       "      <th>A</th>\n",
       "      <th>B</th>\n",
       "    </tr>\n",
       "  </thead>\n",
       "  <tbody>\n",
       "    <tr>\n",
       "      <th>a</th>\n",
       "      <td>0.794004</td>\n",
       "      <td>0.225009</td>\n",
       "    </tr>\n",
       "    <tr>\n",
       "      <th>b</th>\n",
       "      <td>-1.071034</td>\n",
       "      <td>-1.522109</td>\n",
       "    </tr>\n",
       "    <tr>\n",
       "      <th>c</th>\n",
       "      <td>-0.439508</td>\n",
       "      <td>-0.318679</td>\n",
       "    </tr>\n",
       "    <tr>\n",
       "      <th>d</th>\n",
       "      <td>-1.108276</td>\n",
       "      <td>-0.768056</td>\n",
       "    </tr>\n",
       "    <tr>\n",
       "      <th>e</th>\n",
       "      <td>0.076027</td>\n",
       "      <td>1.363055</td>\n",
       "    </tr>\n",
       "    <tr>\n",
       "      <th>f</th>\n",
       "      <td>0.230627</td>\n",
       "      <td>1.542312</td>\n",
       "    </tr>\n",
       "  </tbody>\n",
       "</table>\n",
       "</div>"
      ],
      "text/plain": [
       "          A         B\n",
       "a  0.794004  0.225009\n",
       "b -1.071034 -1.522109\n",
       "c -0.439508 -0.318679\n",
       "d -1.108276 -0.768056\n",
       "e  0.076027  1.363055\n",
       "f  0.230627  1.542312"
      ]
     },
     "execution_count": 29,
     "metadata": {},
     "output_type": "execute_result"
    }
   ],
   "source": [
    "df.loc[:, [\"A\", \"B\"] ]"
   ]
  },
  {
   "cell_type": "code",
   "execution_count": 30,
   "id": "respected-threshold",
   "metadata": {},
   "outputs": [
    {
     "data": {
      "text/html": [
       "<div>\n",
       "<style scoped>\n",
       "    .dataframe tbody tr th:only-of-type {\n",
       "        vertical-align: middle;\n",
       "    }\n",
       "\n",
       "    .dataframe tbody tr th {\n",
       "        vertical-align: top;\n",
       "    }\n",
       "\n",
       "    .dataframe thead th {\n",
       "        text-align: right;\n",
       "    }\n",
       "</style>\n",
       "<table border=\"1\" class=\"dataframe\">\n",
       "  <thead>\n",
       "    <tr style=\"text-align: right;\">\n",
       "      <th></th>\n",
       "      <th>A</th>\n",
       "      <th>B</th>\n",
       "    </tr>\n",
       "  </thead>\n",
       "  <tbody>\n",
       "    <tr>\n",
       "      <th>d</th>\n",
       "      <td>-1.108276</td>\n",
       "      <td>-0.768056</td>\n",
       "    </tr>\n",
       "    <tr>\n",
       "      <th>e</th>\n",
       "      <td>0.076027</td>\n",
       "      <td>1.363055</td>\n",
       "    </tr>\n",
       "  </tbody>\n",
       "</table>\n",
       "</div>"
      ],
      "text/plain": [
       "          A         B\n",
       "d -1.108276 -0.768056\n",
       "e  0.076027  1.363055"
      ]
     },
     "execution_count": 30,
     "metadata": {},
     "output_type": "execute_result"
    }
   ],
   "source": [
    "df.iloc[3:5, 0:2] # 4-5行目かつ、1-2列目のデータ"
   ]
  },
  {
   "cell_type": "markdown",
   "id": "potential-function",
   "metadata": {},
   "source": [
    "## データ選別\n",
    "\n",
    "条件に合致する要素だけを取り出すこともできる。"
   ]
  },
  {
   "cell_type": "code",
   "execution_count": 31,
   "id": "swedish-agreement",
   "metadata": {},
   "outputs": [
    {
     "data": {
      "text/html": [
       "<div>\n",
       "<style scoped>\n",
       "    .dataframe tbody tr th:only-of-type {\n",
       "        vertical-align: middle;\n",
       "    }\n",
       "\n",
       "    .dataframe tbody tr th {\n",
       "        vertical-align: top;\n",
       "    }\n",
       "\n",
       "    .dataframe thead th {\n",
       "        text-align: right;\n",
       "    }\n",
       "</style>\n",
       "<table border=\"1\" class=\"dataframe\">\n",
       "  <thead>\n",
       "    <tr style=\"text-align: right;\">\n",
       "      <th></th>\n",
       "      <th>A</th>\n",
       "      <th>B</th>\n",
       "      <th>C</th>\n",
       "      <th>D</th>\n",
       "    </tr>\n",
       "  </thead>\n",
       "  <tbody>\n",
       "    <tr>\n",
       "      <th>b</th>\n",
       "      <td>0.992450</td>\n",
       "      <td>-0.361247</td>\n",
       "      <td>1.212614</td>\n",
       "      <td>0.195807</td>\n",
       "    </tr>\n",
       "    <tr>\n",
       "      <th>c</th>\n",
       "      <td>0.507133</td>\n",
       "      <td>0.883188</td>\n",
       "      <td>0.192845</td>\n",
       "      <td>-0.763928</td>\n",
       "    </tr>\n",
       "    <tr>\n",
       "      <th>d</th>\n",
       "      <td>1.211858</td>\n",
       "      <td>1.085732</td>\n",
       "      <td>-1.140091</td>\n",
       "      <td>-0.873013</td>\n",
       "    </tr>\n",
       "  </tbody>\n",
       "</table>\n",
       "</div>"
      ],
      "text/plain": [
       "          A         B         C         D\n",
       "b  0.992450 -0.361247  1.212614  0.195807\n",
       "c  0.507133  0.883188  0.192845 -0.763928\n",
       "d  1.211858  1.085732 -1.140091 -0.873013"
      ]
     },
     "execution_count": 31,
     "metadata": {},
     "output_type": "execute_result"
    }
   ],
   "source": [
    "df = pd.DataFrame(np.random.randn(6,4), index=[\"a\", \"b\", \"c\", \"d\", \"e\", \"f\"], columns=[\"A\", \"B\", \"C\", \"D\"])\n",
    "df[df[\"A\"]>0] # A列で要素が正のものだけを抽出"
   ]
  },
  {
   "cell_type": "code",
   "execution_count": 32,
   "id": "adjacent-riverside",
   "metadata": {},
   "outputs": [
    {
     "data": {
      "text/html": [
       "<div>\n",
       "<style scoped>\n",
       "    .dataframe tbody tr th:only-of-type {\n",
       "        vertical-align: middle;\n",
       "    }\n",
       "\n",
       "    .dataframe tbody tr th {\n",
       "        vertical-align: top;\n",
       "    }\n",
       "\n",
       "    .dataframe thead th {\n",
       "        text-align: right;\n",
       "    }\n",
       "</style>\n",
       "<table border=\"1\" class=\"dataframe\">\n",
       "  <thead>\n",
       "    <tr style=\"text-align: right;\">\n",
       "      <th></th>\n",
       "      <th>A</th>\n",
       "      <th>B</th>\n",
       "      <th>C</th>\n",
       "      <th>D</th>\n",
       "    </tr>\n",
       "  </thead>\n",
       "  <tbody>\n",
       "    <tr>\n",
       "      <th>a</th>\n",
       "      <td>-1.028345</td>\n",
       "      <td>-1.614562</td>\n",
       "      <td>-0.250169</td>\n",
       "      <td>-0.391645</td>\n",
       "    </tr>\n",
       "    <tr>\n",
       "      <th>e</th>\n",
       "      <td>-0.836773</td>\n",
       "      <td>0.121019</td>\n",
       "      <td>0.897412</td>\n",
       "      <td>-1.702606</td>\n",
       "    </tr>\n",
       "    <tr>\n",
       "      <th>f</th>\n",
       "      <td>-0.074432</td>\n",
       "      <td>-0.164967</td>\n",
       "      <td>1.253893</td>\n",
       "      <td>0.110626</td>\n",
       "    </tr>\n",
       "  </tbody>\n",
       "</table>\n",
       "</div>"
      ],
      "text/plain": [
       "          A         B         C         D\n",
       "a -1.028345 -1.614562 -0.250169 -0.391645\n",
       "e -0.836773  0.121019  0.897412 -1.702606\n",
       "f -0.074432 -0.164967  1.253893  0.110626"
      ]
     },
     "execution_count": 32,
     "metadata": {},
     "output_type": "execute_result"
    }
   ],
   "source": [
    "df[df[\"A\"]<0] # A列で要素が負のものだけを抽出"
   ]
  },
  {
   "cell_type": "markdown",
   "id": "detected-arbor",
   "metadata": {},
   "source": [
    "### 2つのDataFrameを比較する"
   ]
  },
  {
   "cell_type": "markdown",
   "id": "printable-sweden",
   "metadata": {},
   "source": [
    "比較の際には `compare` メソッドを使用できる（ver 1.1.0から）。このメソッドは構造が同じ （行列が同じ数） データフレームしか比較できないことに留意。\n",
    "\n",
    "以下の例だと、`df1`がself、`df2`がotherで表示されている。また、各列名は `MultiIndex` として指定されている。"
   ]
  },
  {
   "cell_type": "code",
   "execution_count": 33,
   "id": "dated-validity",
   "metadata": {},
   "outputs": [
    {
     "data": {
      "text/html": [
       "<div>\n",
       "<style scoped>\n",
       "    .dataframe tbody tr th:only-of-type {\n",
       "        vertical-align: middle;\n",
       "    }\n",
       "\n",
       "    .dataframe tbody tr th {\n",
       "        vertical-align: top;\n",
       "    }\n",
       "\n",
       "    .dataframe thead tr th {\n",
       "        text-align: left;\n",
       "    }\n",
       "</style>\n",
       "<table border=\"1\" class=\"dataframe\">\n",
       "  <thead>\n",
       "    <tr>\n",
       "      <th></th>\n",
       "      <th colspan=\"2\" halign=\"left\">0</th>\n",
       "      <th colspan=\"2\" halign=\"left\">1</th>\n",
       "      <th colspan=\"2\" halign=\"left\">2</th>\n",
       "      <th colspan=\"2\" halign=\"left\">3</th>\n",
       "    </tr>\n",
       "    <tr>\n",
       "      <th></th>\n",
       "      <th>self</th>\n",
       "      <th>other</th>\n",
       "      <th>self</th>\n",
       "      <th>other</th>\n",
       "      <th>self</th>\n",
       "      <th>other</th>\n",
       "      <th>self</th>\n",
       "      <th>other</th>\n",
       "    </tr>\n",
       "  </thead>\n",
       "  <tbody>\n",
       "    <tr>\n",
       "      <th>0</th>\n",
       "      <td>0.508430</td>\n",
       "      <td>0.399838</td>\n",
       "      <td>0.967064</td>\n",
       "      <td>1.477122</td>\n",
       "      <td>1.714484</td>\n",
       "      <td>0.466883</td>\n",
       "      <td>-0.575536</td>\n",
       "      <td>0.011207</td>\n",
       "    </tr>\n",
       "    <tr>\n",
       "      <th>1</th>\n",
       "      <td>-0.242015</td>\n",
       "      <td>-1.014789</td>\n",
       "      <td>0.716168</td>\n",
       "      <td>-0.604603</td>\n",
       "      <td>-1.350691</td>\n",
       "      <td>0.723461</td>\n",
       "      <td>0.139947</td>\n",
       "      <td>0.982076</td>\n",
       "    </tr>\n",
       "    <tr>\n",
       "      <th>2</th>\n",
       "      <td>-0.023421</td>\n",
       "      <td>1.641766</td>\n",
       "      <td>-0.797222</td>\n",
       "      <td>1.131749</td>\n",
       "      <td>-0.250905</td>\n",
       "      <td>0.826673</td>\n",
       "      <td>0.511851</td>\n",
       "      <td>-0.086416</td>\n",
       "    </tr>\n",
       "  </tbody>\n",
       "</table>\n",
       "</div>"
      ],
      "text/plain": [
       "          0                   1                   2                   3  \\\n",
       "       self     other      self     other      self     other      self   \n",
       "0  0.508430  0.399838  0.967064  1.477122  1.714484  0.466883 -0.575536   \n",
       "1 -0.242015 -1.014789  0.716168 -0.604603 -1.350691  0.723461  0.139947   \n",
       "2 -0.023421  1.641766 -0.797222  1.131749 -0.250905  0.826673  0.511851   \n",
       "\n",
       "             \n",
       "      other  \n",
       "0  0.011207  \n",
       "1  0.982076  \n",
       "2 -0.086416  "
      ]
     },
     "execution_count": 33,
     "metadata": {},
     "output_type": "execute_result"
    }
   ],
   "source": [
    "df1 = pd.DataFrame(np.random.randn(3,4))\n",
    "df2 = pd.DataFrame(np.random.randn(3,4))\n",
    "\n",
    "df1.compare(df2)"
   ]
  },
  {
   "cell_type": "markdown",
   "id": "occasional-voice",
   "metadata": {},
   "source": [
    "## 共通の部分を探す\n",
    "\n",
    "2つのデータフレームに共通している要素（条件を反転させれば片方にしか存在しない要素）を取得するために、`isin` を使用することができる。"
   ]
  },
  {
   "cell_type": "code",
   "execution_count": 34,
   "id": "dependent-heating",
   "metadata": {},
   "outputs": [
    {
     "data": {
      "text/html": [
       "<div>\n",
       "<style scoped>\n",
       "    .dataframe tbody tr th:only-of-type {\n",
       "        vertical-align: middle;\n",
       "    }\n",
       "\n",
       "    .dataframe tbody tr th {\n",
       "        vertical-align: top;\n",
       "    }\n",
       "\n",
       "    .dataframe thead th {\n",
       "        text-align: right;\n",
       "    }\n",
       "</style>\n",
       "<table border=\"1\" class=\"dataframe\">\n",
       "  <thead>\n",
       "    <tr style=\"text-align: right;\">\n",
       "      <th></th>\n",
       "      <th>A</th>\n",
       "      <th>B</th>\n",
       "      <th>C</th>\n",
       "    </tr>\n",
       "  </thead>\n",
       "  <tbody>\n",
       "    <tr>\n",
       "      <th>0</th>\n",
       "      <td>0</td>\n",
       "      <td>0</td>\n",
       "      <td>0</td>\n",
       "    </tr>\n",
       "    <tr>\n",
       "      <th>1</th>\n",
       "      <td>1</td>\n",
       "      <td>1</td>\n",
       "      <td>1</td>\n",
       "    </tr>\n",
       "    <tr>\n",
       "      <th>2</th>\n",
       "      <td>2</td>\n",
       "      <td>2</td>\n",
       "      <td>2</td>\n",
       "    </tr>\n",
       "    <tr>\n",
       "      <th>3</th>\n",
       "      <td>3</td>\n",
       "      <td>3</td>\n",
       "      <td>3</td>\n",
       "    </tr>\n",
       "    <tr>\n",
       "      <th>4</th>\n",
       "      <td>4</td>\n",
       "      <td>4</td>\n",
       "      <td>4</td>\n",
       "    </tr>\n",
       "    <tr>\n",
       "      <th>5</th>\n",
       "      <td>5</td>\n",
       "      <td>5</td>\n",
       "      <td>5</td>\n",
       "    </tr>\n",
       "  </tbody>\n",
       "</table>\n",
       "</div>"
      ],
      "text/plain": [
       "   A  B  C\n",
       "0  0  0  0\n",
       "1  1  1  1\n",
       "2  2  2  2\n",
       "3  3  3  3\n",
       "4  4  4  4\n",
       "5  5  5  5"
      ]
     },
     "execution_count": 34,
     "metadata": {},
     "output_type": "execute_result"
    }
   ],
   "source": [
    "data_1 = { \"A\" : [0,1,2,3,4,5], \"B\" : [0,1,2,3,4,5], \"C\": [0,1,2,3,4,5]}\n",
    "data_2 = { \"A\" : [\"x\",\"x\",2,\"x\",\"x\",\"x\"], \"B\" : [\"x\",\"x\",2,\"x\",\"x\",\"x\"], \"C\": [\"x\",\"x\",2,\"x\",\"x\",\"x\"]}\n",
    "df1 = pd.DataFrame(data_1)\n",
    "df2 = pd.DataFrame(data_2)\n",
    "\n",
    "df1"
   ]
  },
  {
   "cell_type": "code",
   "execution_count": 35,
   "id": "present-county",
   "metadata": {},
   "outputs": [
    {
     "data": {
      "text/html": [
       "<div>\n",
       "<style scoped>\n",
       "    .dataframe tbody tr th:only-of-type {\n",
       "        vertical-align: middle;\n",
       "    }\n",
       "\n",
       "    .dataframe tbody tr th {\n",
       "        vertical-align: top;\n",
       "    }\n",
       "\n",
       "    .dataframe thead th {\n",
       "        text-align: right;\n",
       "    }\n",
       "</style>\n",
       "<table border=\"1\" class=\"dataframe\">\n",
       "  <thead>\n",
       "    <tr style=\"text-align: right;\">\n",
       "      <th></th>\n",
       "      <th>A</th>\n",
       "      <th>B</th>\n",
       "      <th>C</th>\n",
       "    </tr>\n",
       "  </thead>\n",
       "  <tbody>\n",
       "    <tr>\n",
       "      <th>0</th>\n",
       "      <td>x</td>\n",
       "      <td>x</td>\n",
       "      <td>x</td>\n",
       "    </tr>\n",
       "    <tr>\n",
       "      <th>1</th>\n",
       "      <td>x</td>\n",
       "      <td>x</td>\n",
       "      <td>x</td>\n",
       "    </tr>\n",
       "    <tr>\n",
       "      <th>2</th>\n",
       "      <td>2</td>\n",
       "      <td>2</td>\n",
       "      <td>2</td>\n",
       "    </tr>\n",
       "    <tr>\n",
       "      <th>3</th>\n",
       "      <td>x</td>\n",
       "      <td>x</td>\n",
       "      <td>x</td>\n",
       "    </tr>\n",
       "    <tr>\n",
       "      <th>4</th>\n",
       "      <td>x</td>\n",
       "      <td>x</td>\n",
       "      <td>x</td>\n",
       "    </tr>\n",
       "    <tr>\n",
       "      <th>5</th>\n",
       "      <td>x</td>\n",
       "      <td>x</td>\n",
       "      <td>x</td>\n",
       "    </tr>\n",
       "  </tbody>\n",
       "</table>\n",
       "</div>"
      ],
      "text/plain": [
       "   A  B  C\n",
       "0  x  x  x\n",
       "1  x  x  x\n",
       "2  2  2  2\n",
       "3  x  x  x\n",
       "4  x  x  x\n",
       "5  x  x  x"
      ]
     },
     "execution_count": 35,
     "metadata": {},
     "output_type": "execute_result"
    }
   ],
   "source": [
    "df2"
   ]
  },
  {
   "cell_type": "markdown",
   "id": "cognitive-conditioning",
   "metadata": {},
   "source": [
    "以上２つの共通項は、3行目 要素 2だが、`isin` で使用できる。"
   ]
  },
  {
   "cell_type": "code",
   "execution_count": 36,
   "id": "welcome-silly",
   "metadata": {},
   "outputs": [
    {
     "data": {
      "text/html": [
       "<div>\n",
       "<style scoped>\n",
       "    .dataframe tbody tr th:only-of-type {\n",
       "        vertical-align: middle;\n",
       "    }\n",
       "\n",
       "    .dataframe tbody tr th {\n",
       "        vertical-align: top;\n",
       "    }\n",
       "\n",
       "    .dataframe thead th {\n",
       "        text-align: right;\n",
       "    }\n",
       "</style>\n",
       "<table border=\"1\" class=\"dataframe\">\n",
       "  <thead>\n",
       "    <tr style=\"text-align: right;\">\n",
       "      <th></th>\n",
       "      <th>A</th>\n",
       "      <th>B</th>\n",
       "      <th>C</th>\n",
       "    </tr>\n",
       "  </thead>\n",
       "  <tbody>\n",
       "    <tr>\n",
       "      <th>0</th>\n",
       "      <td>False</td>\n",
       "      <td>False</td>\n",
       "      <td>False</td>\n",
       "    </tr>\n",
       "    <tr>\n",
       "      <th>1</th>\n",
       "      <td>False</td>\n",
       "      <td>False</td>\n",
       "      <td>False</td>\n",
       "    </tr>\n",
       "    <tr>\n",
       "      <th>2</th>\n",
       "      <td>True</td>\n",
       "      <td>True</td>\n",
       "      <td>True</td>\n",
       "    </tr>\n",
       "    <tr>\n",
       "      <th>3</th>\n",
       "      <td>False</td>\n",
       "      <td>False</td>\n",
       "      <td>False</td>\n",
       "    </tr>\n",
       "    <tr>\n",
       "      <th>4</th>\n",
       "      <td>False</td>\n",
       "      <td>False</td>\n",
       "      <td>False</td>\n",
       "    </tr>\n",
       "    <tr>\n",
       "      <th>5</th>\n",
       "      <td>False</td>\n",
       "      <td>False</td>\n",
       "      <td>False</td>\n",
       "    </tr>\n",
       "  </tbody>\n",
       "</table>\n",
       "</div>"
      ],
      "text/plain": [
       "       A      B      C\n",
       "0  False  False  False\n",
       "1  False  False  False\n",
       "2   True   True   True\n",
       "3  False  False  False\n",
       "4  False  False  False\n",
       "5  False  False  False"
      ]
     },
     "execution_count": 36,
     "metadata": {},
     "output_type": "execute_result"
    }
   ],
   "source": [
    "df1.isin(df2)"
   ]
  },
  {
   "cell_type": "code",
   "execution_count": 37,
   "id": "fiscal-adobe",
   "metadata": {},
   "outputs": [
    {
     "data": {
      "text/html": [
       "<div>\n",
       "<style scoped>\n",
       "    .dataframe tbody tr th:only-of-type {\n",
       "        vertical-align: middle;\n",
       "    }\n",
       "\n",
       "    .dataframe tbody tr th {\n",
       "        vertical-align: top;\n",
       "    }\n",
       "\n",
       "    .dataframe thead th {\n",
       "        text-align: right;\n",
       "    }\n",
       "</style>\n",
       "<table border=\"1\" class=\"dataframe\">\n",
       "  <thead>\n",
       "    <tr style=\"text-align: right;\">\n",
       "      <th></th>\n",
       "      <th>A</th>\n",
       "      <th>B</th>\n",
       "      <th>C</th>\n",
       "      <th>D</th>\n",
       "      <th>E</th>\n",
       "    </tr>\n",
       "  </thead>\n",
       "  <tbody>\n",
       "    <tr>\n",
       "      <th>a</th>\n",
       "      <td>-1.028345</td>\n",
       "      <td>-1.614562</td>\n",
       "      <td>-0.250169</td>\n",
       "      <td>-0.391645</td>\n",
       "      <td>one</td>\n",
       "    </tr>\n",
       "    <tr>\n",
       "      <th>b</th>\n",
       "      <td>0.992450</td>\n",
       "      <td>-0.361247</td>\n",
       "      <td>1.212614</td>\n",
       "      <td>0.195807</td>\n",
       "      <td>one</td>\n",
       "    </tr>\n",
       "    <tr>\n",
       "      <th>c</th>\n",
       "      <td>0.507133</td>\n",
       "      <td>0.883188</td>\n",
       "      <td>0.192845</td>\n",
       "      <td>-0.763928</td>\n",
       "      <td>two</td>\n",
       "    </tr>\n",
       "    <tr>\n",
       "      <th>d</th>\n",
       "      <td>1.211858</td>\n",
       "      <td>1.085732</td>\n",
       "      <td>-1.140091</td>\n",
       "      <td>-0.873013</td>\n",
       "      <td>three</td>\n",
       "    </tr>\n",
       "    <tr>\n",
       "      <th>e</th>\n",
       "      <td>-0.836773</td>\n",
       "      <td>0.121019</td>\n",
       "      <td>0.897412</td>\n",
       "      <td>-1.702606</td>\n",
       "      <td>four</td>\n",
       "    </tr>\n",
       "    <tr>\n",
       "      <th>f</th>\n",
       "      <td>-0.074432</td>\n",
       "      <td>-0.164967</td>\n",
       "      <td>1.253893</td>\n",
       "      <td>0.110626</td>\n",
       "      <td>five</td>\n",
       "    </tr>\n",
       "  </tbody>\n",
       "</table>\n",
       "</div>"
      ],
      "text/plain": [
       "          A         B         C         D      E\n",
       "a -1.028345 -1.614562 -0.250169 -0.391645    one\n",
       "b  0.992450 -0.361247  1.212614  0.195807    one\n",
       "c  0.507133  0.883188  0.192845 -0.763928    two\n",
       "d  1.211858  1.085732 -1.140091 -0.873013  three\n",
       "e -0.836773  0.121019  0.897412 -1.702606   four\n",
       "f -0.074432 -0.164967  1.253893  0.110626   five"
      ]
     },
     "execution_count": 37,
     "metadata": {},
     "output_type": "execute_result"
    }
   ],
   "source": [
    "df2 = df.copy()\n",
    "df2[\"E\"] = [\"one\", \"one\", \"two\", \"three\", \"four\",\"five\"]\n",
    "df2"
   ]
  },
  {
   "cell_type": "markdown",
   "id": "future-dominican",
   "metadata": {},
   "source": [
    "ここで見たように、新しい列を追加することも簡単にできる。ここでは元のデータフレームを壊したくなかったので、`copy`して新しいデータフレームを作成した。元々はA~Dの列しかなかったが、そこに新たにE列を追加することで、簡単に拡張できる。"
   ]
  },
  {
   "cell_type": "code",
   "execution_count": 38,
   "id": "parallel-silicon",
   "metadata": {},
   "outputs": [
    {
     "data": {
      "text/html": [
       "<div>\n",
       "<style scoped>\n",
       "    .dataframe tbody tr th:only-of-type {\n",
       "        vertical-align: middle;\n",
       "    }\n",
       "\n",
       "    .dataframe tbody tr th {\n",
       "        vertical-align: top;\n",
       "    }\n",
       "\n",
       "    .dataframe thead th {\n",
       "        text-align: right;\n",
       "    }\n",
       "</style>\n",
       "<table border=\"1\" class=\"dataframe\">\n",
       "  <thead>\n",
       "    <tr style=\"text-align: right;\">\n",
       "      <th></th>\n",
       "      <th>A</th>\n",
       "      <th>B</th>\n",
       "      <th>C</th>\n",
       "      <th>D</th>\n",
       "      <th>E</th>\n",
       "    </tr>\n",
       "  </thead>\n",
       "  <tbody>\n",
       "    <tr>\n",
       "      <th>a</th>\n",
       "      <td>-1.028345</td>\n",
       "      <td>-1.614562</td>\n",
       "      <td>-0.250169</td>\n",
       "      <td>-0.391645</td>\n",
       "      <td>one</td>\n",
       "    </tr>\n",
       "    <tr>\n",
       "      <th>b</th>\n",
       "      <td>0.992450</td>\n",
       "      <td>-0.361247</td>\n",
       "      <td>1.212614</td>\n",
       "      <td>0.195807</td>\n",
       "      <td>one</td>\n",
       "    </tr>\n",
       "  </tbody>\n",
       "</table>\n",
       "</div>"
      ],
      "text/plain": [
       "          A         B         C         D    E\n",
       "a -1.028345 -1.614562 -0.250169 -0.391645  one\n",
       "b  0.992450 -0.361247  1.212614  0.195807  one"
      ]
     },
     "execution_count": 38,
     "metadata": {},
     "output_type": "execute_result"
    }
   ],
   "source": [
    "df2[df2[\"E\"]==\"one\"]"
   ]
  },
  {
   "cell_type": "code",
   "execution_count": 39,
   "id": "local-attention",
   "metadata": {},
   "outputs": [
    {
     "data": {
      "text/html": [
       "<div>\n",
       "<style scoped>\n",
       "    .dataframe tbody tr th:only-of-type {\n",
       "        vertical-align: middle;\n",
       "    }\n",
       "\n",
       "    .dataframe tbody tr th {\n",
       "        vertical-align: top;\n",
       "    }\n",
       "\n",
       "    .dataframe thead th {\n",
       "        text-align: right;\n",
       "    }\n",
       "</style>\n",
       "<table border=\"1\" class=\"dataframe\">\n",
       "  <thead>\n",
       "    <tr style=\"text-align: right;\">\n",
       "      <th></th>\n",
       "      <th>A</th>\n",
       "      <th>B</th>\n",
       "      <th>C</th>\n",
       "      <th>D</th>\n",
       "      <th>E</th>\n",
       "    </tr>\n",
       "  </thead>\n",
       "  <tbody>\n",
       "    <tr>\n",
       "      <th>c</th>\n",
       "      <td>0.507133</td>\n",
       "      <td>0.883188</td>\n",
       "      <td>0.192845</td>\n",
       "      <td>-0.763928</td>\n",
       "      <td>two</td>\n",
       "    </tr>\n",
       "    <tr>\n",
       "      <th>e</th>\n",
       "      <td>-0.836773</td>\n",
       "      <td>0.121019</td>\n",
       "      <td>0.897412</td>\n",
       "      <td>-1.702606</td>\n",
       "      <td>four</td>\n",
       "    </tr>\n",
       "  </tbody>\n",
       "</table>\n",
       "</div>"
      ],
      "text/plain": [
       "          A         B         C         D     E\n",
       "c  0.507133  0.883188  0.192845 -0.763928   two\n",
       "e -0.836773  0.121019  0.897412 -1.702606  four"
      ]
     },
     "execution_count": 39,
     "metadata": {},
     "output_type": "execute_result"
    }
   ],
   "source": [
    "df2[df2[\"E\"].isin([\"two\", \"four\"])]"
   ]
  },
  {
   "cell_type": "markdown",
   "id": "small-porter",
   "metadata": {},
   "source": [
    "## 図示"
   ]
  },
  {
   "cell_type": "code",
   "execution_count": 40,
   "id": "objective-prince",
   "metadata": {},
   "outputs": [],
   "source": [
    "import matplotlib.pyplot as plt\n",
    "plt.close(\"all\")"
   ]
  },
  {
   "cell_type": "code",
   "execution_count": 41,
   "id": "cutting-teaching",
   "metadata": {},
   "outputs": [
    {
     "data": {
      "text/plain": [
       "2000-01-01   -1.242635\n",
       "2000-01-02   -0.329176\n",
       "2000-01-03    0.139202\n",
       "2000-01-04    1.059577\n",
       "2000-01-05   -0.093344\n",
       "                ...   \n",
       "2002-09-22    1.818098\n",
       "2002-09-23   -0.799624\n",
       "2002-09-24   -0.345278\n",
       "2002-09-25    1.223232\n",
       "2002-09-26   -0.797283\n",
       "Freq: D, Length: 1000, dtype: float64"
      ]
     },
     "execution_count": 41,
     "metadata": {},
     "output_type": "execute_result"
    }
   ],
   "source": [
    "ts = pd.Series(np.random.randn(1000), index=pd.date_range(\"1/1/2000\", periods=1000))\n",
    "ts"
   ]
  },
  {
   "cell_type": "code",
   "execution_count": 42,
   "id": "upper-brunei",
   "metadata": {},
   "outputs": [
    {
     "data": {
      "text/plain": [
       "2000-01-01    -1.242635\n",
       "2000-01-02    -1.571811\n",
       "2000-01-03    -1.432609\n",
       "2000-01-04    -0.373032\n",
       "2000-01-05    -0.466376\n",
       "                ...    \n",
       "2002-09-22    15.312369\n",
       "2002-09-23    14.512744\n",
       "2002-09-24    14.167466\n",
       "2002-09-25    15.390698\n",
       "2002-09-26    14.593414\n",
       "Freq: D, Length: 1000, dtype: float64"
      ]
     },
     "execution_count": 42,
     "metadata": {},
     "output_type": "execute_result"
    }
   ],
   "source": [
    "ts.cumsum() # cumulative sum = 累積和"
   ]
  },
  {
   "cell_type": "code",
   "execution_count": 43,
   "id": "liquid-developer",
   "metadata": {},
   "outputs": [
    {
     "data": {
      "text/plain": [
       "<matplotlib.axes._subplots.AxesSubplot at 0x1142aae10>"
      ]
     },
     "execution_count": 43,
     "metadata": {},
     "output_type": "execute_result"
    },
    {
     "data": {
      "image/png": "[encoded data removed]",
      "text/plain": [
       "<Figure size 432x288 with 1 Axes>"
      ]
     },
     "metadata": {
      "needs_background": "light"
     },
     "output_type": "display_data"
    }
   ],
   "source": [
    "ts.plot()"
   ]
  },
  {
   "cell_type": "code",
   "execution_count": 44,
   "id": "brown-concrete",
   "metadata": {},
   "outputs": [
    {
     "data": {
      "text/plain": [
       "<matplotlib.axes._subplots.AxesSubplot at 0x11645db70>"
      ]
     },
     "execution_count": 44,
     "metadata": {},
     "output_type": "execute_result"
    },
    {
     "data": {
      "image/png": "[encoded data removed]",
      "text/plain": [
       "<Figure size 432x288 with 1 Axes>"
      ]
     },
     "metadata": {
      "needs_background": "light"
     },
     "output_type": "display_data"
    }
   ],
   "source": [
    "ts = ts.cumsum()\n",
    "ts.plot()"
   ]
  },
  {
   "cell_type": "code",
   "execution_count": 45,
   "id": "integrated-generator",
   "metadata": {},
   "outputs": [
    {
     "data": {
      "text/html": [
       "<div>\n",
       "<style scoped>\n",
       "    .dataframe tbody tr th:only-of-type {\n",
       "        vertical-align: middle;\n",
       "    }\n",
       "\n",
       "    .dataframe tbody tr th {\n",
       "        vertical-align: top;\n",
       "    }\n",
       "\n",
       "    .dataframe thead th {\n",
       "        text-align: right;\n",
       "    }\n",
       "</style>\n",
       "<table border=\"1\" class=\"dataframe\">\n",
       "  <thead>\n",
       "    <tr style=\"text-align: right;\">\n",
       "      <th></th>\n",
       "      <th>A</th>\n",
       "      <th>B</th>\n",
       "      <th>C</th>\n",
       "      <th>D</th>\n",
       "    </tr>\n",
       "  </thead>\n",
       "  <tbody>\n",
       "    <tr>\n",
       "      <th>2000-01-01</th>\n",
       "      <td>0.636473</td>\n",
       "      <td>0.474069</td>\n",
       "      <td>1.811480</td>\n",
       "      <td>1.518502</td>\n",
       "    </tr>\n",
       "    <tr>\n",
       "      <th>2000-01-02</th>\n",
       "      <td>1.119590</td>\n",
       "      <td>0.285934</td>\n",
       "      <td>0.186587</td>\n",
       "      <td>-1.863836</td>\n",
       "    </tr>\n",
       "    <tr>\n",
       "      <th>2000-01-03</th>\n",
       "      <td>-0.889534</td>\n",
       "      <td>-1.693335</td>\n",
       "      <td>-0.298394</td>\n",
       "      <td>0.943217</td>\n",
       "    </tr>\n",
       "    <tr>\n",
       "      <th>2000-01-04</th>\n",
       "      <td>1.009279</td>\n",
       "      <td>-0.435055</td>\n",
       "      <td>-1.093797</td>\n",
       "      <td>0.323671</td>\n",
       "    </tr>\n",
       "    <tr>\n",
       "      <th>2000-01-05</th>\n",
       "      <td>0.704082</td>\n",
       "      <td>1.350555</td>\n",
       "      <td>-1.470909</td>\n",
       "      <td>-0.228720</td>\n",
       "    </tr>\n",
       "    <tr>\n",
       "      <th>...</th>\n",
       "      <td>...</td>\n",
       "      <td>...</td>\n",
       "      <td>...</td>\n",
       "      <td>...</td>\n",
       "    </tr>\n",
       "    <tr>\n",
       "      <th>2002-09-22</th>\n",
       "      <td>-0.163441</td>\n",
       "      <td>-0.270088</td>\n",
       "      <td>-0.974731</td>\n",
       "      <td>-1.254638</td>\n",
       "    </tr>\n",
       "    <tr>\n",
       "      <th>2002-09-23</th>\n",
       "      <td>-0.143139</td>\n",
       "      <td>0.239524</td>\n",
       "      <td>0.200623</td>\n",
       "      <td>-0.531575</td>\n",
       "    </tr>\n",
       "    <tr>\n",
       "      <th>2002-09-24</th>\n",
       "      <td>1.546276</td>\n",
       "      <td>0.204379</td>\n",
       "      <td>0.164276</td>\n",
       "      <td>-0.306379</td>\n",
       "    </tr>\n",
       "    <tr>\n",
       "      <th>2002-09-25</th>\n",
       "      <td>-0.381430</td>\n",
       "      <td>0.475266</td>\n",
       "      <td>-0.396711</td>\n",
       "      <td>-0.754889</td>\n",
       "    </tr>\n",
       "    <tr>\n",
       "      <th>2002-09-26</th>\n",
       "      <td>0.647559</td>\n",
       "      <td>0.953569</td>\n",
       "      <td>-0.521078</td>\n",
       "      <td>0.740630</td>\n",
       "    </tr>\n",
       "  </tbody>\n",
       "</table>\n",
       "<p>1000 rows × 4 columns</p>\n",
       "</div>"
      ],
      "text/plain": [
       "                   A         B         C         D\n",
       "2000-01-01  0.636473  0.474069  1.811480  1.518502\n",
       "2000-01-02  1.119590  0.285934  0.186587 -1.863836\n",
       "2000-01-03 -0.889534 -1.693335 -0.298394  0.943217\n",
       "2000-01-04  1.009279 -0.435055 -1.093797  0.323671\n",
       "2000-01-05  0.704082  1.350555 -1.470909 -0.228720\n",
       "...              ...       ...       ...       ...\n",
       "2002-09-22 -0.163441 -0.270088 -0.974731 -1.254638\n",
       "2002-09-23 -0.143139  0.239524  0.200623 -0.531575\n",
       "2002-09-24  1.546276  0.204379  0.164276 -0.306379\n",
       "2002-09-25 -0.381430  0.475266 -0.396711 -0.754889\n",
       "2002-09-26  0.647559  0.953569 -0.521078  0.740630\n",
       "\n",
       "[1000 rows x 4 columns]"
      ]
     },
     "execution_count": 45,
     "metadata": {},
     "output_type": "execute_result"
    }
   ],
   "source": [
    "df = pd.DataFrame(\n",
    "    np.random.randn(1000, 4), \n",
    "    index=ts.index, \n",
    "    columns=[\"A\", \"B\", \"C\", \"D\"])\n",
    "df"
   ]
  },
  {
   "cell_type": "code",
   "execution_count": 46,
   "id": "elder-playback",
   "metadata": {},
   "outputs": [
    {
     "data": {
      "text/plain": [
       "<matplotlib.legend.Legend at 0x116538cf8>"
      ]
     },
     "execution_count": 46,
     "metadata": {},
     "output_type": "execute_result"
    },
    {
     "data": {
      "text/plain": [
       "<Figure size 432x288 with 0 Axes>"
      ]
     },
     "metadata": {},
     "output_type": "display_data"
    },
    {
     "data": {
      "image/png": "[encoded data removed]",
      "text/plain": [
       "<Figure size 432x288 with 1 Axes>"
      ]
     },
     "metadata": {
      "needs_background": "light"
     },
     "output_type": "display_data"
    }
   ],
   "source": [
    "df = df.cumsum()\n",
    "plt.figure()\n",
    "df.plot()\n",
    "plt.legend(loc=\"best\")"
   ]
  },
  {
   "cell_type": "markdown",
   "id": "looking-fifth",
   "metadata": {},
   "source": [
    "## 比較\n",
    "- 2つの表を比較して、"
   ]
  },
  {
   "cell_type": "code",
   "execution_count": 47,
   "id": "continuous-january",
   "metadata": {},
   "outputs": [],
   "source": [
    "np.random.seed(123); df1 = pd.DataFrame(np.random.randn(5,5), columns=list(\"ABCDE\"))\n",
    "np.random.seed(123); df2_1 = pd.DataFrame(np.random.randn(2,3))\n",
    "np.random.seed(456); df2_2 = pd.DataFrame(np.random.randn(3,3))\n",
    "np.random.seed(789); df2_3 = pd.DataFrame(np.random.randn(5,2))\n",
    "\n",
    "df2 = pd.concat([df2_1.append(df2_2).reset_index(drop=True), df2_3], axis=1)\n",
    "df2.columns = list(\"ABCDE\")"
   ]
  },
  {
   "cell_type": "code",
   "execution_count": 48,
   "id": "exciting-colombia",
   "metadata": {},
   "outputs": [
    {
     "data": {
      "text/html": [
       "<div>\n",
       "<style scoped>\n",
       "    .dataframe tbody tr th:only-of-type {\n",
       "        vertical-align: middle;\n",
       "    }\n",
       "\n",
       "    .dataframe tbody tr th {\n",
       "        vertical-align: top;\n",
       "    }\n",
       "\n",
       "    .dataframe thead th {\n",
       "        text-align: right;\n",
       "    }\n",
       "</style>\n",
       "<table border=\"1\" class=\"dataframe\">\n",
       "  <thead>\n",
       "    <tr style=\"text-align: right;\">\n",
       "      <th></th>\n",
       "      <th>A</th>\n",
       "      <th>B</th>\n",
       "      <th>C</th>\n",
       "      <th>D</th>\n",
       "      <th>E</th>\n",
       "    </tr>\n",
       "  </thead>\n",
       "  <tbody>\n",
       "    <tr>\n",
       "      <th>0</th>\n",
       "      <td>-1.085631</td>\n",
       "      <td>0.997345</td>\n",
       "      <td>0.282978</td>\n",
       "      <td>-1.506295</td>\n",
       "      <td>-0.578600</td>\n",
       "    </tr>\n",
       "    <tr>\n",
       "      <th>1</th>\n",
       "      <td>1.651437</td>\n",
       "      <td>-2.426679</td>\n",
       "      <td>-0.428913</td>\n",
       "      <td>1.265936</td>\n",
       "      <td>-0.866740</td>\n",
       "    </tr>\n",
       "    <tr>\n",
       "      <th>2</th>\n",
       "      <td>-0.678886</td>\n",
       "      <td>-0.094709</td>\n",
       "      <td>1.491390</td>\n",
       "      <td>-0.638902</td>\n",
       "      <td>-0.443982</td>\n",
       "    </tr>\n",
       "    <tr>\n",
       "      <th>3</th>\n",
       "      <td>-0.434351</td>\n",
       "      <td>2.205930</td>\n",
       "      <td>2.186786</td>\n",
       "      <td>1.004054</td>\n",
       "      <td>0.386186</td>\n",
       "    </tr>\n",
       "    <tr>\n",
       "      <th>4</th>\n",
       "      <td>0.737369</td>\n",
       "      <td>1.490732</td>\n",
       "      <td>-0.935834</td>\n",
       "      <td>1.175829</td>\n",
       "      <td>-1.253881</td>\n",
       "    </tr>\n",
       "  </tbody>\n",
       "</table>\n",
       "</div>"
      ],
      "text/plain": [
       "          A         B         C         D         E\n",
       "0 -1.085631  0.997345  0.282978 -1.506295 -0.578600\n",
       "1  1.651437 -2.426679 -0.428913  1.265936 -0.866740\n",
       "2 -0.678886 -0.094709  1.491390 -0.638902 -0.443982\n",
       "3 -0.434351  2.205930  2.186786  1.004054  0.386186\n",
       "4  0.737369  1.490732 -0.935834  1.175829 -1.253881"
      ]
     },
     "execution_count": 48,
     "metadata": {},
     "output_type": "execute_result"
    }
   ],
   "source": [
    "df1"
   ]
  },
  {
   "cell_type": "code",
   "execution_count": 49,
   "id": "sporting-oxide",
   "metadata": {},
   "outputs": [
    {
     "data": {
      "text/html": [
       "<div>\n",
       "<style scoped>\n",
       "    .dataframe tbody tr th:only-of-type {\n",
       "        vertical-align: middle;\n",
       "    }\n",
       "\n",
       "    .dataframe tbody tr th {\n",
       "        vertical-align: top;\n",
       "    }\n",
       "\n",
       "    .dataframe thead th {\n",
       "        text-align: right;\n",
       "    }\n",
       "</style>\n",
       "<table border=\"1\" class=\"dataframe\">\n",
       "  <thead>\n",
       "    <tr style=\"text-align: right;\">\n",
       "      <th></th>\n",
       "      <th>A</th>\n",
       "      <th>B</th>\n",
       "      <th>C</th>\n",
       "      <th>D</th>\n",
       "      <th>E</th>\n",
       "    </tr>\n",
       "  </thead>\n",
       "  <tbody>\n",
       "    <tr>\n",
       "      <th>0</th>\n",
       "      <td>-1.085631</td>\n",
       "      <td>0.997345</td>\n",
       "      <td>0.282978</td>\n",
       "      <td>-1.108111</td>\n",
       "      <td>-0.725719</td>\n",
       "    </tr>\n",
       "    <tr>\n",
       "      <th>1</th>\n",
       "      <td>-1.506295</td>\n",
       "      <td>-0.578600</td>\n",
       "      <td>1.651437</td>\n",
       "      <td>0.522804</td>\n",
       "      <td>1.234442</td>\n",
       "    </tr>\n",
       "    <tr>\n",
       "      <th>2</th>\n",
       "      <td>-0.668129</td>\n",
       "      <td>-0.498210</td>\n",
       "      <td>0.618576</td>\n",
       "      <td>0.096896</td>\n",
       "      <td>-0.987922</td>\n",
       "    </tr>\n",
       "    <tr>\n",
       "      <th>3</th>\n",
       "      <td>0.568692</td>\n",
       "      <td>1.350509</td>\n",
       "      <td>1.629589</td>\n",
       "      <td>0.067233</td>\n",
       "      <td>-0.592592</td>\n",
       "    </tr>\n",
       "    <tr>\n",
       "      <th>4</th>\n",
       "      <td>0.301966</td>\n",
       "      <td>0.449483</td>\n",
       "      <td>-0.345811</td>\n",
       "      <td>-0.931771</td>\n",
       "      <td>1.055363</td>\n",
       "    </tr>\n",
       "  </tbody>\n",
       "</table>\n",
       "</div>"
      ],
      "text/plain": [
       "          A         B         C         D         E\n",
       "0 -1.085631  0.997345  0.282978 -1.108111 -0.725719\n",
       "1 -1.506295 -0.578600  1.651437  0.522804  1.234442\n",
       "2 -0.668129 -0.498210  0.618576  0.096896 -0.987922\n",
       "3  0.568692  1.350509  1.629589  0.067233 -0.592592\n",
       "4  0.301966  0.449483 -0.345811 -0.931771  1.055363"
      ]
     },
     "execution_count": 49,
     "metadata": {},
     "output_type": "execute_result"
    }
   ],
   "source": [
    "df2"
   ]
  },
  {
   "cell_type": "code",
   "execution_count": 50,
   "id": "italic-procedure",
   "metadata": {},
   "outputs": [
    {
     "data": {
      "text/html": [
       "<div>\n",
       "<style scoped>\n",
       "    .dataframe tbody tr th:only-of-type {\n",
       "        vertical-align: middle;\n",
       "    }\n",
       "\n",
       "    .dataframe tbody tr th {\n",
       "        vertical-align: top;\n",
       "    }\n",
       "\n",
       "    .dataframe thead th {\n",
       "        text-align: right;\n",
       "    }\n",
       "</style>\n",
       "<table border=\"1\" class=\"dataframe\">\n",
       "  <thead>\n",
       "    <tr style=\"text-align: right;\">\n",
       "      <th></th>\n",
       "      <th>A</th>\n",
       "      <th>B</th>\n",
       "      <th>C</th>\n",
       "      <th>D</th>\n",
       "      <th>E</th>\n",
       "    </tr>\n",
       "  </thead>\n",
       "  <tbody>\n",
       "    <tr>\n",
       "      <th>0</th>\n",
       "      <td>True</td>\n",
       "      <td>True</td>\n",
       "      <td>True</td>\n",
       "      <td>False</td>\n",
       "      <td>False</td>\n",
       "    </tr>\n",
       "    <tr>\n",
       "      <th>1</th>\n",
       "      <td>False</td>\n",
       "      <td>False</td>\n",
       "      <td>False</td>\n",
       "      <td>False</td>\n",
       "      <td>False</td>\n",
       "    </tr>\n",
       "    <tr>\n",
       "      <th>2</th>\n",
       "      <td>False</td>\n",
       "      <td>False</td>\n",
       "      <td>False</td>\n",
       "      <td>False</td>\n",
       "      <td>False</td>\n",
       "    </tr>\n",
       "    <tr>\n",
       "      <th>3</th>\n",
       "      <td>False</td>\n",
       "      <td>False</td>\n",
       "      <td>False</td>\n",
       "      <td>False</td>\n",
       "      <td>False</td>\n",
       "    </tr>\n",
       "    <tr>\n",
       "      <th>4</th>\n",
       "      <td>False</td>\n",
       "      <td>False</td>\n",
       "      <td>False</td>\n",
       "      <td>False</td>\n",
       "      <td>False</td>\n",
       "    </tr>\n",
       "  </tbody>\n",
       "</table>\n",
       "</div>"
      ],
      "text/plain": [
       "       A      B      C      D      E\n",
       "0   True   True   True  False  False\n",
       "1  False  False  False  False  False\n",
       "2  False  False  False  False  False\n",
       "3  False  False  False  False  False\n",
       "4  False  False  False  False  False"
      ]
     },
     "execution_count": 50,
     "metadata": {},
     "output_type": "execute_result"
    }
   ],
   "source": [
    "df1 == df2"
   ]
  },
  {
   "cell_type": "code",
   "execution_count": 51,
   "id": "enclosed-earth",
   "metadata": {},
   "outputs": [
    {
     "data": {
      "text/html": [
       "<div>\n",
       "<style scoped>\n",
       "    .dataframe tbody tr th:only-of-type {\n",
       "        vertical-align: middle;\n",
       "    }\n",
       "\n",
       "    .dataframe tbody tr th {\n",
       "        vertical-align: top;\n",
       "    }\n",
       "\n",
       "    .dataframe thead th {\n",
       "        text-align: right;\n",
       "    }\n",
       "</style>\n",
       "<table border=\"1\" class=\"dataframe\">\n",
       "  <thead>\n",
       "    <tr style=\"text-align: right;\">\n",
       "      <th></th>\n",
       "      <th>A</th>\n",
       "      <th>B</th>\n",
       "      <th>C</th>\n",
       "      <th>D</th>\n",
       "      <th>E</th>\n",
       "    </tr>\n",
       "  </thead>\n",
       "  <tbody>\n",
       "    <tr>\n",
       "      <th>0</th>\n",
       "      <td>True</td>\n",
       "      <td>True</td>\n",
       "      <td>True</td>\n",
       "      <td>False</td>\n",
       "      <td>False</td>\n",
       "    </tr>\n",
       "    <tr>\n",
       "      <th>1</th>\n",
       "      <td>False</td>\n",
       "      <td>False</td>\n",
       "      <td>False</td>\n",
       "      <td>False</td>\n",
       "      <td>False</td>\n",
       "    </tr>\n",
       "    <tr>\n",
       "      <th>2</th>\n",
       "      <td>False</td>\n",
       "      <td>False</td>\n",
       "      <td>False</td>\n",
       "      <td>False</td>\n",
       "      <td>False</td>\n",
       "    </tr>\n",
       "    <tr>\n",
       "      <th>3</th>\n",
       "      <td>False</td>\n",
       "      <td>False</td>\n",
       "      <td>False</td>\n",
       "      <td>False</td>\n",
       "      <td>False</td>\n",
       "    </tr>\n",
       "    <tr>\n",
       "      <th>4</th>\n",
       "      <td>False</td>\n",
       "      <td>False</td>\n",
       "      <td>False</td>\n",
       "      <td>False</td>\n",
       "      <td>False</td>\n",
       "    </tr>\n",
       "  </tbody>\n",
       "</table>\n",
       "</div>"
      ],
      "text/plain": [
       "       A      B      C      D      E\n",
       "0   True   True   True  False  False\n",
       "1  False  False  False  False  False\n",
       "2  False  False  False  False  False\n",
       "3  False  False  False  False  False\n",
       "4  False  False  False  False  False"
      ]
     },
     "execution_count": 51,
     "metadata": {},
     "output_type": "execute_result"
    }
   ],
   "source": [
    "df_mask = df1==df2\n",
    "df_mask"
   ]
  },
  {
   "cell_type": "code",
   "execution_count": 52,
   "id": "accessory-smith",
   "metadata": {},
   "outputs": [
    {
     "data": {
      "text/html": [
       "<div>\n",
       "<style scoped>\n",
       "    .dataframe tbody tr th:only-of-type {\n",
       "        vertical-align: middle;\n",
       "    }\n",
       "\n",
       "    .dataframe tbody tr th {\n",
       "        vertical-align: top;\n",
       "    }\n",
       "\n",
       "    .dataframe thead th {\n",
       "        text-align: right;\n",
       "    }\n",
       "</style>\n",
       "<table border=\"1\" class=\"dataframe\">\n",
       "  <thead>\n",
       "    <tr style=\"text-align: right;\">\n",
       "      <th></th>\n",
       "      <th>A</th>\n",
       "      <th>B</th>\n",
       "      <th>C</th>\n",
       "      <th>D</th>\n",
       "      <th>E</th>\n",
       "    </tr>\n",
       "  </thead>\n",
       "  <tbody>\n",
       "    <tr>\n",
       "      <th>0</th>\n",
       "      <td>True</td>\n",
       "      <td>True</td>\n",
       "      <td>True</td>\n",
       "      <td>1</td>\n",
       "      <td>1</td>\n",
       "    </tr>\n",
       "    <tr>\n",
       "      <th>1</th>\n",
       "      <td>1</td>\n",
       "      <td>1</td>\n",
       "      <td>1</td>\n",
       "      <td>1</td>\n",
       "      <td>1</td>\n",
       "    </tr>\n",
       "    <tr>\n",
       "      <th>2</th>\n",
       "      <td>1</td>\n",
       "      <td>1</td>\n",
       "      <td>1</td>\n",
       "      <td>1</td>\n",
       "      <td>1</td>\n",
       "    </tr>\n",
       "    <tr>\n",
       "      <th>3</th>\n",
       "      <td>1</td>\n",
       "      <td>1</td>\n",
       "      <td>1</td>\n",
       "      <td>1</td>\n",
       "      <td>1</td>\n",
       "    </tr>\n",
       "    <tr>\n",
       "      <th>4</th>\n",
       "      <td>1</td>\n",
       "      <td>1</td>\n",
       "      <td>1</td>\n",
       "      <td>1</td>\n",
       "      <td>1</td>\n",
       "    </tr>\n",
       "  </tbody>\n",
       "</table>\n",
       "</div>"
      ],
      "text/plain": [
       "      A     B     C  D  E\n",
       "0  True  True  True  1  1\n",
       "1     1     1     1  1  1\n",
       "2     1     1     1  1  1\n",
       "3     1     1     1  1  1\n",
       "4     1     1     1  1  1"
      ]
     },
     "execution_count": 52,
     "metadata": {},
     "output_type": "execute_result"
    }
   ],
   "source": [
    "df_mask.where(df_mask==True, 1)"
   ]
  },
  {
   "cell_type": "markdown",
   "id": "convinced-placement",
   "metadata": {},
   "source": [
    "# API\n",
    "- concat\n",
    "- reset_index\n",
    "- df.columns = [x,x,x,...]"
   ]
  },
  {
   "cell_type": "markdown",
   "id": "valued-reliance",
   "metadata": {},
   "source": [
    "### where"
   ]
  },
  {
   "cell_type": "markdown",
   "id": "negative-aging",
   "metadata": {},
   "source": [
    "# MultiIndex"
   ]
  },
  {
   "cell_type": "code",
   "execution_count": 57,
   "id": "swedish-killing",
   "metadata": {},
   "outputs": [
    {
     "data": {
      "text/html": [
       "<div>\n",
       "<style scoped>\n",
       "    .dataframe tbody tr th:only-of-type {\n",
       "        vertical-align: middle;\n",
       "    }\n",
       "\n",
       "    .dataframe tbody tr th {\n",
       "        vertical-align: top;\n",
       "    }\n",
       "\n",
       "    .dataframe thead th {\n",
       "        text-align: right;\n",
       "    }\n",
       "</style>\n",
       "<table border=\"1\" class=\"dataframe\">\n",
       "  <thead>\n",
       "    <tr style=\"text-align: right;\">\n",
       "      <th></th>\n",
       "      <th>A</th>\n",
       "      <th>B</th>\n",
       "      <th>C</th>\n",
       "      <th>D</th>\n",
       "    </tr>\n",
       "  </thead>\n",
       "  <tbody>\n",
       "    <tr>\n",
       "      <th>0</th>\n",
       "      <td>a1</td>\n",
       "      <td>b1</td>\n",
       "      <td>c1</td>\n",
       "      <td>d1</td>\n",
       "    </tr>\n",
       "    <tr>\n",
       "      <th>1</th>\n",
       "      <td>a2</td>\n",
       "      <td>b2</td>\n",
       "      <td>c2</td>\n",
       "      <td>d2</td>\n",
       "    </tr>\n",
       "    <tr>\n",
       "      <th>2</th>\n",
       "      <td>a3</td>\n",
       "      <td>b3</td>\n",
       "      <td>c3</td>\n",
       "      <td>d3</td>\n",
       "    </tr>\n",
       "    <tr>\n",
       "      <th>3</th>\n",
       "      <td>a4</td>\n",
       "      <td>b4</td>\n",
       "      <td>c4</td>\n",
       "      <td>d4</td>\n",
       "    </tr>\n",
       "  </tbody>\n",
       "</table>\n",
       "</div>"
      ],
      "text/plain": [
       "    A   B   C   D\n",
       "0  a1  b1  c1  d1\n",
       "1  a2  b2  c2  d2\n",
       "2  a3  b3  c3  d3\n",
       "3  a4  b4  c4  d4"
      ]
     },
     "execution_count": 57,
     "metadata": {},
     "output_type": "execute_result"
    }
   ],
   "source": [
    "df = pd.DataFrame({\n",
    "    \"A\" : [\"a1\", \"a2\", \"a3\", \"a4\"],\n",
    "    \"B\" : [\"b1\", \"b2\", \"b3\", \"b4\"],\n",
    "    \"C\" : [\"c1\", \"c2\", \"c3\", \"c4\"],\n",
    "    \"D\" : [\"d1\", \"d2\", \"d3\", \"d4\"],\n",
    "})\n",
    "df"
   ]
  },
  {
   "cell_type": "code",
   "execution_count": null,
   "id": "proud-vacuum",
   "metadata": {},
   "outputs": [],
   "source": []
  },
  {
   "cell_type": "code",
   "execution_count": 61,
   "id": "electoral-multiple",
   "metadata": {
    "scrolled": true
   },
   "outputs": [
    {
     "data": {
      "text/html": [
       "<div>\n",
       "<style scoped>\n",
       "    .dataframe tbody tr th:only-of-type {\n",
       "        vertical-align: middle;\n",
       "    }\n",
       "\n",
       "    .dataframe tbody tr th {\n",
       "        vertical-align: top;\n",
       "    }\n",
       "\n",
       "    .dataframe thead th {\n",
       "        text-align: right;\n",
       "    }\n",
       "</style>\n",
       "<table border=\"1\" class=\"dataframe\">\n",
       "  <thead>\n",
       "    <tr style=\"text-align: right;\">\n",
       "      <th></th>\n",
       "      <th>0</th>\n",
       "      <th>1</th>\n",
       "      <th>2</th>\n",
       "      <th>3</th>\n",
       "    </tr>\n",
       "  </thead>\n",
       "  <tbody>\n",
       "    <tr>\n",
       "      <th>A</th>\n",
       "      <td>a1</td>\n",
       "      <td>a2</td>\n",
       "      <td>a3</td>\n",
       "      <td>a4</td>\n",
       "    </tr>\n",
       "    <tr>\n",
       "      <th>B</th>\n",
       "      <td>b1</td>\n",
       "      <td>b2</td>\n",
       "      <td>b3</td>\n",
       "      <td>b4</td>\n",
       "    </tr>\n",
       "    <tr>\n",
       "      <th>C</th>\n",
       "      <td>c1</td>\n",
       "      <td>c2</td>\n",
       "      <td>c3</td>\n",
       "      <td>c4</td>\n",
       "    </tr>\n",
       "    <tr>\n",
       "      <th>D</th>\n",
       "      <td>d1</td>\n",
       "      <td>d2</td>\n",
       "      <td>d3</td>\n",
       "      <td>d4</td>\n",
       "    </tr>\n",
       "  </tbody>\n",
       "</table>\n",
       "</div>"
      ],
      "text/plain": [
       "    0   1   2   3\n",
       "A  a1  a2  a3  a4\n",
       "B  b1  b2  b3  b4\n",
       "C  c1  c2  c3  c4\n",
       "D  d1  d2  d3  d4"
      ]
     },
     "execution_count": 61,
     "metadata": {},
     "output_type": "execute_result"
    }
   ],
   "source": [
    "df.T"
   ]
  },
  {
   "cell_type": "markdown",
   "id": "surprising-resident",
   "metadata": {},
   "source": [
    "# 実行速度について\n",
    "\n",
    "まず pandas の処理は遅い、ということを意識する。そのため pandas を使って高速化を考えることが少しズレている。ただ、ある程度ちゃんと書けば（普段の使用には）十分に早いコーディングを行うことが可能となる。実行速度は\n",
    "\n",
    "1. numpy でのベクトル処理\n",
    "2. Series でのベクトル処理\n",
    "3. `apply()` でのループ処理\n",
    "4. `itterrows()` でのループ処理\n",
    "5. インデックスで行方向にループを回す\n",
    "\n",
    "の順番で遅くなる。"
   ]
  },
  {
   "cell_type": "markdown",
   "id": "sapphire-lewis",
   "metadata": {},
   "source": [
    "## データの準備\n",
    "\n",
    "例として用いるデータを準備する"
   ]
  },
  {
   "cell_type": "code",
   "execution_count": 65,
   "id": "treated-anime",
   "metadata": {},
   "outputs": [],
   "source": [
    "import pandas as pd\n",
    "from sklearn.datasets import load_iris\n",
    "\n",
    "df = load_iris()"
   ]
  },
  {
   "cell_type": "markdown",
   "id": "amateur-rings",
   "metadata": {},
   "source": [
    "# MultiIndex\n",
    "\n",
    "階層的なインデックスの扱い方を以下でまとめる。用いるデータは例として、e-Stat の：\n",
    "\n",
    "- https://www.e-stat.go.jp/stat-search/files?page=1&layout=datalist&toukei=00200524&tstat=000000090001&cycle=0&tclass1=000000090004&tclass2=000000090005&tclass3val=0\n",
    "\n",
    "から取得した、都道府県別年代別人口推移を利用する（元データから脚注等を削除する修正は加えた）。\n",
    "\n",
    "このデータは\n",
    "\n",
    "- 年代別、年齢別の人口が格納されている\n",
    "- Excel ファイルではヘッダーは年代は4セルにまたがるように結合されており、それを MultiIndexで扱う\n",
    "\n",
    "47都道府県を表示すると長くなるので、`.head()` を付けて上から5行だけを取得しているが、表示の見た目をイジっているだけで特に処理には影響しない。"
   ]
  },
  {
   "cell_type": "code",
   "execution_count": 152,
   "id": "incredible-rochester",
   "metadata": {},
   "outputs": [
    {
     "data": {
      "text/html": [
       "<div>\n",
       "<style scoped>\n",
       "    .dataframe tbody tr th:only-of-type {\n",
       "        vertical-align: middle;\n",
       "    }\n",
       "\n",
       "    .dataframe tbody tr th {\n",
       "        vertical-align: top;\n",
       "    }\n",
       "\n",
       "    .dataframe thead tr th {\n",
       "        text-align: left;\n",
       "    }\n",
       "</style>\n",
       "<table border=\"1\" class=\"dataframe\">\n",
       "  <thead>\n",
       "    <tr>\n",
       "      <th></th>\n",
       "      <th colspan=\"4\" halign=\"left\">1970</th>\n",
       "      <th colspan=\"4\" halign=\"left\">1971</th>\n",
       "      <th colspan=\"2\" halign=\"left\">1972</th>\n",
       "      <th>...</th>\n",
       "      <th colspan=\"2\" halign=\"left\">1998</th>\n",
       "      <th colspan=\"4\" halign=\"left\">1999</th>\n",
       "      <th colspan=\"4\" halign=\"left\">2000</th>\n",
       "    </tr>\n",
       "    <tr>\n",
       "      <th></th>\n",
       "      <th>総数</th>\n",
       "      <th>0～14歳</th>\n",
       "      <th>15～64</th>\n",
       "      <th>65歳以上</th>\n",
       "      <th>総数</th>\n",
       "      <th>0～14歳</th>\n",
       "      <th>15～64</th>\n",
       "      <th>65歳以上</th>\n",
       "      <th>総数</th>\n",
       "      <th>0～14歳</th>\n",
       "      <th>...</th>\n",
       "      <th>15～64</th>\n",
       "      <th>65歳以上</th>\n",
       "      <th>総数</th>\n",
       "      <th>0～14歳</th>\n",
       "      <th>15～64</th>\n",
       "      <th>65歳以上</th>\n",
       "      <th>総数</th>\n",
       "      <th>0～14歳</th>\n",
       "      <th>15～64</th>\n",
       "      <th>65歳以上</th>\n",
       "    </tr>\n",
       "  </thead>\n",
       "  <tbody>\n",
       "    <tr>\n",
       "      <th>日本</th>\n",
       "      <td>103,720</td>\n",
       "      <td>24,823</td>\n",
       "      <td>71,566</td>\n",
       "      <td>7,331</td>\n",
       "      <td>105,014</td>\n",
       "      <td>25,169</td>\n",
       "      <td>72,321</td>\n",
       "      <td>7,524</td>\n",
       "      <td>107,332</td>\n",
       "      <td>25,970</td>\n",
       "      <td>...</td>\n",
       "      <td>86,920</td>\n",
       "      <td>20,508</td>\n",
       "      <td>126,686</td>\n",
       "      <td>18,742</td>\n",
       "      <td>86,758</td>\n",
       "      <td>21,186</td>\n",
       "      <td>126,926</td>\n",
       "      <td>18,505</td>\n",
       "      <td>86,380</td>\n",
       "      <td>22,041</td>\n",
       "    </tr>\n",
       "    <tr>\n",
       "      <th>北 海 道</th>\n",
       "      <td>5,184</td>\n",
       "      <td>1,309</td>\n",
       "      <td>3,576</td>\n",
       "      <td>299</td>\n",
       "      <td>5,188</td>\n",
       "      <td>1,302</td>\n",
       "      <td>3,577</td>\n",
       "      <td>309</td>\n",
       "      <td>5,205</td>\n",
       "      <td>1,302</td>\n",
       "      <td>...</td>\n",
       "      <td>3,911</td>\n",
       "      <td>958</td>\n",
       "      <td>5,695</td>\n",
       "      <td>808</td>\n",
       "      <td>3,892</td>\n",
       "      <td>994</td>\n",
       "      <td>5,683</td>\n",
       "      <td>796</td>\n",
       "      <td>3,851</td>\n",
       "      <td>1,036</td>\n",
       "    </tr>\n",
       "    <tr>\n",
       "      <th>青 森 県</th>\n",
       "      <td>1,428</td>\n",
       "      <td>397</td>\n",
       "      <td>940</td>\n",
       "      <td>90</td>\n",
       "      <td>1,428</td>\n",
       "      <td>396</td>\n",
       "      <td>939</td>\n",
       "      <td>93</td>\n",
       "      <td>1,432</td>\n",
       "      <td>396</td>\n",
       "      <td>...</td>\n",
       "      <td>979</td>\n",
       "      <td>266</td>\n",
       "      <td>1,475</td>\n",
       "      <td>227</td>\n",
       "      <td>974</td>\n",
       "      <td>274</td>\n",
       "      <td>1,476</td>\n",
       "      <td>223</td>\n",
       "      <td>965</td>\n",
       "      <td>287</td>\n",
       "    </tr>\n",
       "    <tr>\n",
       "      <th>岩 手 県</th>\n",
       "      <td>1,371</td>\n",
       "      <td>362</td>\n",
       "      <td>909</td>\n",
       "      <td>100</td>\n",
       "      <td>1,364</td>\n",
       "      <td>356</td>\n",
       "      <td>905</td>\n",
       "      <td>103</td>\n",
       "      <td>1,361</td>\n",
       "      <td>353</td>\n",
       "      <td>...</td>\n",
       "      <td>915</td>\n",
       "      <td>285</td>\n",
       "      <td>1,414</td>\n",
       "      <td>210</td>\n",
       "      <td>911</td>\n",
       "      <td>293</td>\n",
       "      <td>1,416</td>\n",
       "      <td>213</td>\n",
       "      <td>900</td>\n",
       "      <td>304</td>\n",
       "    </tr>\n",
       "    <tr>\n",
       "      <th>宮 城 県</th>\n",
       "      <td>1,819</td>\n",
       "      <td>449</td>\n",
       "      <td>1,245</td>\n",
       "      <td>126</td>\n",
       "      <td>1,837</td>\n",
       "      <td>449</td>\n",
       "      <td>1,260</td>\n",
       "      <td>129</td>\n",
       "      <td>1,856</td>\n",
       "      <td>451</td>\n",
       "      <td>...</td>\n",
       "      <td>1,607</td>\n",
       "      <td>381</td>\n",
       "      <td>2,360</td>\n",
       "      <td>359</td>\n",
       "      <td>1,608</td>\n",
       "      <td>394</td>\n",
       "      <td>2,365</td>\n",
       "      <td>354</td>\n",
       "      <td>1,602</td>\n",
       "      <td>409</td>\n",
       "    </tr>\n",
       "  </tbody>\n",
       "</table>\n",
       "<p>5 rows × 124 columns</p>\n",
       "</div>"
      ],
      "text/plain": [
       "           1970                                1971                            \\\n",
       "             総数    0～14歳    15～64   65歳以上        総数    0～14歳    15～64   65歳以上   \n",
       "日本     103,720   24,823   71,566   7,331   105,014   25,169   72,321   7,524    \n",
       "北 海 道    5,184    1,309    3,576     299     5,188    1,302    3,577     309    \n",
       "青 森 県    1,428      397      940      90     1,428      396      939      93    \n",
       "岩 手 県    1,371      362      909     100     1,364      356      905     103    \n",
       "宮 城 県    1,819      449    1,245     126     1,837      449    1,260     129    \n",
       "\n",
       "           1972           ...     1998               1999                    \\\n",
       "             総数    0～14歳  ...    15～64    65歳以上        総数    0～14歳    15～64   \n",
       "日本     107,332   25,970   ...  86,920   20,508   126,686   18,742   86,758    \n",
       "北 海 道    5,205    1,302   ...   3,911      958     5,695      808    3,892    \n",
       "青 森 県    1,432      396   ...     979      266     1,475      227      974    \n",
       "岩 手 県    1,361      353   ...     915      285     1,414      210      911    \n",
       "宮 城 県    1,856      451   ...   1,607      381     2,360      359    1,608    \n",
       "\n",
       "                    2000                             \n",
       "         65歳以上        総数    0～14歳    15～64    65歳以上  \n",
       "日本     21,186   126,926   18,505   86,380   22,041   \n",
       "北 海 道     994     5,683      796    3,851    1,036   \n",
       "青 森 県     274     1,476      223      965      287   \n",
       "岩 手 県     293     1,416      213      900      304   \n",
       "宮 城 県     394     2,365      354    1,602      409   \n",
       "\n",
       "[5 rows x 124 columns]"
      ]
     },
     "execution_count": 152,
     "metadata": {},
     "output_type": "execute_result"
    }
   ],
   "source": [
    "df = pd.read_csv(\"data/05k5-10.csv\", header=[0,1], index_col=0)\n",
    "df.head()"
   ]
  },
  {
   "cell_type": "markdown",
   "id": "tracked-hardwood",
   "metadata": {},
   "source": [
    "## 列を取得"
   ]
  },
  {
   "cell_type": "markdown",
   "id": "enabling-connecticut",
   "metadata": {},
   "source": [
    "### 1970年のデータを取得\n",
    "\n",
    "この場合、年代は MultiIndex の `level = 0` の情報なのでいつもどおり括弧だけでアクセスできる。"
   ]
  },
  {
   "cell_type": "code",
   "execution_count": 132,
   "id": "considered-custom",
   "metadata": {},
   "outputs": [
    {
     "data": {
      "text/html": [
       "<div>\n",
       "<style scoped>\n",
       "    .dataframe tbody tr th:only-of-type {\n",
       "        vertical-align: middle;\n",
       "    }\n",
       "\n",
       "    .dataframe tbody tr th {\n",
       "        vertical-align: top;\n",
       "    }\n",
       "\n",
       "    .dataframe thead th {\n",
       "        text-align: right;\n",
       "    }\n",
       "</style>\n",
       "<table border=\"1\" class=\"dataframe\">\n",
       "  <thead>\n",
       "    <tr style=\"text-align: right;\">\n",
       "      <th></th>\n",
       "      <th>総数</th>\n",
       "      <th>0～14歳</th>\n",
       "      <th>15～64</th>\n",
       "      <th>65歳以上</th>\n",
       "    </tr>\n",
       "  </thead>\n",
       "  <tbody>\n",
       "    <tr>\n",
       "      <th>日本</th>\n",
       "      <td>103,720</td>\n",
       "      <td>24,823</td>\n",
       "      <td>71,566</td>\n",
       "      <td>7,331</td>\n",
       "    </tr>\n",
       "    <tr>\n",
       "      <th>北 海 道</th>\n",
       "      <td>5,184</td>\n",
       "      <td>1,309</td>\n",
       "      <td>3,576</td>\n",
       "      <td>299</td>\n",
       "    </tr>\n",
       "    <tr>\n",
       "      <th>青 森 県</th>\n",
       "      <td>1,428</td>\n",
       "      <td>397</td>\n",
       "      <td>940</td>\n",
       "      <td>90</td>\n",
       "    </tr>\n",
       "    <tr>\n",
       "      <th>岩 手 県</th>\n",
       "      <td>1,371</td>\n",
       "      <td>362</td>\n",
       "      <td>909</td>\n",
       "      <td>100</td>\n",
       "    </tr>\n",
       "    <tr>\n",
       "      <th>宮 城 県</th>\n",
       "      <td>1,819</td>\n",
       "      <td>449</td>\n",
       "      <td>1,245</td>\n",
       "      <td>126</td>\n",
       "    </tr>\n",
       "  </tbody>\n",
       "</table>\n",
       "</div>"
      ],
      "text/plain": [
       "             総数    0～14歳    15～64   65歳以上\n",
       "日本     103,720   24,823   71,566   7,331 \n",
       "北 海 道    5,184    1,309    3,576     299 \n",
       "青 森 県    1,428      397      940      90 \n",
       "岩 手 県    1,371      362      909     100 \n",
       "宮 城 県    1,819      449    1,245     126 "
      ]
     },
     "execution_count": 132,
     "metadata": {},
     "output_type": "execute_result"
    }
   ],
   "source": [
    "df[\"1970\"].head()"
   ]
  },
  {
   "cell_type": "markdown",
   "id": "thick-attachment",
   "metadata": {},
   "source": [
    "### 1970年の総数を取得\n",
    "\n",
    "MultiIndex の `level=1` のカラムまで指定してアクセスする方法。（カラム名を単に並べて書く一番目の方法は、読み手に対して曖昧さが生じるので推奨されていない。）"
   ]
  },
  {
   "cell_type": "code",
   "execution_count": 134,
   "id": "flush-entertainment",
   "metadata": {},
   "outputs": [
    {
     "data": {
      "text/plain": [
       "日本       103,720 \n",
       "北 海 道      5,184 \n",
       "青 森 県      1,428 \n",
       "岩 手 県      1,371 \n",
       "宮 城 県      1,819 \n",
       "Name: (1970, 総数), dtype: object"
      ]
     },
     "execution_count": 134,
     "metadata": {},
     "output_type": "execute_result"
    }
   ],
   "source": [
    "df[\"1970\", \"総数\"].head()"
   ]
  },
  {
   "cell_type": "code",
   "execution_count": 136,
   "id": "random-monthly",
   "metadata": {},
   "outputs": [
    {
     "data": {
      "text/plain": [
       "日本       103,720 \n",
       "北 海 道      5,184 \n",
       "青 森 県      1,428 \n",
       "岩 手 県      1,371 \n",
       "宮 城 県      1,819 \n",
       "Name: 総数, dtype: object"
      ]
     },
     "execution_count": 136,
     "metadata": {},
     "output_type": "execute_result"
    }
   ],
   "source": [
    "df[\"1970\"][\"総数\"].head()"
   ]
  },
  {
   "cell_type": "code",
   "execution_count": 141,
   "id": "personal-tennis",
   "metadata": {},
   "outputs": [
    {
     "data": {
      "text/plain": [
       "日本       103,720 \n",
       "北 海 道      5,184 \n",
       "青 森 県      1,428 \n",
       "岩 手 県      1,371 \n",
       "宮 城 県      1,819 \n",
       "Name: (1970, 総数), dtype: object"
      ]
     },
     "execution_count": 141,
     "metadata": {},
     "output_type": "execute_result"
    }
   ],
   "source": [
    "df[(\"1970\", \"総数\")].head()"
   ]
  },
  {
   "cell_type": "markdown",
   "id": "adjustable-clone",
   "metadata": {},
   "source": [
    "### アンチパターン\n",
    "\n",
    "しかし、「年代を指定せず、全ての年代の総数を取得したい」と思って以下のようにアクセスしてもエラーとなる。\n",
    "```python\n",
    "df[\"総数\"]    # KeyError \n",
    "df[,\"総数\"]    # invalid syntax\n",
    "df[:,\"総数\"]   # unhashable type: 'slice'\n",
    "df[(:,\"総数\")]    # invalid syntax\n",
    "```"
   ]
  },
  {
   "cell_type": "markdown",
   "id": "double-allocation",
   "metadata": {},
   "source": [
    "### xs メソッド\n",
    "\n",
    "Series/DataFrame の cross-section (xs) を返すことのできるメソッド。これを使うことで、だいたいやりたいことはできる。"
   ]
  },
  {
   "cell_type": "code",
   "execution_count": 147,
   "id": "aware-comparative",
   "metadata": {},
   "outputs": [
    {
     "data": {
      "text/html": [
       "<div>\n",
       "<style scoped>\n",
       "    .dataframe tbody tr th:only-of-type {\n",
       "        vertical-align: middle;\n",
       "    }\n",
       "\n",
       "    .dataframe tbody tr th {\n",
       "        vertical-align: top;\n",
       "    }\n",
       "\n",
       "    .dataframe thead th {\n",
       "        text-align: right;\n",
       "    }\n",
       "</style>\n",
       "<table border=\"1\" class=\"dataframe\">\n",
       "  <thead>\n",
       "    <tr style=\"text-align: right;\">\n",
       "      <th></th>\n",
       "      <th>1970</th>\n",
       "      <th>1971</th>\n",
       "      <th>1972</th>\n",
       "      <th>1973</th>\n",
       "      <th>1974</th>\n",
       "      <th>1975</th>\n",
       "      <th>1976</th>\n",
       "      <th>1977</th>\n",
       "      <th>1978</th>\n",
       "      <th>1979</th>\n",
       "      <th>...</th>\n",
       "      <th>1991</th>\n",
       "      <th>1992</th>\n",
       "      <th>1993</th>\n",
       "      <th>1994</th>\n",
       "      <th>1995</th>\n",
       "      <th>1996</th>\n",
       "      <th>1997</th>\n",
       "      <th>1998</th>\n",
       "      <th>1999</th>\n",
       "      <th>2000</th>\n",
       "    </tr>\n",
       "  </thead>\n",
       "  <tbody>\n",
       "    <tr>\n",
       "      <th>日本</th>\n",
       "      <td>103,720</td>\n",
       "      <td>105,014</td>\n",
       "      <td>107,332</td>\n",
       "      <td>108,710</td>\n",
       "      <td>110,049</td>\n",
       "      <td>111,940</td>\n",
       "      <td>113,089</td>\n",
       "      <td>114,154</td>\n",
       "      <td>115,174</td>\n",
       "      <td>116,133</td>\n",
       "      <td>...</td>\n",
       "      <td>124,043</td>\n",
       "      <td>124,452</td>\n",
       "      <td>124,764</td>\n",
       "      <td>125,034</td>\n",
       "      <td>125,570</td>\n",
       "      <td>125,864</td>\n",
       "      <td>126,166</td>\n",
       "      <td>126,486</td>\n",
       "      <td>126,686</td>\n",
       "      <td>126,926</td>\n",
       "    </tr>\n",
       "    <tr>\n",
       "      <th>北 海 道</th>\n",
       "      <td>5,184</td>\n",
       "      <td>5,188</td>\n",
       "      <td>5,205</td>\n",
       "      <td>5,232</td>\n",
       "      <td>5,279</td>\n",
       "      <td>5,338</td>\n",
       "      <td>5,394</td>\n",
       "      <td>5,442</td>\n",
       "      <td>5,488</td>\n",
       "      <td>5,532</td>\n",
       "      <td>...</td>\n",
       "      <td>5,649</td>\n",
       "      <td>5,659</td>\n",
       "      <td>5,666</td>\n",
       "      <td>5,677</td>\n",
       "      <td>5,692</td>\n",
       "      <td>5,699</td>\n",
       "      <td>5,702</td>\n",
       "      <td>5,700</td>\n",
       "      <td>5,695</td>\n",
       "      <td>5,683</td>\n",
       "    </tr>\n",
       "    <tr>\n",
       "      <th>青 森 県</th>\n",
       "      <td>1,428</td>\n",
       "      <td>1,428</td>\n",
       "      <td>1,432</td>\n",
       "      <td>1,437</td>\n",
       "      <td>1,444</td>\n",
       "      <td>1,469</td>\n",
       "      <td>1,483</td>\n",
       "      <td>1,494</td>\n",
       "      <td>1,505</td>\n",
       "      <td>1,514</td>\n",
       "      <td>...</td>\n",
       "      <td>1,477</td>\n",
       "      <td>1,472</td>\n",
       "      <td>1,470</td>\n",
       "      <td>1,471</td>\n",
       "      <td>1,482</td>\n",
       "      <td>1,483</td>\n",
       "      <td>1,480</td>\n",
       "      <td>1,478</td>\n",
       "      <td>1,475</td>\n",
       "      <td>1,476</td>\n",
       "    </tr>\n",
       "    <tr>\n",
       "      <th>岩 手 県</th>\n",
       "      <td>1,371</td>\n",
       "      <td>1,364</td>\n",
       "      <td>1,361</td>\n",
       "      <td>1,361</td>\n",
       "      <td>1,364</td>\n",
       "      <td>1,386</td>\n",
       "      <td>1,394</td>\n",
       "      <td>1,399</td>\n",
       "      <td>1,405</td>\n",
       "      <td>1,411</td>\n",
       "      <td>...</td>\n",
       "      <td>1,415</td>\n",
       "      <td>1,414</td>\n",
       "      <td>1,415</td>\n",
       "      <td>1,416</td>\n",
       "      <td>1,420</td>\n",
       "      <td>1,420</td>\n",
       "      <td>1,418</td>\n",
       "      <td>1,416</td>\n",
       "      <td>1,414</td>\n",
       "      <td>1,416</td>\n",
       "    </tr>\n",
       "    <tr>\n",
       "      <th>宮 城 県</th>\n",
       "      <td>1,819</td>\n",
       "      <td>1,837</td>\n",
       "      <td>1,856</td>\n",
       "      <td>1,883</td>\n",
       "      <td>1,913</td>\n",
       "      <td>1,955</td>\n",
       "      <td>1,982</td>\n",
       "      <td>2,006</td>\n",
       "      <td>2,028</td>\n",
       "      <td>2,054</td>\n",
       "      <td>...</td>\n",
       "      <td>2,264</td>\n",
       "      <td>2,277</td>\n",
       "      <td>2,290</td>\n",
       "      <td>2,301</td>\n",
       "      <td>2,329</td>\n",
       "      <td>2,338</td>\n",
       "      <td>2,348</td>\n",
       "      <td>2,355</td>\n",
       "      <td>2,360</td>\n",
       "      <td>2,365</td>\n",
       "    </tr>\n",
       "  </tbody>\n",
       "</table>\n",
       "<p>5 rows × 31 columns</p>\n",
       "</div>"
      ],
      "text/plain": [
       "           1970      1971      1972      1973      1974      1975      1976  \\\n",
       "日本     103,720   105,014   107,332   108,710   110,049   111,940   113,089    \n",
       "北 海 道    5,184     5,188     5,205     5,232     5,279     5,338     5,394    \n",
       "青 森 県    1,428     1,428     1,432     1,437     1,444     1,469     1,483    \n",
       "岩 手 県    1,371     1,364     1,361     1,361     1,364     1,386     1,394    \n",
       "宮 城 県    1,819     1,837     1,856     1,883     1,913     1,955     1,982    \n",
       "\n",
       "           1977      1978      1979  ...      1991      1992      1993  \\\n",
       "日本     114,154   115,174   116,133   ...  124,043   124,452   124,764    \n",
       "北 海 道    5,442     5,488     5,532   ...    5,649     5,659     5,666    \n",
       "青 森 県    1,494     1,505     1,514   ...    1,477     1,472     1,470    \n",
       "岩 手 県    1,399     1,405     1,411   ...    1,415     1,414     1,415    \n",
       "宮 城 県    2,006     2,028     2,054   ...    2,264     2,277     2,290    \n",
       "\n",
       "           1994      1995      1996      1997      1998      1999      2000  \n",
       "日本     125,034   125,570   125,864   126,166   126,486   126,686   126,926   \n",
       "北 海 道    5,677     5,692     5,699     5,702     5,700     5,695     5,683   \n",
       "青 森 県    1,471     1,482     1,483     1,480     1,478     1,475     1,476   \n",
       "岩 手 県    1,416     1,420     1,420     1,418     1,416     1,414     1,416   \n",
       "宮 城 県    2,301     2,329     2,338     2,348     2,355     2,360     2,365   \n",
       "\n",
       "[5 rows x 31 columns]"
      ]
     },
     "execution_count": 147,
     "metadata": {},
     "output_type": "execute_result"
    }
   ],
   "source": [
    "# axis = 0 or 1 （デフォルトでは0なので、行名の指定を意味してしまう）\n",
    "# level = ... （multiindex の level を指定する）\n",
    "df.xs(\"総数\", axis=1, level=1).head()"
   ]
  },
  {
   "cell_type": "markdown",
   "id": "stupid-browser",
   "metadata": {},
   "source": [
    "### 1970年の複数のカラムを指定\n",
    "\n",
    "どうやら xs は複数の列名を指定できないよう。そこで、`loc` を使ってアクセスする。"
   ]
  },
  {
   "cell_type": "code",
   "execution_count": 181,
   "id": "liked-saskatchewan",
   "metadata": {},
   "outputs": [
    {
     "data": {
      "text/html": [
       "<div>\n",
       "<style scoped>\n",
       "    .dataframe tbody tr th:only-of-type {\n",
       "        vertical-align: middle;\n",
       "    }\n",
       "\n",
       "    .dataframe tbody tr th {\n",
       "        vertical-align: top;\n",
       "    }\n",
       "\n",
       "    .dataframe thead tr th {\n",
       "        text-align: left;\n",
       "    }\n",
       "</style>\n",
       "<table border=\"1\" class=\"dataframe\">\n",
       "  <thead>\n",
       "    <tr>\n",
       "      <th></th>\n",
       "      <th colspan=\"2\" halign=\"left\">1970</th>\n",
       "    </tr>\n",
       "    <tr>\n",
       "      <th></th>\n",
       "      <th>総数</th>\n",
       "      <th>0～14歳</th>\n",
       "    </tr>\n",
       "  </thead>\n",
       "  <tbody>\n",
       "    <tr>\n",
       "      <th>日本</th>\n",
       "      <td>103,720</td>\n",
       "      <td>24,823</td>\n",
       "    </tr>\n",
       "    <tr>\n",
       "      <th>北 海 道</th>\n",
       "      <td>5,184</td>\n",
       "      <td>1,309</td>\n",
       "    </tr>\n",
       "    <tr>\n",
       "      <th>青 森 県</th>\n",
       "      <td>1,428</td>\n",
       "      <td>397</td>\n",
       "    </tr>\n",
       "    <tr>\n",
       "      <th>岩 手 県</th>\n",
       "      <td>1,371</td>\n",
       "      <td>362</td>\n",
       "    </tr>\n",
       "    <tr>\n",
       "      <th>宮 城 県</th>\n",
       "      <td>1,819</td>\n",
       "      <td>449</td>\n",
       "    </tr>\n",
       "  </tbody>\n",
       "</table>\n",
       "</div>"
      ],
      "text/plain": [
       "           1970         \n",
       "             総数    0～14歳\n",
       "日本     103,720   24,823 \n",
       "北 海 道    5,184    1,309 \n",
       "青 森 県    1,428      397 \n",
       "岩 手 県    1,371      362 \n",
       "宮 城 県    1,819      449 "
      ]
     },
     "execution_count": 181,
     "metadata": {},
     "output_type": "execute_result"
    }
   ],
   "source": [
    "df.loc[:, ([\"1970\"],  [\"総数\", \"0～14歳\"]) ].head()"
   ]
  },
  {
   "cell_type": "code",
   "execution_count": 197,
   "id": "round-latvia",
   "metadata": {},
   "outputs": [
    {
     "data": {
      "text/html": [
       "<div>\n",
       "<style scoped>\n",
       "    .dataframe tbody tr th:only-of-type {\n",
       "        vertical-align: middle;\n",
       "    }\n",
       "\n",
       "    .dataframe tbody tr th {\n",
       "        vertical-align: top;\n",
       "    }\n",
       "\n",
       "    .dataframe thead tr th {\n",
       "        text-align: left;\n",
       "    }\n",
       "</style>\n",
       "<table border=\"1\" class=\"dataframe\">\n",
       "  <thead>\n",
       "    <tr>\n",
       "      <th></th>\n",
       "      <th colspan=\"2\" halign=\"left\">1970</th>\n",
       "    </tr>\n",
       "    <tr>\n",
       "      <th></th>\n",
       "      <th>総数</th>\n",
       "      <th>0～14歳</th>\n",
       "    </tr>\n",
       "  </thead>\n",
       "  <tbody>\n",
       "    <tr>\n",
       "      <th>日本</th>\n",
       "      <td>103,720</td>\n",
       "      <td>24,823</td>\n",
       "    </tr>\n",
       "    <tr>\n",
       "      <th>北 海 道</th>\n",
       "      <td>5,184</td>\n",
       "      <td>1,309</td>\n",
       "    </tr>\n",
       "    <tr>\n",
       "      <th>青 森 県</th>\n",
       "      <td>1,428</td>\n",
       "      <td>397</td>\n",
       "    </tr>\n",
       "    <tr>\n",
       "      <th>岩 手 県</th>\n",
       "      <td>1,371</td>\n",
       "      <td>362</td>\n",
       "    </tr>\n",
       "    <tr>\n",
       "      <th>宮 城 県</th>\n",
       "      <td>1,819</td>\n",
       "      <td>449</td>\n",
       "    </tr>\n",
       "  </tbody>\n",
       "</table>\n",
       "</div>"
      ],
      "text/plain": [
       "           1970         \n",
       "             総数    0～14歳\n",
       "日本     103,720   24,823 \n",
       "北 海 道    5,184    1,309 \n",
       "青 森 県    1,428      397 \n",
       "岩 手 県    1,371      362 \n",
       "宮 城 県    1,819      449 "
      ]
     },
     "execution_count": 197,
     "metadata": {},
     "output_type": "execute_result"
    }
   ],
   "source": [
    "df.loc[:, pd.IndexSlice[\"1970\", [\"総数\", \"0～14歳\"]]].head()"
   ]
  },
  {
   "cell_type": "code",
   "execution_count": 196,
   "id": "medium-probe",
   "metadata": {},
   "outputs": [
    {
     "data": {
      "text/html": [
       "<div>\n",
       "<style scoped>\n",
       "    .dataframe tbody tr th:only-of-type {\n",
       "        vertical-align: middle;\n",
       "    }\n",
       "\n",
       "    .dataframe tbody tr th {\n",
       "        vertical-align: top;\n",
       "    }\n",
       "\n",
       "    .dataframe thead tr th {\n",
       "        text-align: left;\n",
       "    }\n",
       "</style>\n",
       "<table border=\"1\" class=\"dataframe\">\n",
       "  <thead>\n",
       "    <tr>\n",
       "      <th></th>\n",
       "      <th colspan=\"2\" halign=\"left\">1970</th>\n",
       "      <th colspan=\"2\" halign=\"left\">1971</th>\n",
       "    </tr>\n",
       "    <tr>\n",
       "      <th></th>\n",
       "      <th>総数</th>\n",
       "      <th>0～14歳</th>\n",
       "      <th>総数</th>\n",
       "      <th>0～14歳</th>\n",
       "    </tr>\n",
       "  </thead>\n",
       "  <tbody>\n",
       "    <tr>\n",
       "      <th>日本</th>\n",
       "      <td>103,720</td>\n",
       "      <td>24,823</td>\n",
       "      <td>105,014</td>\n",
       "      <td>25,169</td>\n",
       "    </tr>\n",
       "    <tr>\n",
       "      <th>北 海 道</th>\n",
       "      <td>5,184</td>\n",
       "      <td>1,309</td>\n",
       "      <td>5,188</td>\n",
       "      <td>1,302</td>\n",
       "    </tr>\n",
       "    <tr>\n",
       "      <th>青 森 県</th>\n",
       "      <td>1,428</td>\n",
       "      <td>397</td>\n",
       "      <td>1,428</td>\n",
       "      <td>396</td>\n",
       "    </tr>\n",
       "    <tr>\n",
       "      <th>岩 手 県</th>\n",
       "      <td>1,371</td>\n",
       "      <td>362</td>\n",
       "      <td>1,364</td>\n",
       "      <td>356</td>\n",
       "    </tr>\n",
       "    <tr>\n",
       "      <th>宮 城 県</th>\n",
       "      <td>1,819</td>\n",
       "      <td>449</td>\n",
       "      <td>1,837</td>\n",
       "      <td>449</td>\n",
       "    </tr>\n",
       "  </tbody>\n",
       "</table>\n",
       "</div>"
      ],
      "text/plain": [
       "           1970               1971         \n",
       "             総数    0～14歳        総数    0～14歳\n",
       "日本     103,720   24,823   105,014   25,169 \n",
       "北 海 道    5,184    1,309     5,188    1,302 \n",
       "青 森 県    1,428      397     1,428      396 \n",
       "岩 手 県    1,371      362     1,364      356 \n",
       "宮 城 県    1,819      449     1,837      449 "
      ]
     },
     "execution_count": 196,
     "metadata": {},
     "output_type": "execute_result"
    }
   ],
   "source": [
    "df.loc[:, pd.IndexSlice[[\"1970\", \"1971\"], [\"総数\", \"0～14歳\"]]].head()"
   ]
  },
  {
   "cell_type": "code",
   "execution_count": 191,
   "id": "extended-christopher",
   "metadata": {},
   "outputs": [
    {
     "data": {
      "text/html": [
       "<div>\n",
       "<style scoped>\n",
       "    .dataframe tbody tr th:only-of-type {\n",
       "        vertical-align: middle;\n",
       "    }\n",
       "\n",
       "    .dataframe tbody tr th {\n",
       "        vertical-align: top;\n",
       "    }\n",
       "\n",
       "    .dataframe thead tr th {\n",
       "        text-align: left;\n",
       "    }\n",
       "</style>\n",
       "<table border=\"1\" class=\"dataframe\">\n",
       "  <thead>\n",
       "    <tr>\n",
       "      <th></th>\n",
       "      <th>1970</th>\n",
       "      <th>1971</th>\n",
       "      <th>1972</th>\n",
       "      <th>1973</th>\n",
       "      <th>1974</th>\n",
       "      <th>1975</th>\n",
       "      <th>1976</th>\n",
       "      <th>1977</th>\n",
       "      <th>1978</th>\n",
       "      <th>1979</th>\n",
       "      <th>...</th>\n",
       "      <th>1991</th>\n",
       "      <th>1992</th>\n",
       "      <th>1993</th>\n",
       "      <th>1994</th>\n",
       "      <th>1995</th>\n",
       "      <th>1996</th>\n",
       "      <th>1997</th>\n",
       "      <th>1998</th>\n",
       "      <th>1999</th>\n",
       "      <th>2000</th>\n",
       "    </tr>\n",
       "    <tr>\n",
       "      <th></th>\n",
       "      <th>総数</th>\n",
       "      <th>総数</th>\n",
       "      <th>総数</th>\n",
       "      <th>総数</th>\n",
       "      <th>総数</th>\n",
       "      <th>総数</th>\n",
       "      <th>総数</th>\n",
       "      <th>総数</th>\n",
       "      <th>総数</th>\n",
       "      <th>総数</th>\n",
       "      <th>...</th>\n",
       "      <th>0～14歳</th>\n",
       "      <th>0～14歳</th>\n",
       "      <th>0～14歳</th>\n",
       "      <th>0～14歳</th>\n",
       "      <th>0～14歳</th>\n",
       "      <th>0～14歳</th>\n",
       "      <th>0～14歳</th>\n",
       "      <th>0～14歳</th>\n",
       "      <th>0～14歳</th>\n",
       "      <th>0～14歳</th>\n",
       "    </tr>\n",
       "  </thead>\n",
       "  <tbody>\n",
       "    <tr>\n",
       "      <th>日本</th>\n",
       "      <td>103,720</td>\n",
       "      <td>105,014</td>\n",
       "      <td>107,332</td>\n",
       "      <td>108,710</td>\n",
       "      <td>110,049</td>\n",
       "      <td>111,940</td>\n",
       "      <td>113,089</td>\n",
       "      <td>114,154</td>\n",
       "      <td>115,174</td>\n",
       "      <td>116,133</td>\n",
       "      <td>...</td>\n",
       "      <td>21,904</td>\n",
       "      <td>21,364</td>\n",
       "      <td>20,841</td>\n",
       "      <td>20,415</td>\n",
       "      <td>20,033</td>\n",
       "      <td>19,686</td>\n",
       "      <td>19,366</td>\n",
       "      <td>19,059</td>\n",
       "      <td>18,742</td>\n",
       "      <td>18,505</td>\n",
       "    </tr>\n",
       "    <tr>\n",
       "      <th>北 海 道</th>\n",
       "      <td>5,184</td>\n",
       "      <td>5,188</td>\n",
       "      <td>5,205</td>\n",
       "      <td>5,232</td>\n",
       "      <td>5,279</td>\n",
       "      <td>5,338</td>\n",
       "      <td>5,394</td>\n",
       "      <td>5,442</td>\n",
       "      <td>5,488</td>\n",
       "      <td>5,532</td>\n",
       "      <td>...</td>\n",
       "      <td>1,000</td>\n",
       "      <td>971</td>\n",
       "      <td>940</td>\n",
       "      <td>915</td>\n",
       "      <td>900</td>\n",
       "      <td>876</td>\n",
       "      <td>854</td>\n",
       "      <td>831</td>\n",
       "      <td>808</td>\n",
       "      <td>796</td>\n",
       "    </tr>\n",
       "    <tr>\n",
       "      <th>青 森 県</th>\n",
       "      <td>1,428</td>\n",
       "      <td>1,428</td>\n",
       "      <td>1,432</td>\n",
       "      <td>1,437</td>\n",
       "      <td>1,444</td>\n",
       "      <td>1,469</td>\n",
       "      <td>1,483</td>\n",
       "      <td>1,494</td>\n",
       "      <td>1,505</td>\n",
       "      <td>1,514</td>\n",
       "      <td>...</td>\n",
       "      <td>278</td>\n",
       "      <td>268</td>\n",
       "      <td>260</td>\n",
       "      <td>253</td>\n",
       "      <td>253</td>\n",
       "      <td>245</td>\n",
       "      <td>240</td>\n",
       "      <td>234</td>\n",
       "      <td>227</td>\n",
       "      <td>223</td>\n",
       "    </tr>\n",
       "    <tr>\n",
       "      <th>岩 手 県</th>\n",
       "      <td>1,371</td>\n",
       "      <td>1,364</td>\n",
       "      <td>1,361</td>\n",
       "      <td>1,361</td>\n",
       "      <td>1,364</td>\n",
       "      <td>1,386</td>\n",
       "      <td>1,394</td>\n",
       "      <td>1,399</td>\n",
       "      <td>1,405</td>\n",
       "      <td>1,411</td>\n",
       "      <td>...</td>\n",
       "      <td>260</td>\n",
       "      <td>251</td>\n",
       "      <td>243</td>\n",
       "      <td>237</td>\n",
       "      <td>239</td>\n",
       "      <td>232</td>\n",
       "      <td>224</td>\n",
       "      <td>217</td>\n",
       "      <td>210</td>\n",
       "      <td>213</td>\n",
       "    </tr>\n",
       "    <tr>\n",
       "      <th>宮 城 県</th>\n",
       "      <td>1,819</td>\n",
       "      <td>1,837</td>\n",
       "      <td>1,856</td>\n",
       "      <td>1,883</td>\n",
       "      <td>1,913</td>\n",
       "      <td>1,955</td>\n",
       "      <td>1,982</td>\n",
       "      <td>2,006</td>\n",
       "      <td>2,028</td>\n",
       "      <td>2,054</td>\n",
       "      <td>...</td>\n",
       "      <td>430</td>\n",
       "      <td>420</td>\n",
       "      <td>410</td>\n",
       "      <td>400</td>\n",
       "      <td>395</td>\n",
       "      <td>385</td>\n",
       "      <td>376</td>\n",
       "      <td>367</td>\n",
       "      <td>359</td>\n",
       "      <td>354</td>\n",
       "    </tr>\n",
       "  </tbody>\n",
       "</table>\n",
       "<p>5 rows × 62 columns</p>\n",
       "</div>"
      ],
      "text/plain": [
       "           1970      1971      1972      1973      1974      1975      1976  \\\n",
       "             総数        総数        総数        総数        総数        総数        総数   \n",
       "日本     103,720   105,014   107,332   108,710   110,049   111,940   113,089    \n",
       "北 海 道    5,184     5,188     5,205     5,232     5,279     5,338     5,394    \n",
       "青 森 県    1,428     1,428     1,432     1,437     1,444     1,469     1,483    \n",
       "岩 手 県    1,371     1,364     1,361     1,361     1,364     1,386     1,394    \n",
       "宮 城 県    1,819     1,837     1,856     1,883     1,913     1,955     1,982    \n",
       "\n",
       "           1977      1978      1979  ...     1991     1992     1993     1994  \\\n",
       "             総数        総数        総数  ...    0～14歳    0～14歳    0～14歳    0～14歳   \n",
       "日本     114,154   115,174   116,133   ...  21,904   21,364   20,841   20,415    \n",
       "北 海 道    5,442     5,488     5,532   ...   1,000      971      940      915    \n",
       "青 森 県    1,494     1,505     1,514   ...     278      268      260      253    \n",
       "岩 手 県    1,399     1,405     1,411   ...     260      251      243      237    \n",
       "宮 城 県    2,006     2,028     2,054   ...     430      420      410      400    \n",
       "\n",
       "          1995     1996     1997     1998     1999     2000  \n",
       "         0～14歳    0～14歳    0～14歳    0～14歳    0～14歳    0～14歳  \n",
       "日本     20,033   19,686   19,366   19,059   18,742   18,505   \n",
       "北 海 道     900      876      854      831      808      796   \n",
       "青 森 県     253      245      240      234      227      223   \n",
       "岩 手 県     239      232      224      217      210      213   \n",
       "宮 城 県     395      385      376      367      359      354   \n",
       "\n",
       "[5 rows x 62 columns]"
      ]
     },
     "execution_count": 191,
     "metadata": {},
     "output_type": "execute_result"
    }
   ],
   "source": [
    "df.loc[:, pd.IndexSlice[:, [\"総数\", \"0～14歳\"]]].head()"
   ]
  },
  {
   "cell_type": "code",
   "execution_count": 193,
   "id": "premium-wheel",
   "metadata": {},
   "outputs": [
    {
     "data": {
      "text/html": [
       "<div>\n",
       "<style scoped>\n",
       "    .dataframe tbody tr th:only-of-type {\n",
       "        vertical-align: middle;\n",
       "    }\n",
       "\n",
       "    .dataframe tbody tr th {\n",
       "        vertical-align: top;\n",
       "    }\n",
       "\n",
       "    .dataframe thead tr th {\n",
       "        text-align: left;\n",
       "    }\n",
       "</style>\n",
       "<table border=\"1\" class=\"dataframe\">\n",
       "  <thead>\n",
       "    <tr>\n",
       "      <th></th>\n",
       "      <th>1970</th>\n",
       "      <th>1971</th>\n",
       "      <th>1972</th>\n",
       "      <th>1973</th>\n",
       "      <th>1974</th>\n",
       "      <th>1975</th>\n",
       "      <th>1976</th>\n",
       "      <th>1977</th>\n",
       "      <th>1978</th>\n",
       "      <th>1979</th>\n",
       "      <th>...</th>\n",
       "      <th>1991</th>\n",
       "      <th>1992</th>\n",
       "      <th>1993</th>\n",
       "      <th>1994</th>\n",
       "      <th>1995</th>\n",
       "      <th>1996</th>\n",
       "      <th>1997</th>\n",
       "      <th>1998</th>\n",
       "      <th>1999</th>\n",
       "      <th>2000</th>\n",
       "    </tr>\n",
       "    <tr>\n",
       "      <th></th>\n",
       "      <th>総数</th>\n",
       "      <th>総数</th>\n",
       "      <th>総数</th>\n",
       "      <th>総数</th>\n",
       "      <th>総数</th>\n",
       "      <th>総数</th>\n",
       "      <th>総数</th>\n",
       "      <th>総数</th>\n",
       "      <th>総数</th>\n",
       "      <th>総数</th>\n",
       "      <th>...</th>\n",
       "      <th>0～14歳</th>\n",
       "      <th>0～14歳</th>\n",
       "      <th>0～14歳</th>\n",
       "      <th>0～14歳</th>\n",
       "      <th>0～14歳</th>\n",
       "      <th>0～14歳</th>\n",
       "      <th>0～14歳</th>\n",
       "      <th>0～14歳</th>\n",
       "      <th>0～14歳</th>\n",
       "      <th>0～14歳</th>\n",
       "    </tr>\n",
       "  </thead>\n",
       "  <tbody>\n",
       "    <tr>\n",
       "      <th>日本</th>\n",
       "      <td>103,720</td>\n",
       "      <td>105,014</td>\n",
       "      <td>107,332</td>\n",
       "      <td>108,710</td>\n",
       "      <td>110,049</td>\n",
       "      <td>111,940</td>\n",
       "      <td>113,089</td>\n",
       "      <td>114,154</td>\n",
       "      <td>115,174</td>\n",
       "      <td>116,133</td>\n",
       "      <td>...</td>\n",
       "      <td>21,904</td>\n",
       "      <td>21,364</td>\n",
       "      <td>20,841</td>\n",
       "      <td>20,415</td>\n",
       "      <td>20,033</td>\n",
       "      <td>19,686</td>\n",
       "      <td>19,366</td>\n",
       "      <td>19,059</td>\n",
       "      <td>18,742</td>\n",
       "      <td>18,505</td>\n",
       "    </tr>\n",
       "    <tr>\n",
       "      <th>北 海 道</th>\n",
       "      <td>5,184</td>\n",
       "      <td>5,188</td>\n",
       "      <td>5,205</td>\n",
       "      <td>5,232</td>\n",
       "      <td>5,279</td>\n",
       "      <td>5,338</td>\n",
       "      <td>5,394</td>\n",
       "      <td>5,442</td>\n",
       "      <td>5,488</td>\n",
       "      <td>5,532</td>\n",
       "      <td>...</td>\n",
       "      <td>1,000</td>\n",
       "      <td>971</td>\n",
       "      <td>940</td>\n",
       "      <td>915</td>\n",
       "      <td>900</td>\n",
       "      <td>876</td>\n",
       "      <td>854</td>\n",
       "      <td>831</td>\n",
       "      <td>808</td>\n",
       "      <td>796</td>\n",
       "    </tr>\n",
       "    <tr>\n",
       "      <th>青 森 県</th>\n",
       "      <td>1,428</td>\n",
       "      <td>1,428</td>\n",
       "      <td>1,432</td>\n",
       "      <td>1,437</td>\n",
       "      <td>1,444</td>\n",
       "      <td>1,469</td>\n",
       "      <td>1,483</td>\n",
       "      <td>1,494</td>\n",
       "      <td>1,505</td>\n",
       "      <td>1,514</td>\n",
       "      <td>...</td>\n",
       "      <td>278</td>\n",
       "      <td>268</td>\n",
       "      <td>260</td>\n",
       "      <td>253</td>\n",
       "      <td>253</td>\n",
       "      <td>245</td>\n",
       "      <td>240</td>\n",
       "      <td>234</td>\n",
       "      <td>227</td>\n",
       "      <td>223</td>\n",
       "    </tr>\n",
       "    <tr>\n",
       "      <th>岩 手 県</th>\n",
       "      <td>1,371</td>\n",
       "      <td>1,364</td>\n",
       "      <td>1,361</td>\n",
       "      <td>1,361</td>\n",
       "      <td>1,364</td>\n",
       "      <td>1,386</td>\n",
       "      <td>1,394</td>\n",
       "      <td>1,399</td>\n",
       "      <td>1,405</td>\n",
       "      <td>1,411</td>\n",
       "      <td>...</td>\n",
       "      <td>260</td>\n",
       "      <td>251</td>\n",
       "      <td>243</td>\n",
       "      <td>237</td>\n",
       "      <td>239</td>\n",
       "      <td>232</td>\n",
       "      <td>224</td>\n",
       "      <td>217</td>\n",
       "      <td>210</td>\n",
       "      <td>213</td>\n",
       "    </tr>\n",
       "    <tr>\n",
       "      <th>宮 城 県</th>\n",
       "      <td>1,819</td>\n",
       "      <td>1,837</td>\n",
       "      <td>1,856</td>\n",
       "      <td>1,883</td>\n",
       "      <td>1,913</td>\n",
       "      <td>1,955</td>\n",
       "      <td>1,982</td>\n",
       "      <td>2,006</td>\n",
       "      <td>2,028</td>\n",
       "      <td>2,054</td>\n",
       "      <td>...</td>\n",
       "      <td>430</td>\n",
       "      <td>420</td>\n",
       "      <td>410</td>\n",
       "      <td>400</td>\n",
       "      <td>395</td>\n",
       "      <td>385</td>\n",
       "      <td>376</td>\n",
       "      <td>367</td>\n",
       "      <td>359</td>\n",
       "      <td>354</td>\n",
       "    </tr>\n",
       "  </tbody>\n",
       "</table>\n",
       "<p>5 rows × 62 columns</p>\n",
       "</div>"
      ],
      "text/plain": [
       "           1970      1971      1972      1973      1974      1975      1976  \\\n",
       "             総数        総数        総数        総数        総数        総数        総数   \n",
       "日本     103,720   105,014   107,332   108,710   110,049   111,940   113,089    \n",
       "北 海 道    5,184     5,188     5,205     5,232     5,279     5,338     5,394    \n",
       "青 森 県    1,428     1,428     1,432     1,437     1,444     1,469     1,483    \n",
       "岩 手 県    1,371     1,364     1,361     1,361     1,364     1,386     1,394    \n",
       "宮 城 県    1,819     1,837     1,856     1,883     1,913     1,955     1,982    \n",
       "\n",
       "           1977      1978      1979  ...     1991     1992     1993     1994  \\\n",
       "             総数        総数        総数  ...    0～14歳    0～14歳    0～14歳    0～14歳   \n",
       "日本     114,154   115,174   116,133   ...  21,904   21,364   20,841   20,415    \n",
       "北 海 道    5,442     5,488     5,532   ...   1,000      971      940      915    \n",
       "青 森 県    1,494     1,505     1,514   ...     278      268      260      253    \n",
       "岩 手 県    1,399     1,405     1,411   ...     260      251      243      237    \n",
       "宮 城 県    2,006     2,028     2,054   ...     430      420      410      400    \n",
       "\n",
       "          1995     1996     1997     1998     1999     2000  \n",
       "         0～14歳    0～14歳    0～14歳    0～14歳    0～14歳    0～14歳  \n",
       "日本     20,033   19,686   19,366   19,059   18,742   18,505   \n",
       "北 海 道     900      876      854      831      808      796   \n",
       "青 森 県     253      245      240      234      227      223   \n",
       "岩 手 県     239      232      224      217      210      213   \n",
       "宮 城 県     395      385      376      367      359      354   \n",
       "\n",
       "[5 rows x 62 columns]"
      ]
     },
     "execution_count": 193,
     "metadata": {},
     "output_type": "execute_result"
    }
   ],
   "source": [
    "df.loc(axis=1)[pd.IndexSlice[:, [\"総数\", \"0～14歳\"]]].head()"
   ]
  },
  {
   "cell_type": "code",
   "execution_count": 195,
   "id": "entitled-arrival",
   "metadata": {},
   "outputs": [
    {
     "data": {
      "text/html": [
       "<div>\n",
       "<style scoped>\n",
       "    .dataframe tbody tr th:only-of-type {\n",
       "        vertical-align: middle;\n",
       "    }\n",
       "\n",
       "    .dataframe tbody tr th {\n",
       "        vertical-align: top;\n",
       "    }\n",
       "\n",
       "    .dataframe thead tr th {\n",
       "        text-align: left;\n",
       "    }\n",
       "</style>\n",
       "<table border=\"1\" class=\"dataframe\">\n",
       "  <thead>\n",
       "    <tr>\n",
       "      <th></th>\n",
       "      <th>1970</th>\n",
       "      <th>1971</th>\n",
       "      <th>1972</th>\n",
       "      <th>1973</th>\n",
       "      <th>1974</th>\n",
       "      <th>1975</th>\n",
       "      <th>1976</th>\n",
       "      <th>1977</th>\n",
       "      <th>1978</th>\n",
       "      <th>1979</th>\n",
       "      <th>...</th>\n",
       "      <th>1991</th>\n",
       "      <th>1992</th>\n",
       "      <th>1993</th>\n",
       "      <th>1994</th>\n",
       "      <th>1995</th>\n",
       "      <th>1996</th>\n",
       "      <th>1997</th>\n",
       "      <th>1998</th>\n",
       "      <th>1999</th>\n",
       "      <th>2000</th>\n",
       "    </tr>\n",
       "    <tr>\n",
       "      <th></th>\n",
       "      <th>総数</th>\n",
       "      <th>総数</th>\n",
       "      <th>総数</th>\n",
       "      <th>総数</th>\n",
       "      <th>総数</th>\n",
       "      <th>総数</th>\n",
       "      <th>総数</th>\n",
       "      <th>総数</th>\n",
       "      <th>総数</th>\n",
       "      <th>総数</th>\n",
       "      <th>...</th>\n",
       "      <th>0～14歳</th>\n",
       "      <th>0～14歳</th>\n",
       "      <th>0～14歳</th>\n",
       "      <th>0～14歳</th>\n",
       "      <th>0～14歳</th>\n",
       "      <th>0～14歳</th>\n",
       "      <th>0～14歳</th>\n",
       "      <th>0～14歳</th>\n",
       "      <th>0～14歳</th>\n",
       "      <th>0～14歳</th>\n",
       "    </tr>\n",
       "  </thead>\n",
       "  <tbody>\n",
       "    <tr>\n",
       "      <th>日本</th>\n",
       "      <td>103,720</td>\n",
       "      <td>105,014</td>\n",
       "      <td>107,332</td>\n",
       "      <td>108,710</td>\n",
       "      <td>110,049</td>\n",
       "      <td>111,940</td>\n",
       "      <td>113,089</td>\n",
       "      <td>114,154</td>\n",
       "      <td>115,174</td>\n",
       "      <td>116,133</td>\n",
       "      <td>...</td>\n",
       "      <td>21,904</td>\n",
       "      <td>21,364</td>\n",
       "      <td>20,841</td>\n",
       "      <td>20,415</td>\n",
       "      <td>20,033</td>\n",
       "      <td>19,686</td>\n",
       "      <td>19,366</td>\n",
       "      <td>19,059</td>\n",
       "      <td>18,742</td>\n",
       "      <td>18,505</td>\n",
       "    </tr>\n",
       "    <tr>\n",
       "      <th>北 海 道</th>\n",
       "      <td>5,184</td>\n",
       "      <td>5,188</td>\n",
       "      <td>5,205</td>\n",
       "      <td>5,232</td>\n",
       "      <td>5,279</td>\n",
       "      <td>5,338</td>\n",
       "      <td>5,394</td>\n",
       "      <td>5,442</td>\n",
       "      <td>5,488</td>\n",
       "      <td>5,532</td>\n",
       "      <td>...</td>\n",
       "      <td>1,000</td>\n",
       "      <td>971</td>\n",
       "      <td>940</td>\n",
       "      <td>915</td>\n",
       "      <td>900</td>\n",
       "      <td>876</td>\n",
       "      <td>854</td>\n",
       "      <td>831</td>\n",
       "      <td>808</td>\n",
       "      <td>796</td>\n",
       "    </tr>\n",
       "    <tr>\n",
       "      <th>青 森 県</th>\n",
       "      <td>1,428</td>\n",
       "      <td>1,428</td>\n",
       "      <td>1,432</td>\n",
       "      <td>1,437</td>\n",
       "      <td>1,444</td>\n",
       "      <td>1,469</td>\n",
       "      <td>1,483</td>\n",
       "      <td>1,494</td>\n",
       "      <td>1,505</td>\n",
       "      <td>1,514</td>\n",
       "      <td>...</td>\n",
       "      <td>278</td>\n",
       "      <td>268</td>\n",
       "      <td>260</td>\n",
       "      <td>253</td>\n",
       "      <td>253</td>\n",
       "      <td>245</td>\n",
       "      <td>240</td>\n",
       "      <td>234</td>\n",
       "      <td>227</td>\n",
       "      <td>223</td>\n",
       "    </tr>\n",
       "    <tr>\n",
       "      <th>岩 手 県</th>\n",
       "      <td>1,371</td>\n",
       "      <td>1,364</td>\n",
       "      <td>1,361</td>\n",
       "      <td>1,361</td>\n",
       "      <td>1,364</td>\n",
       "      <td>1,386</td>\n",
       "      <td>1,394</td>\n",
       "      <td>1,399</td>\n",
       "      <td>1,405</td>\n",
       "      <td>1,411</td>\n",
       "      <td>...</td>\n",
       "      <td>260</td>\n",
       "      <td>251</td>\n",
       "      <td>243</td>\n",
       "      <td>237</td>\n",
       "      <td>239</td>\n",
       "      <td>232</td>\n",
       "      <td>224</td>\n",
       "      <td>217</td>\n",
       "      <td>210</td>\n",
       "      <td>213</td>\n",
       "    </tr>\n",
       "    <tr>\n",
       "      <th>宮 城 県</th>\n",
       "      <td>1,819</td>\n",
       "      <td>1,837</td>\n",
       "      <td>1,856</td>\n",
       "      <td>1,883</td>\n",
       "      <td>1,913</td>\n",
       "      <td>1,955</td>\n",
       "      <td>1,982</td>\n",
       "      <td>2,006</td>\n",
       "      <td>2,028</td>\n",
       "      <td>2,054</td>\n",
       "      <td>...</td>\n",
       "      <td>430</td>\n",
       "      <td>420</td>\n",
       "      <td>410</td>\n",
       "      <td>400</td>\n",
       "      <td>395</td>\n",
       "      <td>385</td>\n",
       "      <td>376</td>\n",
       "      <td>367</td>\n",
       "      <td>359</td>\n",
       "      <td>354</td>\n",
       "    </tr>\n",
       "  </tbody>\n",
       "</table>\n",
       "<p>5 rows × 62 columns</p>\n",
       "</div>"
      ],
      "text/plain": [
       "           1970      1971      1972      1973      1974      1975      1976  \\\n",
       "             総数        総数        総数        総数        総数        総数        総数   \n",
       "日本     103,720   105,014   107,332   108,710   110,049   111,940   113,089    \n",
       "北 海 道    5,184     5,188     5,205     5,232     5,279     5,338     5,394    \n",
       "青 森 県    1,428     1,428     1,432     1,437     1,444     1,469     1,483    \n",
       "岩 手 県    1,371     1,364     1,361     1,361     1,364     1,386     1,394    \n",
       "宮 城 県    1,819     1,837     1,856     1,883     1,913     1,955     1,982    \n",
       "\n",
       "           1977      1978      1979  ...     1991     1992     1993     1994  \\\n",
       "             総数        総数        総数  ...    0～14歳    0～14歳    0～14歳    0～14歳   \n",
       "日本     114,154   115,174   116,133   ...  21,904   21,364   20,841   20,415    \n",
       "北 海 道    5,442     5,488     5,532   ...   1,000      971      940      915    \n",
       "青 森 県    1,494     1,505     1,514   ...     278      268      260      253    \n",
       "岩 手 県    1,399     1,405     1,411   ...     260      251      243      237    \n",
       "宮 城 県    2,006     2,028     2,054   ...     430      420      410      400    \n",
       "\n",
       "          1995     1996     1997     1998     1999     2000  \n",
       "         0～14歳    0～14歳    0～14歳    0～14歳    0～14歳    0～14歳  \n",
       "日本     20,033   19,686   19,366   19,059   18,742   18,505   \n",
       "北 海 道     900      876      854      831      808      796   \n",
       "青 森 県     253      245      240      234      227      223   \n",
       "岩 手 県     239      232      224      217      210      213   \n",
       "宮 城 県     395      385      376      367      359      354   \n",
       "\n",
       "[5 rows x 62 columns]"
      ]
     },
     "execution_count": 195,
     "metadata": {},
     "output_type": "execute_result"
    }
   ],
   "source": [
    "df.loc[:, (slice(None), (\"総数\", \"0～14歳\"))].head()"
   ]
  },
  {
   "cell_type": "code",
   "execution_count": null,
   "id": "threatened-enforcement",
   "metadata": {},
   "outputs": [],
   "source": []
  }
 ],
 "metadata": {
  "kernelspec": {
   "display_name": "Python 3",
   "language": "python",
   "name": "python3"
  },
  "language_info": {
   "codemirror_mode": {
    "name": "ipython",
    "version": 3
   },
   "file_extension": ".py",
   "mimetype": "text/x-python",
   "name": "python",
   "nbconvert_exporter": "python",
   "pygments_lexer": "ipython3",
   "version": "3.7.3"
  },
  "toc": {
   "base_numbering": 1,
   "nav_menu": {},
   "number_sections": false,
   "sideBar": true,
   "skip_h1_title": false,
   "title_cell": "Table of Contents",
   "title_sidebar": "Contents",
   "toc_cell": true,
   "toc_position": {},
   "toc_section_display": true,
   "toc_window_display": true
  }
 },
 "nbformat": 4,
 "nbformat_minor": 5
}
